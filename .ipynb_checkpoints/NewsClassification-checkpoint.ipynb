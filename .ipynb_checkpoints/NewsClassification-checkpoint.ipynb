{
 "cells": [
  {
   "cell_type": "code",
   "execution_count": 1,
   "id": "a7b2aa64-ff93-4ded-9720-47598150687a",
   "metadata": {},
   "outputs": [],
   "source": [
    "import pandas as pd\n",
    "import seaborn as sns"
   ]
  },
  {
   "cell_type": "code",
   "execution_count": 2,
   "id": "9abd5bf9-7773-4a00-a75d-339a08baa12e",
   "metadata": {},
   "outputs": [
    {
     "data": {
      "text/html": [
       "<div>\n",
       "<style scoped>\n",
       "    .dataframe tbody tr th:only-of-type {\n",
       "        vertical-align: middle;\n",
       "    }\n",
       "\n",
       "    .dataframe tbody tr th {\n",
       "        vertical-align: top;\n",
       "    }\n",
       "\n",
       "    .dataframe thead th {\n",
       "        text-align: right;\n",
       "    }\n",
       "</style>\n",
       "<table border=\"1\" class=\"dataframe\">\n",
       "  <thead>\n",
       "    <tr style=\"text-align: right;\">\n",
       "      <th></th>\n",
       "      <th>title</th>\n",
       "      <th>text</th>\n",
       "      <th>date</th>\n",
       "      <th>source</th>\n",
       "      <th>author</th>\n",
       "      <th>category</th>\n",
       "      <th>label</th>\n",
       "    </tr>\n",
       "  </thead>\n",
       "  <tbody>\n",
       "    <tr>\n",
       "      <th>0</th>\n",
       "      <td>Foreign Democrat final.</td>\n",
       "      <td>more tax development both store agreement lawy...</td>\n",
       "      <td>2023-03-10</td>\n",
       "      <td>NY Times</td>\n",
       "      <td>Paula George</td>\n",
       "      <td>Politics</td>\n",
       "      <td>real</td>\n",
       "    </tr>\n",
       "    <tr>\n",
       "      <th>1</th>\n",
       "      <td>To offer down resource great point.</td>\n",
       "      <td>probably guess western behind likely next inve...</td>\n",
       "      <td>2022-05-25</td>\n",
       "      <td>Fox News</td>\n",
       "      <td>Joseph Hill</td>\n",
       "      <td>Politics</td>\n",
       "      <td>fake</td>\n",
       "    </tr>\n",
       "    <tr>\n",
       "      <th>2</th>\n",
       "      <td>Himself church myself carry.</td>\n",
       "      <td>them identify forward present success risk sev...</td>\n",
       "      <td>2022-09-01</td>\n",
       "      <td>CNN</td>\n",
       "      <td>Julia Robinson</td>\n",
       "      <td>Business</td>\n",
       "      <td>fake</td>\n",
       "    </tr>\n",
       "    <tr>\n",
       "      <th>3</th>\n",
       "      <td>You unit its should.</td>\n",
       "      <td>phone which item yard Republican safe where po...</td>\n",
       "      <td>2023-02-07</td>\n",
       "      <td>Reuters</td>\n",
       "      <td>Mr. David Foster DDS</td>\n",
       "      <td>Science</td>\n",
       "      <td>fake</td>\n",
       "    </tr>\n",
       "    <tr>\n",
       "      <th>4</th>\n",
       "      <td>Billion believe employee summer how.</td>\n",
       "      <td>wonder myself fact difficult course forget exa...</td>\n",
       "      <td>2023-04-03</td>\n",
       "      <td>CNN</td>\n",
       "      <td>Austin Walker</td>\n",
       "      <td>Technology</td>\n",
       "      <td>fake</td>\n",
       "    </tr>\n",
       "  </tbody>\n",
       "</table>\n",
       "</div>"
      ],
      "text/plain": [
       "                                  title  \\\n",
       "0               Foreign Democrat final.   \n",
       "1   To offer down resource great point.   \n",
       "2          Himself church myself carry.   \n",
       "3                  You unit its should.   \n",
       "4  Billion believe employee summer how.   \n",
       "\n",
       "                                                text        date    source  \\\n",
       "0  more tax development both store agreement lawy...  2023-03-10  NY Times   \n",
       "1  probably guess western behind likely next inve...  2022-05-25  Fox News   \n",
       "2  them identify forward present success risk sev...  2022-09-01       CNN   \n",
       "3  phone which item yard Republican safe where po...  2023-02-07   Reuters   \n",
       "4  wonder myself fact difficult course forget exa...  2023-04-03       CNN   \n",
       "\n",
       "                 author    category label  \n",
       "0          Paula George    Politics  real  \n",
       "1           Joseph Hill    Politics  fake  \n",
       "2        Julia Robinson    Business  fake  \n",
       "3  Mr. David Foster DDS     Science  fake  \n",
       "4         Austin Walker  Technology  fake  "
      ]
     },
     "execution_count": 2,
     "metadata": {},
     "output_type": "execute_result"
    }
   ],
   "source": [
    "## Import and read the first five records of dataset\n",
    "data=pd.read_csv(\"fake_news_dataset.csv\")\n",
    "data.head()"
   ]
  },
  {
   "cell_type": "code",
   "execution_count": 3,
   "id": "9262301f-cad7-444b-a24b-f438338c20d9",
   "metadata": {},
   "outputs": [],
   "source": [
    "## check the  data types of each columns of dataset"
   ]
  },
  {
   "cell_type": "code",
   "execution_count": 4,
   "id": "ef07962d-3f2d-4b4d-a9f7-0c60deec5de4",
   "metadata": {},
   "outputs": [
    {
     "name": "stdout",
     "output_type": "stream",
     "text": [
      "<class 'pandas.core.frame.DataFrame'>\n",
      "RangeIndex: 20000 entries, 0 to 19999\n",
      "Data columns (total 7 columns):\n",
      " #   Column    Non-Null Count  Dtype \n",
      "---  ------    --------------  ----- \n",
      " 0   title     20000 non-null  object\n",
      " 1   text      20000 non-null  object\n",
      " 2   date      20000 non-null  object\n",
      " 3   source    19000 non-null  object\n",
      " 4   author    19000 non-null  object\n",
      " 5   category  20000 non-null  object\n",
      " 6   label     20000 non-null  object\n",
      "dtypes: object(7)\n",
      "memory usage: 1.1+ MB\n"
     ]
    }
   ],
   "source": [
    "data.info()"
   ]
  },
  {
   "cell_type": "code",
   "execution_count": 5,
   "id": "f2754e46-5f7a-4cc7-8e69-eeb8e7bdc0d9",
   "metadata": {},
   "outputs": [],
   "source": [
    "## Get the number of  rows in the dataset"
   ]
  },
  {
   "cell_type": "code",
   "execution_count": 6,
   "id": "76fa719b-2bb7-4e9a-aa68-2b646c947fe2",
   "metadata": {},
   "outputs": [
    {
     "data": {
      "text/plain": [
       "title       20000\n",
       "text        20000\n",
       "date        20000\n",
       "source      19000\n",
       "author      19000\n",
       "category    20000\n",
       "label       20000\n",
       "dtype: int64"
      ]
     },
     "execution_count": 6,
     "metadata": {},
     "output_type": "execute_result"
    }
   ],
   "source": [
    "data.count()"
   ]
  },
  {
   "cell_type": "code",
   "execution_count": 7,
   "id": "a41f17a0-16b5-4a24-9257-8e597604dc5c",
   "metadata": {},
   "outputs": [],
   "source": [
    "## Check  the null values are their or not"
   ]
  },
  {
   "cell_type": "code",
   "execution_count": 8,
   "id": "319603c5-48bb-4832-99c2-e5b341188ae5",
   "metadata": {},
   "outputs": [
    {
     "data": {
      "text/plain": [
       "title          0\n",
       "text           0\n",
       "date           0\n",
       "source      1000\n",
       "author      1000\n",
       "category       0\n",
       "label          0\n",
       "dtype: int64"
      ]
     },
     "execution_count": 8,
     "metadata": {},
     "output_type": "execute_result"
    }
   ],
   "source": [
    "data.isnull().sum()"
   ]
  },
  {
   "cell_type": "code",
   "execution_count": 9,
   "id": "662e232f-171c-454c-8cce-291489bf4505",
   "metadata": {},
   "outputs": [],
   "source": [
    "##  check the duplicate values"
   ]
  },
  {
   "cell_type": "code",
   "execution_count": 10,
   "id": "8f159a7d-2b6b-4b38-b568-ca4e9085d500",
   "metadata": {},
   "outputs": [
    {
     "data": {
      "text/plain": [
       "0"
      ]
     },
     "execution_count": 10,
     "metadata": {},
     "output_type": "execute_result"
    }
   ],
   "source": [
    "data.duplicated().sum()"
   ]
  },
  {
   "cell_type": "code",
   "execution_count": 11,
   "id": "4c09575c-3e6b-4354-9f15-a6017bdb59f3",
   "metadata": {},
   "outputs": [],
   "source": [
    "## Split the whole dataset into train and test set"
   ]
  },
  {
   "cell_type": "code",
   "execution_count": 12,
   "id": "2398f684-2fda-4011-ae23-15f8a7db960f",
   "metadata": {},
   "outputs": [],
   "source": [
    "from sklearn.model_selection import train_test_split\n",
    "\n",
    "train_set,test_set=train_test_split(data, test_size=0.2, random_state=42)"
   ]
  },
  {
   "cell_type": "code",
   "execution_count": 13,
   "id": "e2a450ee-6619-49b5-9599-bdb3623f0698",
   "metadata": {},
   "outputs": [
    {
     "name": "stdout",
     "output_type": "stream",
     "text": [
      "(16000, 7) (4000, 7)\n"
     ]
    }
   ],
   "source": [
    "print(train_set.shape,test_set.shape)"
   ]
  },
  {
   "cell_type": "markdown",
   "id": "4903bb61-4a5a-46be-80e2-4a8ddf68becc",
   "metadata": {},
   "source": [
    "## Explotary Data Analysis  (EDA)"
   ]
  },
  {
   "cell_type": "code",
   "execution_count": 14,
   "id": "8dfd334f-b942-4122-83d5-c13a934585d3",
   "metadata": {},
   "outputs": [],
   "source": [
    "## check the null values of train_set"
   ]
  },
  {
   "cell_type": "code",
   "execution_count": 15,
   "id": "a48d6e0c-c1a2-43cf-9e8e-f0a7da5bb7ac",
   "metadata": {},
   "outputs": [
    {
     "data": {
      "text/plain": [
       "title         0\n",
       "text          0\n",
       "date          0\n",
       "source      782\n",
       "author      811\n",
       "category      0\n",
       "label         0\n",
       "dtype: int64"
      ]
     },
     "execution_count": 15,
     "metadata": {},
     "output_type": "execute_result"
    }
   ],
   "source": [
    "train_set.isnull().sum()"
   ]
  },
  {
   "cell_type": "code",
   "execution_count": 16,
   "id": "0fd6c12d-8220-40f2-883a-5b5fc5d2bc25",
   "metadata": {},
   "outputs": [],
   "source": [
    "## check the duplicate values of  train_set"
   ]
  },
  {
   "cell_type": "code",
   "execution_count": 17,
   "id": "00c3d6da-56e5-461b-8f82-b7662043b246",
   "metadata": {},
   "outputs": [
    {
     "data": {
      "text/plain": [
       "0"
      ]
     },
     "execution_count": 17,
     "metadata": {},
     "output_type": "execute_result"
    }
   ],
   "source": [
    "train_set.duplicated().sum()"
   ]
  },
  {
   "cell_type": "code",
   "execution_count": 18,
   "id": "84a93317-8595-40b3-be1a-3f0c476bf05a",
   "metadata": {},
   "outputs": [],
   "source": [
    "## check the value counts of  source and  author solumns"
   ]
  },
  {
   "cell_type": "code",
   "execution_count": 19,
   "id": "364c8be8-4ede-4ff4-be6c-02e5cb3fc475",
   "metadata": {},
   "outputs": [
    {
     "data": {
      "text/plain": [
       "source\n",
       "Daily News      1970\n",
       "The Guardian    1930\n",
       "BBC             1913\n",
       "CNN             1898\n",
       "Fox News        1890\n",
       "Reuters         1886\n",
       "NY Times        1874\n",
       "Global Times    1857\n",
       "Name: count, dtype: int64"
      ]
     },
     "execution_count": 19,
     "metadata": {},
     "output_type": "execute_result"
    }
   ],
   "source": [
    "train_set['source'].value_counts()"
   ]
  },
  {
   "cell_type": "code",
   "execution_count": 20,
   "id": "f442bae6-e354-4613-a486-19a7450bf1b5",
   "metadata": {},
   "outputs": [
    {
     "data": {
      "text/plain": [
       "author\n",
       "Michael Smith            10\n",
       "John Smith                9\n",
       "Christopher Johnson       7\n",
       "Jennifer Davis            7\n",
       "John Brown                6\n",
       "                         ..\n",
       "Wendy Mccullough          1\n",
       "Jonathan Curtis           1\n",
       "Rodney Young              1\n",
       "Samantha Gutierrez        1\n",
       "Mr. Ernest Harris Jr.     1\n",
       "Name: count, Length: 13847, dtype: int64"
      ]
     },
     "execution_count": 20,
     "metadata": {},
     "output_type": "execute_result"
    }
   ],
   "source": [
    "train_set['author'].value_counts()"
   ]
  },
  {
   "cell_type": "code",
   "execution_count": 21,
   "id": "8fb45f60-cba6-4073-9b5a-c66a65c25cdd",
   "metadata": {},
   "outputs": [],
   "source": [
    "## fill the null values"
   ]
  },
  {
   "cell_type": "code",
   "execution_count": 22,
   "id": "a5a4767d-e2eb-40e6-a029-8572fd53c4b2",
   "metadata": {},
   "outputs": [
    {
     "name": "stderr",
     "output_type": "stream",
     "text": [
      "C:\\Users\\THIS PC\\AppData\\Local\\Temp\\ipykernel_11980\\3912575003.py:1: FutureWarning: A value is trying to be set on a copy of a DataFrame or Series through chained assignment using an inplace method.\n",
      "The behavior will change in pandas 3.0. This inplace method will never work because the intermediate object on which we are setting values always behaves as a copy.\n",
      "\n",
      "For example, when doing 'df[col].method(value, inplace=True)', try using 'df.method({col: value}, inplace=True)' or df[col] = df[col].method(value) instead, to perform the operation inplace on the original object.\n",
      "\n",
      "\n",
      "  train_set['source'].fillna('Global Times', inplace=True)\n"
     ]
    }
   ],
   "source": [
    "train_set['source'].fillna('Global Times', inplace=True)"
   ]
  },
  {
   "cell_type": "code",
   "execution_count": 23,
   "id": "a94d3ce3-6453-4b3c-80bd-0709437abbcb",
   "metadata": {},
   "outputs": [
    {
     "data": {
      "text/plain": [
       "title         0\n",
       "text          0\n",
       "date          0\n",
       "source        0\n",
       "author      811\n",
       "category      0\n",
       "label         0\n",
       "dtype: int64"
      ]
     },
     "execution_count": 23,
     "metadata": {},
     "output_type": "execute_result"
    }
   ],
   "source": [
    "train_set.isnull().sum()"
   ]
  },
  {
   "cell_type": "code",
   "execution_count": 24,
   "id": "8853a11e-e8c2-4644-b0b0-b3bd7d9bffa9",
   "metadata": {},
   "outputs": [
    {
     "name": "stderr",
     "output_type": "stream",
     "text": [
      "C:\\Users\\THIS PC\\AppData\\Local\\Temp\\ipykernel_11980\\546374671.py:1: FutureWarning: A value is trying to be set on a copy of a DataFrame or Series through chained assignment using an inplace method.\n",
      "The behavior will change in pandas 3.0. This inplace method will never work because the intermediate object on which we are setting values always behaves as a copy.\n",
      "\n",
      "For example, when doing 'df[col].method(value, inplace=True)', try using 'df.method({col: value}, inplace=True)' or df[col] = df[col].method(value) instead, to perform the operation inplace on the original object.\n",
      "\n",
      "\n",
      "  train_set['author'].fillna('Wendy Mccullough', inplace=True)\n"
     ]
    }
   ],
   "source": [
    "train_set['author'].fillna('Wendy Mccullough', inplace=True)"
   ]
  },
  {
   "cell_type": "code",
   "execution_count": 25,
   "id": "a64fe61f-5c8f-4827-a8a3-4de9fea7c29b",
   "metadata": {},
   "outputs": [
    {
     "data": {
      "text/plain": [
       "title       0\n",
       "text        0\n",
       "date        0\n",
       "source      0\n",
       "author      0\n",
       "category    0\n",
       "label       0\n",
       "dtype: int64"
      ]
     },
     "execution_count": 25,
     "metadata": {},
     "output_type": "execute_result"
    }
   ],
   "source": [
    "train_set.isnull().sum()"
   ]
  },
  {
   "cell_type": "code",
   "execution_count": 26,
   "id": "03956ff0-fbc7-4d09-adca-811b8304af41",
   "metadata": {},
   "outputs": [
    {
     "data": {
      "text/plain": [
       "title       0\n",
       "text        0\n",
       "date        0\n",
       "source      0\n",
       "author      0\n",
       "category    0\n",
       "label       0\n",
       "dtype: int64"
      ]
     },
     "execution_count": 26,
     "metadata": {},
     "output_type": "execute_result"
    }
   ],
   "source": [
    "train_set.isnull().sum()"
   ]
  },
  {
   "cell_type": "code",
   "execution_count": 27,
   "id": "5a8c5dce-1078-4a76-8e5b-9abff019e20e",
   "metadata": {},
   "outputs": [],
   "source": [
    "## check the duplicate values again"
   ]
  },
  {
   "cell_type": "code",
   "execution_count": 28,
   "id": "d064efaf-299e-4cd3-889a-3a34917d4710",
   "metadata": {},
   "outputs": [
    {
     "data": {
      "text/plain": [
       "0"
      ]
     },
     "execution_count": 28,
     "metadata": {},
     "output_type": "execute_result"
    }
   ],
   "source": [
    "train_set.duplicated().sum()"
   ]
  },
  {
   "cell_type": "markdown",
   "id": "1ff1982c-b649-49a4-8eb6-83f2b994cf3a",
   "metadata": {},
   "source": [
    "## Explotary Data Analysis (EDA)"
   ]
  },
  {
   "cell_type": "markdown",
   "id": "c9edfde2-e6d0-4c67-b37f-56a32a1deed6",
   "metadata": {},
   "source": [
    "#### Text Preprocessing"
   ]
  },
  {
   "cell_type": "code",
   "execution_count": 29,
   "id": "66e0b0a9-74b0-45ba-898e-bab44bcc8c40",
   "metadata": {},
   "outputs": [
    {
     "data": {
      "text/html": [
       "<div>\n",
       "<style scoped>\n",
       "    .dataframe tbody tr th:only-of-type {\n",
       "        vertical-align: middle;\n",
       "    }\n",
       "\n",
       "    .dataframe tbody tr th {\n",
       "        vertical-align: top;\n",
       "    }\n",
       "\n",
       "    .dataframe thead th {\n",
       "        text-align: right;\n",
       "    }\n",
       "</style>\n",
       "<table border=\"1\" class=\"dataframe\">\n",
       "  <thead>\n",
       "    <tr style=\"text-align: right;\">\n",
       "      <th></th>\n",
       "      <th>title</th>\n",
       "      <th>text</th>\n",
       "      <th>date</th>\n",
       "      <th>source</th>\n",
       "      <th>author</th>\n",
       "      <th>category</th>\n",
       "      <th>label</th>\n",
       "    </tr>\n",
       "  </thead>\n",
       "  <tbody>\n",
       "    <tr>\n",
       "      <th>5894</th>\n",
       "      <td>Age important scientist question why onto acti...</td>\n",
       "      <td>image morning whether thought seven office kit...</td>\n",
       "      <td>2022-05-30</td>\n",
       "      <td>NY Times</td>\n",
       "      <td>Kimberly Martinez</td>\n",
       "      <td>Politics</td>\n",
       "      <td>real</td>\n",
       "    </tr>\n",
       "    <tr>\n",
       "      <th>3728</th>\n",
       "      <td>Trial candidate travel pretty agreement attack...</td>\n",
       "      <td>recent item success plant dark however however...</td>\n",
       "      <td>2024-10-20</td>\n",
       "      <td>BBC</td>\n",
       "      <td>Mr. Daniel Bailey DDS</td>\n",
       "      <td>Sports</td>\n",
       "      <td>real</td>\n",
       "    </tr>\n",
       "    <tr>\n",
       "      <th>8958</th>\n",
       "      <td>Animal painting interest I society air east to...</td>\n",
       "      <td>yourself religious point hour Mrs cover case s...</td>\n",
       "      <td>2024-08-25</td>\n",
       "      <td>NY Times</td>\n",
       "      <td>Kimberly Wagner</td>\n",
       "      <td>Politics</td>\n",
       "      <td>fake</td>\n",
       "    </tr>\n",
       "    <tr>\n",
       "      <th>7671</th>\n",
       "      <td>Improve surface face today fact.</td>\n",
       "      <td>road listen add question main head worker gene...</td>\n",
       "      <td>2023-10-07</td>\n",
       "      <td>CNN</td>\n",
       "      <td>Charlene Harrington</td>\n",
       "      <td>Entertainment</td>\n",
       "      <td>fake</td>\n",
       "    </tr>\n",
       "    <tr>\n",
       "      <th>5999</th>\n",
       "      <td>Family pressure common behavior.</td>\n",
       "      <td>low indicate education support brother suffer ...</td>\n",
       "      <td>2025-03-17</td>\n",
       "      <td>Fox News</td>\n",
       "      <td>Robert Gardner</td>\n",
       "      <td>Politics</td>\n",
       "      <td>real</td>\n",
       "    </tr>\n",
       "  </tbody>\n",
       "</table>\n",
       "</div>"
      ],
      "text/plain": [
       "                                                  title  \\\n",
       "5894  Age important scientist question why onto acti...   \n",
       "3728  Trial candidate travel pretty agreement attack...   \n",
       "8958  Animal painting interest I society air east to...   \n",
       "7671                   Improve surface face today fact.   \n",
       "5999                   Family pressure common behavior.   \n",
       "\n",
       "                                                   text        date    source  \\\n",
       "5894  image morning whether thought seven office kit...  2022-05-30  NY Times   \n",
       "3728  recent item success plant dark however however...  2024-10-20       BBC   \n",
       "8958  yourself religious point hour Mrs cover case s...  2024-08-25  NY Times   \n",
       "7671  road listen add question main head worker gene...  2023-10-07       CNN   \n",
       "5999  low indicate education support brother suffer ...  2025-03-17  Fox News   \n",
       "\n",
       "                     author       category label  \n",
       "5894      Kimberly Martinez       Politics  real  \n",
       "3728  Mr. Daniel Bailey DDS         Sports  real  \n",
       "8958        Kimberly Wagner       Politics  fake  \n",
       "7671    Charlene Harrington  Entertainment  fake  \n",
       "5999         Robert Gardner       Politics  real  "
      ]
     },
     "execution_count": 29,
     "metadata": {},
     "output_type": "execute_result"
    }
   ],
   "source": [
    "train_set.head()"
   ]
  },
  {
   "cell_type": "code",
   "execution_count": 30,
   "id": "a8899e6d-2018-45a3-a533-c02675771ede",
   "metadata": {},
   "outputs": [],
   "source": [
    "#train_set['source'].value_counts()"
   ]
  },
  {
   "cell_type": "code",
   "execution_count": 31,
   "id": "badd9fc3-4810-48c2-b97e-f625e9def8d4",
   "metadata": {},
   "outputs": [],
   "source": [
    "#train_set['category'].value_counts()"
   ]
  },
  {
   "cell_type": "code",
   "execution_count": 32,
   "id": "f0890cf8-638a-4b25-a375-b24383248f36",
   "metadata": {},
   "outputs": [],
   "source": [
    "#train_set['category'].head(100)"
   ]
  },
  {
   "cell_type": "code",
   "execution_count": 33,
   "id": "b14df0b2-092d-40e6-a0f5-44c1a9a1e915",
   "metadata": {},
   "outputs": [],
   "source": [
    "#train_set.replace({'source':{'Daily News':0,'The Guardian':1,'BBC':3,'CNN':4,'Fox News':5,'Reuters':6,'NY Times':7,'Global Times':8}}, inplace=True)\n",
    "#train_set.replace({'cateogry':{'Health':1,'Entertainment':2,'Technology':3,'Business':4,'Sports':5,'Science':6,'Politics':7}},inplace=True)\n",
    "#train_set.head()"
   ]
  },
  {
   "cell_type": "code",
   "execution_count": 34,
   "id": "b0449d37-a531-46ac-8da6-ac032d2c96e9",
   "metadata": {},
   "outputs": [],
   "source": [
    "import re\n",
    "import string"
   ]
  },
  {
   "cell_type": "code",
   "execution_count": 35,
   "id": "edeb96ea-2246-416b-a29e-94ab97327b13",
   "metadata": {},
   "outputs": [
    {
     "data": {
      "text/plain": [
       "5894    image morning whether thought seven office kit...\n",
       "3728    recent item success plant dark however however...\n",
       "8958    yourself religious point hour Mrs cover case s...\n",
       "7671    road listen add question main head worker gene...\n",
       "5999    low indicate education support brother suffer ...\n",
       "Name: text, dtype: object"
      ]
     },
     "execution_count": 35,
     "metadata": {},
     "output_type": "execute_result"
    }
   ],
   "source": [
    "train_set['text'].head()"
   ]
  },
  {
   "cell_type": "code",
   "execution_count": 36,
   "id": "ae9312f1-512c-4e28-91b4-51b2912a87b8",
   "metadata": {},
   "outputs": [],
   "source": [
    "## Convert uppercase into lowercase"
   ]
  },
  {
   "cell_type": "code",
   "execution_count": 37,
   "id": "727c0183-1bdb-44fa-a1b4-4fe0366115d3",
   "metadata": {},
   "outputs": [],
   "source": [
    "train_set['text']=train_set['text'].apply(lambda x: \" \".join(x.lower() for x in x.split()))"
   ]
  },
  {
   "cell_type": "code",
   "execution_count": 38,
   "id": "1d5e1a5d-f872-45be-86b1-6f8a82fbdb9a",
   "metadata": {},
   "outputs": [
    {
     "data": {
      "text/plain": [
       "5894     image morning whether thought seven office kit...\n",
       "3728     recent item success plant dark however however...\n",
       "8958     yourself religious point hour mrs cover case s...\n",
       "7671     road listen add question main head worker gene...\n",
       "5999     low indicate education support brother suffer ...\n",
       "                               ...                        \n",
       "11284    middle form imagine item company good town for...\n",
       "11964    collection short section yourself involve real...\n",
       "5390     card compare magazine education evening energy...\n",
       "860      fire ask lose institution field candidate age ...\n",
       "15795    book easy morning report kind better start fig...\n",
       "Name: text, Length: 16000, dtype: object"
      ]
     },
     "execution_count": 38,
     "metadata": {},
     "output_type": "execute_result"
    }
   ],
   "source": [
    "train_set['text']"
   ]
  },
  {
   "cell_type": "code",
   "execution_count": 39,
   "id": "75eff3de-fb14-4d76-b1c8-27eaf6740281",
   "metadata": {},
   "outputs": [],
   "source": [
    "train_set['author']=train_set['author'].apply(lambda x: \" \".join(x.lower() for x in x.split()))"
   ]
  },
  {
   "cell_type": "code",
   "execution_count": 40,
   "id": "aadf958e-37dd-4e36-9aac-8b66d3f723fc",
   "metadata": {},
   "outputs": [
    {
     "data": {
      "text/plain": [
       "5894         kimberly martinez\n",
       "3728     mr. daniel bailey dds\n",
       "8958           kimberly wagner\n",
       "7671       charlene harrington\n",
       "5999            robert gardner\n",
       "                 ...          \n",
       "11284              cathy woods\n",
       "11964      nicholas williamson\n",
       "5390               david mcgee\n",
       "860           stephanie austin\n",
       "15795    mr. ernest harris jr.\n",
       "Name: author, Length: 16000, dtype: object"
      ]
     },
     "execution_count": 40,
     "metadata": {},
     "output_type": "execute_result"
    }
   ],
   "source": [
    "train_set['author']"
   ]
  },
  {
   "cell_type": "code",
   "execution_count": 41,
   "id": "608ab0ce-1171-4fd1-83a4-e3f0233f80b4",
   "metadata": {},
   "outputs": [],
   "source": [
    "train_set['title']=train_set['title'].apply(lambda x:\" \".join(x.lower() for x in x.split()))"
   ]
  },
  {
   "cell_type": "code",
   "execution_count": 42,
   "id": "d653ff45-6124-4378-bc7c-0199320821cb",
   "metadata": {},
   "outputs": [
    {
     "data": {
      "text/plain": [
       "5894     age important scientist question why onto acti...\n",
       "3728     trial candidate travel pretty agreement attack...\n",
       "8958     animal painting interest i society air east to...\n",
       "7671                      improve surface face today fact.\n",
       "5999                      family pressure common behavior.\n",
       "                               ...                        \n",
       "11284               surface address media speak join poor.\n",
       "11964     short theory live role pressure since point for.\n",
       "5390                       hope television artist improve.\n",
       "860           far choice test last generation friend rich.\n",
       "15795          audience four art section assume a may out.\n",
       "Name: title, Length: 16000, dtype: object"
      ]
     },
     "execution_count": 42,
     "metadata": {},
     "output_type": "execute_result"
    }
   ],
   "source": [
    "train_set['title']"
   ]
  },
  {
   "cell_type": "code",
   "execution_count": 43,
   "id": "90c7b4a1-d97d-4871-8d16-7a350cd5fa44",
   "metadata": {},
   "outputs": [],
   "source": [
    "train_set['author']=train_set['author'].apply(lambda x:\" \".join(x.lower() for x in x.split()))"
   ]
  },
  {
   "cell_type": "code",
   "execution_count": 44,
   "id": "3684ef86-e9aa-4772-b3b6-4ce5038713d3",
   "metadata": {},
   "outputs": [
    {
     "data": {
      "text/plain": [
       "5894         kimberly martinez\n",
       "3728     mr. daniel bailey dds\n",
       "8958           kimberly wagner\n",
       "7671       charlene harrington\n",
       "5999            robert gardner\n",
       "                 ...          \n",
       "11284              cathy woods\n",
       "11964      nicholas williamson\n",
       "5390               david mcgee\n",
       "860           stephanie austin\n",
       "15795    mr. ernest harris jr.\n",
       "Name: author, Length: 16000, dtype: object"
      ]
     },
     "execution_count": 44,
     "metadata": {},
     "output_type": "execute_result"
    }
   ],
   "source": [
    "train_set['author']"
   ]
  },
  {
   "cell_type": "code",
   "execution_count": 45,
   "id": "ff440feb-5db4-43f2-85d8-f060aa362e22",
   "metadata": {},
   "outputs": [],
   "source": [
    "train_set['source']=train_set['source'].apply(lambda x:\" \".join(x.lower() for x in  x.split()))"
   ]
  },
  {
   "cell_type": "code",
   "execution_count": 46,
   "id": "c356ab95-619d-4087-80bb-28a2dfb7661d",
   "metadata": {},
   "outputs": [
    {
     "data": {
      "text/plain": [
       "5894       ny times\n",
       "3728            bbc\n",
       "8958       ny times\n",
       "7671            cnn\n",
       "5999       fox news\n",
       "            ...    \n",
       "11284      fox news\n",
       "11964      ny times\n",
       "5390            bbc\n",
       "860      daily news\n",
       "15795      ny times\n",
       "Name: source, Length: 16000, dtype: object"
      ]
     },
     "execution_count": 46,
     "metadata": {},
     "output_type": "execute_result"
    }
   ],
   "source": [
    "train_set['source']"
   ]
  },
  {
   "cell_type": "code",
   "execution_count": 47,
   "id": "47412d7e-94cb-4432-b64d-409227d5b4bb",
   "metadata": {},
   "outputs": [],
   "source": [
    "train_set['category']=train_set['category'].apply(lambda x: \" \".join(x.lower() for x in x.split()))"
   ]
  },
  {
   "cell_type": "code",
   "execution_count": 48,
   "id": "135800af-c112-486e-af34-80b9c017210b",
   "metadata": {},
   "outputs": [
    {
     "data": {
      "text/plain": [
       "5894          politics\n",
       "3728            sports\n",
       "8958          politics\n",
       "7671     entertainment\n",
       "5999          politics\n",
       "             ...      \n",
       "11284         business\n",
       "11964         business\n",
       "5390           science\n",
       "860            science\n",
       "15795           sports\n",
       "Name: category, Length: 16000, dtype: object"
      ]
     },
     "execution_count": 48,
     "metadata": {},
     "output_type": "execute_result"
    }
   ],
   "source": [
    "train_set['category']"
   ]
  },
  {
   "cell_type": "code",
   "execution_count": 49,
   "id": "06923dff-e1a4-434f-8031-e9ad7c4c451f",
   "metadata": {},
   "outputs": [
    {
     "data": {
      "text/html": [
       "<div>\n",
       "<style scoped>\n",
       "    .dataframe tbody tr th:only-of-type {\n",
       "        vertical-align: middle;\n",
       "    }\n",
       "\n",
       "    .dataframe tbody tr th {\n",
       "        vertical-align: top;\n",
       "    }\n",
       "\n",
       "    .dataframe thead th {\n",
       "        text-align: right;\n",
       "    }\n",
       "</style>\n",
       "<table border=\"1\" class=\"dataframe\">\n",
       "  <thead>\n",
       "    <tr style=\"text-align: right;\">\n",
       "      <th></th>\n",
       "      <th>title</th>\n",
       "      <th>text</th>\n",
       "      <th>date</th>\n",
       "      <th>source</th>\n",
       "      <th>author</th>\n",
       "      <th>category</th>\n",
       "      <th>label</th>\n",
       "    </tr>\n",
       "  </thead>\n",
       "  <tbody>\n",
       "    <tr>\n",
       "      <th>5894</th>\n",
       "      <td>age important scientist question why onto acti...</td>\n",
       "      <td>image morning whether thought seven office kit...</td>\n",
       "      <td>2022-05-30</td>\n",
       "      <td>ny times</td>\n",
       "      <td>kimberly martinez</td>\n",
       "      <td>politics</td>\n",
       "      <td>real</td>\n",
       "    </tr>\n",
       "    <tr>\n",
       "      <th>3728</th>\n",
       "      <td>trial candidate travel pretty agreement attack...</td>\n",
       "      <td>recent item success plant dark however however...</td>\n",
       "      <td>2024-10-20</td>\n",
       "      <td>bbc</td>\n",
       "      <td>mr. daniel bailey dds</td>\n",
       "      <td>sports</td>\n",
       "      <td>real</td>\n",
       "    </tr>\n",
       "    <tr>\n",
       "      <th>8958</th>\n",
       "      <td>animal painting interest i society air east to...</td>\n",
       "      <td>yourself religious point hour mrs cover case s...</td>\n",
       "      <td>2024-08-25</td>\n",
       "      <td>ny times</td>\n",
       "      <td>kimberly wagner</td>\n",
       "      <td>politics</td>\n",
       "      <td>fake</td>\n",
       "    </tr>\n",
       "    <tr>\n",
       "      <th>7671</th>\n",
       "      <td>improve surface face today fact.</td>\n",
       "      <td>road listen add question main head worker gene...</td>\n",
       "      <td>2023-10-07</td>\n",
       "      <td>cnn</td>\n",
       "      <td>charlene harrington</td>\n",
       "      <td>entertainment</td>\n",
       "      <td>fake</td>\n",
       "    </tr>\n",
       "    <tr>\n",
       "      <th>5999</th>\n",
       "      <td>family pressure common behavior.</td>\n",
       "      <td>low indicate education support brother suffer ...</td>\n",
       "      <td>2025-03-17</td>\n",
       "      <td>fox news</td>\n",
       "      <td>robert gardner</td>\n",
       "      <td>politics</td>\n",
       "      <td>real</td>\n",
       "    </tr>\n",
       "  </tbody>\n",
       "</table>\n",
       "</div>"
      ],
      "text/plain": [
       "                                                  title  \\\n",
       "5894  age important scientist question why onto acti...   \n",
       "3728  trial candidate travel pretty agreement attack...   \n",
       "8958  animal painting interest i society air east to...   \n",
       "7671                   improve surface face today fact.   \n",
       "5999                   family pressure common behavior.   \n",
       "\n",
       "                                                   text        date    source  \\\n",
       "5894  image morning whether thought seven office kit...  2022-05-30  ny times   \n",
       "3728  recent item success plant dark however however...  2024-10-20       bbc   \n",
       "8958  yourself religious point hour mrs cover case s...  2024-08-25  ny times   \n",
       "7671  road listen add question main head worker gene...  2023-10-07       cnn   \n",
       "5999  low indicate education support brother suffer ...  2025-03-17  fox news   \n",
       "\n",
       "                     author       category label  \n",
       "5894      kimberly martinez       politics  real  \n",
       "3728  mr. daniel bailey dds         sports  real  \n",
       "8958        kimberly wagner       politics  fake  \n",
       "7671    charlene harrington  entertainment  fake  \n",
       "5999         robert gardner       politics  real  "
      ]
     },
     "execution_count": 49,
     "metadata": {},
     "output_type": "execute_result"
    }
   ],
   "source": [
    "train_set.head()"
   ]
  },
  {
   "cell_type": "code",
   "execution_count": 50,
   "id": "ed066093-de7c-4dfe-ab23-9f9efec45b17",
   "metadata": {},
   "outputs": [],
   "source": [
    "## Remove the links"
   ]
  },
  {
   "cell_type": "code",
   "execution_count": 52,
   "id": "484769b9-6530-4710-b90e-f75b25543ab7",
   "metadata": {},
   "outputs": [],
   "source": [
    "train_set['title']=train_set['title'].apply(lambda x: \" \".join(re.sub(r'https?:\\/\\/.*[\\r\\n]*','',x,flags=re.MULTILINE) for x in x.split()))"
   ]
  },
  {
   "cell_type": "code",
   "execution_count": 53,
   "id": "18cb7a47-dada-410c-b5a0-69728c12ae4e",
   "metadata": {},
   "outputs": [
    {
     "data": {
      "text/plain": [
       "5894     age important scientist question why onto acti...\n",
       "3728     trial candidate travel pretty agreement attack...\n",
       "8958     animal painting interest i society air east to...\n",
       "7671                      improve surface face today fact.\n",
       "5999                      family pressure common behavior.\n",
       "                               ...                        \n",
       "11284               surface address media speak join poor.\n",
       "11964     short theory live role pressure since point for.\n",
       "5390                       hope television artist improve.\n",
       "860           far choice test last generation friend rich.\n",
       "15795          audience four art section assume a may out.\n",
       "Name: title, Length: 16000, dtype: object"
      ]
     },
     "execution_count": 53,
     "metadata": {},
     "output_type": "execute_result"
    }
   ],
   "source": [
    "train_set['title']"
   ]
  },
  {
   "cell_type": "code",
   "execution_count": 55,
   "id": "45983acf-a6e8-4924-be8d-088b0ec9a8ca",
   "metadata": {},
   "outputs": [],
   "source": [
    "train_set['text']=train_set['text'].apply(lambda x: \" \".join(re.sub(r'https?\\/\\/.*[\\r\\n]*','',x,flags=re.MULTILINE) for x in x.split()))"
   ]
  },
  {
   "cell_type": "code",
   "execution_count": 57,
   "id": "18c7bbb6-4b33-44d8-bff5-6690ad7ad9cb",
   "metadata": {},
   "outputs": [
    {
     "data": {
      "text/plain": [
       "5894     image morning whether thought seven office kit...\n",
       "3728     recent item success plant dark however however...\n",
       "8958     yourself religious point hour mrs cover case s...\n",
       "7671     road listen add question main head worker gene...\n",
       "5999     low indicate education support brother suffer ...\n",
       "                               ...                        \n",
       "11284    middle form imagine item company good town for...\n",
       "11964    collection short section yourself involve real...\n",
       "5390     card compare magazine education evening energy...\n",
       "860      fire ask lose institution field candidate age ...\n",
       "15795    book easy morning report kind better start fig...\n",
       "Name: text, Length: 16000, dtype: object"
      ]
     },
     "execution_count": 57,
     "metadata": {},
     "output_type": "execute_result"
    }
   ],
   "source": [
    "train_set['text']"
   ]
  },
  {
   "cell_type": "code",
   "execution_count": 63,
   "id": "681d3ec0-afbb-4a53-ae2d-a0fc352d5dc0",
   "metadata": {},
   "outputs": [],
   "source": [
    "train_set['source']=train_set['source'].apply(lambda x: \" \".join(re.sub(r'https?\\/\\/.*[\\r\\n]*','',x,flags=re.MULTILINE) for x in x.split()))"
   ]
  },
  {
   "cell_type": "code",
   "execution_count": 64,
   "id": "5ea69c3b-f7f0-48f4-b09f-91b29ef86a6e",
   "metadata": {},
   "outputs": [
    {
     "data": {
      "text/plain": [
       "5894       ny times\n",
       "3728            bbc\n",
       "8958       ny times\n",
       "7671            cnn\n",
       "5999       fox news\n",
       "            ...    \n",
       "11284      fox news\n",
       "11964      ny times\n",
       "5390            bbc\n",
       "860      daily news\n",
       "15795      ny times\n",
       "Name: source, Length: 16000, dtype: object"
      ]
     },
     "execution_count": 64,
     "metadata": {},
     "output_type": "execute_result"
    }
   ],
   "source": [
    "train_set['source']"
   ]
  },
  {
   "cell_type": "code",
   "execution_count": 65,
   "id": "620f4843-3595-42ad-a293-b415554744bf",
   "metadata": {},
   "outputs": [],
   "source": [
    "train_set['author']=train_set['author'].apply(lambda x:\" \".join(re.sub(r'https?\\/\\/.*[\\r\\n]*','',x,flags=re.MULTILINE) for x in x.split()))"
   ]
  },
  {
   "cell_type": "code",
   "execution_count": 66,
   "id": "5d25d8d8-2565-4074-9ff0-5168032c9087",
   "metadata": {},
   "outputs": [
    {
     "data": {
      "text/plain": [
       "5894         kimberly martinez\n",
       "3728     mr. daniel bailey dds\n",
       "8958           kimberly wagner\n",
       "7671       charlene harrington\n",
       "5999            robert gardner\n",
       "                 ...          \n",
       "11284              cathy woods\n",
       "11964      nicholas williamson\n",
       "5390               david mcgee\n",
       "860           stephanie austin\n",
       "15795    mr. ernest harris jr.\n",
       "Name: author, Length: 16000, dtype: object"
      ]
     },
     "execution_count": 66,
     "metadata": {},
     "output_type": "execute_result"
    }
   ],
   "source": [
    "train_set['author']"
   ]
  },
  {
   "cell_type": "code",
   "execution_count": 68,
   "id": "f180c6a7-374f-419f-903b-72ff75370ca2",
   "metadata": {},
   "outputs": [],
   "source": [
    "train_set['category']=train_set['category'].apply(lambda x: \" \".join(re.sub(r'https?\\/\\/.*[\\r\\n]*','',x,flags=re.MULTILINE) for x in x.split()))"
   ]
  },
  {
   "cell_type": "code",
   "execution_count": 69,
   "id": "7cbf5d3a-d933-413d-aa7a-04d94d5711be",
   "metadata": {},
   "outputs": [
    {
     "data": {
      "text/plain": [
       "5894          politics\n",
       "3728            sports\n",
       "8958          politics\n",
       "7671     entertainment\n",
       "5999          politics\n",
       "             ...      \n",
       "11284         business\n",
       "11964         business\n",
       "5390           science\n",
       "860            science\n",
       "15795           sports\n",
       "Name: category, Length: 16000, dtype: object"
      ]
     },
     "execution_count": 69,
     "metadata": {},
     "output_type": "execute_result"
    }
   ],
   "source": [
    "train_set['category']"
   ]
  },
  {
   "cell_type": "code",
   "execution_count": 70,
   "id": "47b4f707-c41f-4c5b-96d1-b6aa74f0e631",
   "metadata": {},
   "outputs": [],
   "source": [
    "## Remove the puncutations from text"
   ]
  },
  {
   "cell_type": "code",
   "execution_count": 72,
   "id": "edb672d6-f56e-4648-ba7e-959c70889955",
   "metadata": {},
   "outputs": [
    {
     "data": {
      "text/plain": [
       "'!\"#$%&\\'()*+,-./:;<=>?@[\\\\]^_`{|}~'"
      ]
     },
     "execution_count": 72,
     "metadata": {},
     "output_type": "execute_result"
    }
   ],
   "source": [
    "string.punctuation"
   ]
  },
  {
   "cell_type": "code",
   "execution_count": 74,
   "id": "f2291a1b-bf90-4d05-b673-87cb6e5b325e",
   "metadata": {},
   "outputs": [
    {
     "data": {
      "text/html": [
       "<div>\n",
       "<style scoped>\n",
       "    .dataframe tbody tr th:only-of-type {\n",
       "        vertical-align: middle;\n",
       "    }\n",
       "\n",
       "    .dataframe tbody tr th {\n",
       "        vertical-align: top;\n",
       "    }\n",
       "\n",
       "    .dataframe thead th {\n",
       "        text-align: right;\n",
       "    }\n",
       "</style>\n",
       "<table border=\"1\" class=\"dataframe\">\n",
       "  <thead>\n",
       "    <tr style=\"text-align: right;\">\n",
       "      <th></th>\n",
       "      <th>title</th>\n",
       "      <th>text</th>\n",
       "      <th>date</th>\n",
       "      <th>source</th>\n",
       "      <th>author</th>\n",
       "      <th>category</th>\n",
       "      <th>label</th>\n",
       "    </tr>\n",
       "  </thead>\n",
       "  <tbody>\n",
       "    <tr>\n",
       "      <th>5894</th>\n",
       "      <td>age important scientist question why onto acti...</td>\n",
       "      <td>image morning whether thought seven office kit...</td>\n",
       "      <td>2022-05-30</td>\n",
       "      <td>ny times</td>\n",
       "      <td>kimberly martinez</td>\n",
       "      <td>politics</td>\n",
       "      <td>real</td>\n",
       "    </tr>\n",
       "    <tr>\n",
       "      <th>3728</th>\n",
       "      <td>trial candidate travel pretty agreement attack...</td>\n",
       "      <td>recent item success plant dark however however...</td>\n",
       "      <td>2024-10-20</td>\n",
       "      <td>bbc</td>\n",
       "      <td>mr. daniel bailey dds</td>\n",
       "      <td>sports</td>\n",
       "      <td>real</td>\n",
       "    </tr>\n",
       "    <tr>\n",
       "      <th>8958</th>\n",
       "      <td>animal painting interest i society air east total</td>\n",
       "      <td>yourself religious point hour mrs cover case s...</td>\n",
       "      <td>2024-08-25</td>\n",
       "      <td>ny times</td>\n",
       "      <td>kimberly wagner</td>\n",
       "      <td>politics</td>\n",
       "      <td>fake</td>\n",
       "    </tr>\n",
       "    <tr>\n",
       "      <th>7671</th>\n",
       "      <td>improve surface face today fact</td>\n",
       "      <td>road listen add question main head worker gene...</td>\n",
       "      <td>2023-10-07</td>\n",
       "      <td>cnn</td>\n",
       "      <td>charlene harrington</td>\n",
       "      <td>entertainment</td>\n",
       "      <td>fake</td>\n",
       "    </tr>\n",
       "    <tr>\n",
       "      <th>5999</th>\n",
       "      <td>family pressure common behavior</td>\n",
       "      <td>low indicate education support brother suffer ...</td>\n",
       "      <td>2025-03-17</td>\n",
       "      <td>fox news</td>\n",
       "      <td>robert gardner</td>\n",
       "      <td>politics</td>\n",
       "      <td>real</td>\n",
       "    </tr>\n",
       "  </tbody>\n",
       "</table>\n",
       "</div>"
      ],
      "text/plain": [
       "                                                  title  \\\n",
       "5894  age important scientist question why onto acti...   \n",
       "3728  trial candidate travel pretty agreement attack...   \n",
       "8958  animal painting interest i society air east total   \n",
       "7671                    improve surface face today fact   \n",
       "5999                    family pressure common behavior   \n",
       "\n",
       "                                                   text        date    source  \\\n",
       "5894  image morning whether thought seven office kit...  2022-05-30  ny times   \n",
       "3728  recent item success plant dark however however...  2024-10-20       bbc   \n",
       "8958  yourself religious point hour mrs cover case s...  2024-08-25  ny times   \n",
       "7671  road listen add question main head worker gene...  2023-10-07       cnn   \n",
       "5999  low indicate education support brother suffer ...  2025-03-17  fox news   \n",
       "\n",
       "                     author       category label  \n",
       "5894      kimberly martinez       politics  real  \n",
       "3728  mr. daniel bailey dds         sports  real  \n",
       "8958        kimberly wagner       politics  fake  \n",
       "7671    charlene harrington  entertainment  fake  \n",
       "5999         robert gardner       politics  real  "
      ]
     },
     "execution_count": 74,
     "metadata": {},
     "output_type": "execute_result"
    }
   ],
   "source": [
    "train_set.head()"
   ]
  },
  {
   "cell_type": "code",
   "execution_count": 75,
   "id": "8c75c7a4-5283-4f05-b566-c11b1a26024c",
   "metadata": {},
   "outputs": [],
   "source": [
    "def remove_punctuation(text):\n",
    "    for punctuations in string.punctuation:\n",
    "        text=text.replace(punctuations,'')\n",
    "    return text\n",
    "\n",
    "train_set['title']=train_set['title'].apply(remove_punctuation)\n",
    "train_set['text']=train_set['text'].apply(remove_punctuation)\n",
    "train_set['source']=train_set['source'].apply(remove_punctuation)\n",
    "train_set['author']=train_set['author'].apply(remove_punctuation)\n",
    "train_set['category']=train_set['category'].apply(remove_punctuation)"
   ]
  },
  {
   "cell_type": "code",
   "execution_count": 76,
   "id": "9b6f5cb0-8af5-49b5-93dc-11dfbaa73125",
   "metadata": {},
   "outputs": [
    {
     "data": {
      "text/plain": [
       "5894    age important scientist question why onto acti...\n",
       "3728    trial candidate travel pretty agreement attack...\n",
       "8958    animal painting interest i society air east total\n",
       "7671                      improve surface face today fact\n",
       "5999                      family pressure common behavior\n",
       "Name: title, dtype: object"
      ]
     },
     "execution_count": 76,
     "metadata": {},
     "output_type": "execute_result"
    }
   ],
   "source": [
    "train_set['title'].head()"
   ]
  },
  {
   "cell_type": "code",
   "execution_count": 77,
   "id": "dd738f29-f9ba-4331-b07a-9d6b063b8c68",
   "metadata": {},
   "outputs": [
    {
     "data": {
      "text/plain": [
       "5894    image morning whether thought seven office kit...\n",
       "3728    recent item success plant dark however however...\n",
       "8958    yourself religious point hour mrs cover case s...\n",
       "7671    road listen add question main head worker gene...\n",
       "5999    low indicate education support brother suffer ...\n",
       "Name: text, dtype: object"
      ]
     },
     "execution_count": 77,
     "metadata": {},
     "output_type": "execute_result"
    }
   ],
   "source": [
    "train_set['text'].head()"
   ]
  },
  {
   "cell_type": "code",
   "execution_count": 78,
   "id": "4e40b895-43fd-4d00-a376-eef113663233",
   "metadata": {},
   "outputs": [
    {
     "data": {
      "text/plain": [
       "5894    ny times\n",
       "3728         bbc\n",
       "8958    ny times\n",
       "7671         cnn\n",
       "5999    fox news\n",
       "Name: source, dtype: object"
      ]
     },
     "execution_count": 78,
     "metadata": {},
     "output_type": "execute_result"
    }
   ],
   "source": [
    "train_set['source'].head()"
   ]
  },
  {
   "cell_type": "code",
   "execution_count": 79,
   "id": "13429ee4-513b-4da0-8aa0-fb4b7a9cb25f",
   "metadata": {},
   "outputs": [
    {
     "data": {
      "text/plain": [
       "5894       kimberly martinez\n",
       "3728    mr daniel bailey dds\n",
       "8958         kimberly wagner\n",
       "7671     charlene harrington\n",
       "5999          robert gardner\n",
       "Name: author, dtype: object"
      ]
     },
     "execution_count": 79,
     "metadata": {},
     "output_type": "execute_result"
    }
   ],
   "source": [
    "train_set['author'].head()"
   ]
  },
  {
   "cell_type": "code",
   "execution_count": 80,
   "id": "7dc209b3-51a3-43c3-9ad4-d085399469bb",
   "metadata": {},
   "outputs": [
    {
     "data": {
      "text/plain": [
       "5894         politics\n",
       "3728           sports\n",
       "8958         politics\n",
       "7671    entertainment\n",
       "5999         politics\n",
       "Name: category, dtype: object"
      ]
     },
     "execution_count": 80,
     "metadata": {},
     "output_type": "execute_result"
    }
   ],
   "source": [
    "train_set['category'].head()"
   ]
  },
  {
   "cell_type": "code",
   "execution_count": 81,
   "id": "23795a9b-da9b-4686-bcfe-44fb8d224085",
   "metadata": {},
   "outputs": [],
   "source": [
    "## Remove the numbers from  text"
   ]
  },
  {
   "cell_type": "code",
   "execution_count": 84,
   "id": "c84ced6b-fa26-4e2c-9425-6d4875246d82",
   "metadata": {},
   "outputs": [
    {
     "name": "stderr",
     "output_type": "stream",
     "text": [
      "<>:1: SyntaxWarning: invalid escape sequence '\\d'\n",
      "<>:2: SyntaxWarning: invalid escape sequence '\\d'\n",
      "<>:3: SyntaxWarning: invalid escape sequence '\\d'\n",
      "<>:4: SyntaxWarning: invalid escape sequence '\\d'\n",
      "<>:5: SyntaxWarning: invalid escape sequence '\\d'\n",
      "<>:1: SyntaxWarning: invalid escape sequence '\\d'\n",
      "<>:2: SyntaxWarning: invalid escape sequence '\\d'\n",
      "<>:3: SyntaxWarning: invalid escape sequence '\\d'\n",
      "<>:4: SyntaxWarning: invalid escape sequence '\\d'\n",
      "<>:5: SyntaxWarning: invalid escape sequence '\\d'\n",
      "C:\\Users\\THIS PC\\AppData\\Local\\Temp\\ipykernel_11980\\3529597117.py:1: SyntaxWarning: invalid escape sequence '\\d'\n",
      "  train_set['title']=train_set['title'].str.replace('\\d+','',regex=True)\n",
      "C:\\Users\\THIS PC\\AppData\\Local\\Temp\\ipykernel_11980\\3529597117.py:2: SyntaxWarning: invalid escape sequence '\\d'\n",
      "  train_set['text']=train_set['text'].str.replace('\\d+','',regex=True)\n",
      "C:\\Users\\THIS PC\\AppData\\Local\\Temp\\ipykernel_11980\\3529597117.py:3: SyntaxWarning: invalid escape sequence '\\d'\n",
      "  train_set['source']=train_set['source'].str.replace('\\d+','',regex=True)\n",
      "C:\\Users\\THIS PC\\AppData\\Local\\Temp\\ipykernel_11980\\3529597117.py:4: SyntaxWarning: invalid escape sequence '\\d'\n",
      "  train_set['author']=train_set['author'].str.replace('\\d+','',regex=True)\n",
      "C:\\Users\\THIS PC\\AppData\\Local\\Temp\\ipykernel_11980\\3529597117.py:5: SyntaxWarning: invalid escape sequence '\\d'\n",
      "  train_set['category']=train_set['category'].str.replace('\\d+','',regex=True)\n"
     ]
    }
   ],
   "source": [
    "train_set['title']=train_set['title'].str.replace('\\d+','',regex=True)\n",
    "train_set['text']=train_set['text'].str.replace('\\d+','',regex=True)\n",
    "train_set['source']=train_set['source'].str.replace('\\d+','',regex=True)\n",
    "train_set['author']=train_set['author'].str.replace('\\d+','',regex=True)\n",
    "train_set['category']=train_set['category'].str.replace('\\d+','',regex=True)\n"
   ]
  },
  {
   "cell_type": "code",
   "execution_count": 85,
   "id": "3bf621bb-f796-4eec-aadc-cbe83b2eb9dc",
   "metadata": {},
   "outputs": [
    {
     "data": {
      "text/html": [
       "<div>\n",
       "<style scoped>\n",
       "    .dataframe tbody tr th:only-of-type {\n",
       "        vertical-align: middle;\n",
       "    }\n",
       "\n",
       "    .dataframe tbody tr th {\n",
       "        vertical-align: top;\n",
       "    }\n",
       "\n",
       "    .dataframe thead th {\n",
       "        text-align: right;\n",
       "    }\n",
       "</style>\n",
       "<table border=\"1\" class=\"dataframe\">\n",
       "  <thead>\n",
       "    <tr style=\"text-align: right;\">\n",
       "      <th></th>\n",
       "      <th>title</th>\n",
       "      <th>text</th>\n",
       "      <th>date</th>\n",
       "      <th>source</th>\n",
       "      <th>author</th>\n",
       "      <th>category</th>\n",
       "      <th>label</th>\n",
       "    </tr>\n",
       "  </thead>\n",
       "  <tbody>\n",
       "    <tr>\n",
       "      <th>5894</th>\n",
       "      <td>age important scientist question why onto acti...</td>\n",
       "      <td>image morning whether thought seven office kit...</td>\n",
       "      <td>2022-05-30</td>\n",
       "      <td>ny times</td>\n",
       "      <td>kimberly martinez</td>\n",
       "      <td>politics</td>\n",
       "      <td>real</td>\n",
       "    </tr>\n",
       "    <tr>\n",
       "      <th>3728</th>\n",
       "      <td>trial candidate travel pretty agreement attack...</td>\n",
       "      <td>recent item success plant dark however however...</td>\n",
       "      <td>2024-10-20</td>\n",
       "      <td>bbc</td>\n",
       "      <td>mr daniel bailey dds</td>\n",
       "      <td>sports</td>\n",
       "      <td>real</td>\n",
       "    </tr>\n",
       "    <tr>\n",
       "      <th>8958</th>\n",
       "      <td>animal painting interest i society air east total</td>\n",
       "      <td>yourself religious point hour mrs cover case s...</td>\n",
       "      <td>2024-08-25</td>\n",
       "      <td>ny times</td>\n",
       "      <td>kimberly wagner</td>\n",
       "      <td>politics</td>\n",
       "      <td>fake</td>\n",
       "    </tr>\n",
       "    <tr>\n",
       "      <th>7671</th>\n",
       "      <td>improve surface face today fact</td>\n",
       "      <td>road listen add question main head worker gene...</td>\n",
       "      <td>2023-10-07</td>\n",
       "      <td>cnn</td>\n",
       "      <td>charlene harrington</td>\n",
       "      <td>entertainment</td>\n",
       "      <td>fake</td>\n",
       "    </tr>\n",
       "    <tr>\n",
       "      <th>5999</th>\n",
       "      <td>family pressure common behavior</td>\n",
       "      <td>low indicate education support brother suffer ...</td>\n",
       "      <td>2025-03-17</td>\n",
       "      <td>fox news</td>\n",
       "      <td>robert gardner</td>\n",
       "      <td>politics</td>\n",
       "      <td>real</td>\n",
       "    </tr>\n",
       "  </tbody>\n",
       "</table>\n",
       "</div>"
      ],
      "text/plain": [
       "                                                  title  \\\n",
       "5894  age important scientist question why onto acti...   \n",
       "3728  trial candidate travel pretty agreement attack...   \n",
       "8958  animal painting interest i society air east total   \n",
       "7671                    improve surface face today fact   \n",
       "5999                    family pressure common behavior   \n",
       "\n",
       "                                                   text        date    source  \\\n",
       "5894  image morning whether thought seven office kit...  2022-05-30  ny times   \n",
       "3728  recent item success plant dark however however...  2024-10-20       bbc   \n",
       "8958  yourself religious point hour mrs cover case s...  2024-08-25  ny times   \n",
       "7671  road listen add question main head worker gene...  2023-10-07       cnn   \n",
       "5999  low indicate education support brother suffer ...  2025-03-17  fox news   \n",
       "\n",
       "                    author       category label  \n",
       "5894     kimberly martinez       politics  real  \n",
       "3728  mr daniel bailey dds         sports  real  \n",
       "8958       kimberly wagner       politics  fake  \n",
       "7671   charlene harrington  entertainment  fake  \n",
       "5999        robert gardner       politics  real  "
      ]
     },
     "execution_count": 85,
     "metadata": {},
     "output_type": "execute_result"
    }
   ],
   "source": [
    "train_set.head()"
   ]
  },
  {
   "cell_type": "code",
   "execution_count": null,
   "id": "0dddfcee-deeb-4cb7-9495-f43d1d864deb",
   "metadata": {},
   "outputs": [],
   "source": []
  }
 ],
 "metadata": {
  "kernelspec": {
   "display_name": "Python 3 (ipykernel)",
   "language": "python",
   "name": "python3"
  },
  "language_info": {
   "codemirror_mode": {
    "name": "ipython",
    "version": 3
   },
   "file_extension": ".py",
   "mimetype": "text/x-python",
   "name": "python",
   "nbconvert_exporter": "python",
   "pygments_lexer": "ipython3",
   "version": "3.12.1"
  }
 },
 "nbformat": 4,
 "nbformat_minor": 5
}
