{
 "cells": [
  {
   "cell_type": "code",
   "execution_count": 1,
   "id": "a7b2aa64-ff93-4ded-9720-47598150687a",
   "metadata": {},
   "outputs": [],
   "source": [
    "import pandas as pd\n",
    "import seaborn as sns"
   ]
  },
  {
   "cell_type": "code",
   "execution_count": 2,
   "id": "9abd5bf9-7773-4a00-a75d-339a08baa12e",
   "metadata": {},
   "outputs": [
    {
     "data": {
      "text/html": [
       "<div>\n",
       "<style scoped>\n",
       "    .dataframe tbody tr th:only-of-type {\n",
       "        vertical-align: middle;\n",
       "    }\n",
       "\n",
       "    .dataframe tbody tr th {\n",
       "        vertical-align: top;\n",
       "    }\n",
       "\n",
       "    .dataframe thead th {\n",
       "        text-align: right;\n",
       "    }\n",
       "</style>\n",
       "<table border=\"1\" class=\"dataframe\">\n",
       "  <thead>\n",
       "    <tr style=\"text-align: right;\">\n",
       "      <th></th>\n",
       "      <th>title</th>\n",
       "      <th>text</th>\n",
       "      <th>date</th>\n",
       "      <th>source</th>\n",
       "      <th>author</th>\n",
       "      <th>category</th>\n",
       "      <th>label</th>\n",
       "    </tr>\n",
       "  </thead>\n",
       "  <tbody>\n",
       "    <tr>\n",
       "      <th>0</th>\n",
       "      <td>Foreign Democrat final.</td>\n",
       "      <td>more tax development both store agreement lawy...</td>\n",
       "      <td>2023-03-10</td>\n",
       "      <td>NY Times</td>\n",
       "      <td>Paula George</td>\n",
       "      <td>Politics</td>\n",
       "      <td>real</td>\n",
       "    </tr>\n",
       "    <tr>\n",
       "      <th>1</th>\n",
       "      <td>To offer down resource great point.</td>\n",
       "      <td>probably guess western behind likely next inve...</td>\n",
       "      <td>2022-05-25</td>\n",
       "      <td>Fox News</td>\n",
       "      <td>Joseph Hill</td>\n",
       "      <td>Politics</td>\n",
       "      <td>fake</td>\n",
       "    </tr>\n",
       "    <tr>\n",
       "      <th>2</th>\n",
       "      <td>Himself church myself carry.</td>\n",
       "      <td>them identify forward present success risk sev...</td>\n",
       "      <td>2022-09-01</td>\n",
       "      <td>CNN</td>\n",
       "      <td>Julia Robinson</td>\n",
       "      <td>Business</td>\n",
       "      <td>fake</td>\n",
       "    </tr>\n",
       "    <tr>\n",
       "      <th>3</th>\n",
       "      <td>You unit its should.</td>\n",
       "      <td>phone which item yard Republican safe where po...</td>\n",
       "      <td>2023-02-07</td>\n",
       "      <td>Reuters</td>\n",
       "      <td>Mr. David Foster DDS</td>\n",
       "      <td>Science</td>\n",
       "      <td>fake</td>\n",
       "    </tr>\n",
       "    <tr>\n",
       "      <th>4</th>\n",
       "      <td>Billion believe employee summer how.</td>\n",
       "      <td>wonder myself fact difficult course forget exa...</td>\n",
       "      <td>2023-04-03</td>\n",
       "      <td>CNN</td>\n",
       "      <td>Austin Walker</td>\n",
       "      <td>Technology</td>\n",
       "      <td>fake</td>\n",
       "    </tr>\n",
       "  </tbody>\n",
       "</table>\n",
       "</div>"
      ],
      "text/plain": [
       "                                  title  \\\n",
       "0               Foreign Democrat final.   \n",
       "1   To offer down resource great point.   \n",
       "2          Himself church myself carry.   \n",
       "3                  You unit its should.   \n",
       "4  Billion believe employee summer how.   \n",
       "\n",
       "                                                text        date    source  \\\n",
       "0  more tax development both store agreement lawy...  2023-03-10  NY Times   \n",
       "1  probably guess western behind likely next inve...  2022-05-25  Fox News   \n",
       "2  them identify forward present success risk sev...  2022-09-01       CNN   \n",
       "3  phone which item yard Republican safe where po...  2023-02-07   Reuters   \n",
       "4  wonder myself fact difficult course forget exa...  2023-04-03       CNN   \n",
       "\n",
       "                 author    category label  \n",
       "0          Paula George    Politics  real  \n",
       "1           Joseph Hill    Politics  fake  \n",
       "2        Julia Robinson    Business  fake  \n",
       "3  Mr. David Foster DDS     Science  fake  \n",
       "4         Austin Walker  Technology  fake  "
      ]
     },
     "execution_count": 2,
     "metadata": {},
     "output_type": "execute_result"
    }
   ],
   "source": [
    "## Import and read the first five records of dataset\n",
    "data=pd.read_csv(\"fake_news_dataset.csv\")\n",
    "data.head()"
   ]
  },
  {
   "cell_type": "code",
   "execution_count": 3,
   "id": "9262301f-cad7-444b-a24b-f438338c20d9",
   "metadata": {},
   "outputs": [],
   "source": [
    "## check the  data types of each columns of dataset"
   ]
  },
  {
   "cell_type": "code",
   "execution_count": 4,
   "id": "ef07962d-3f2d-4b4d-a9f7-0c60deec5de4",
   "metadata": {},
   "outputs": [
    {
     "name": "stdout",
     "output_type": "stream",
     "text": [
      "<class 'pandas.core.frame.DataFrame'>\n",
      "RangeIndex: 20000 entries, 0 to 19999\n",
      "Data columns (total 7 columns):\n",
      " #   Column    Non-Null Count  Dtype \n",
      "---  ------    --------------  ----- \n",
      " 0   title     20000 non-null  object\n",
      " 1   text      20000 non-null  object\n",
      " 2   date      20000 non-null  object\n",
      " 3   source    19000 non-null  object\n",
      " 4   author    19000 non-null  object\n",
      " 5   category  20000 non-null  object\n",
      " 6   label     20000 non-null  object\n",
      "dtypes: object(7)\n",
      "memory usage: 1.1+ MB\n"
     ]
    }
   ],
   "source": [
    "data.info()"
   ]
  },
  {
   "cell_type": "code",
   "execution_count": 5,
   "id": "f2754e46-5f7a-4cc7-8e69-eeb8e7bdc0d9",
   "metadata": {},
   "outputs": [],
   "source": [
    "## Get the number of  rows in the dataset"
   ]
  },
  {
   "cell_type": "code",
   "execution_count": 6,
   "id": "76fa719b-2bb7-4e9a-aa68-2b646c947fe2",
   "metadata": {},
   "outputs": [
    {
     "data": {
      "text/plain": [
       "title       20000\n",
       "text        20000\n",
       "date        20000\n",
       "source      19000\n",
       "author      19000\n",
       "category    20000\n",
       "label       20000\n",
       "dtype: int64"
      ]
     },
     "execution_count": 6,
     "metadata": {},
     "output_type": "execute_result"
    }
   ],
   "source": [
    "data.count()"
   ]
  },
  {
   "cell_type": "code",
   "execution_count": 7,
   "id": "a41f17a0-16b5-4a24-9257-8e597604dc5c",
   "metadata": {},
   "outputs": [],
   "source": [
    "## Check  the null values are their or not"
   ]
  },
  {
   "cell_type": "code",
   "execution_count": 8,
   "id": "319603c5-48bb-4832-99c2-e5b341188ae5",
   "metadata": {},
   "outputs": [
    {
     "data": {
      "text/plain": [
       "title          0\n",
       "text           0\n",
       "date           0\n",
       "source      1000\n",
       "author      1000\n",
       "category       0\n",
       "label          0\n",
       "dtype: int64"
      ]
     },
     "execution_count": 8,
     "metadata": {},
     "output_type": "execute_result"
    }
   ],
   "source": [
    "data.isnull().sum()"
   ]
  },
  {
   "cell_type": "code",
   "execution_count": 9,
   "id": "662e232f-171c-454c-8cce-291489bf4505",
   "metadata": {},
   "outputs": [],
   "source": [
    "##  check the duplicate values"
   ]
  },
  {
   "cell_type": "code",
   "execution_count": 10,
   "id": "8f159a7d-2b6b-4b38-b568-ca4e9085d500",
   "metadata": {},
   "outputs": [
    {
     "data": {
      "text/plain": [
       "0"
      ]
     },
     "execution_count": 10,
     "metadata": {},
     "output_type": "execute_result"
    }
   ],
   "source": [
    "data.duplicated().sum()"
   ]
  },
  {
   "cell_type": "code",
   "execution_count": 11,
   "id": "4c09575c-3e6b-4354-9f15-a6017bdb59f3",
   "metadata": {},
   "outputs": [],
   "source": [
    "## Split the whole dataset into train and test set"
   ]
  },
  {
   "cell_type": "code",
   "execution_count": 12,
   "id": "2398f684-2fda-4011-ae23-15f8a7db960f",
   "metadata": {},
   "outputs": [],
   "source": [
    "from sklearn.model_selection import train_test_split\n",
    "\n",
    "train_set,test_set=train_test_split(data, test_size=0.2, random_state=42)"
   ]
  },
  {
   "cell_type": "code",
   "execution_count": 13,
   "id": "e2a450ee-6619-49b5-9599-bdb3623f0698",
   "metadata": {},
   "outputs": [
    {
     "name": "stdout",
     "output_type": "stream",
     "text": [
      "(16000, 7) (4000, 7)\n"
     ]
    }
   ],
   "source": [
    "print(train_set.shape,test_set.shape)"
   ]
  },
  {
   "cell_type": "markdown",
   "id": "4903bb61-4a5a-46be-80e2-4a8ddf68becc",
   "metadata": {},
   "source": [
    "## Explotary Data Analysis  (EDA)"
   ]
  },
  {
   "cell_type": "code",
   "execution_count": 14,
   "id": "8dfd334f-b942-4122-83d5-c13a934585d3",
   "metadata": {},
   "outputs": [],
   "source": [
    "## check the null values of train_set"
   ]
  },
  {
   "cell_type": "code",
   "execution_count": 15,
   "id": "a48d6e0c-c1a2-43cf-9e8e-f0a7da5bb7ac",
   "metadata": {},
   "outputs": [
    {
     "data": {
      "text/plain": [
       "title         0\n",
       "text          0\n",
       "date          0\n",
       "source      782\n",
       "author      811\n",
       "category      0\n",
       "label         0\n",
       "dtype: int64"
      ]
     },
     "execution_count": 15,
     "metadata": {},
     "output_type": "execute_result"
    }
   ],
   "source": [
    "train_set.isnull().sum()"
   ]
  },
  {
   "cell_type": "code",
   "execution_count": 16,
   "id": "0fd6c12d-8220-40f2-883a-5b5fc5d2bc25",
   "metadata": {},
   "outputs": [],
   "source": [
    "## check the duplicate values of  train_set"
   ]
  },
  {
   "cell_type": "code",
   "execution_count": 17,
   "id": "00c3d6da-56e5-461b-8f82-b7662043b246",
   "metadata": {},
   "outputs": [
    {
     "data": {
      "text/plain": [
       "0"
      ]
     },
     "execution_count": 17,
     "metadata": {},
     "output_type": "execute_result"
    }
   ],
   "source": [
    "train_set.duplicated().sum()"
   ]
  },
  {
   "cell_type": "code",
   "execution_count": 18,
   "id": "84a93317-8595-40b3-be1a-3f0c476bf05a",
   "metadata": {},
   "outputs": [],
   "source": [
    "## check the value counts of  source and  author solumns"
   ]
  },
  {
   "cell_type": "code",
   "execution_count": 19,
   "id": "364c8be8-4ede-4ff4-be6c-02e5cb3fc475",
   "metadata": {},
   "outputs": [
    {
     "data": {
      "text/plain": [
       "source\n",
       "Daily News      1970\n",
       "The Guardian    1930\n",
       "BBC             1913\n",
       "CNN             1898\n",
       "Fox News        1890\n",
       "Reuters         1886\n",
       "NY Times        1874\n",
       "Global Times    1857\n",
       "Name: count, dtype: int64"
      ]
     },
     "execution_count": 19,
     "metadata": {},
     "output_type": "execute_result"
    }
   ],
   "source": [
    "train_set['source'].value_counts()"
   ]
  },
  {
   "cell_type": "code",
   "execution_count": 20,
   "id": "f442bae6-e354-4613-a486-19a7450bf1b5",
   "metadata": {},
   "outputs": [
    {
     "data": {
      "text/plain": [
       "author\n",
       "Michael Smith            10\n",
       "John Smith                9\n",
       "Christopher Johnson       7\n",
       "Jennifer Davis            7\n",
       "John Brown                6\n",
       "                         ..\n",
       "Wendy Mccullough          1\n",
       "Jonathan Curtis           1\n",
       "Rodney Young              1\n",
       "Samantha Gutierrez        1\n",
       "Mr. Ernest Harris Jr.     1\n",
       "Name: count, Length: 13847, dtype: int64"
      ]
     },
     "execution_count": 20,
     "metadata": {},
     "output_type": "execute_result"
    }
   ],
   "source": [
    "train_set['author'].value_counts()"
   ]
  },
  {
   "cell_type": "code",
   "execution_count": 21,
   "id": "8fb45f60-cba6-4073-9b5a-c66a65c25cdd",
   "metadata": {},
   "outputs": [],
   "source": [
    "## fill the null values"
   ]
  },
  {
   "cell_type": "code",
   "execution_count": 22,
   "id": "a5a4767d-e2eb-40e6-a029-8572fd53c4b2",
   "metadata": {},
   "outputs": [
    {
     "name": "stderr",
     "output_type": "stream",
     "text": [
      "C:\\Users\\THIS PC\\AppData\\Local\\Temp\\ipykernel_34456\\3912575003.py:1: FutureWarning: A value is trying to be set on a copy of a DataFrame or Series through chained assignment using an inplace method.\n",
      "The behavior will change in pandas 3.0. This inplace method will never work because the intermediate object on which we are setting values always behaves as a copy.\n",
      "\n",
      "For example, when doing 'df[col].method(value, inplace=True)', try using 'df.method({col: value}, inplace=True)' or df[col] = df[col].method(value) instead, to perform the operation inplace on the original object.\n",
      "\n",
      "\n",
      "  train_set['source'].fillna('Global Times', inplace=True)\n"
     ]
    }
   ],
   "source": [
    "train_set['source'].fillna('Global Times', inplace=True)"
   ]
  },
  {
   "cell_type": "code",
   "execution_count": 23,
   "id": "a94d3ce3-6453-4b3c-80bd-0709437abbcb",
   "metadata": {},
   "outputs": [
    {
     "data": {
      "text/plain": [
       "title         0\n",
       "text          0\n",
       "date          0\n",
       "source        0\n",
       "author      811\n",
       "category      0\n",
       "label         0\n",
       "dtype: int64"
      ]
     },
     "execution_count": 23,
     "metadata": {},
     "output_type": "execute_result"
    }
   ],
   "source": [
    "train_set.isnull().sum()"
   ]
  },
  {
   "cell_type": "code",
   "execution_count": 24,
   "id": "8853a11e-e8c2-4644-b0b0-b3bd7d9bffa9",
   "metadata": {},
   "outputs": [
    {
     "name": "stderr",
     "output_type": "stream",
     "text": [
      "C:\\Users\\THIS PC\\AppData\\Local\\Temp\\ipykernel_34456\\546374671.py:1: FutureWarning: A value is trying to be set on a copy of a DataFrame or Series through chained assignment using an inplace method.\n",
      "The behavior will change in pandas 3.0. This inplace method will never work because the intermediate object on which we are setting values always behaves as a copy.\n",
      "\n",
      "For example, when doing 'df[col].method(value, inplace=True)', try using 'df.method({col: value}, inplace=True)' or df[col] = df[col].method(value) instead, to perform the operation inplace on the original object.\n",
      "\n",
      "\n",
      "  train_set['author'].fillna('Wendy Mccullough', inplace=True)\n"
     ]
    }
   ],
   "source": [
    "train_set['author'].fillna('Wendy Mccullough', inplace=True)"
   ]
  },
  {
   "cell_type": "code",
   "execution_count": 25,
   "id": "a64fe61f-5c8f-4827-a8a3-4de9fea7c29b",
   "metadata": {},
   "outputs": [
    {
     "data": {
      "text/plain": [
       "title       0\n",
       "text        0\n",
       "date        0\n",
       "source      0\n",
       "author      0\n",
       "category    0\n",
       "label       0\n",
       "dtype: int64"
      ]
     },
     "execution_count": 25,
     "metadata": {},
     "output_type": "execute_result"
    }
   ],
   "source": [
    "train_set.isnull().sum()"
   ]
  },
  {
   "cell_type": "code",
   "execution_count": 26,
   "id": "03956ff0-fbc7-4d09-adca-811b8304af41",
   "metadata": {},
   "outputs": [
    {
     "data": {
      "text/plain": [
       "title       0\n",
       "text        0\n",
       "date        0\n",
       "source      0\n",
       "author      0\n",
       "category    0\n",
       "label       0\n",
       "dtype: int64"
      ]
     },
     "execution_count": 26,
     "metadata": {},
     "output_type": "execute_result"
    }
   ],
   "source": [
    "train_set.isnull().sum()"
   ]
  },
  {
   "cell_type": "code",
   "execution_count": 27,
   "id": "5a8c5dce-1078-4a76-8e5b-9abff019e20e",
   "metadata": {},
   "outputs": [],
   "source": [
    "## check the duplicate values again"
   ]
  },
  {
   "cell_type": "code",
   "execution_count": 28,
   "id": "d064efaf-299e-4cd3-889a-3a34917d4710",
   "metadata": {},
   "outputs": [
    {
     "data": {
      "text/plain": [
       "0"
      ]
     },
     "execution_count": 28,
     "metadata": {},
     "output_type": "execute_result"
    }
   ],
   "source": [
    "train_set.duplicated().sum()"
   ]
  },
  {
   "cell_type": "markdown",
   "id": "1ff1982c-b649-49a4-8eb6-83f2b994cf3a",
   "metadata": {},
   "source": [
    "## Explotary Data Analysis (EDA)"
   ]
  },
  {
   "cell_type": "markdown",
   "id": "c9edfde2-e6d0-4c67-b37f-56a32a1deed6",
   "metadata": {},
   "source": [
    "#### Text Preprocessing"
   ]
  },
  {
   "cell_type": "code",
   "execution_count": 29,
   "id": "66e0b0a9-74b0-45ba-898e-bab44bcc8c40",
   "metadata": {},
   "outputs": [
    {
     "data": {
      "text/html": [
       "<div>\n",
       "<style scoped>\n",
       "    .dataframe tbody tr th:only-of-type {\n",
       "        vertical-align: middle;\n",
       "    }\n",
       "\n",
       "    .dataframe tbody tr th {\n",
       "        vertical-align: top;\n",
       "    }\n",
       "\n",
       "    .dataframe thead th {\n",
       "        text-align: right;\n",
       "    }\n",
       "</style>\n",
       "<table border=\"1\" class=\"dataframe\">\n",
       "  <thead>\n",
       "    <tr style=\"text-align: right;\">\n",
       "      <th></th>\n",
       "      <th>title</th>\n",
       "      <th>text</th>\n",
       "      <th>date</th>\n",
       "      <th>source</th>\n",
       "      <th>author</th>\n",
       "      <th>category</th>\n",
       "      <th>label</th>\n",
       "    </tr>\n",
       "  </thead>\n",
       "  <tbody>\n",
       "    <tr>\n",
       "      <th>5894</th>\n",
       "      <td>Age important scientist question why onto acti...</td>\n",
       "      <td>image morning whether thought seven office kit...</td>\n",
       "      <td>2022-05-30</td>\n",
       "      <td>NY Times</td>\n",
       "      <td>Kimberly Martinez</td>\n",
       "      <td>Politics</td>\n",
       "      <td>real</td>\n",
       "    </tr>\n",
       "    <tr>\n",
       "      <th>3728</th>\n",
       "      <td>Trial candidate travel pretty agreement attack...</td>\n",
       "      <td>recent item success plant dark however however...</td>\n",
       "      <td>2024-10-20</td>\n",
       "      <td>BBC</td>\n",
       "      <td>Mr. Daniel Bailey DDS</td>\n",
       "      <td>Sports</td>\n",
       "      <td>real</td>\n",
       "    </tr>\n",
       "    <tr>\n",
       "      <th>8958</th>\n",
       "      <td>Animal painting interest I society air east to...</td>\n",
       "      <td>yourself religious point hour Mrs cover case s...</td>\n",
       "      <td>2024-08-25</td>\n",
       "      <td>NY Times</td>\n",
       "      <td>Kimberly Wagner</td>\n",
       "      <td>Politics</td>\n",
       "      <td>fake</td>\n",
       "    </tr>\n",
       "    <tr>\n",
       "      <th>7671</th>\n",
       "      <td>Improve surface face today fact.</td>\n",
       "      <td>road listen add question main head worker gene...</td>\n",
       "      <td>2023-10-07</td>\n",
       "      <td>CNN</td>\n",
       "      <td>Charlene Harrington</td>\n",
       "      <td>Entertainment</td>\n",
       "      <td>fake</td>\n",
       "    </tr>\n",
       "    <tr>\n",
       "      <th>5999</th>\n",
       "      <td>Family pressure common behavior.</td>\n",
       "      <td>low indicate education support brother suffer ...</td>\n",
       "      <td>2025-03-17</td>\n",
       "      <td>Fox News</td>\n",
       "      <td>Robert Gardner</td>\n",
       "      <td>Politics</td>\n",
       "      <td>real</td>\n",
       "    </tr>\n",
       "  </tbody>\n",
       "</table>\n",
       "</div>"
      ],
      "text/plain": [
       "                                                  title  \\\n",
       "5894  Age important scientist question why onto acti...   \n",
       "3728  Trial candidate travel pretty agreement attack...   \n",
       "8958  Animal painting interest I society air east to...   \n",
       "7671                   Improve surface face today fact.   \n",
       "5999                   Family pressure common behavior.   \n",
       "\n",
       "                                                   text        date    source  \\\n",
       "5894  image morning whether thought seven office kit...  2022-05-30  NY Times   \n",
       "3728  recent item success plant dark however however...  2024-10-20       BBC   \n",
       "8958  yourself religious point hour Mrs cover case s...  2024-08-25  NY Times   \n",
       "7671  road listen add question main head worker gene...  2023-10-07       CNN   \n",
       "5999  low indicate education support brother suffer ...  2025-03-17  Fox News   \n",
       "\n",
       "                     author       category label  \n",
       "5894      Kimberly Martinez       Politics  real  \n",
       "3728  Mr. Daniel Bailey DDS         Sports  real  \n",
       "8958        Kimberly Wagner       Politics  fake  \n",
       "7671    Charlene Harrington  Entertainment  fake  \n",
       "5999         Robert Gardner       Politics  real  "
      ]
     },
     "execution_count": 29,
     "metadata": {},
     "output_type": "execute_result"
    }
   ],
   "source": [
    "train_set.head()"
   ]
  },
  {
   "cell_type": "code",
   "execution_count": 30,
   "id": "a8899e6d-2018-45a3-a533-c02675771ede",
   "metadata": {},
   "outputs": [],
   "source": [
    "#train_set['source'].value_counts()"
   ]
  },
  {
   "cell_type": "code",
   "execution_count": 31,
   "id": "badd9fc3-4810-48c2-b97e-f625e9def8d4",
   "metadata": {},
   "outputs": [],
   "source": [
    "#train_set['category'].value_counts()"
   ]
  },
  {
   "cell_type": "code",
   "execution_count": 32,
   "id": "f0890cf8-638a-4b25-a375-b24383248f36",
   "metadata": {},
   "outputs": [],
   "source": [
    "#train_set['category'].head(100)"
   ]
  },
  {
   "cell_type": "code",
   "execution_count": 33,
   "id": "b14df0b2-092d-40e6-a0f5-44c1a9a1e915",
   "metadata": {},
   "outputs": [],
   "source": [
    "#train_set.replace({'source':{'Daily News':0,'The Guardian':1,'BBC':3,'CNN':4,'Fox News':5,'Reuters':6,'NY Times':7,'Global Times':8}}, inplace=True)\n",
    "#train_set.replace({'cateogry':{'Health':1,'Entertainment':2,'Technology':3,'Business':4,'Sports':5,'Science':6,'Politics':7}},inplace=True)\n",
    "#train_set.head()"
   ]
  },
  {
   "cell_type": "code",
   "execution_count": 34,
   "id": "b0449d37-a531-46ac-8da6-ac032d2c96e9",
   "metadata": {},
   "outputs": [],
   "source": [
    "import re\n",
    "import string"
   ]
  },
  {
   "cell_type": "code",
   "execution_count": 35,
   "id": "edeb96ea-2246-416b-a29e-94ab97327b13",
   "metadata": {},
   "outputs": [
    {
     "data": {
      "text/plain": [
       "5894    image morning whether thought seven office kit...\n",
       "3728    recent item success plant dark however however...\n",
       "8958    yourself religious point hour Mrs cover case s...\n",
       "7671    road listen add question main head worker gene...\n",
       "5999    low indicate education support brother suffer ...\n",
       "Name: text, dtype: object"
      ]
     },
     "execution_count": 35,
     "metadata": {},
     "output_type": "execute_result"
    }
   ],
   "source": [
    "train_set['text'].head()"
   ]
  },
  {
   "cell_type": "code",
   "execution_count": 36,
   "id": "ae9312f1-512c-4e28-91b4-51b2912a87b8",
   "metadata": {},
   "outputs": [],
   "source": [
    "## Convert uppercase into lowercase"
   ]
  },
  {
   "cell_type": "code",
   "execution_count": 37,
   "id": "727c0183-1bdb-44fa-a1b4-4fe0366115d3",
   "metadata": {},
   "outputs": [],
   "source": [
    "train_set['text']=train_set['text'].apply(lambda x: \" \".join(x.lower() for x in x.split()))"
   ]
  },
  {
   "cell_type": "code",
   "execution_count": 38,
   "id": "1d5e1a5d-f872-45be-86b1-6f8a82fbdb9a",
   "metadata": {},
   "outputs": [
    {
     "data": {
      "text/plain": [
       "5894     image morning whether thought seven office kit...\n",
       "3728     recent item success plant dark however however...\n",
       "8958     yourself religious point hour mrs cover case s...\n",
       "7671     road listen add question main head worker gene...\n",
       "5999     low indicate education support brother suffer ...\n",
       "                               ...                        \n",
       "11284    middle form imagine item company good town for...\n",
       "11964    collection short section yourself involve real...\n",
       "5390     card compare magazine education evening energy...\n",
       "860      fire ask lose institution field candidate age ...\n",
       "15795    book easy morning report kind better start fig...\n",
       "Name: text, Length: 16000, dtype: object"
      ]
     },
     "execution_count": 38,
     "metadata": {},
     "output_type": "execute_result"
    }
   ],
   "source": [
    "train_set['text']"
   ]
  },
  {
   "cell_type": "code",
   "execution_count": 39,
   "id": "75eff3de-fb14-4d76-b1c8-27eaf6740281",
   "metadata": {},
   "outputs": [],
   "source": [
    "train_set['author']=train_set['author'].apply(lambda x: \" \".join(x.lower() for x in x.split()))"
   ]
  },
  {
   "cell_type": "code",
   "execution_count": 40,
   "id": "aadf958e-37dd-4e36-9aac-8b66d3f723fc",
   "metadata": {},
   "outputs": [
    {
     "data": {
      "text/plain": [
       "5894         kimberly martinez\n",
       "3728     mr. daniel bailey dds\n",
       "8958           kimberly wagner\n",
       "7671       charlene harrington\n",
       "5999            robert gardner\n",
       "                 ...          \n",
       "11284              cathy woods\n",
       "11964      nicholas williamson\n",
       "5390               david mcgee\n",
       "860           stephanie austin\n",
       "15795    mr. ernest harris jr.\n",
       "Name: author, Length: 16000, dtype: object"
      ]
     },
     "execution_count": 40,
     "metadata": {},
     "output_type": "execute_result"
    }
   ],
   "source": [
    "train_set['author']"
   ]
  },
  {
   "cell_type": "code",
   "execution_count": 41,
   "id": "608ab0ce-1171-4fd1-83a4-e3f0233f80b4",
   "metadata": {},
   "outputs": [],
   "source": [
    "train_set['title']=train_set['title'].apply(lambda x:\" \".join(x.lower() for x in x.split()))"
   ]
  },
  {
   "cell_type": "code",
   "execution_count": 42,
   "id": "d653ff45-6124-4378-bc7c-0199320821cb",
   "metadata": {},
   "outputs": [
    {
     "data": {
      "text/plain": [
       "5894     age important scientist question why onto acti...\n",
       "3728     trial candidate travel pretty agreement attack...\n",
       "8958     animal painting interest i society air east to...\n",
       "7671                      improve surface face today fact.\n",
       "5999                      family pressure common behavior.\n",
       "                               ...                        \n",
       "11284               surface address media speak join poor.\n",
       "11964     short theory live role pressure since point for.\n",
       "5390                       hope television artist improve.\n",
       "860           far choice test last generation friend rich.\n",
       "15795          audience four art section assume a may out.\n",
       "Name: title, Length: 16000, dtype: object"
      ]
     },
     "execution_count": 42,
     "metadata": {},
     "output_type": "execute_result"
    }
   ],
   "source": [
    "train_set['title']"
   ]
  },
  {
   "cell_type": "code",
   "execution_count": 43,
   "id": "90c7b4a1-d97d-4871-8d16-7a350cd5fa44",
   "metadata": {},
   "outputs": [],
   "source": [
    "train_set['author']=train_set['author'].apply(lambda x:\" \".join(x.lower() for x in x.split()))"
   ]
  },
  {
   "cell_type": "code",
   "execution_count": 44,
   "id": "3684ef86-e9aa-4772-b3b6-4ce5038713d3",
   "metadata": {},
   "outputs": [
    {
     "data": {
      "text/plain": [
       "5894         kimberly martinez\n",
       "3728     mr. daniel bailey dds\n",
       "8958           kimberly wagner\n",
       "7671       charlene harrington\n",
       "5999            robert gardner\n",
       "                 ...          \n",
       "11284              cathy woods\n",
       "11964      nicholas williamson\n",
       "5390               david mcgee\n",
       "860           stephanie austin\n",
       "15795    mr. ernest harris jr.\n",
       "Name: author, Length: 16000, dtype: object"
      ]
     },
     "execution_count": 44,
     "metadata": {},
     "output_type": "execute_result"
    }
   ],
   "source": [
    "train_set['author']"
   ]
  },
  {
   "cell_type": "code",
   "execution_count": 45,
   "id": "ff440feb-5db4-43f2-85d8-f060aa362e22",
   "metadata": {},
   "outputs": [],
   "source": [
    "train_set['source']=train_set['source'].apply(lambda x:\" \".join(x.lower() for x in  x.split()))"
   ]
  },
  {
   "cell_type": "code",
   "execution_count": 46,
   "id": "c356ab95-619d-4087-80bb-28a2dfb7661d",
   "metadata": {},
   "outputs": [
    {
     "data": {
      "text/plain": [
       "5894       ny times\n",
       "3728            bbc\n",
       "8958       ny times\n",
       "7671            cnn\n",
       "5999       fox news\n",
       "            ...    \n",
       "11284      fox news\n",
       "11964      ny times\n",
       "5390            bbc\n",
       "860      daily news\n",
       "15795      ny times\n",
       "Name: source, Length: 16000, dtype: object"
      ]
     },
     "execution_count": 46,
     "metadata": {},
     "output_type": "execute_result"
    }
   ],
   "source": [
    "train_set['source']"
   ]
  },
  {
   "cell_type": "code",
   "execution_count": 47,
   "id": "47412d7e-94cb-4432-b64d-409227d5b4bb",
   "metadata": {},
   "outputs": [],
   "source": [
    "train_set['category']=train_set['category'].apply(lambda x: \" \".join(x.lower() for x in x.split()))"
   ]
  },
  {
   "cell_type": "code",
   "execution_count": 48,
   "id": "135800af-c112-486e-af34-80b9c017210b",
   "metadata": {},
   "outputs": [
    {
     "data": {
      "text/plain": [
       "5894          politics\n",
       "3728            sports\n",
       "8958          politics\n",
       "7671     entertainment\n",
       "5999          politics\n",
       "             ...      \n",
       "11284         business\n",
       "11964         business\n",
       "5390           science\n",
       "860            science\n",
       "15795           sports\n",
       "Name: category, Length: 16000, dtype: object"
      ]
     },
     "execution_count": 48,
     "metadata": {},
     "output_type": "execute_result"
    }
   ],
   "source": [
    "train_set['category']"
   ]
  },
  {
   "cell_type": "code",
   "execution_count": 49,
   "id": "06923dff-e1a4-434f-8031-e9ad7c4c451f",
   "metadata": {},
   "outputs": [
    {
     "data": {
      "text/html": [
       "<div>\n",
       "<style scoped>\n",
       "    .dataframe tbody tr th:only-of-type {\n",
       "        vertical-align: middle;\n",
       "    }\n",
       "\n",
       "    .dataframe tbody tr th {\n",
       "        vertical-align: top;\n",
       "    }\n",
       "\n",
       "    .dataframe thead th {\n",
       "        text-align: right;\n",
       "    }\n",
       "</style>\n",
       "<table border=\"1\" class=\"dataframe\">\n",
       "  <thead>\n",
       "    <tr style=\"text-align: right;\">\n",
       "      <th></th>\n",
       "      <th>title</th>\n",
       "      <th>text</th>\n",
       "      <th>date</th>\n",
       "      <th>source</th>\n",
       "      <th>author</th>\n",
       "      <th>category</th>\n",
       "      <th>label</th>\n",
       "    </tr>\n",
       "  </thead>\n",
       "  <tbody>\n",
       "    <tr>\n",
       "      <th>5894</th>\n",
       "      <td>age important scientist question why onto acti...</td>\n",
       "      <td>image morning whether thought seven office kit...</td>\n",
       "      <td>2022-05-30</td>\n",
       "      <td>ny times</td>\n",
       "      <td>kimberly martinez</td>\n",
       "      <td>politics</td>\n",
       "      <td>real</td>\n",
       "    </tr>\n",
       "    <tr>\n",
       "      <th>3728</th>\n",
       "      <td>trial candidate travel pretty agreement attack...</td>\n",
       "      <td>recent item success plant dark however however...</td>\n",
       "      <td>2024-10-20</td>\n",
       "      <td>bbc</td>\n",
       "      <td>mr. daniel bailey dds</td>\n",
       "      <td>sports</td>\n",
       "      <td>real</td>\n",
       "    </tr>\n",
       "    <tr>\n",
       "      <th>8958</th>\n",
       "      <td>animal painting interest i society air east to...</td>\n",
       "      <td>yourself religious point hour mrs cover case s...</td>\n",
       "      <td>2024-08-25</td>\n",
       "      <td>ny times</td>\n",
       "      <td>kimberly wagner</td>\n",
       "      <td>politics</td>\n",
       "      <td>fake</td>\n",
       "    </tr>\n",
       "    <tr>\n",
       "      <th>7671</th>\n",
       "      <td>improve surface face today fact.</td>\n",
       "      <td>road listen add question main head worker gene...</td>\n",
       "      <td>2023-10-07</td>\n",
       "      <td>cnn</td>\n",
       "      <td>charlene harrington</td>\n",
       "      <td>entertainment</td>\n",
       "      <td>fake</td>\n",
       "    </tr>\n",
       "    <tr>\n",
       "      <th>5999</th>\n",
       "      <td>family pressure common behavior.</td>\n",
       "      <td>low indicate education support brother suffer ...</td>\n",
       "      <td>2025-03-17</td>\n",
       "      <td>fox news</td>\n",
       "      <td>robert gardner</td>\n",
       "      <td>politics</td>\n",
       "      <td>real</td>\n",
       "    </tr>\n",
       "  </tbody>\n",
       "</table>\n",
       "</div>"
      ],
      "text/plain": [
       "                                                  title  \\\n",
       "5894  age important scientist question why onto acti...   \n",
       "3728  trial candidate travel pretty agreement attack...   \n",
       "8958  animal painting interest i society air east to...   \n",
       "7671                   improve surface face today fact.   \n",
       "5999                   family pressure common behavior.   \n",
       "\n",
       "                                                   text        date    source  \\\n",
       "5894  image morning whether thought seven office kit...  2022-05-30  ny times   \n",
       "3728  recent item success plant dark however however...  2024-10-20       bbc   \n",
       "8958  yourself religious point hour mrs cover case s...  2024-08-25  ny times   \n",
       "7671  road listen add question main head worker gene...  2023-10-07       cnn   \n",
       "5999  low indicate education support brother suffer ...  2025-03-17  fox news   \n",
       "\n",
       "                     author       category label  \n",
       "5894      kimberly martinez       politics  real  \n",
       "3728  mr. daniel bailey dds         sports  real  \n",
       "8958        kimberly wagner       politics  fake  \n",
       "7671    charlene harrington  entertainment  fake  \n",
       "5999         robert gardner       politics  real  "
      ]
     },
     "execution_count": 49,
     "metadata": {},
     "output_type": "execute_result"
    }
   ],
   "source": [
    "train_set.head()"
   ]
  },
  {
   "cell_type": "code",
   "execution_count": 50,
   "id": "ed066093-de7c-4dfe-ab23-9f9efec45b17",
   "metadata": {},
   "outputs": [],
   "source": [
    "## Remove the links"
   ]
  },
  {
   "cell_type": "code",
   "execution_count": 51,
   "id": "484769b9-6530-4710-b90e-f75b25543ab7",
   "metadata": {},
   "outputs": [],
   "source": [
    "train_set['title']=train_set['title'].apply(lambda x: \" \".join(re.sub(r'https?:\\/\\/.*[\\r\\n]*','',x,flags=re.MULTILINE) for x in x.split()))"
   ]
  },
  {
   "cell_type": "code",
   "execution_count": 52,
   "id": "18cb7a47-dada-410c-b5a0-69728c12ae4e",
   "metadata": {},
   "outputs": [
    {
     "data": {
      "text/plain": [
       "5894     age important scientist question why onto acti...\n",
       "3728     trial candidate travel pretty agreement attack...\n",
       "8958     animal painting interest i society air east to...\n",
       "7671                      improve surface face today fact.\n",
       "5999                      family pressure common behavior.\n",
       "                               ...                        \n",
       "11284               surface address media speak join poor.\n",
       "11964     short theory live role pressure since point for.\n",
       "5390                       hope television artist improve.\n",
       "860           far choice test last generation friend rich.\n",
       "15795          audience four art section assume a may out.\n",
       "Name: title, Length: 16000, dtype: object"
      ]
     },
     "execution_count": 52,
     "metadata": {},
     "output_type": "execute_result"
    }
   ],
   "source": [
    "train_set['title']"
   ]
  },
  {
   "cell_type": "code",
   "execution_count": 53,
   "id": "45983acf-a6e8-4924-be8d-088b0ec9a8ca",
   "metadata": {},
   "outputs": [],
   "source": [
    "train_set['text']=train_set['text'].apply(lambda x: \" \".join(re.sub(r'https?\\/\\/.*[\\r\\n]*','',x,flags=re.MULTILINE) for x in x.split()))"
   ]
  },
  {
   "cell_type": "code",
   "execution_count": 54,
   "id": "18c7bbb6-4b33-44d8-bff5-6690ad7ad9cb",
   "metadata": {},
   "outputs": [
    {
     "data": {
      "text/plain": [
       "5894     image morning whether thought seven office kit...\n",
       "3728     recent item success plant dark however however...\n",
       "8958     yourself religious point hour mrs cover case s...\n",
       "7671     road listen add question main head worker gene...\n",
       "5999     low indicate education support brother suffer ...\n",
       "                               ...                        \n",
       "11284    middle form imagine item company good town for...\n",
       "11964    collection short section yourself involve real...\n",
       "5390     card compare magazine education evening energy...\n",
       "860      fire ask lose institution field candidate age ...\n",
       "15795    book easy morning report kind better start fig...\n",
       "Name: text, Length: 16000, dtype: object"
      ]
     },
     "execution_count": 54,
     "metadata": {},
     "output_type": "execute_result"
    }
   ],
   "source": [
    "train_set['text']"
   ]
  },
  {
   "cell_type": "code",
   "execution_count": 55,
   "id": "681d3ec0-afbb-4a53-ae2d-a0fc352d5dc0",
   "metadata": {},
   "outputs": [],
   "source": [
    "train_set['source']=train_set['source'].apply(lambda x: \" \".join(re.sub(r'https?\\/\\/.*[\\r\\n]*','',x,flags=re.MULTILINE) for x in x.split()))"
   ]
  },
  {
   "cell_type": "code",
   "execution_count": 56,
   "id": "5ea69c3b-f7f0-48f4-b09f-91b29ef86a6e",
   "metadata": {},
   "outputs": [
    {
     "data": {
      "text/plain": [
       "5894       ny times\n",
       "3728            bbc\n",
       "8958       ny times\n",
       "7671            cnn\n",
       "5999       fox news\n",
       "            ...    \n",
       "11284      fox news\n",
       "11964      ny times\n",
       "5390            bbc\n",
       "860      daily news\n",
       "15795      ny times\n",
       "Name: source, Length: 16000, dtype: object"
      ]
     },
     "execution_count": 56,
     "metadata": {},
     "output_type": "execute_result"
    }
   ],
   "source": [
    "train_set['source']"
   ]
  },
  {
   "cell_type": "code",
   "execution_count": 57,
   "id": "620f4843-3595-42ad-a293-b415554744bf",
   "metadata": {},
   "outputs": [],
   "source": [
    "train_set['author']=train_set['author'].apply(lambda x:\" \".join(re.sub(r'https?\\/\\/.*[\\r\\n]*','',x,flags=re.MULTILINE) for x in x.split()))"
   ]
  },
  {
   "cell_type": "code",
   "execution_count": 58,
   "id": "5d25d8d8-2565-4074-9ff0-5168032c9087",
   "metadata": {},
   "outputs": [
    {
     "data": {
      "text/plain": [
       "5894         kimberly martinez\n",
       "3728     mr. daniel bailey dds\n",
       "8958           kimberly wagner\n",
       "7671       charlene harrington\n",
       "5999            robert gardner\n",
       "                 ...          \n",
       "11284              cathy woods\n",
       "11964      nicholas williamson\n",
       "5390               david mcgee\n",
       "860           stephanie austin\n",
       "15795    mr. ernest harris jr.\n",
       "Name: author, Length: 16000, dtype: object"
      ]
     },
     "execution_count": 58,
     "metadata": {},
     "output_type": "execute_result"
    }
   ],
   "source": [
    "train_set['author']"
   ]
  },
  {
   "cell_type": "code",
   "execution_count": 59,
   "id": "f180c6a7-374f-419f-903b-72ff75370ca2",
   "metadata": {},
   "outputs": [],
   "source": [
    "train_set['category']=train_set['category'].apply(lambda x: \" \".join(re.sub(r'https?\\/\\/.*[\\r\\n]*','',x,flags=re.MULTILINE) for x in x.split()))"
   ]
  },
  {
   "cell_type": "code",
   "execution_count": 60,
   "id": "7cbf5d3a-d933-413d-aa7a-04d94d5711be",
   "metadata": {},
   "outputs": [
    {
     "data": {
      "text/plain": [
       "5894          politics\n",
       "3728            sports\n",
       "8958          politics\n",
       "7671     entertainment\n",
       "5999          politics\n",
       "             ...      \n",
       "11284         business\n",
       "11964         business\n",
       "5390           science\n",
       "860            science\n",
       "15795           sports\n",
       "Name: category, Length: 16000, dtype: object"
      ]
     },
     "execution_count": 60,
     "metadata": {},
     "output_type": "execute_result"
    }
   ],
   "source": [
    "train_set['category']"
   ]
  },
  {
   "cell_type": "code",
   "execution_count": 61,
   "id": "47b4f707-c41f-4c5b-96d1-b6aa74f0e631",
   "metadata": {},
   "outputs": [],
   "source": [
    "## Remove the puncutations from text"
   ]
  },
  {
   "cell_type": "code",
   "execution_count": 62,
   "id": "edb672d6-f56e-4648-ba7e-959c70889955",
   "metadata": {},
   "outputs": [
    {
     "data": {
      "text/plain": [
       "'!\"#$%&\\'()*+,-./:;<=>?@[\\\\]^_`{|}~'"
      ]
     },
     "execution_count": 62,
     "metadata": {},
     "output_type": "execute_result"
    }
   ],
   "source": [
    "string.punctuation"
   ]
  },
  {
   "cell_type": "code",
   "execution_count": 63,
   "id": "f2291a1b-bf90-4d05-b673-87cb6e5b325e",
   "metadata": {},
   "outputs": [
    {
     "data": {
      "text/html": [
       "<div>\n",
       "<style scoped>\n",
       "    .dataframe tbody tr th:only-of-type {\n",
       "        vertical-align: middle;\n",
       "    }\n",
       "\n",
       "    .dataframe tbody tr th {\n",
       "        vertical-align: top;\n",
       "    }\n",
       "\n",
       "    .dataframe thead th {\n",
       "        text-align: right;\n",
       "    }\n",
       "</style>\n",
       "<table border=\"1\" class=\"dataframe\">\n",
       "  <thead>\n",
       "    <tr style=\"text-align: right;\">\n",
       "      <th></th>\n",
       "      <th>title</th>\n",
       "      <th>text</th>\n",
       "      <th>date</th>\n",
       "      <th>source</th>\n",
       "      <th>author</th>\n",
       "      <th>category</th>\n",
       "      <th>label</th>\n",
       "    </tr>\n",
       "  </thead>\n",
       "  <tbody>\n",
       "    <tr>\n",
       "      <th>5894</th>\n",
       "      <td>age important scientist question why onto acti...</td>\n",
       "      <td>image morning whether thought seven office kit...</td>\n",
       "      <td>2022-05-30</td>\n",
       "      <td>ny times</td>\n",
       "      <td>kimberly martinez</td>\n",
       "      <td>politics</td>\n",
       "      <td>real</td>\n",
       "    </tr>\n",
       "    <tr>\n",
       "      <th>3728</th>\n",
       "      <td>trial candidate travel pretty agreement attack...</td>\n",
       "      <td>recent item success plant dark however however...</td>\n",
       "      <td>2024-10-20</td>\n",
       "      <td>bbc</td>\n",
       "      <td>mr. daniel bailey dds</td>\n",
       "      <td>sports</td>\n",
       "      <td>real</td>\n",
       "    </tr>\n",
       "    <tr>\n",
       "      <th>8958</th>\n",
       "      <td>animal painting interest i society air east to...</td>\n",
       "      <td>yourself religious point hour mrs cover case s...</td>\n",
       "      <td>2024-08-25</td>\n",
       "      <td>ny times</td>\n",
       "      <td>kimberly wagner</td>\n",
       "      <td>politics</td>\n",
       "      <td>fake</td>\n",
       "    </tr>\n",
       "    <tr>\n",
       "      <th>7671</th>\n",
       "      <td>improve surface face today fact.</td>\n",
       "      <td>road listen add question main head worker gene...</td>\n",
       "      <td>2023-10-07</td>\n",
       "      <td>cnn</td>\n",
       "      <td>charlene harrington</td>\n",
       "      <td>entertainment</td>\n",
       "      <td>fake</td>\n",
       "    </tr>\n",
       "    <tr>\n",
       "      <th>5999</th>\n",
       "      <td>family pressure common behavior.</td>\n",
       "      <td>low indicate education support brother suffer ...</td>\n",
       "      <td>2025-03-17</td>\n",
       "      <td>fox news</td>\n",
       "      <td>robert gardner</td>\n",
       "      <td>politics</td>\n",
       "      <td>real</td>\n",
       "    </tr>\n",
       "  </tbody>\n",
       "</table>\n",
       "</div>"
      ],
      "text/plain": [
       "                                                  title  \\\n",
       "5894  age important scientist question why onto acti...   \n",
       "3728  trial candidate travel pretty agreement attack...   \n",
       "8958  animal painting interest i society air east to...   \n",
       "7671                   improve surface face today fact.   \n",
       "5999                   family pressure common behavior.   \n",
       "\n",
       "                                                   text        date    source  \\\n",
       "5894  image morning whether thought seven office kit...  2022-05-30  ny times   \n",
       "3728  recent item success plant dark however however...  2024-10-20       bbc   \n",
       "8958  yourself religious point hour mrs cover case s...  2024-08-25  ny times   \n",
       "7671  road listen add question main head worker gene...  2023-10-07       cnn   \n",
       "5999  low indicate education support brother suffer ...  2025-03-17  fox news   \n",
       "\n",
       "                     author       category label  \n",
       "5894      kimberly martinez       politics  real  \n",
       "3728  mr. daniel bailey dds         sports  real  \n",
       "8958        kimberly wagner       politics  fake  \n",
       "7671    charlene harrington  entertainment  fake  \n",
       "5999         robert gardner       politics  real  "
      ]
     },
     "execution_count": 63,
     "metadata": {},
     "output_type": "execute_result"
    }
   ],
   "source": [
    "train_set.head()"
   ]
  },
  {
   "cell_type": "code",
   "execution_count": 64,
   "id": "8c75c7a4-5283-4f05-b566-c11b1a26024c",
   "metadata": {},
   "outputs": [],
   "source": [
    "def remove_punctuation(text):\n",
    "    for punctuations in string.punctuation:\n",
    "        text=text.replace(punctuations,'')\n",
    "    return text\n",
    "\n",
    "train_set['title']=train_set['title'].apply(remove_punctuation)\n",
    "train_set['text']=train_set['text'].apply(remove_punctuation)\n",
    "train_set['source']=train_set['source'].apply(remove_punctuation)\n",
    "train_set['author']=train_set['author'].apply(remove_punctuation)\n",
    "train_set['category']=train_set['category'].apply(remove_punctuation)"
   ]
  },
  {
   "cell_type": "code",
   "execution_count": 65,
   "id": "9b6f5cb0-8af5-49b5-93dc-11dfbaa73125",
   "metadata": {},
   "outputs": [
    {
     "data": {
      "text/plain": [
       "5894    age important scientist question why onto acti...\n",
       "3728    trial candidate travel pretty agreement attack...\n",
       "8958    animal painting interest i society air east total\n",
       "7671                      improve surface face today fact\n",
       "5999                      family pressure common behavior\n",
       "Name: title, dtype: object"
      ]
     },
     "execution_count": 65,
     "metadata": {},
     "output_type": "execute_result"
    }
   ],
   "source": [
    "train_set['title'].head()"
   ]
  },
  {
   "cell_type": "code",
   "execution_count": 66,
   "id": "dd738f29-f9ba-4331-b07a-9d6b063b8c68",
   "metadata": {},
   "outputs": [
    {
     "data": {
      "text/plain": [
       "5894    image morning whether thought seven office kit...\n",
       "3728    recent item success plant dark however however...\n",
       "8958    yourself religious point hour mrs cover case s...\n",
       "7671    road listen add question main head worker gene...\n",
       "5999    low indicate education support brother suffer ...\n",
       "Name: text, dtype: object"
      ]
     },
     "execution_count": 66,
     "metadata": {},
     "output_type": "execute_result"
    }
   ],
   "source": [
    "train_set['text'].head()"
   ]
  },
  {
   "cell_type": "code",
   "execution_count": 67,
   "id": "4e40b895-43fd-4d00-a376-eef113663233",
   "metadata": {},
   "outputs": [
    {
     "data": {
      "text/plain": [
       "5894    ny times\n",
       "3728         bbc\n",
       "8958    ny times\n",
       "7671         cnn\n",
       "5999    fox news\n",
       "Name: source, dtype: object"
      ]
     },
     "execution_count": 67,
     "metadata": {},
     "output_type": "execute_result"
    }
   ],
   "source": [
    "train_set['source'].head()"
   ]
  },
  {
   "cell_type": "code",
   "execution_count": 68,
   "id": "13429ee4-513b-4da0-8aa0-fb4b7a9cb25f",
   "metadata": {},
   "outputs": [
    {
     "data": {
      "text/plain": [
       "5894       kimberly martinez\n",
       "3728    mr daniel bailey dds\n",
       "8958         kimberly wagner\n",
       "7671     charlene harrington\n",
       "5999          robert gardner\n",
       "Name: author, dtype: object"
      ]
     },
     "execution_count": 68,
     "metadata": {},
     "output_type": "execute_result"
    }
   ],
   "source": [
    "train_set['author'].head()"
   ]
  },
  {
   "cell_type": "code",
   "execution_count": 69,
   "id": "7dc209b3-51a3-43c3-9ad4-d085399469bb",
   "metadata": {},
   "outputs": [
    {
     "data": {
      "text/plain": [
       "5894         politics\n",
       "3728           sports\n",
       "8958         politics\n",
       "7671    entertainment\n",
       "5999         politics\n",
       "Name: category, dtype: object"
      ]
     },
     "execution_count": 69,
     "metadata": {},
     "output_type": "execute_result"
    }
   ],
   "source": [
    "train_set['category'].head()"
   ]
  },
  {
   "cell_type": "code",
   "execution_count": 70,
   "id": "23795a9b-da9b-4686-bcfe-44fb8d224085",
   "metadata": {},
   "outputs": [],
   "source": [
    "## Remove the numbers from  text"
   ]
  },
  {
   "cell_type": "code",
   "execution_count": 71,
   "id": "c84ced6b-fa26-4e2c-9425-6d4875246d82",
   "metadata": {},
   "outputs": [
    {
     "name": "stderr",
     "output_type": "stream",
     "text": [
      "<>:1: SyntaxWarning: invalid escape sequence '\\d'\n",
      "<>:2: SyntaxWarning: invalid escape sequence '\\d'\n",
      "<>:3: SyntaxWarning: invalid escape sequence '\\d'\n",
      "<>:4: SyntaxWarning: invalid escape sequence '\\d'\n",
      "<>:5: SyntaxWarning: invalid escape sequence '\\d'\n",
      "<>:1: SyntaxWarning: invalid escape sequence '\\d'\n",
      "<>:2: SyntaxWarning: invalid escape sequence '\\d'\n",
      "<>:3: SyntaxWarning: invalid escape sequence '\\d'\n",
      "<>:4: SyntaxWarning: invalid escape sequence '\\d'\n",
      "<>:5: SyntaxWarning: invalid escape sequence '\\d'\n",
      "C:\\Users\\THIS PC\\AppData\\Local\\Temp\\ipykernel_34456\\3529597117.py:1: SyntaxWarning: invalid escape sequence '\\d'\n",
      "  train_set['title']=train_set['title'].str.replace('\\d+','',regex=True)\n",
      "C:\\Users\\THIS PC\\AppData\\Local\\Temp\\ipykernel_34456\\3529597117.py:2: SyntaxWarning: invalid escape sequence '\\d'\n",
      "  train_set['text']=train_set['text'].str.replace('\\d+','',regex=True)\n",
      "C:\\Users\\THIS PC\\AppData\\Local\\Temp\\ipykernel_34456\\3529597117.py:3: SyntaxWarning: invalid escape sequence '\\d'\n",
      "  train_set['source']=train_set['source'].str.replace('\\d+','',regex=True)\n",
      "C:\\Users\\THIS PC\\AppData\\Local\\Temp\\ipykernel_34456\\3529597117.py:4: SyntaxWarning: invalid escape sequence '\\d'\n",
      "  train_set['author']=train_set['author'].str.replace('\\d+','',regex=True)\n",
      "C:\\Users\\THIS PC\\AppData\\Local\\Temp\\ipykernel_34456\\3529597117.py:5: SyntaxWarning: invalid escape sequence '\\d'\n",
      "  train_set['category']=train_set['category'].str.replace('\\d+','',regex=True)\n"
     ]
    }
   ],
   "source": [
    "train_set['title']=train_set['title'].str.replace('\\d+','',regex=True)\n",
    "train_set['text']=train_set['text'].str.replace('\\d+','',regex=True)\n",
    "train_set['source']=train_set['source'].str.replace('\\d+','',regex=True)\n",
    "train_set['author']=train_set['author'].str.replace('\\d+','',regex=True)\n",
    "train_set['category']=train_set['category'].str.replace('\\d+','',regex=True)\n"
   ]
  },
  {
   "cell_type": "code",
   "execution_count": 72,
   "id": "3bf621bb-f796-4eec-aadc-cbe83b2eb9dc",
   "metadata": {},
   "outputs": [
    {
     "data": {
      "text/html": [
       "<div>\n",
       "<style scoped>\n",
       "    .dataframe tbody tr th:only-of-type {\n",
       "        vertical-align: middle;\n",
       "    }\n",
       "\n",
       "    .dataframe tbody tr th {\n",
       "        vertical-align: top;\n",
       "    }\n",
       "\n",
       "    .dataframe thead th {\n",
       "        text-align: right;\n",
       "    }\n",
       "</style>\n",
       "<table border=\"1\" class=\"dataframe\">\n",
       "  <thead>\n",
       "    <tr style=\"text-align: right;\">\n",
       "      <th></th>\n",
       "      <th>title</th>\n",
       "      <th>text</th>\n",
       "      <th>date</th>\n",
       "      <th>source</th>\n",
       "      <th>author</th>\n",
       "      <th>category</th>\n",
       "      <th>label</th>\n",
       "    </tr>\n",
       "  </thead>\n",
       "  <tbody>\n",
       "    <tr>\n",
       "      <th>5894</th>\n",
       "      <td>age important scientist question why onto acti...</td>\n",
       "      <td>image morning whether thought seven office kit...</td>\n",
       "      <td>2022-05-30</td>\n",
       "      <td>ny times</td>\n",
       "      <td>kimberly martinez</td>\n",
       "      <td>politics</td>\n",
       "      <td>real</td>\n",
       "    </tr>\n",
       "    <tr>\n",
       "      <th>3728</th>\n",
       "      <td>trial candidate travel pretty agreement attack...</td>\n",
       "      <td>recent item success plant dark however however...</td>\n",
       "      <td>2024-10-20</td>\n",
       "      <td>bbc</td>\n",
       "      <td>mr daniel bailey dds</td>\n",
       "      <td>sports</td>\n",
       "      <td>real</td>\n",
       "    </tr>\n",
       "    <tr>\n",
       "      <th>8958</th>\n",
       "      <td>animal painting interest i society air east total</td>\n",
       "      <td>yourself religious point hour mrs cover case s...</td>\n",
       "      <td>2024-08-25</td>\n",
       "      <td>ny times</td>\n",
       "      <td>kimberly wagner</td>\n",
       "      <td>politics</td>\n",
       "      <td>fake</td>\n",
       "    </tr>\n",
       "    <tr>\n",
       "      <th>7671</th>\n",
       "      <td>improve surface face today fact</td>\n",
       "      <td>road listen add question main head worker gene...</td>\n",
       "      <td>2023-10-07</td>\n",
       "      <td>cnn</td>\n",
       "      <td>charlene harrington</td>\n",
       "      <td>entertainment</td>\n",
       "      <td>fake</td>\n",
       "    </tr>\n",
       "    <tr>\n",
       "      <th>5999</th>\n",
       "      <td>family pressure common behavior</td>\n",
       "      <td>low indicate education support brother suffer ...</td>\n",
       "      <td>2025-03-17</td>\n",
       "      <td>fox news</td>\n",
       "      <td>robert gardner</td>\n",
       "      <td>politics</td>\n",
       "      <td>real</td>\n",
       "    </tr>\n",
       "  </tbody>\n",
       "</table>\n",
       "</div>"
      ],
      "text/plain": [
       "                                                  title  \\\n",
       "5894  age important scientist question why onto acti...   \n",
       "3728  trial candidate travel pretty agreement attack...   \n",
       "8958  animal painting interest i society air east total   \n",
       "7671                    improve surface face today fact   \n",
       "5999                    family pressure common behavior   \n",
       "\n",
       "                                                   text        date    source  \\\n",
       "5894  image morning whether thought seven office kit...  2022-05-30  ny times   \n",
       "3728  recent item success plant dark however however...  2024-10-20       bbc   \n",
       "8958  yourself religious point hour mrs cover case s...  2024-08-25  ny times   \n",
       "7671  road listen add question main head worker gene...  2023-10-07       cnn   \n",
       "5999  low indicate education support brother suffer ...  2025-03-17  fox news   \n",
       "\n",
       "                    author       category label  \n",
       "5894     kimberly martinez       politics  real  \n",
       "3728  mr daniel bailey dds         sports  real  \n",
       "8958       kimberly wagner       politics  fake  \n",
       "7671   charlene harrington  entertainment  fake  \n",
       "5999        robert gardner       politics  real  "
      ]
     },
     "execution_count": 72,
     "metadata": {},
     "output_type": "execute_result"
    }
   ],
   "source": [
    "train_set.head()"
   ]
  },
  {
   "cell_type": "code",
   "execution_count": 73,
   "id": "0dddfcee-deeb-4cb7-9495-f43d1d864deb",
   "metadata": {},
   "outputs": [],
   "source": [
    "## Remove the stop words"
   ]
  },
  {
   "cell_type": "code",
   "execution_count": 74,
   "id": "80aed0be-f572-4f20-9297-5247265d0392",
   "metadata": {},
   "outputs": [],
   "source": [
    "import nltk"
   ]
  },
  {
   "cell_type": "code",
   "execution_count": 75,
   "id": "51fdf5bd-db8e-4573-ba8a-c86a36e179c3",
   "metadata": {},
   "outputs": [
    {
     "name": "stderr",
     "output_type": "stream",
     "text": [
      "[nltk_data] Downloading package stopwords to stopwords/...\n",
      "[nltk_data]   Package stopwords is already up-to-date!\n"
     ]
    },
    {
     "data": {
      "text/plain": [
       "True"
      ]
     },
     "execution_count": 75,
     "metadata": {},
     "output_type": "execute_result"
    }
   ],
   "source": [
    "nltk.download('stopwords',download_dir='stopwords/')"
   ]
  },
  {
   "cell_type": "code",
   "execution_count": 76,
   "id": "5ce2d54c-3db3-43f7-81bd-5c77ae905e4a",
   "metadata": {},
   "outputs": [],
   "source": [
    "with open('stopwords/corpora/stopwords/english', 'r') as file:\n",
    "    sw=file.read().splitlines()"
   ]
  },
  {
   "cell_type": "code",
   "execution_count": 77,
   "id": "2d1510a7-69a3-41f2-8554-c48f0cf771f0",
   "metadata": {},
   "outputs": [
    {
     "data": {
      "text/plain": [
       "['a',\n",
       " 'about',\n",
       " 'above',\n",
       " 'after',\n",
       " 'again',\n",
       " 'against',\n",
       " 'ain',\n",
       " 'all',\n",
       " 'am',\n",
       " 'an',\n",
       " 'and',\n",
       " 'any',\n",
       " 'are',\n",
       " 'aren',\n",
       " \"aren't\",\n",
       " 'as',\n",
       " 'at',\n",
       " 'be',\n",
       " 'because',\n",
       " 'been',\n",
       " 'before',\n",
       " 'being',\n",
       " 'below',\n",
       " 'between',\n",
       " 'both',\n",
       " 'but',\n",
       " 'by',\n",
       " 'can',\n",
       " 'couldn',\n",
       " \"couldn't\",\n",
       " 'd',\n",
       " 'did',\n",
       " 'didn',\n",
       " \"didn't\",\n",
       " 'do',\n",
       " 'does',\n",
       " 'doesn',\n",
       " \"doesn't\",\n",
       " 'doing',\n",
       " 'don',\n",
       " \"don't\",\n",
       " 'down',\n",
       " 'during',\n",
       " 'each',\n",
       " 'few',\n",
       " 'for',\n",
       " 'from',\n",
       " 'further',\n",
       " 'had',\n",
       " 'hadn',\n",
       " \"hadn't\",\n",
       " 'has',\n",
       " 'hasn',\n",
       " \"hasn't\",\n",
       " 'have',\n",
       " 'haven',\n",
       " \"haven't\",\n",
       " 'having',\n",
       " 'he',\n",
       " \"he'd\",\n",
       " \"he'll\",\n",
       " 'her',\n",
       " 'here',\n",
       " 'hers',\n",
       " 'herself',\n",
       " \"he's\",\n",
       " 'him',\n",
       " 'himself',\n",
       " 'his',\n",
       " 'how',\n",
       " 'i',\n",
       " \"i'd\",\n",
       " 'if',\n",
       " \"i'll\",\n",
       " \"i'm\",\n",
       " 'in',\n",
       " 'into',\n",
       " 'is',\n",
       " 'isn',\n",
       " \"isn't\",\n",
       " 'it',\n",
       " \"it'd\",\n",
       " \"it'll\",\n",
       " \"it's\",\n",
       " 'its',\n",
       " 'itself',\n",
       " \"i've\",\n",
       " 'just',\n",
       " 'll',\n",
       " 'm',\n",
       " 'ma',\n",
       " 'me',\n",
       " 'mightn',\n",
       " \"mightn't\",\n",
       " 'more',\n",
       " 'most',\n",
       " 'mustn',\n",
       " \"mustn't\",\n",
       " 'my',\n",
       " 'myself',\n",
       " 'needn',\n",
       " \"needn't\",\n",
       " 'no',\n",
       " 'nor',\n",
       " 'not',\n",
       " 'now',\n",
       " 'o',\n",
       " 'of',\n",
       " 'off',\n",
       " 'on',\n",
       " 'once',\n",
       " 'only',\n",
       " 'or',\n",
       " 'other',\n",
       " 'our',\n",
       " 'ours',\n",
       " 'ourselves',\n",
       " 'out',\n",
       " 'over',\n",
       " 'own',\n",
       " 're',\n",
       " 's',\n",
       " 'same',\n",
       " 'shan',\n",
       " \"shan't\",\n",
       " 'she',\n",
       " \"she'd\",\n",
       " \"she'll\",\n",
       " \"she's\",\n",
       " 'should',\n",
       " 'shouldn',\n",
       " \"shouldn't\",\n",
       " \"should've\",\n",
       " 'so',\n",
       " 'some',\n",
       " 'such',\n",
       " 't',\n",
       " 'than',\n",
       " 'that',\n",
       " \"that'll\",\n",
       " 'the',\n",
       " 'their',\n",
       " 'theirs',\n",
       " 'them',\n",
       " 'themselves',\n",
       " 'then',\n",
       " 'there',\n",
       " 'these',\n",
       " 'they',\n",
       " \"they'd\",\n",
       " \"they'll\",\n",
       " \"they're\",\n",
       " \"they've\",\n",
       " 'this',\n",
       " 'those',\n",
       " 'through',\n",
       " 'to',\n",
       " 'too',\n",
       " 'under',\n",
       " 'until',\n",
       " 'up',\n",
       " 've',\n",
       " 'very',\n",
       " 'was',\n",
       " 'wasn',\n",
       " \"wasn't\",\n",
       " 'we',\n",
       " \"we'd\",\n",
       " \"we'll\",\n",
       " \"we're\",\n",
       " 'were',\n",
       " 'weren',\n",
       " \"weren't\",\n",
       " \"we've\",\n",
       " 'what',\n",
       " 'when',\n",
       " 'where',\n",
       " 'which',\n",
       " 'while',\n",
       " 'who',\n",
       " 'whom',\n",
       " 'why',\n",
       " 'will',\n",
       " 'with',\n",
       " 'won',\n",
       " \"won't\",\n",
       " 'wouldn',\n",
       " \"wouldn't\",\n",
       " 'y',\n",
       " 'you',\n",
       " \"you'd\",\n",
       " \"you'll\",\n",
       " 'your',\n",
       " \"you're\",\n",
       " 'yours',\n",
       " 'yourself',\n",
       " 'yourselves',\n",
       " \"you've\"]"
      ]
     },
     "execution_count": 77,
     "metadata": {},
     "output_type": "execute_result"
    }
   ],
   "source": [
    "sw"
   ]
  },
  {
   "cell_type": "code",
   "execution_count": 78,
   "id": "709bcdba-9e36-4db2-998b-1418b62c8d87",
   "metadata": {},
   "outputs": [],
   "source": [
    "train_set['title']=train_set['title'].apply(lambda x: \" \".join(x for x in x.split() if x not in sw))\n",
    "train_set['text']=train_set['text'].apply(lambda x:\" \".join(x for x in x.split() if x not in sw))\n",
    "train_set['source']=train_set['source'].apply(lambda x:\" \".join(x for x in x.split() if x not in sw))\n",
    "train_set['author']=train_set['author'].apply(lambda x: \" \".join(x for x in x.split() if x not in sw))\n",
    "train_set['category']=train_set['category'].apply(lambda x:\" \".join(x for x in x.split() if x not in sw))"
   ]
  },
  {
   "cell_type": "code",
   "execution_count": 79,
   "id": "a7bd4e15-1f01-499a-b09f-edc1fb751d1b",
   "metadata": {},
   "outputs": [
    {
     "data": {
      "text/html": [
       "<div>\n",
       "<style scoped>\n",
       "    .dataframe tbody tr th:only-of-type {\n",
       "        vertical-align: middle;\n",
       "    }\n",
       "\n",
       "    .dataframe tbody tr th {\n",
       "        vertical-align: top;\n",
       "    }\n",
       "\n",
       "    .dataframe thead th {\n",
       "        text-align: right;\n",
       "    }\n",
       "</style>\n",
       "<table border=\"1\" class=\"dataframe\">\n",
       "  <thead>\n",
       "    <tr style=\"text-align: right;\">\n",
       "      <th></th>\n",
       "      <th>title</th>\n",
       "      <th>text</th>\n",
       "      <th>date</th>\n",
       "      <th>source</th>\n",
       "      <th>author</th>\n",
       "      <th>category</th>\n",
       "      <th>label</th>\n",
       "    </tr>\n",
       "  </thead>\n",
       "  <tbody>\n",
       "    <tr>\n",
       "      <th>5894</th>\n",
       "      <td>age important scientist question onto activity</td>\n",
       "      <td>image morning whether thought seven office kit...</td>\n",
       "      <td>2022-05-30</td>\n",
       "      <td>ny times</td>\n",
       "      <td>kimberly martinez</td>\n",
       "      <td>politics</td>\n",
       "      <td>real</td>\n",
       "    </tr>\n",
       "    <tr>\n",
       "      <th>3728</th>\n",
       "      <td>trial candidate travel pretty agreement attack...</td>\n",
       "      <td>recent item success plant dark however however...</td>\n",
       "      <td>2024-10-20</td>\n",
       "      <td>bbc</td>\n",
       "      <td>mr daniel bailey dds</td>\n",
       "      <td>sports</td>\n",
       "      <td>real</td>\n",
       "    </tr>\n",
       "    <tr>\n",
       "      <th>8958</th>\n",
       "      <td>animal painting interest society air east total</td>\n",
       "      <td>religious point hour mrs cover case source sea...</td>\n",
       "      <td>2024-08-25</td>\n",
       "      <td>ny times</td>\n",
       "      <td>kimberly wagner</td>\n",
       "      <td>politics</td>\n",
       "      <td>fake</td>\n",
       "    </tr>\n",
       "    <tr>\n",
       "      <th>7671</th>\n",
       "      <td>improve surface face today fact</td>\n",
       "      <td>road listen add question main head worker gene...</td>\n",
       "      <td>2023-10-07</td>\n",
       "      <td>cnn</td>\n",
       "      <td>charlene harrington</td>\n",
       "      <td>entertainment</td>\n",
       "      <td>fake</td>\n",
       "    </tr>\n",
       "    <tr>\n",
       "      <th>5999</th>\n",
       "      <td>family pressure common behavior</td>\n",
       "      <td>low indicate education support brother suffer ...</td>\n",
       "      <td>2025-03-17</td>\n",
       "      <td>fox news</td>\n",
       "      <td>robert gardner</td>\n",
       "      <td>politics</td>\n",
       "      <td>real</td>\n",
       "    </tr>\n",
       "    <tr>\n",
       "      <th>5751</th>\n",
       "      <td>agent degree pass feeling address</td>\n",
       "      <td>almost without trouble resource memory senior ...</td>\n",
       "      <td>2024-03-09</td>\n",
       "      <td>reuters</td>\n",
       "      <td>dawn stewart</td>\n",
       "      <td>entertainment</td>\n",
       "      <td>fake</td>\n",
       "    </tr>\n",
       "    <tr>\n",
       "      <th>1688</th>\n",
       "      <td>spend record participant assume fund real</td>\n",
       "      <td>sense phone change low name use appear senior ...</td>\n",
       "      <td>2023-04-02</td>\n",
       "      <td>guardian</td>\n",
       "      <td>daniel mitchell</td>\n",
       "      <td>entertainment</td>\n",
       "      <td>real</td>\n",
       "    </tr>\n",
       "    <tr>\n",
       "      <th>6836</th>\n",
       "      <td>maybe cause center sit cut argue</td>\n",
       "      <td>professional boy blood fast treat east method ...</td>\n",
       "      <td>2025-04-18</td>\n",
       "      <td>ny times</td>\n",
       "      <td>samuel gates</td>\n",
       "      <td>technology</td>\n",
       "      <td>fake</td>\n",
       "    </tr>\n",
       "    <tr>\n",
       "      <th>6536</th>\n",
       "      <td>maybe result character value</td>\n",
       "      <td>choice lay sometimes article team newspaper ra...</td>\n",
       "      <td>2024-09-03</td>\n",
       "      <td>cnn</td>\n",
       "      <td>frank barajas</td>\n",
       "      <td>sports</td>\n",
       "      <td>fake</td>\n",
       "    </tr>\n",
       "    <tr>\n",
       "      <th>4842</th>\n",
       "      <td>eight though bag claim issue</td>\n",
       "      <td>social sister ball pretty thus management rece...</td>\n",
       "      <td>2023-05-13</td>\n",
       "      <td>ny times</td>\n",
       "      <td>kristen mercado</td>\n",
       "      <td>science</td>\n",
       "      <td>fake</td>\n",
       "    </tr>\n",
       "    <tr>\n",
       "      <th>15844</th>\n",
       "      <td>hot allow economy wall fast case</td>\n",
       "      <td>shake represent listen camera student event fi...</td>\n",
       "      <td>2022-08-29</td>\n",
       "      <td>daily news</td>\n",
       "      <td>dustin hamilton</td>\n",
       "      <td>health</td>\n",
       "      <td>real</td>\n",
       "    </tr>\n",
       "    <tr>\n",
       "      <th>196</th>\n",
       "      <td>second point increase</td>\n",
       "      <td>sport door want check instead mean yet still f...</td>\n",
       "      <td>2024-03-27</td>\n",
       "      <td>cnn</td>\n",
       "      <td>david saunders</td>\n",
       "      <td>business</td>\n",
       "      <td>fake</td>\n",
       "    </tr>\n",
       "    <tr>\n",
       "      <th>518</th>\n",
       "      <td>light baby conference</td>\n",
       "      <td>better guess across position line remain quick...</td>\n",
       "      <td>2025-04-12</td>\n",
       "      <td>reuters</td>\n",
       "      <td>kathleen baker</td>\n",
       "      <td>science</td>\n",
       "      <td>fake</td>\n",
       "    </tr>\n",
       "    <tr>\n",
       "      <th>10581</th>\n",
       "      <td>three best end mean</td>\n",
       "      <td>evidence lot reach dinner attention phone resu...</td>\n",
       "      <td>2023-05-25</td>\n",
       "      <td>cnn</td>\n",
       "      <td>michael washington</td>\n",
       "      <td>science</td>\n",
       "      <td>fake</td>\n",
       "    </tr>\n",
       "    <tr>\n",
       "      <th>13320</th>\n",
       "      <td>notice term major play</td>\n",
       "      <td>better woman end conference month reality know...</td>\n",
       "      <td>2023-01-21</td>\n",
       "      <td>cnn</td>\n",
       "      <td>heather gonzales</td>\n",
       "      <td>business</td>\n",
       "      <td>fake</td>\n",
       "    </tr>\n",
       "    <tr>\n",
       "      <th>10790</th>\n",
       "      <td>response represent hard provide name matter ball</td>\n",
       "      <td>around role institution capital environmental ...</td>\n",
       "      <td>2022-10-15</td>\n",
       "      <td>cnn</td>\n",
       "      <td>melanie odonnell</td>\n",
       "      <td>politics</td>\n",
       "      <td>real</td>\n",
       "    </tr>\n",
       "    <tr>\n",
       "      <th>16939</th>\n",
       "      <td>practice environmental management hold close</td>\n",
       "      <td>section drop pressure generation attorney cons...</td>\n",
       "      <td>2025-03-28</td>\n",
       "      <td>cnn</td>\n",
       "      <td>sarah williams</td>\n",
       "      <td>science</td>\n",
       "      <td>fake</td>\n",
       "    </tr>\n",
       "    <tr>\n",
       "      <th>841</th>\n",
       "      <td>anyone thus black couple rate</td>\n",
       "      <td>friend sound read medical forward discussion p...</td>\n",
       "      <td>2023-08-23</td>\n",
       "      <td>ny times</td>\n",
       "      <td>ian wagner</td>\n",
       "      <td>politics</td>\n",
       "      <td>fake</td>\n",
       "    </tr>\n",
       "    <tr>\n",
       "      <th>9507</th>\n",
       "      <td>fly low half common likely affect</td>\n",
       "      <td>anything market address rise south member send...</td>\n",
       "      <td>2024-11-08</td>\n",
       "      <td>cnn</td>\n",
       "      <td>laura fitzgerald</td>\n",
       "      <td>politics</td>\n",
       "      <td>real</td>\n",
       "    </tr>\n",
       "    <tr>\n",
       "      <th>10482</th>\n",
       "      <td>fill loss view education black account</td>\n",
       "      <td>edge everyone young significant bad management...</td>\n",
       "      <td>2025-03-01</td>\n",
       "      <td>global times</td>\n",
       "      <td>matthew morris</td>\n",
       "      <td>entertainment</td>\n",
       "      <td>real</td>\n",
       "    </tr>\n",
       "  </tbody>\n",
       "</table>\n",
       "</div>"
      ],
      "text/plain": [
       "                                                   title  \\\n",
       "5894      age important scientist question onto activity   \n",
       "3728   trial candidate travel pretty agreement attack...   \n",
       "8958     animal painting interest society air east total   \n",
       "7671                     improve surface face today fact   \n",
       "5999                     family pressure common behavior   \n",
       "5751                   agent degree pass feeling address   \n",
       "1688           spend record participant assume fund real   \n",
       "6836                    maybe cause center sit cut argue   \n",
       "6536                        maybe result character value   \n",
       "4842                        eight though bag claim issue   \n",
       "15844                   hot allow economy wall fast case   \n",
       "196                                second point increase   \n",
       "518                                light baby conference   \n",
       "10581                                three best end mean   \n",
       "13320                             notice term major play   \n",
       "10790   response represent hard provide name matter ball   \n",
       "16939       practice environmental management hold close   \n",
       "841                        anyone thus black couple rate   \n",
       "9507                   fly low half common likely affect   \n",
       "10482             fill loss view education black account   \n",
       "\n",
       "                                                    text        date  \\\n",
       "5894   image morning whether thought seven office kit...  2022-05-30   \n",
       "3728   recent item success plant dark however however...  2024-10-20   \n",
       "8958   religious point hour mrs cover case source sea...  2024-08-25   \n",
       "7671   road listen add question main head worker gene...  2023-10-07   \n",
       "5999   low indicate education support brother suffer ...  2025-03-17   \n",
       "5751   almost without trouble resource memory senior ...  2024-03-09   \n",
       "1688   sense phone change low name use appear senior ...  2023-04-02   \n",
       "6836   professional boy blood fast treat east method ...  2025-04-18   \n",
       "6536   choice lay sometimes article team newspaper ra...  2024-09-03   \n",
       "4842   social sister ball pretty thus management rece...  2023-05-13   \n",
       "15844  shake represent listen camera student event fi...  2022-08-29   \n",
       "196    sport door want check instead mean yet still f...  2024-03-27   \n",
       "518    better guess across position line remain quick...  2025-04-12   \n",
       "10581  evidence lot reach dinner attention phone resu...  2023-05-25   \n",
       "13320  better woman end conference month reality know...  2023-01-21   \n",
       "10790  around role institution capital environmental ...  2022-10-15   \n",
       "16939  section drop pressure generation attorney cons...  2025-03-28   \n",
       "841    friend sound read medical forward discussion p...  2023-08-23   \n",
       "9507   anything market address rise south member send...  2024-11-08   \n",
       "10482  edge everyone young significant bad management...  2025-03-01   \n",
       "\n",
       "             source                author       category label  \n",
       "5894       ny times     kimberly martinez       politics  real  \n",
       "3728            bbc  mr daniel bailey dds         sports  real  \n",
       "8958       ny times       kimberly wagner       politics  fake  \n",
       "7671            cnn   charlene harrington  entertainment  fake  \n",
       "5999       fox news        robert gardner       politics  real  \n",
       "5751        reuters          dawn stewart  entertainment  fake  \n",
       "1688       guardian       daniel mitchell  entertainment  real  \n",
       "6836       ny times          samuel gates     technology  fake  \n",
       "6536            cnn         frank barajas         sports  fake  \n",
       "4842       ny times       kristen mercado        science  fake  \n",
       "15844    daily news       dustin hamilton         health  real  \n",
       "196             cnn        david saunders       business  fake  \n",
       "518         reuters        kathleen baker        science  fake  \n",
       "10581           cnn    michael washington        science  fake  \n",
       "13320           cnn      heather gonzales       business  fake  \n",
       "10790           cnn      melanie odonnell       politics  real  \n",
       "16939           cnn        sarah williams        science  fake  \n",
       "841        ny times            ian wagner       politics  fake  \n",
       "9507            cnn      laura fitzgerald       politics  real  \n",
       "10482  global times        matthew morris  entertainment  real  "
      ]
     },
     "execution_count": 79,
     "metadata": {},
     "output_type": "execute_result"
    }
   ],
   "source": [
    "train_set.head(20)"
   ]
  },
  {
   "cell_type": "code",
   "execution_count": 80,
   "id": "3a0540ad-6f89-44dc-a788-66a6b3af54f7",
   "metadata": {},
   "outputs": [],
   "source": [
    "## Stemming technique"
   ]
  },
  {
   "cell_type": "code",
   "execution_count": 81,
   "id": "aad7afeb-9525-4ea7-890c-bb8a24e9d406",
   "metadata": {},
   "outputs": [],
   "source": [
    "from nltk.stem import PorterStemmer\n",
    "\n",
    "ps=PorterStemmer()"
   ]
  },
  {
   "cell_type": "code",
   "execution_count": 82,
   "id": "8944972b-1d39-4442-8dc3-6436782ba10e",
   "metadata": {},
   "outputs": [],
   "source": [
    "train_set['title']=train_set['title'].apply(lambda x:\" \".join(ps.stem(x) for x in x.split()))\n",
    "train_set['text']=train_set['text'].apply(lambda x:\" \".join(ps.stem(x) for x in x.split()))\n",
    "train_set['source']=train_set['source'].apply(lambda x:\" \".join(ps.stem(x) for x in x.split()))\n",
    "train_set['author']=train_set['author'].apply(lambda x:\" \".join(ps.stem(x) for x in x.split()))\n",
    "train_set['category']=train_set['author'].apply(lambda x:\" \".join(ps.stem(x) for x in  x.split()))                                           "
   ]
  },
  {
   "cell_type": "code",
   "execution_count": 83,
   "id": "e9e4de45-ec69-4fd1-bc0a-f6a9b22570d4",
   "metadata": {},
   "outputs": [
    {
     "data": {
      "text/html": [
       "<div>\n",
       "<style scoped>\n",
       "    .dataframe tbody tr th:only-of-type {\n",
       "        vertical-align: middle;\n",
       "    }\n",
       "\n",
       "    .dataframe tbody tr th {\n",
       "        vertical-align: top;\n",
       "    }\n",
       "\n",
       "    .dataframe thead th {\n",
       "        text-align: right;\n",
       "    }\n",
       "</style>\n",
       "<table border=\"1\" class=\"dataframe\">\n",
       "  <thead>\n",
       "    <tr style=\"text-align: right;\">\n",
       "      <th></th>\n",
       "      <th>title</th>\n",
       "      <th>text</th>\n",
       "      <th>date</th>\n",
       "      <th>source</th>\n",
       "      <th>author</th>\n",
       "      <th>category</th>\n",
       "      <th>label</th>\n",
       "    </tr>\n",
       "  </thead>\n",
       "  <tbody>\n",
       "    <tr>\n",
       "      <th>5894</th>\n",
       "      <td>age import scientist question onto activ</td>\n",
       "      <td>imag morn whether thought seven offic kitchen ...</td>\n",
       "      <td>2022-05-30</td>\n",
       "      <td>ny time</td>\n",
       "      <td>kimberli martinez</td>\n",
       "      <td>kimberli martinez</td>\n",
       "      <td>real</td>\n",
       "    </tr>\n",
       "    <tr>\n",
       "      <th>3728</th>\n",
       "      <td>trial candid travel pretti agreement attack me...</td>\n",
       "      <td>recent item success plant dark howev howev pai...</td>\n",
       "      <td>2024-10-20</td>\n",
       "      <td>bbc</td>\n",
       "      <td>mr daniel bailey dd</td>\n",
       "      <td>mr daniel bailey dd</td>\n",
       "      <td>real</td>\n",
       "    </tr>\n",
       "    <tr>\n",
       "      <th>8958</th>\n",
       "      <td>anim paint interest societi air east total</td>\n",
       "      <td>religi point hour mr cover case sourc season p...</td>\n",
       "      <td>2024-08-25</td>\n",
       "      <td>ny time</td>\n",
       "      <td>kimberli wagner</td>\n",
       "      <td>kimberli wagner</td>\n",
       "      <td>fake</td>\n",
       "    </tr>\n",
       "    <tr>\n",
       "      <th>7671</th>\n",
       "      <td>improv surfac face today fact</td>\n",
       "      <td>road listen add question main head worker gene...</td>\n",
       "      <td>2023-10-07</td>\n",
       "      <td>cnn</td>\n",
       "      <td>charlen harrington</td>\n",
       "      <td>charlen harrington</td>\n",
       "      <td>fake</td>\n",
       "    </tr>\n",
       "    <tr>\n",
       "      <th>5999</th>\n",
       "      <td>famili pressur common behavior</td>\n",
       "      <td>low indic educ support brother suffer owner sp...</td>\n",
       "      <td>2025-03-17</td>\n",
       "      <td>fox news</td>\n",
       "      <td>robert gardner</td>\n",
       "      <td>robert gardner</td>\n",
       "      <td>real</td>\n",
       "    </tr>\n",
       "    <tr>\n",
       "      <th>5751</th>\n",
       "      <td>agent degre pass feel address</td>\n",
       "      <td>almost without troubl resourc memori senior re...</td>\n",
       "      <td>2024-03-09</td>\n",
       "      <td>reuter</td>\n",
       "      <td>dawn stewart</td>\n",
       "      <td>dawn stewart</td>\n",
       "      <td>fake</td>\n",
       "    </tr>\n",
       "    <tr>\n",
       "      <th>1688</th>\n",
       "      <td>spend record particip assum fund real</td>\n",
       "      <td>sens phone chang low name use appear senior re...</td>\n",
       "      <td>2023-04-02</td>\n",
       "      <td>guardian</td>\n",
       "      <td>daniel mitchel</td>\n",
       "      <td>daniel mitchel</td>\n",
       "      <td>real</td>\n",
       "    </tr>\n",
       "    <tr>\n",
       "      <th>6836</th>\n",
       "      <td>mayb caus center sit cut argu</td>\n",
       "      <td>profession boy blood fast treat east method si...</td>\n",
       "      <td>2025-04-18</td>\n",
       "      <td>ny time</td>\n",
       "      <td>samuel gate</td>\n",
       "      <td>samuel gate</td>\n",
       "      <td>fake</td>\n",
       "    </tr>\n",
       "    <tr>\n",
       "      <th>6536</th>\n",
       "      <td>mayb result charact valu</td>\n",
       "      <td>choic lay sometim articl team newspap rate aro...</td>\n",
       "      <td>2024-09-03</td>\n",
       "      <td>cnn</td>\n",
       "      <td>frank baraja</td>\n",
       "      <td>frank baraja</td>\n",
       "      <td>fake</td>\n",
       "    </tr>\n",
       "    <tr>\n",
       "      <th>4842</th>\n",
       "      <td>eight though bag claim issu</td>\n",
       "      <td>social sister ball pretti thu manag recent sub...</td>\n",
       "      <td>2023-05-13</td>\n",
       "      <td>ny time</td>\n",
       "      <td>kristen mercado</td>\n",
       "      <td>kristen mercado</td>\n",
       "      <td>fake</td>\n",
       "    </tr>\n",
       "    <tr>\n",
       "      <th>15844</th>\n",
       "      <td>hot allow economi wall fast case</td>\n",
       "      <td>shake repres listen camera student event field...</td>\n",
       "      <td>2022-08-29</td>\n",
       "      <td>daili news</td>\n",
       "      <td>dustin hamilton</td>\n",
       "      <td>dustin hamilton</td>\n",
       "      <td>real</td>\n",
       "    </tr>\n",
       "    <tr>\n",
       "      <th>196</th>\n",
       "      <td>second point increas</td>\n",
       "      <td>sport door want check instead mean yet still f...</td>\n",
       "      <td>2024-03-27</td>\n",
       "      <td>cnn</td>\n",
       "      <td>david saunder</td>\n",
       "      <td>david saunder</td>\n",
       "      <td>fake</td>\n",
       "    </tr>\n",
       "    <tr>\n",
       "      <th>518</th>\n",
       "      <td>light babi confer</td>\n",
       "      <td>better guess across posit line remain quickli ...</td>\n",
       "      <td>2025-04-12</td>\n",
       "      <td>reuter</td>\n",
       "      <td>kathleen baker</td>\n",
       "      <td>kathleen baker</td>\n",
       "      <td>fake</td>\n",
       "    </tr>\n",
       "    <tr>\n",
       "      <th>10581</th>\n",
       "      <td>three best end mean</td>\n",
       "      <td>evid lot reach dinner attent phone result meet...</td>\n",
       "      <td>2023-05-25</td>\n",
       "      <td>cnn</td>\n",
       "      <td>michael washington</td>\n",
       "      <td>michael washington</td>\n",
       "      <td>fake</td>\n",
       "    </tr>\n",
       "    <tr>\n",
       "      <th>13320</th>\n",
       "      <td>notic term major play</td>\n",
       "      <td>better woman end confer month realiti know wor...</td>\n",
       "      <td>2023-01-21</td>\n",
       "      <td>cnn</td>\n",
       "      <td>heather gonzal</td>\n",
       "      <td>heather gonzal</td>\n",
       "      <td>fake</td>\n",
       "    </tr>\n",
       "    <tr>\n",
       "      <th>10790</th>\n",
       "      <td>respons repres hard provid name matter ball</td>\n",
       "      <td>around role institut capit environment discuss...</td>\n",
       "      <td>2022-10-15</td>\n",
       "      <td>cnn</td>\n",
       "      <td>melani odonnel</td>\n",
       "      <td>melani odonnel</td>\n",
       "      <td>real</td>\n",
       "    </tr>\n",
       "    <tr>\n",
       "      <th>16939</th>\n",
       "      <td>practic environment manag hold close</td>\n",
       "      <td>section drop pressur gener attorney consum saf...</td>\n",
       "      <td>2025-03-28</td>\n",
       "      <td>cnn</td>\n",
       "      <td>sarah william</td>\n",
       "      <td>sarah william</td>\n",
       "      <td>fake</td>\n",
       "    </tr>\n",
       "    <tr>\n",
       "      <th>841</th>\n",
       "      <td>anyon thu black coupl rate</td>\n",
       "      <td>friend sound read medic forward discuss polici...</td>\n",
       "      <td>2023-08-23</td>\n",
       "      <td>ny time</td>\n",
       "      <td>ian wagner</td>\n",
       "      <td>ian wagner</td>\n",
       "      <td>fake</td>\n",
       "    </tr>\n",
       "    <tr>\n",
       "      <th>9507</th>\n",
       "      <td>fli low half common like affect</td>\n",
       "      <td>anyth market address rise south member send ma...</td>\n",
       "      <td>2024-11-08</td>\n",
       "      <td>cnn</td>\n",
       "      <td>laura fitzgerald</td>\n",
       "      <td>laura fitzgerald</td>\n",
       "      <td>real</td>\n",
       "    </tr>\n",
       "    <tr>\n",
       "      <th>10482</th>\n",
       "      <td>fill loss view educ black account</td>\n",
       "      <td>edg everyon young signific bad manag owner pre...</td>\n",
       "      <td>2025-03-01</td>\n",
       "      <td>global time</td>\n",
       "      <td>matthew morri</td>\n",
       "      <td>matthew morri</td>\n",
       "      <td>real</td>\n",
       "    </tr>\n",
       "  </tbody>\n",
       "</table>\n",
       "</div>"
      ],
      "text/plain": [
       "                                                   title  \\\n",
       "5894            age import scientist question onto activ   \n",
       "3728   trial candid travel pretti agreement attack me...   \n",
       "8958          anim paint interest societi air east total   \n",
       "7671                       improv surfac face today fact   \n",
       "5999                      famili pressur common behavior   \n",
       "5751                       agent degre pass feel address   \n",
       "1688               spend record particip assum fund real   \n",
       "6836                       mayb caus center sit cut argu   \n",
       "6536                            mayb result charact valu   \n",
       "4842                         eight though bag claim issu   \n",
       "15844                   hot allow economi wall fast case   \n",
       "196                                 second point increas   \n",
       "518                                    light babi confer   \n",
       "10581                                three best end mean   \n",
       "13320                              notic term major play   \n",
       "10790        respons repres hard provid name matter ball   \n",
       "16939               practic environment manag hold close   \n",
       "841                           anyon thu black coupl rate   \n",
       "9507                     fli low half common like affect   \n",
       "10482                  fill loss view educ black account   \n",
       "\n",
       "                                                    text        date  \\\n",
       "5894   imag morn whether thought seven offic kitchen ...  2022-05-30   \n",
       "3728   recent item success plant dark howev howev pai...  2024-10-20   \n",
       "8958   religi point hour mr cover case sourc season p...  2024-08-25   \n",
       "7671   road listen add question main head worker gene...  2023-10-07   \n",
       "5999   low indic educ support brother suffer owner sp...  2025-03-17   \n",
       "5751   almost without troubl resourc memori senior re...  2024-03-09   \n",
       "1688   sens phone chang low name use appear senior re...  2023-04-02   \n",
       "6836   profession boy blood fast treat east method si...  2025-04-18   \n",
       "6536   choic lay sometim articl team newspap rate aro...  2024-09-03   \n",
       "4842   social sister ball pretti thu manag recent sub...  2023-05-13   \n",
       "15844  shake repres listen camera student event field...  2022-08-29   \n",
       "196    sport door want check instead mean yet still f...  2024-03-27   \n",
       "518    better guess across posit line remain quickli ...  2025-04-12   \n",
       "10581  evid lot reach dinner attent phone result meet...  2023-05-25   \n",
       "13320  better woman end confer month realiti know wor...  2023-01-21   \n",
       "10790  around role institut capit environment discuss...  2022-10-15   \n",
       "16939  section drop pressur gener attorney consum saf...  2025-03-28   \n",
       "841    friend sound read medic forward discuss polici...  2023-08-23   \n",
       "9507   anyth market address rise south member send ma...  2024-11-08   \n",
       "10482  edg everyon young signific bad manag owner pre...  2025-03-01   \n",
       "\n",
       "            source               author             category label  \n",
       "5894       ny time    kimberli martinez    kimberli martinez  real  \n",
       "3728           bbc  mr daniel bailey dd  mr daniel bailey dd  real  \n",
       "8958       ny time      kimberli wagner      kimberli wagner  fake  \n",
       "7671           cnn   charlen harrington   charlen harrington  fake  \n",
       "5999      fox news       robert gardner       robert gardner  real  \n",
       "5751        reuter         dawn stewart         dawn stewart  fake  \n",
       "1688      guardian       daniel mitchel       daniel mitchel  real  \n",
       "6836       ny time          samuel gate          samuel gate  fake  \n",
       "6536           cnn         frank baraja         frank baraja  fake  \n",
       "4842       ny time      kristen mercado      kristen mercado  fake  \n",
       "15844   daili news      dustin hamilton      dustin hamilton  real  \n",
       "196            cnn        david saunder        david saunder  fake  \n",
       "518         reuter       kathleen baker       kathleen baker  fake  \n",
       "10581          cnn   michael washington   michael washington  fake  \n",
       "13320          cnn       heather gonzal       heather gonzal  fake  \n",
       "10790          cnn       melani odonnel       melani odonnel  real  \n",
       "16939          cnn        sarah william        sarah william  fake  \n",
       "841        ny time           ian wagner           ian wagner  fake  \n",
       "9507           cnn     laura fitzgerald     laura fitzgerald  real  \n",
       "10482  global time        matthew morri        matthew morri  real  "
      ]
     },
     "execution_count": 83,
     "metadata": {},
     "output_type": "execute_result"
    }
   ],
   "source": [
    "train_set.head(20)"
   ]
  },
  {
   "cell_type": "markdown",
   "id": "b1b4c799-7de9-4522-896b-ac7e0eb9e79a",
   "metadata": {},
   "source": [
    "##  Building the  vocabulary"
   ]
  },
  {
   "cell_type": "code",
   "execution_count": 84,
   "id": "4b0609f8-af2d-4c87-8118-deddb423a1ea",
   "metadata": {},
   "outputs": [],
   "source": [
    "from collections import Counter\n",
    "vocab=Counter()"
   ]
  },
  {
   "cell_type": "code",
   "execution_count": 85,
   "id": "81af1b45-250b-40e4-aee8-62deadb04fce",
   "metadata": {},
   "outputs": [
    {
     "data": {
      "text/plain": [
       "Counter()"
      ]
     },
     "execution_count": 85,
     "metadata": {},
     "output_type": "execute_result"
    }
   ],
   "source": [
    "vocab"
   ]
  },
  {
   "cell_type": "code",
   "execution_count": 86,
   "id": "5452868f-bfd4-4f70-bc2f-5aef64678dd3",
   "metadata": {},
   "outputs": [],
   "source": [
    "train_set_columns_list=['title','text','source','author','category']\n",
    "\n",
    "for i  in train_set_columns_list:\n",
    "    vocab.update(train_set[i])"
   ]
  },
  {
   "cell_type": "code",
   "execution_count": 87,
   "id": "82637f8b-a00c-41e4-80b5-43bdeb37fd93",
   "metadata": {},
   "outputs": [
    {
     "data": {
      "text/plain": [
       "45901"
      ]
     },
     "execution_count": 87,
     "metadata": {},
     "output_type": "execute_result"
    }
   ],
   "source": [
    "len(vocab)"
   ]
  },
  {
   "cell_type": "code",
   "execution_count": 88,
   "id": "bd242192-42b8-4b8c-b644-1735c523b0dc",
   "metadata": {},
   "outputs": [],
   "source": [
    "#token = [key for key in vocab if vocab[key]>8]\n",
    "#token"
   ]
  },
  {
   "cell_type": "code",
   "execution_count": 89,
   "id": "3b3681bb-3dae-4aa1-8971-280c6c8ca2be",
   "metadata": {},
   "outputs": [],
   "source": [
    "#len(token)"
   ]
  },
  {
   "cell_type": "code",
   "execution_count": 90,
   "id": "fec7ee01-b52c-4b9e-812b-6f3686305d88",
   "metadata": {},
   "outputs": [],
   "source": [
    "def save_vocabulary(lines, filename):\n",
    "    data=\"\\n\".join(lines)\n",
    "    file=open(filename,'w', encoding=\"utf-8\")\n",
    "    file.write(data)\n",
    "    file.close()\n",
    "\n",
    "save_vocabulary(vocab, 'vocabulary.txt')"
   ]
  },
  {
   "cell_type": "code",
   "execution_count": 91,
   "id": "789a678b-833b-4b53-ac9d-024c9b51c4d1",
   "metadata": {},
   "outputs": [],
   "source": [
    "## Seperate the dataset  independent variables and target variable"
   ]
  },
  {
   "cell_type": "code",
   "execution_count": 92,
   "id": "a5d975d2-d5a9-476b-8e54-693c9963c396",
   "metadata": {},
   "outputs": [],
   "source": [
    "x=train_set.drop('label', axis=1)\n",
    "y=train_set['label']"
   ]
  },
  {
   "cell_type": "code",
   "execution_count": 93,
   "id": "355fe502-edc5-4fae-84b4-4cbfd4078a6d",
   "metadata": {},
   "outputs": [
    {
     "data": {
      "text/html": [
       "<div>\n",
       "<style scoped>\n",
       "    .dataframe tbody tr th:only-of-type {\n",
       "        vertical-align: middle;\n",
       "    }\n",
       "\n",
       "    .dataframe tbody tr th {\n",
       "        vertical-align: top;\n",
       "    }\n",
       "\n",
       "    .dataframe thead th {\n",
       "        text-align: right;\n",
       "    }\n",
       "</style>\n",
       "<table border=\"1\" class=\"dataframe\">\n",
       "  <thead>\n",
       "    <tr style=\"text-align: right;\">\n",
       "      <th></th>\n",
       "      <th>title</th>\n",
       "      <th>text</th>\n",
       "      <th>date</th>\n",
       "      <th>source</th>\n",
       "      <th>author</th>\n",
       "      <th>category</th>\n",
       "    </tr>\n",
       "  </thead>\n",
       "  <tbody>\n",
       "    <tr>\n",
       "      <th>5894</th>\n",
       "      <td>age import scientist question onto activ</td>\n",
       "      <td>imag morn whether thought seven offic kitchen ...</td>\n",
       "      <td>2022-05-30</td>\n",
       "      <td>ny time</td>\n",
       "      <td>kimberli martinez</td>\n",
       "      <td>kimberli martinez</td>\n",
       "    </tr>\n",
       "    <tr>\n",
       "      <th>3728</th>\n",
       "      <td>trial candid travel pretti agreement attack me...</td>\n",
       "      <td>recent item success plant dark howev howev pai...</td>\n",
       "      <td>2024-10-20</td>\n",
       "      <td>bbc</td>\n",
       "      <td>mr daniel bailey dd</td>\n",
       "      <td>mr daniel bailey dd</td>\n",
       "    </tr>\n",
       "    <tr>\n",
       "      <th>8958</th>\n",
       "      <td>anim paint interest societi air east total</td>\n",
       "      <td>religi point hour mr cover case sourc season p...</td>\n",
       "      <td>2024-08-25</td>\n",
       "      <td>ny time</td>\n",
       "      <td>kimberli wagner</td>\n",
       "      <td>kimberli wagner</td>\n",
       "    </tr>\n",
       "    <tr>\n",
       "      <th>7671</th>\n",
       "      <td>improv surfac face today fact</td>\n",
       "      <td>road listen add question main head worker gene...</td>\n",
       "      <td>2023-10-07</td>\n",
       "      <td>cnn</td>\n",
       "      <td>charlen harrington</td>\n",
       "      <td>charlen harrington</td>\n",
       "    </tr>\n",
       "    <tr>\n",
       "      <th>5999</th>\n",
       "      <td>famili pressur common behavior</td>\n",
       "      <td>low indic educ support brother suffer owner sp...</td>\n",
       "      <td>2025-03-17</td>\n",
       "      <td>fox news</td>\n",
       "      <td>robert gardner</td>\n",
       "      <td>robert gardner</td>\n",
       "    </tr>\n",
       "  </tbody>\n",
       "</table>\n",
       "</div>"
      ],
      "text/plain": [
       "                                                  title  \\\n",
       "5894           age import scientist question onto activ   \n",
       "3728  trial candid travel pretti agreement attack me...   \n",
       "8958         anim paint interest societi air east total   \n",
       "7671                      improv surfac face today fact   \n",
       "5999                     famili pressur common behavior   \n",
       "\n",
       "                                                   text        date    source  \\\n",
       "5894  imag morn whether thought seven offic kitchen ...  2022-05-30   ny time   \n",
       "3728  recent item success plant dark howev howev pai...  2024-10-20       bbc   \n",
       "8958  religi point hour mr cover case sourc season p...  2024-08-25   ny time   \n",
       "7671  road listen add question main head worker gene...  2023-10-07       cnn   \n",
       "5999  low indic educ support brother suffer owner sp...  2025-03-17  fox news   \n",
       "\n",
       "                   author             category  \n",
       "5894    kimberli martinez    kimberli martinez  \n",
       "3728  mr daniel bailey dd  mr daniel bailey dd  \n",
       "8958      kimberli wagner      kimberli wagner  \n",
       "7671   charlen harrington   charlen harrington  \n",
       "5999       robert gardner       robert gardner  "
      ]
     },
     "execution_count": 93,
     "metadata": {},
     "output_type": "execute_result"
    }
   ],
   "source": [
    "x.head()"
   ]
  },
  {
   "cell_type": "code",
   "execution_count": 94,
   "id": "afea9649-9a9e-4438-a2ef-5765ec4b7378",
   "metadata": {},
   "outputs": [
    {
     "data": {
      "text/plain": [
       "5894    real\n",
       "3728    real\n",
       "8958    fake\n",
       "7671    fake\n",
       "5999    real\n",
       "Name: label, dtype: object"
      ]
     },
     "execution_count": 94,
     "metadata": {},
     "output_type": "execute_result"
    }
   ],
   "source": [
    "y.head()"
   ]
  },
  {
   "cell_type": "code",
   "execution_count": 95,
   "id": "d8bac283-2cda-4539-9417-868cf66582cb",
   "metadata": {},
   "outputs": [],
   "source": [
    "## split the independent features into X_train,X_test,y_train,y_test"
   ]
  },
  {
   "cell_type": "code",
   "execution_count": 96,
   "id": "e6ce1658-97f6-48cb-b371-cc67d6598c86",
   "metadata": {},
   "outputs": [],
   "source": [
    "from sklearn.model_selection import train_test_split\n",
    "\n",
    "X_train,X_test,y_train,y_test=train_test_split(x,y,test_size=0.2, random_state=42)"
   ]
  },
  {
   "cell_type": "code",
   "execution_count": 97,
   "id": "4ecf8917-244b-4d11-aa6b-d5b3e948cc28",
   "metadata": {},
   "outputs": [
    {
     "data": {
      "text/plain": [
       "(12800, 6)"
      ]
     },
     "execution_count": 97,
     "metadata": {},
     "output_type": "execute_result"
    }
   ],
   "source": [
    "X_train.shape"
   ]
  },
  {
   "cell_type": "code",
   "execution_count": 98,
   "id": "1692d6ff-a139-4ec7-bcd3-8a94d42cac5e",
   "metadata": {},
   "outputs": [
    {
     "data": {
      "text/plain": [
       "(12800,)"
      ]
     },
     "execution_count": 98,
     "metadata": {},
     "output_type": "execute_result"
    }
   ],
   "source": [
    "y_train.shape"
   ]
  },
  {
   "cell_type": "code",
   "execution_count": 99,
   "id": "d2228ca9-c6a7-4f71-8e71-56edcc6a0442",
   "metadata": {},
   "outputs": [
    {
     "data": {
      "text/plain": [
       "(3200, 6)"
      ]
     },
     "execution_count": 99,
     "metadata": {},
     "output_type": "execute_result"
    }
   ],
   "source": [
    "X_test.shape"
   ]
  },
  {
   "cell_type": "code",
   "execution_count": 100,
   "id": "d3a5b485-a90a-45f6-8e5c-f15a9905cc9c",
   "metadata": {},
   "outputs": [
    {
     "data": {
      "text/plain": [
       "(3200,)"
      ]
     },
     "execution_count": 100,
     "metadata": {},
     "output_type": "execute_result"
    }
   ],
   "source": [
    "y_test.shape"
   ]
  },
  {
   "cell_type": "code",
   "execution_count": 101,
   "id": "68d1d29c-62f5-4fd3-b20e-5f90dc85e75e",
   "metadata": {},
   "outputs": [
    {
     "data": {
      "text/html": [
       "<div>\n",
       "<style scoped>\n",
       "    .dataframe tbody tr th:only-of-type {\n",
       "        vertical-align: middle;\n",
       "    }\n",
       "\n",
       "    .dataframe tbody tr th {\n",
       "        vertical-align: top;\n",
       "    }\n",
       "\n",
       "    .dataframe thead th {\n",
       "        text-align: right;\n",
       "    }\n",
       "</style>\n",
       "<table border=\"1\" class=\"dataframe\">\n",
       "  <thead>\n",
       "    <tr style=\"text-align: right;\">\n",
       "      <th></th>\n",
       "      <th>title</th>\n",
       "      <th>text</th>\n",
       "      <th>date</th>\n",
       "      <th>source</th>\n",
       "      <th>author</th>\n",
       "      <th>category</th>\n",
       "    </tr>\n",
       "  </thead>\n",
       "  <tbody>\n",
       "    <tr>\n",
       "      <th>252</th>\n",
       "      <td>hope polic budget station anyon</td>\n",
       "      <td>billion simpli know social ok opportun product...</td>\n",
       "      <td>2024-08-15</td>\n",
       "      <td>ny time</td>\n",
       "      <td>ashley miller</td>\n",
       "      <td>ashley miller</td>\n",
       "    </tr>\n",
       "    <tr>\n",
       "      <th>18632</th>\n",
       "      <td>nearli prove none especi</td>\n",
       "      <td>star recogn fill secur movement republican goo...</td>\n",
       "      <td>2024-11-13</td>\n",
       "      <td>ny time</td>\n",
       "      <td>lori hickman</td>\n",
       "      <td>lori hickman</td>\n",
       "    </tr>\n",
       "    <tr>\n",
       "      <th>19138</th>\n",
       "      <td>finish charg world group without</td>\n",
       "      <td>want film tend includ dog exist long bad liste...</td>\n",
       "      <td>2022-07-23</td>\n",
       "      <td>cnn</td>\n",
       "      <td>dana jordan</td>\n",
       "      <td>dana jordan</td>\n",
       "    </tr>\n",
       "    <tr>\n",
       "      <th>1673</th>\n",
       "      <td>develop defens effect sort attorney requir also</td>\n",
       "      <td>money avail abil size arriv power yet elect ow...</td>\n",
       "      <td>2024-02-06</td>\n",
       "      <td>bbc</td>\n",
       "      <td>erika mcdonald</td>\n",
       "      <td>erika mcdonald</td>\n",
       "    </tr>\n",
       "    <tr>\n",
       "      <th>17688</th>\n",
       "      <td>group although</td>\n",
       "      <td>open fire hard away cut societi citi troubl ba...</td>\n",
       "      <td>2024-07-02</td>\n",
       "      <td>ny time</td>\n",
       "      <td>nicol henri</td>\n",
       "      <td>nicol henri</td>\n",
       "    </tr>\n",
       "  </tbody>\n",
       "</table>\n",
       "</div>"
      ],
      "text/plain": [
       "                                                 title  \\\n",
       "252                    hope polic budget station anyon   \n",
       "18632                         nearli prove none especi   \n",
       "19138                 finish charg world group without   \n",
       "1673   develop defens effect sort attorney requir also   \n",
       "17688                                   group although   \n",
       "\n",
       "                                                    text        date   source  \\\n",
       "252    billion simpli know social ok opportun product...  2024-08-15  ny time   \n",
       "18632  star recogn fill secur movement republican goo...  2024-11-13  ny time   \n",
       "19138  want film tend includ dog exist long bad liste...  2022-07-23      cnn   \n",
       "1673   money avail abil size arriv power yet elect ow...  2024-02-06      bbc   \n",
       "17688  open fire hard away cut societi citi troubl ba...  2024-07-02  ny time   \n",
       "\n",
       "               author        category  \n",
       "252     ashley miller   ashley miller  \n",
       "18632    lori hickman    lori hickman  \n",
       "19138     dana jordan     dana jordan  \n",
       "1673   erika mcdonald  erika mcdonald  \n",
       "17688     nicol henri     nicol henri  "
      ]
     },
     "execution_count": 101,
     "metadata": {},
     "output_type": "execute_result"
    }
   ],
   "source": [
    "X_train.head()"
   ]
  },
  {
   "cell_type": "code",
   "execution_count": 102,
   "id": "e3202b29-a4c3-47f0-8c34-826a6ee7131a",
   "metadata": {},
   "outputs": [
    {
     "data": {
      "text/plain": [
       "252      fake\n",
       "18632    fake\n",
       "19138    fake\n",
       "1673     fake\n",
       "17688    fake\n",
       "Name: label, dtype: object"
      ]
     },
     "execution_count": 102,
     "metadata": {},
     "output_type": "execute_result"
    }
   ],
   "source": [
    "y_train.head()"
   ]
  },
  {
   "cell_type": "code",
   "execution_count": 103,
   "id": "43a328d1-fd30-412c-8693-33fbfcacce7d",
   "metadata": {},
   "outputs": [
    {
     "data": {
      "text/plain": [
       "(12800, 6)"
      ]
     },
     "execution_count": 103,
     "metadata": {},
     "output_type": "execute_result"
    }
   ],
   "source": [
    "X_train.shape"
   ]
  },
  {
   "cell_type": "code",
   "execution_count": 104,
   "id": "da1d921e-9583-444e-98b5-e2b07c85dc74",
   "metadata": {},
   "outputs": [
    {
     "data": {
      "text/plain": [
       "(12800,)"
      ]
     },
     "execution_count": 104,
     "metadata": {},
     "output_type": "execute_result"
    }
   ],
   "source": [
    "y_train.shape"
   ]
  },
  {
   "cell_type": "code",
   "execution_count": 105,
   "id": "5c15ceea-d1f2-461d-a3ac-f397bbcebc29",
   "metadata": {},
   "outputs": [],
   "source": [
    "## convert the text into the  numerical values"
   ]
  },
  {
   "cell_type": "code",
   "execution_count": 106,
   "id": "cc7e0414-d9e1-4bd1-b0c3-b1d4da1b1124",
   "metadata": {},
   "outputs": [],
   "source": [
    "import numpy as np\n",
    "\n",
    "def vectorizer(ds, vocabulary):\n",
    "    vectorizer_list = []\n",
    "    vocab_set = set(vocabulary)  # Use a set for faster lookup\n",
    "    \n",
    "    for sentence in ds:\n",
    "        sentence_list = np.zeros(len(vocabulary), dtype=np.float32)  # Use np.float16 to reduce memory usage\n",
    "        sentence_words = set(sentence.split())  # Split and convert sentence to a set to speed up membership checking\n",
    "        \n",
    "        for i, word in enumerate(vocabulary):\n",
    "            if word in sentence_words:  # Check if word exists in the sentence\n",
    "                sentence_list[i] = 1\n",
    "                \n",
    "        vectorizer_list.append(sentence_list)\n",
    "    \n",
    "    # Convert the list to a numpy array only once\n",
    "    vectorizer_list_new = np.asarray(vectorizer_list, dtype=np.float32)\n",
    "    \n",
    "    return vectorizer_list_new"
   ]
  },
  {
   "cell_type": "code",
   "execution_count": 107,
   "id": "2c362e9b-3a1d-49ae-b69c-88c1f02ff4a6",
   "metadata": {},
   "outputs": [
    {
     "data": {
      "text/plain": [
       "(12800, 6)"
      ]
     },
     "execution_count": 107,
     "metadata": {},
     "output_type": "execute_result"
    }
   ],
   "source": [
    "# Example: Combine columns into a single sentence per row\n",
    "X_train = pd.DataFrame(X_train)\n",
    "X_train.shape"
   ]
  },
  {
   "cell_type": "code",
   "execution_count": 108,
   "id": "aca56101-2165-436f-80ab-c083c770fb16",
   "metadata": {},
   "outputs": [
    {
     "data": {
      "text/plain": [
       "12800"
      ]
     },
     "execution_count": 108,
     "metadata": {},
     "output_type": "execute_result"
    }
   ],
   "source": [
    "ds = X_train.astype(str).agg(' '.join, axis=1).tolist() \n",
    "len(ds)"
   ]
  },
  {
   "cell_type": "code",
   "execution_count": 109,
   "id": "c89e9004-1e83-4eea-b563-e08a7cebce3e",
   "metadata": {},
   "outputs": [
    {
     "data": {
      "text/plain": [
       "array([[0., 0., 0., ..., 0., 0., 0.],\n",
       "       [0., 0., 0., ..., 0., 0., 0.],\n",
       "       [0., 0., 0., ..., 0., 0., 0.],\n",
       "       ...,\n",
       "       [0., 0., 0., ..., 0., 0., 0.],\n",
       "       [0., 0., 0., ..., 0., 0., 0.],\n",
       "       [0., 0., 0., ..., 0., 0., 0.]], dtype=float32)"
      ]
     },
     "execution_count": 109,
     "metadata": {},
     "output_type": "execute_result"
    }
   ],
   "source": [
    "vectorized_x_train=vectorizer(ds,vocab)\n",
    "vectorized_x_train"
   ]
  },
  {
   "cell_type": "code",
   "execution_count": 110,
   "id": "768161d5-8df6-4ca5-918f-38b236394f5a",
   "metadata": {},
   "outputs": [
    {
     "data": {
      "text/plain": [
       "(12800, 45901)"
      ]
     },
     "execution_count": 110,
     "metadata": {},
     "output_type": "execute_result"
    }
   ],
   "source": [
    "vectorized_x_train.shape"
   ]
  },
  {
   "cell_type": "code",
   "execution_count": 111,
   "id": "f85defbf-1ad9-4a3a-97b2-a43f4dd2ff48",
   "metadata": {},
   "outputs": [
    {
     "data": {
      "text/plain": [
       "3200"
      ]
     },
     "execution_count": 111,
     "metadata": {},
     "output_type": "execute_result"
    }
   ],
   "source": [
    "ds = X_test.astype(str).agg(' '.join, axis=1).tolist() \n",
    "len(ds)"
   ]
  },
  {
   "cell_type": "code",
   "execution_count": 112,
   "id": "096ebfbc-9f6e-4da9-a14f-a51fb90607c4",
   "metadata": {},
   "outputs": [
    {
     "data": {
      "text/plain": [
       "array([[0., 0., 0., ..., 0., 0., 0.],\n",
       "       [0., 0., 0., ..., 0., 0., 0.],\n",
       "       [0., 0., 0., ..., 0., 0., 0.],\n",
       "       ...,\n",
       "       [0., 0., 0., ..., 0., 0., 0.],\n",
       "       [0., 0., 0., ..., 0., 0., 0.],\n",
       "       [0., 0., 0., ..., 0., 0., 0.]], dtype=float32)"
      ]
     },
     "execution_count": 112,
     "metadata": {},
     "output_type": "execute_result"
    }
   ],
   "source": [
    "vectorized_x_test=vectorizer(ds,vocab)\n",
    "vectorized_x_test"
   ]
  },
  {
   "cell_type": "code",
   "execution_count": 113,
   "id": "23c35b53-1180-4e7c-8271-e8d33b6901ca",
   "metadata": {},
   "outputs": [
    {
     "data": {
      "text/plain": [
       "(3200, 45901)"
      ]
     },
     "execution_count": 113,
     "metadata": {},
     "output_type": "execute_result"
    }
   ],
   "source": [
    "vectorized_x_test.shape"
   ]
  },
  {
   "cell_type": "code",
   "execution_count": 114,
   "id": "574716f5-354e-4dc4-bf5c-cbd8f1750482",
   "metadata": {},
   "outputs": [],
   "source": [
    "## check the valu counts of y_train"
   ]
  },
  {
   "cell_type": "code",
   "execution_count": 115,
   "id": "efd1adb2-54b1-48c5-9b11-31a1d238c191",
   "metadata": {},
   "outputs": [
    {
     "data": {
      "text/plain": [
       "(12800,)"
      ]
     },
     "execution_count": 115,
     "metadata": {},
     "output_type": "execute_result"
    }
   ],
   "source": [
    "y_train.shape"
   ]
  },
  {
   "cell_type": "code",
   "execution_count": 116,
   "id": "9e9c2a9a-5034-44cc-bad5-fd80e9bff299",
   "metadata": {},
   "outputs": [
    {
     "data": {
      "text/plain": [
       "label\n",
       "fake    6447\n",
       "real    6353\n",
       "Name: count, dtype: int64"
      ]
     },
     "execution_count": 116,
     "metadata": {},
     "output_type": "execute_result"
    }
   ],
   "source": [
    "y_train.value_counts()"
   ]
  },
  {
   "cell_type": "code",
   "execution_count": 117,
   "id": "13c449a5-a9a7-4c94-a049-badeae0c0c6d",
   "metadata": {},
   "outputs": [
    {
     "name": "stderr",
     "output_type": "stream",
     "text": [
      "C:\\Users\\THIS PC\\AppData\\Local\\Temp\\ipykernel_34456\\2474439606.py:2: FutureWarning: Series.__getitem__ treating keys as positions is deprecated. In a future version, integer keys will always be treated as labels (consistent with DataFrame behavior). To access a value by position, use `ser.iloc[pos]`\n",
      "  plt.pie(np.array([y_train.value_counts()[0],y_train.value_counts()[1]]), labels=[\"Fake\",\"Real\"])\n",
      "C:\\Users\\THIS PC\\AppData\\Local\\Temp\\ipykernel_34456\\2474439606.py:2: FutureWarning: Series.__getitem__ treating keys as positions is deprecated. In a future version, integer keys will always be treated as labels (consistent with DataFrame behavior). To access a value by position, use `ser.iloc[pos]`\n",
      "  plt.pie(np.array([y_train.value_counts()[0],y_train.value_counts()[1]]), labels=[\"Fake\",\"Real\"])\n"
     ]
    },
    {
     "data": {
      "text/plain": [
       "([<matplotlib.patches.Wedge at 0x21fd13378c0>,\n",
       "  <matplotlib.patches.Wedge at 0x21fcbedcef0>],\n",
       " [Text(-0.012688840613844302, 1.0999268127124988, 'Fake'),\n",
       "  Text(0.012688840613844165, -1.0999268127124988, 'Real')])"
      ]
     },
     "execution_count": 117,
     "metadata": {},
     "output_type": "execute_result"
    },
    {
     "data": {
      "image/png": "[encoded data removed]",
      "text/plain": [
       "<Figure size 640x480 with 1 Axes>"
      ]
     },
     "metadata": {},
     "output_type": "display_data"
    }
   ],
   "source": [
    "import matplotlib.pyplot as plt\n",
    "plt.pie(np.array([y_train.value_counts()[0],y_train.value_counts()[1]]), labels=[\"Fake\",\"Real\"])"
   ]
  },
  {
   "cell_type": "code",
   "execution_count": 118,
   "id": "b5e898ab-1bb0-4882-aa59-64093a29e0e1",
   "metadata": {},
   "outputs": [],
   "source": [
    " ## Handle the imbalance dataset"
   ]
  },
  {
   "cell_type": "code",
   "execution_count": 119,
   "id": "8120704a-77ba-4eb6-900c-f39db57c20cc",
   "metadata": {},
   "outputs": [
    {
     "name": "stderr",
     "output_type": "stream",
     "text": [
      "C:\\Users\\THIS PC\\AppData\\Local\\Programs\\Python\\Python312\\Lib\\site-packages\\sklearn\\base.py:474: FutureWarning: `BaseEstimator._validate_data` is deprecated in 1.6 and will be removed in 1.7. Use `sklearn.utils.validation.validate_data` instead. This function becomes public and is part of the scikit-learn developer API.\n",
      "  warnings.warn(\n"
     ]
    },
    {
     "name": "stdout",
     "output_type": "stream",
     "text": [
      "(12894, 45901) (12894,)\n"
     ]
    }
   ],
   "source": [
    "from imblearn.over_sampling import SMOTE\n",
    "smote=SMOTE()\n",
    "vectorized_x_train_smote,y_train_smote=smote.fit_resample(vectorized_x_train,y_train)\n",
    "print(vectorized_x_train_smote.shape,y_train_smote.shape)"
   ]
  },
  {
   "cell_type": "code",
   "execution_count": 120,
   "id": "ff383848-8331-4504-8c01-30b6bd1a1794",
   "metadata": {},
   "outputs": [],
   "source": [
    "## convert the y_train_smote valuues into numerical values"
   ]
  },
  {
   "cell_type": "code",
   "execution_count": 121,
   "id": "0b0b6252-306e-4329-a6c6-00be7a33a744",
   "metadata": {},
   "outputs": [
    {
     "data": {
      "text/plain": [
       "array([0, 0, 0, ..., 1, 1, 1])"
      ]
     },
     "execution_count": 121,
     "metadata": {},
     "output_type": "execute_result"
    }
   ],
   "source": [
    "from sklearn.preprocessing import LabelEncoder\n",
    "label_ob=LabelEncoder()\n",
    "encoded_target_label=label_ob.fit_transform(y_train_smote)\n",
    "encoded_target_label"
   ]
  },
  {
   "cell_type": "markdown",
   "id": "7817b647-55b9-4eec-998a-a96c0a264cbf",
   "metadata": {},
   "source": [
    "## ANN (Artificial Neural Network)"
   ]
  },
  {
   "cell_type": "code",
   "execution_count": 171,
   "id": "6c479a07-7c0e-4344-93db-f4f701dab7ac",
   "metadata": {},
   "outputs": [],
   "source": [
    "import tensorflow as tf\n",
    "\n",
    "\n",
    "model=tf.keras.Sequential([\n",
    "    tf.keras.layers.Dense(16, input_shape=(45901,)),\n",
    "    tf.keras.layers.Dense(32, activation='relu'),\n",
    "    tf.keras.layers.Dense(64, activation='relu'),\n",
    "    tf.keras.layers.Dense(128, activation='sigmoid'),\n",
    "    tf.keras.layers.Dense(1, activation='sigmoid')\n",
    "\n",
    "])\n",
    "\n",
    "model.compile(\n",
    "    loss='binary_crossentropy',\n",
    "    optimizer=tf.keras.optimizers.Adam(learning_rate=0.001),\n",
    "    metrics=['accuracy']\n",
    ")"
   ]
  },
  {
   "cell_type": "code",
   "execution_count": 173,
   "id": "1fa82961-a306-4481-bc0f-e00fba5c9f25",
   "metadata": {},
   "outputs": [
    {
     "name": "stdout",
     "output_type": "stream",
     "text": [
      "Epoch 1/150\n",
      "\u001b[1m1290/1290\u001b[0m \u001b[32m━━━━━━━━━━━━━━━━━━━━\u001b[0m\u001b[37m\u001b[0m \u001b[1m11s\u001b[0m 8ms/step - accuracy: 0.7991 - loss: 0.4095\n",
      "Epoch 2/150\n",
      "\u001b[1m1290/1290\u001b[0m \u001b[32m━━━━━━━━━━━━━━━━━━━━\u001b[0m\u001b[37m\u001b[0m \u001b[1m10s\u001b[0m 8ms/step - accuracy: 0.8026 - loss: 0.4033\n",
      "Epoch 3/150\n",
      "\u001b[1m1290/1290\u001b[0m \u001b[32m━━━━━━━━━━━━━━━━━━━━\u001b[0m\u001b[37m\u001b[0m \u001b[1m11s\u001b[0m 8ms/step - accuracy: 0.8058 - loss: 0.3991\n",
      "Epoch 4/150\n",
      "\u001b[1m1290/1290\u001b[0m \u001b[32m━━━━━━━━━━━━━━━━━━━━\u001b[0m\u001b[37m\u001b[0m \u001b[1m11s\u001b[0m 9ms/step - accuracy: 0.8058 - loss: 0.4030\n",
      "Epoch 5/150\n",
      "\u001b[1m1290/1290\u001b[0m \u001b[32m━━━━━━━━━━━━━━━━━━━━\u001b[0m\u001b[37m\u001b[0m \u001b[1m11s\u001b[0m 8ms/step - accuracy: 0.8088 - loss: 0.3994\n",
      "Epoch 6/150\n",
      "\u001b[1m1290/1290\u001b[0m \u001b[32m━━━━━━━━━━━━━━━━━━━━\u001b[0m\u001b[37m\u001b[0m \u001b[1m10s\u001b[0m 8ms/step - accuracy: 0.8073 - loss: 0.3966\n",
      "Epoch 7/150\n",
      "\u001b[1m1290/1290\u001b[0m \u001b[32m━━━━━━━━━━━━━━━━━━━━\u001b[0m\u001b[37m\u001b[0m \u001b[1m11s\u001b[0m 8ms/step - accuracy: 0.8077 - loss: 0.3972\n",
      "Epoch 8/150\n",
      "\u001b[1m1290/1290\u001b[0m \u001b[32m━━━━━━━━━━━━━━━━━━━━\u001b[0m\u001b[37m\u001b[0m \u001b[1m14s\u001b[0m 11ms/step - accuracy: 0.8053 - loss: 0.3931\n",
      "Epoch 9/150\n",
      "\u001b[1m1290/1290\u001b[0m \u001b[32m━━━━━━━━━━━━━━━━━━━━\u001b[0m\u001b[37m\u001b[0m \u001b[1m10s\u001b[0m 8ms/step - accuracy: 0.8084 - loss: 0.3967\n",
      "Epoch 10/150\n",
      "\u001b[1m1290/1290\u001b[0m \u001b[32m━━━━━━━━━━━━━━━━━━━━\u001b[0m\u001b[37m\u001b[0m \u001b[1m11s\u001b[0m 8ms/step - accuracy: 0.8059 - loss: 0.3968\n",
      "Epoch 11/150\n",
      "\u001b[1m1290/1290\u001b[0m \u001b[32m━━━━━━━━━━━━━━━━━━━━\u001b[0m\u001b[37m\u001b[0m \u001b[1m10s\u001b[0m 8ms/step - accuracy: 0.8027 - loss: 0.4035\n",
      "Epoch 12/150\n",
      "\u001b[1m1290/1290\u001b[0m \u001b[32m━━━━━━━━━━━━━━━━━━━━\u001b[0m\u001b[37m\u001b[0m \u001b[1m13s\u001b[0m 10ms/step - accuracy: 0.8083 - loss: 0.3909\n",
      "Epoch 13/150\n",
      "\u001b[1m1290/1290\u001b[0m \u001b[32m━━━━━━━━━━━━━━━━━━━━\u001b[0m\u001b[37m\u001b[0m \u001b[1m11s\u001b[0m 8ms/step - accuracy: 0.8048 - loss: 0.4046\n",
      "Epoch 14/150\n",
      "\u001b[1m1290/1290\u001b[0m \u001b[32m━━━━━━━━━━━━━━━━━━━━\u001b[0m\u001b[37m\u001b[0m \u001b[1m10s\u001b[0m 8ms/step - accuracy: 0.8066 - loss: 0.3894\n",
      "Epoch 15/150\n",
      "\u001b[1m1290/1290\u001b[0m \u001b[32m━━━━━━━━━━━━━━━━━━━━\u001b[0m\u001b[37m\u001b[0m \u001b[1m10s\u001b[0m 8ms/step - accuracy: 0.8055 - loss: 0.3986\n",
      "Epoch 16/150\n",
      "\u001b[1m1290/1290\u001b[0m \u001b[32m━━━━━━━━━━━━━━━━━━━━\u001b[0m\u001b[37m\u001b[0m \u001b[1m10s\u001b[0m 8ms/step - accuracy: 0.8092 - loss: 0.3883\n",
      "Epoch 17/150\n",
      "\u001b[1m1290/1290\u001b[0m \u001b[32m━━━━━━━━━━━━━━━━━━━━\u001b[0m\u001b[37m\u001b[0m \u001b[1m10s\u001b[0m 8ms/step - accuracy: 0.8090 - loss: 0.3898\n",
      "Epoch 18/150\n",
      "\u001b[1m1290/1290\u001b[0m \u001b[32m━━━━━━━━━━━━━━━━━━━━\u001b[0m\u001b[37m\u001b[0m \u001b[1m14s\u001b[0m 11ms/step - accuracy: 0.8134 - loss: 0.3795\n",
      "Epoch 19/150\n",
      "\u001b[1m1290/1290\u001b[0m \u001b[32m━━━━━━━━━━━━━━━━━━━━\u001b[0m\u001b[37m\u001b[0m \u001b[1m14s\u001b[0m 11ms/step - accuracy: 0.8189 - loss: 0.3790\n",
      "Epoch 20/150\n",
      "\u001b[1m1290/1290\u001b[0m \u001b[32m━━━━━━━━━━━━━━━━━━━━\u001b[0m\u001b[37m\u001b[0m \u001b[1m12s\u001b[0m 10ms/step - accuracy: 0.8126 - loss: 0.3794\n",
      "Epoch 21/150\n",
      "\u001b[1m1290/1290\u001b[0m \u001b[32m━━━━━━━━━━━━━━━━━━━━\u001b[0m\u001b[37m\u001b[0m \u001b[1m12s\u001b[0m 9ms/step - accuracy: 0.8139 - loss: 0.3787\n",
      "Epoch 22/150\n",
      "\u001b[1m1290/1290\u001b[0m \u001b[32m━━━━━━━━━━━━━━━━━━━━\u001b[0m\u001b[37m\u001b[0m \u001b[1m10s\u001b[0m 8ms/step - accuracy: 0.8177 - loss: 0.3830\n",
      "Epoch 23/150\n",
      "\u001b[1m1290/1290\u001b[0m \u001b[32m━━━━━━━━━━━━━━━━━━━━\u001b[0m\u001b[37m\u001b[0m \u001b[1m10s\u001b[0m 7ms/step - accuracy: 0.8114 - loss: 0.3797\n",
      "Epoch 24/150\n",
      "\u001b[1m1290/1290\u001b[0m \u001b[32m━━━━━━━━━━━━━━━━━━━━\u001b[0m\u001b[37m\u001b[0m \u001b[1m10s\u001b[0m 8ms/step - accuracy: 0.8102 - loss: 0.3835\n",
      "Epoch 25/150\n",
      "\u001b[1m1290/1290\u001b[0m \u001b[32m━━━━━━━━━━━━━━━━━━━━\u001b[0m\u001b[37m\u001b[0m \u001b[1m10s\u001b[0m 8ms/step - accuracy: 0.8186 - loss: 0.3785\n",
      "Epoch 26/150\n",
      "\u001b[1m1290/1290\u001b[0m \u001b[32m━━━━━━━━━━━━━━━━━━━━\u001b[0m\u001b[37m\u001b[0m \u001b[1m10s\u001b[0m 8ms/step - accuracy: 0.8195 - loss: 0.3704\n",
      "Epoch 27/150\n",
      "\u001b[1m1290/1290\u001b[0m \u001b[32m━━━━━━━━━━━━━━━━━━━━\u001b[0m\u001b[37m\u001b[0m \u001b[1m10s\u001b[0m 7ms/step - accuracy: 0.8107 - loss: 0.3801\n",
      "Epoch 28/150\n",
      "\u001b[1m1290/1290\u001b[0m \u001b[32m━━━━━━━━━━━━━━━━━━━━\u001b[0m\u001b[37m\u001b[0m \u001b[1m9s\u001b[0m 7ms/step - accuracy: 0.8147 - loss: 0.3737\n",
      "Epoch 29/150\n",
      "\u001b[1m1290/1290\u001b[0m \u001b[32m━━━━━━━━━━━━━━━━━━━━\u001b[0m\u001b[37m\u001b[0m \u001b[1m9s\u001b[0m 7ms/step - accuracy: 0.8217 - loss: 0.3699\n",
      "Epoch 30/150\n",
      "\u001b[1m1290/1290\u001b[0m \u001b[32m━━━━━━━━━━━━━━━━━━━━\u001b[0m\u001b[37m\u001b[0m \u001b[1m10s\u001b[0m 8ms/step - accuracy: 0.8206 - loss: 0.3716\n",
      "Epoch 31/150\n",
      "\u001b[1m1290/1290\u001b[0m \u001b[32m━━━━━━━━━━━━━━━━━━━━\u001b[0m\u001b[37m\u001b[0m \u001b[1m9s\u001b[0m 7ms/step - accuracy: 0.8231 - loss: 0.3716\n",
      "Epoch 32/150\n",
      "\u001b[1m1290/1290\u001b[0m \u001b[32m━━━━━━━━━━━━━━━━━━━━\u001b[0m\u001b[37m\u001b[0m \u001b[1m10s\u001b[0m 8ms/step - accuracy: 0.8214 - loss: 0.3728\n",
      "Epoch 33/150\n",
      "\u001b[1m1290/1290\u001b[0m \u001b[32m━━━━━━━━━━━━━━━━━━━━\u001b[0m\u001b[37m\u001b[0m \u001b[1m13s\u001b[0m 10ms/step - accuracy: 0.8238 - loss: 0.3735\n",
      "Epoch 34/150\n",
      "\u001b[1m1290/1290\u001b[0m \u001b[32m━━━━━━━━━━━━━━━━━━━━\u001b[0m\u001b[37m\u001b[0m \u001b[1m10s\u001b[0m 8ms/step - accuracy: 0.8183 - loss: 0.3724\n",
      "Epoch 35/150\n",
      "\u001b[1m1290/1290\u001b[0m \u001b[32m━━━━━━━━━━━━━━━━━━━━\u001b[0m\u001b[37m\u001b[0m \u001b[1m9s\u001b[0m 7ms/step - accuracy: 0.8240 - loss: 0.3649\n",
      "Epoch 36/150\n",
      "\u001b[1m1290/1290\u001b[0m \u001b[32m━━━━━━━━━━━━━━━━━━━━\u001b[0m\u001b[37m\u001b[0m \u001b[1m13s\u001b[0m 10ms/step - accuracy: 0.8228 - loss: 0.3623\n",
      "Epoch 37/150\n",
      "\u001b[1m1290/1290\u001b[0m \u001b[32m━━━━━━━━━━━━━━━━━━━━\u001b[0m\u001b[37m\u001b[0m \u001b[1m10s\u001b[0m 8ms/step - accuracy: 0.8266 - loss: 0.3653\n",
      "Epoch 38/150\n",
      "\u001b[1m1290/1290\u001b[0m \u001b[32m━━━━━━━━━━━━━━━━━━━━\u001b[0m\u001b[37m\u001b[0m \u001b[1m10s\u001b[0m 8ms/step - accuracy: 0.8214 - loss: 0.3726\n",
      "Epoch 39/150\n",
      "\u001b[1m1290/1290\u001b[0m \u001b[32m━━━━━━━━━━━━━━━━━━━━\u001b[0m\u001b[37m\u001b[0m \u001b[1m10s\u001b[0m 8ms/step - accuracy: 0.8249 - loss: 0.3601\n",
      "Epoch 40/150\n",
      "\u001b[1m1290/1290\u001b[0m \u001b[32m━━━━━━━━━━━━━━━━━━━━\u001b[0m\u001b[37m\u001b[0m \u001b[1m11s\u001b[0m 8ms/step - accuracy: 0.8301 - loss: 0.3607\n",
      "Epoch 41/150\n",
      "\u001b[1m1290/1290\u001b[0m \u001b[32m━━━━━━━━━━━━━━━━━━━━\u001b[0m\u001b[37m\u001b[0m \u001b[1m9s\u001b[0m 7ms/step - accuracy: 0.8190 - loss: 0.3701\n",
      "Epoch 42/150\n",
      "\u001b[1m1290/1290\u001b[0m \u001b[32m━━━━━━━━━━━━━━━━━━━━\u001b[0m\u001b[37m\u001b[0m \u001b[1m10s\u001b[0m 8ms/step - accuracy: 0.8363 - loss: 0.3531\n",
      "Epoch 43/150\n",
      "\u001b[1m1290/1290\u001b[0m \u001b[32m━━━━━━━━━━━━━━━━━━━━\u001b[0m\u001b[37m\u001b[0m \u001b[1m10s\u001b[0m 8ms/step - accuracy: 0.8296 - loss: 0.3545\n",
      "Epoch 44/150\n",
      "\u001b[1m1290/1290\u001b[0m \u001b[32m━━━━━━━━━━━━━━━━━━━━\u001b[0m\u001b[37m\u001b[0m \u001b[1m12s\u001b[0m 9ms/step - accuracy: 0.8298 - loss: 0.3562\n",
      "Epoch 45/150\n",
      "\u001b[1m1290/1290\u001b[0m \u001b[32m━━━━━━━━━━━━━━━━━━━━\u001b[0m\u001b[37m\u001b[0m \u001b[1m11s\u001b[0m 9ms/step - accuracy: 0.8320 - loss: 0.3493\n",
      "Epoch 46/150\n",
      "\u001b[1m1290/1290\u001b[0m \u001b[32m━━━━━━━━━━━━━━━━━━━━\u001b[0m\u001b[37m\u001b[0m \u001b[1m10s\u001b[0m 8ms/step - accuracy: 0.8307 - loss: 0.3595\n",
      "Epoch 47/150\n",
      "\u001b[1m1290/1290\u001b[0m \u001b[32m━━━━━━━━━━━━━━━━━━━━\u001b[0m\u001b[37m\u001b[0m \u001b[1m10s\u001b[0m 8ms/step - accuracy: 0.8285 - loss: 0.3507\n",
      "Epoch 48/150\n",
      "\u001b[1m1290/1290\u001b[0m \u001b[32m━━━━━━━━━━━━━━━━━━━━\u001b[0m\u001b[37m\u001b[0m \u001b[1m10s\u001b[0m 8ms/step - accuracy: 0.8391 - loss: 0.3446\n",
      "Epoch 49/150\n",
      "\u001b[1m1290/1290\u001b[0m \u001b[32m━━━━━━━━━━━━━━━━━━━━\u001b[0m\u001b[37m\u001b[0m \u001b[1m10s\u001b[0m 8ms/step - accuracy: 0.8312 - loss: 0.3471\n",
      "Epoch 50/150\n",
      "\u001b[1m1290/1290\u001b[0m \u001b[32m━━━━━━━━━━━━━━━━━━━━\u001b[0m\u001b[37m\u001b[0m \u001b[1m10s\u001b[0m 8ms/step - accuracy: 0.8286 - loss: 0.3556\n",
      "Epoch 51/150\n",
      "\u001b[1m1290/1290\u001b[0m \u001b[32m━━━━━━━━━━━━━━━━━━━━\u001b[0m\u001b[37m\u001b[0m \u001b[1m10s\u001b[0m 7ms/step - accuracy: 0.8372 - loss: 0.3496\n",
      "Epoch 52/150\n",
      "\u001b[1m1290/1290\u001b[0m \u001b[32m━━━━━━━━━━━━━━━━━━━━\u001b[0m\u001b[37m\u001b[0m \u001b[1m10s\u001b[0m 8ms/step - accuracy: 0.8345 - loss: 0.3497\n",
      "Epoch 53/150\n",
      "\u001b[1m1290/1290\u001b[0m \u001b[32m━━━━━━━━━━━━━━━━━━━━\u001b[0m\u001b[37m\u001b[0m \u001b[1m10s\u001b[0m 7ms/step - accuracy: 0.8411 - loss: 0.3414\n",
      "Epoch 54/150\n",
      "\u001b[1m1290/1290\u001b[0m \u001b[32m━━━━━━━━━━━━━━━━━━━━\u001b[0m\u001b[37m\u001b[0m \u001b[1m10s\u001b[0m 8ms/step - accuracy: 0.8348 - loss: 0.3459\n",
      "Epoch 55/150\n",
      "\u001b[1m1290/1290\u001b[0m \u001b[32m━━━━━━━━━━━━━━━━━━━━\u001b[0m\u001b[37m\u001b[0m \u001b[1m10s\u001b[0m 8ms/step - accuracy: 0.8414 - loss: 0.3380\n",
      "Epoch 56/150\n",
      "\u001b[1m1290/1290\u001b[0m \u001b[32m━━━━━━━━━━━━━━━━━━━━\u001b[0m\u001b[37m\u001b[0m \u001b[1m11s\u001b[0m 8ms/step - accuracy: 0.8387 - loss: 0.3396\n",
      "Epoch 57/150\n",
      "\u001b[1m1290/1290\u001b[0m \u001b[32m━━━━━━━━━━━━━━━━━━━━\u001b[0m\u001b[37m\u001b[0m \u001b[1m10s\u001b[0m 8ms/step - accuracy: 0.8383 - loss: 0.3435\n",
      "Epoch 58/150\n",
      "\u001b[1m1290/1290\u001b[0m \u001b[32m━━━━━━━━━━━━━━━━━━━━\u001b[0m\u001b[37m\u001b[0m \u001b[1m10s\u001b[0m 8ms/step - accuracy: 0.8363 - loss: 0.3424\n",
      "Epoch 59/150\n",
      "\u001b[1m1290/1290\u001b[0m \u001b[32m━━━━━━━━━━━━━━━━━━━━\u001b[0m\u001b[37m\u001b[0m \u001b[1m10s\u001b[0m 8ms/step - accuracy: 0.8334 - loss: 0.3478\n",
      "Epoch 60/150\n",
      "\u001b[1m1290/1290\u001b[0m \u001b[32m━━━━━━━━━━━━━━━━━━━━\u001b[0m\u001b[37m\u001b[0m \u001b[1m10s\u001b[0m 8ms/step - accuracy: 0.8404 - loss: 0.3370\n",
      "Epoch 61/150\n",
      "\u001b[1m1290/1290\u001b[0m \u001b[32m━━━━━━━━━━━━━━━━━━━━\u001b[0m\u001b[37m\u001b[0m \u001b[1m9s\u001b[0m 7ms/step - accuracy: 0.8452 - loss: 0.3273\n",
      "Epoch 62/150\n",
      "\u001b[1m1290/1290\u001b[0m \u001b[32m━━━━━━━━━━━━━━━━━━━━\u001b[0m\u001b[37m\u001b[0m \u001b[1m9s\u001b[0m 7ms/step - accuracy: 0.8422 - loss: 0.3301\n",
      "Epoch 63/150\n",
      "\u001b[1m1290/1290\u001b[0m \u001b[32m━━━━━━━━━━━━━━━━━━━━\u001b[0m\u001b[37m\u001b[0m \u001b[1m9s\u001b[0m 7ms/step - accuracy: 0.8460 - loss: 0.3229\n",
      "Epoch 64/150\n",
      "\u001b[1m1290/1290\u001b[0m \u001b[32m━━━━━━━━━━━━━━━━━━━━\u001b[0m\u001b[37m\u001b[0m \u001b[1m9s\u001b[0m 7ms/step - accuracy: 0.8399 - loss: 0.3350\n",
      "Epoch 65/150\n",
      "\u001b[1m1290/1290\u001b[0m \u001b[32m━━━━━━━━━━━━━━━━━━━━\u001b[0m\u001b[37m\u001b[0m \u001b[1m10s\u001b[0m 8ms/step - accuracy: 0.8475 - loss: 0.3217\n",
      "Epoch 66/150\n",
      "\u001b[1m1290/1290\u001b[0m \u001b[32m━━━━━━━━━━━━━━━━━━━━\u001b[0m\u001b[37m\u001b[0m \u001b[1m9s\u001b[0m 7ms/step - accuracy: 0.8389 - loss: 0.3349\n",
      "Epoch 67/150\n",
      "\u001b[1m1290/1290\u001b[0m \u001b[32m━━━━━━━━━━━━━━━━━━━━\u001b[0m\u001b[37m\u001b[0m \u001b[1m10s\u001b[0m 8ms/step - accuracy: 0.8503 - loss: 0.3204\n",
      "Epoch 68/150\n",
      "\u001b[1m1290/1290\u001b[0m \u001b[32m━━━━━━━━━━━━━━━━━━━━\u001b[0m\u001b[37m\u001b[0m \u001b[1m11s\u001b[0m 8ms/step - accuracy: 0.8439 - loss: 0.3197\n",
      "Epoch 69/150\n",
      "\u001b[1m1290/1290\u001b[0m \u001b[32m━━━━━━━━━━━━━━━━━━━━\u001b[0m\u001b[37m\u001b[0m \u001b[1m10s\u001b[0m 8ms/step - accuracy: 0.8354 - loss: 0.3415\n",
      "Epoch 70/150\n",
      "\u001b[1m1290/1290\u001b[0m \u001b[32m━━━━━━━━━━━━━━━━━━━━\u001b[0m\u001b[37m\u001b[0m \u001b[1m9s\u001b[0m 7ms/step - accuracy: 0.8519 - loss: 0.3213\n",
      "Epoch 71/150\n",
      "\u001b[1m1290/1290\u001b[0m \u001b[32m━━━━━━━━━━━━━━━━━━━━\u001b[0m\u001b[37m\u001b[0m \u001b[1m10s\u001b[0m 8ms/step - accuracy: 0.8431 - loss: 0.3285\n",
      "Epoch 72/150\n",
      "\u001b[1m1290/1290\u001b[0m \u001b[32m━━━━━━━━━━━━━━━━━━━━\u001b[0m\u001b[37m\u001b[0m \u001b[1m10s\u001b[0m 8ms/step - accuracy: 0.8448 - loss: 0.3266\n",
      "Epoch 73/150\n",
      "\u001b[1m1290/1290\u001b[0m \u001b[32m━━━━━━━━━━━━━━━━━━━━\u001b[0m\u001b[37m\u001b[0m \u001b[1m10s\u001b[0m 8ms/step - accuracy: 0.8431 - loss: 0.3254\n",
      "Epoch 74/150\n",
      "\u001b[1m1290/1290\u001b[0m \u001b[32m━━━━━━━━━━━━━━━━━━━━\u001b[0m\u001b[37m\u001b[0m \u001b[1m10s\u001b[0m 8ms/step - accuracy: 0.8522 - loss: 0.3149\n",
      "Epoch 75/150\n",
      "\u001b[1m1290/1290\u001b[0m \u001b[32m━━━━━━━━━━━━━━━━━━━━\u001b[0m\u001b[37m\u001b[0m \u001b[1m9s\u001b[0m 7ms/step - accuracy: 0.8447 - loss: 0.3208\n",
      "Epoch 76/150\n",
      "\u001b[1m1290/1290\u001b[0m \u001b[32m━━━━━━━━━━━━━━━━━━━━\u001b[0m\u001b[37m\u001b[0m \u001b[1m11s\u001b[0m 8ms/step - accuracy: 0.8567 - loss: 0.3060\n",
      "Epoch 77/150\n",
      "\u001b[1m1290/1290\u001b[0m \u001b[32m━━━━━━━━━━━━━━━━━━━━\u001b[0m\u001b[37m\u001b[0m \u001b[1m9s\u001b[0m 7ms/step - accuracy: 0.8451 - loss: 0.3295\n",
      "Epoch 78/150\n",
      "\u001b[1m1290/1290\u001b[0m \u001b[32m━━━━━━━━━━━━━━━━━━━━\u001b[0m\u001b[37m\u001b[0m \u001b[1m9s\u001b[0m 7ms/step - accuracy: 0.8452 - loss: 0.3238\n",
      "Epoch 79/150\n",
      "\u001b[1m1290/1290\u001b[0m \u001b[32m━━━━━━━━━━━━━━━━━━━━\u001b[0m\u001b[37m\u001b[0m \u001b[1m10s\u001b[0m 7ms/step - accuracy: 0.8520 - loss: 0.3067\n",
      "Epoch 80/150\n",
      "\u001b[1m1290/1290\u001b[0m \u001b[32m━━━━━━━━━━━━━━━━━━━━\u001b[0m\u001b[37m\u001b[0m \u001b[1m9s\u001b[0m 7ms/step - accuracy: 0.8562 - loss: 0.3061\n",
      "Epoch 81/150\n",
      "\u001b[1m1290/1290\u001b[0m \u001b[32m━━━━━━━━━━━━━━━━━━━━\u001b[0m\u001b[37m\u001b[0m \u001b[1m9s\u001b[0m 7ms/step - accuracy: 0.8524 - loss: 0.3157\n",
      "Epoch 82/150\n",
      "\u001b[1m1290/1290\u001b[0m \u001b[32m━━━━━━━━━━━━━━━━━━━━\u001b[0m\u001b[37m\u001b[0m \u001b[1m10s\u001b[0m 7ms/step - accuracy: 0.8511 - loss: 0.3050\n",
      "Epoch 83/150\n",
      "\u001b[1m1290/1290\u001b[0m \u001b[32m━━━━━━━━━━━━━━━━━━━━\u001b[0m\u001b[37m\u001b[0m \u001b[1m10s\u001b[0m 8ms/step - accuracy: 0.8629 - loss: 0.2982\n",
      "Epoch 84/150\n",
      "\u001b[1m1290/1290\u001b[0m \u001b[32m━━━━━━━━━━━━━━━━━━━━\u001b[0m\u001b[37m\u001b[0m \u001b[1m11s\u001b[0m 9ms/step - accuracy: 0.8522 - loss: 0.3060\n",
      "Epoch 85/150\n",
      "\u001b[1m1290/1290\u001b[0m \u001b[32m━━━━━━━━━━━━━━━━━━━━\u001b[0m\u001b[37m\u001b[0m \u001b[1m11s\u001b[0m 8ms/step - accuracy: 0.8573 - loss: 0.3072\n",
      "Epoch 86/150\n",
      "\u001b[1m1290/1290\u001b[0m \u001b[32m━━━━━━━━━━━━━━━━━━━━\u001b[0m\u001b[37m\u001b[0m \u001b[1m11s\u001b[0m 8ms/step - accuracy: 0.8604 - loss: 0.2986\n",
      "Epoch 87/150\n",
      "\u001b[1m1290/1290\u001b[0m \u001b[32m━━━━━━━━━━━━━━━━━━━━\u001b[0m\u001b[37m\u001b[0m \u001b[1m10s\u001b[0m 8ms/step - accuracy: 0.8547 - loss: 0.3051\n",
      "Epoch 88/150\n",
      "\u001b[1m1290/1290\u001b[0m \u001b[32m━━━━━━━━━━━━━━━━━━━━\u001b[0m\u001b[37m\u001b[0m \u001b[1m12s\u001b[0m 9ms/step - accuracy: 0.8622 - loss: 0.2906\n",
      "Epoch 89/150\n",
      "\u001b[1m1290/1290\u001b[0m \u001b[32m━━━━━━━━━━━━━━━━━━━━\u001b[0m\u001b[37m\u001b[0m \u001b[1m12s\u001b[0m 9ms/step - accuracy: 0.8606 - loss: 0.3005\n",
      "Epoch 90/150\n",
      "\u001b[1m1290/1290\u001b[0m \u001b[32m━━━━━━━━━━━━━━━━━━━━\u001b[0m\u001b[37m\u001b[0m \u001b[1m13s\u001b[0m 10ms/step - accuracy: 0.8643 - loss: 0.2819\n",
      "Epoch 91/150\n",
      "\u001b[1m1290/1290\u001b[0m \u001b[32m━━━━━━━━━━━━━━━━━━━━\u001b[0m\u001b[37m\u001b[0m \u001b[1m15s\u001b[0m 12ms/step - accuracy: 0.8597 - loss: 0.2991\n",
      "Epoch 92/150\n",
      "\u001b[1m1290/1290\u001b[0m \u001b[32m━━━━━━━━━━━━━━━━━━━━\u001b[0m\u001b[37m\u001b[0m \u001b[1m14s\u001b[0m 10ms/step - accuracy: 0.8570 - loss: 0.3003\n",
      "Epoch 93/150\n",
      "\u001b[1m1290/1290\u001b[0m \u001b[32m━━━━━━━━━━━━━━━━━━━━\u001b[0m\u001b[37m\u001b[0m \u001b[1m13s\u001b[0m 10ms/step - accuracy: 0.8634 - loss: 0.2883\n",
      "Epoch 94/150\n",
      "\u001b[1m1290/1290\u001b[0m \u001b[32m━━━━━━━━━━━━━━━━━━━━\u001b[0m\u001b[37m\u001b[0m \u001b[1m11s\u001b[0m 9ms/step - accuracy: 0.8677 - loss: 0.2885\n",
      "Epoch 95/150\n",
      "\u001b[1m1290/1290\u001b[0m \u001b[32m━━━━━━━━━━━━━━━━━━━━\u001b[0m\u001b[37m\u001b[0m \u001b[1m13s\u001b[0m 10ms/step - accuracy: 0.8652 - loss: 0.2885\n",
      "Epoch 96/150\n",
      "\u001b[1m1290/1290\u001b[0m \u001b[32m━━━━━━━━━━━━━━━━━━━━\u001b[0m\u001b[37m\u001b[0m \u001b[1m12s\u001b[0m 9ms/step - accuracy: 0.8774 - loss: 0.2694\n",
      "Epoch 97/150\n",
      "\u001b[1m1290/1290\u001b[0m \u001b[32m━━━━━━━━━━━━━━━━━━━━\u001b[0m\u001b[37m\u001b[0m \u001b[1m11s\u001b[0m 9ms/step - accuracy: 0.8666 - loss: 0.2862\n",
      "Epoch 98/150\n",
      "\u001b[1m1290/1290\u001b[0m \u001b[32m━━━━━━━━━━━━━━━━━━━━\u001b[0m\u001b[37m\u001b[0m \u001b[1m11s\u001b[0m 9ms/step - accuracy: 0.8602 - loss: 0.2986\n",
      "Epoch 99/150\n",
      "\u001b[1m1290/1290\u001b[0m \u001b[32m━━━━━━━━━━━━━━━━━━━━\u001b[0m\u001b[37m\u001b[0m \u001b[1m11s\u001b[0m 8ms/step - accuracy: 0.8750 - loss: 0.2726\n",
      "Epoch 100/150\n",
      "\u001b[1m1290/1290\u001b[0m \u001b[32m━━━━━━━━━━━━━━━━━━━━\u001b[0m\u001b[37m\u001b[0m \u001b[1m12s\u001b[0m 9ms/step - accuracy: 0.8672 - loss: 0.2854\n",
      "Epoch 101/150\n",
      "\u001b[1m1290/1290\u001b[0m \u001b[32m━━━━━━━━━━━━━━━━━━━━\u001b[0m\u001b[37m\u001b[0m \u001b[1m12s\u001b[0m 9ms/step - accuracy: 0.8712 - loss: 0.2731\n",
      "Epoch 102/150\n",
      "\u001b[1m1290/1290\u001b[0m \u001b[32m━━━━━━━━━━━━━━━━━━━━\u001b[0m\u001b[37m\u001b[0m \u001b[1m10s\u001b[0m 8ms/step - accuracy: 0.8666 - loss: 0.2883\n",
      "Epoch 103/150\n",
      "\u001b[1m1290/1290\u001b[0m \u001b[32m━━━━━━━━━━━━━━━━━━━━\u001b[0m\u001b[37m\u001b[0m \u001b[1m11s\u001b[0m 8ms/step - accuracy: 0.8755 - loss: 0.2743\n",
      "Epoch 104/150\n",
      "\u001b[1m1290/1290\u001b[0m \u001b[32m━━━━━━━━━━━━━━━━━━━━\u001b[0m\u001b[37m\u001b[0m \u001b[1m11s\u001b[0m 8ms/step - accuracy: 0.8782 - loss: 0.2676\n",
      "Epoch 105/150\n",
      "\u001b[1m1290/1290\u001b[0m \u001b[32m━━━━━━━━━━━━━━━━━━━━\u001b[0m\u001b[37m\u001b[0m \u001b[1m11s\u001b[0m 9ms/step - accuracy: 0.8742 - loss: 0.2708\n",
      "Epoch 106/150\n",
      "\u001b[1m1290/1290\u001b[0m \u001b[32m━━━━━━━━━━━━━━━━━━━━\u001b[0m\u001b[37m\u001b[0m \u001b[1m10s\u001b[0m 8ms/step - accuracy: 0.8676 - loss: 0.2801\n",
      "Epoch 107/150\n",
      "\u001b[1m1290/1290\u001b[0m \u001b[32m━━━━━━━━━━━━━━━━━━━━\u001b[0m\u001b[37m\u001b[0m \u001b[1m11s\u001b[0m 8ms/step - accuracy: 0.8791 - loss: 0.2665\n",
      "Epoch 108/150\n",
      "\u001b[1m1290/1290\u001b[0m \u001b[32m━━━━━━━━━━━━━━━━━━━━\u001b[0m\u001b[37m\u001b[0m \u001b[1m11s\u001b[0m 8ms/step - accuracy: 0.8757 - loss: 0.2690\n",
      "Epoch 109/150\n",
      "\u001b[1m1290/1290\u001b[0m \u001b[32m━━━━━━━━━━━━━━━━━━━━\u001b[0m\u001b[37m\u001b[0m \u001b[1m11s\u001b[0m 9ms/step - accuracy: 0.8784 - loss: 0.2642\n",
      "Epoch 110/150\n",
      "\u001b[1m1290/1290\u001b[0m \u001b[32m━━━━━━━━━━━━━━━━━━━━\u001b[0m\u001b[37m\u001b[0m \u001b[1m10s\u001b[0m 8ms/step - accuracy: 0.8755 - loss: 0.2701\n",
      "Epoch 111/150\n",
      "\u001b[1m1290/1290\u001b[0m \u001b[32m━━━━━━━━━━━━━━━━━━━━\u001b[0m\u001b[37m\u001b[0m \u001b[1m11s\u001b[0m 9ms/step - accuracy: 0.8770 - loss: 0.2614\n",
      "Epoch 112/150\n",
      "\u001b[1m1290/1290\u001b[0m \u001b[32m━━━━━━━━━━━━━━━━━━━━\u001b[0m\u001b[37m\u001b[0m \u001b[1m11s\u001b[0m 9ms/step - accuracy: 0.8836 - loss: 0.2616\n",
      "Epoch 113/150\n",
      "\u001b[1m1290/1290\u001b[0m \u001b[32m━━━━━━━━━━━━━━━━━━━━\u001b[0m\u001b[37m\u001b[0m \u001b[1m11s\u001b[0m 9ms/step - accuracy: 0.8812 - loss: 0.2562\n",
      "Epoch 114/150\n",
      "\u001b[1m1290/1290\u001b[0m \u001b[32m━━━━━━━━━━━━━━━━━━━━\u001b[0m\u001b[37m\u001b[0m \u001b[1m11s\u001b[0m 8ms/step - accuracy: 0.8844 - loss: 0.2509\n",
      "Epoch 115/150\n",
      "\u001b[1m1290/1290\u001b[0m \u001b[32m━━━━━━━━━━━━━━━━━━━━\u001b[0m\u001b[37m\u001b[0m \u001b[1m11s\u001b[0m 8ms/step - accuracy: 0.8862 - loss: 0.2539\n",
      "Epoch 116/150\n",
      "\u001b[1m1290/1290\u001b[0m \u001b[32m━━━━━━━━━━━━━━━━━━━━\u001b[0m\u001b[37m\u001b[0m \u001b[1m11s\u001b[0m 8ms/step - accuracy: 0.8817 - loss: 0.2509\n",
      "Epoch 117/150\n",
      "\u001b[1m1290/1290\u001b[0m \u001b[32m━━━━━━━━━━━━━━━━━━━━\u001b[0m\u001b[37m\u001b[0m \u001b[1m12s\u001b[0m 9ms/step - accuracy: 0.8816 - loss: 0.2565\n",
      "Epoch 118/150\n",
      "\u001b[1m1290/1290\u001b[0m \u001b[32m━━━━━━━━━━━━━━━━━━━━\u001b[0m\u001b[37m\u001b[0m \u001b[1m15s\u001b[0m 11ms/step - accuracy: 0.8915 - loss: 0.2372\n",
      "Epoch 119/150\n",
      "\u001b[1m1290/1290\u001b[0m \u001b[32m━━━━━━━━━━━━━━━━━━━━\u001b[0m\u001b[37m\u001b[0m \u001b[1m11s\u001b[0m 9ms/step - accuracy: 0.8814 - loss: 0.2550\n",
      "Epoch 120/150\n",
      "\u001b[1m1290/1290\u001b[0m \u001b[32m━━━━━━━━━━━━━━━━━━━━\u001b[0m\u001b[37m\u001b[0m \u001b[1m11s\u001b[0m 9ms/step - accuracy: 0.8852 - loss: 0.2481\n",
      "Epoch 121/150\n",
      "\u001b[1m1290/1290\u001b[0m \u001b[32m━━━━━━━━━━━━━━━━━━━━\u001b[0m\u001b[37m\u001b[0m \u001b[1m11s\u001b[0m 8ms/step - accuracy: 0.8842 - loss: 0.2592\n",
      "Epoch 122/150\n",
      "\u001b[1m1290/1290\u001b[0m \u001b[32m━━━━━━━━━━━━━━━━━━━━\u001b[0m\u001b[37m\u001b[0m \u001b[1m11s\u001b[0m 9ms/step - accuracy: 0.8945 - loss: 0.2354\n",
      "Epoch 123/150\n",
      "\u001b[1m1290/1290\u001b[0m \u001b[32m━━━━━━━━━━━━━━━━━━━━\u001b[0m\u001b[37m\u001b[0m \u001b[1m11s\u001b[0m 8ms/step - accuracy: 0.8855 - loss: 0.2496\n",
      "Epoch 124/150\n",
      "\u001b[1m1290/1290\u001b[0m \u001b[32m━━━━━━━━━━━━━━━━━━━━\u001b[0m\u001b[37m\u001b[0m \u001b[1m11s\u001b[0m 8ms/step - accuracy: 0.8917 - loss: 0.2420\n",
      "Epoch 125/150\n",
      "\u001b[1m1290/1290\u001b[0m \u001b[32m━━━━━━━━━━━━━━━━━━━━\u001b[0m\u001b[37m\u001b[0m \u001b[1m11s\u001b[0m 8ms/step - accuracy: 0.8917 - loss: 0.2341\n",
      "Epoch 126/150\n",
      "\u001b[1m1290/1290\u001b[0m \u001b[32m━━━━━━━━━━━━━━━━━━━━\u001b[0m\u001b[37m\u001b[0m \u001b[1m11s\u001b[0m 8ms/step - accuracy: 0.8854 - loss: 0.2417\n",
      "Epoch 127/150\n",
      "\u001b[1m1290/1290\u001b[0m \u001b[32m━━━━━━━━━━━━━━━━━━━━\u001b[0m\u001b[37m\u001b[0m \u001b[1m11s\u001b[0m 9ms/step - accuracy: 0.8938 - loss: 0.2381\n",
      "Epoch 128/150\n",
      "\u001b[1m1290/1290\u001b[0m \u001b[32m━━━━━━━━━━━━━━━━━━━━\u001b[0m\u001b[37m\u001b[0m \u001b[1m11s\u001b[0m 8ms/step - accuracy: 0.8910 - loss: 0.2430\n",
      "Epoch 129/150\n",
      "\u001b[1m1290/1290\u001b[0m \u001b[32m━━━━━━━━━━━━━━━━━━━━\u001b[0m\u001b[37m\u001b[0m \u001b[1m10s\u001b[0m 8ms/step - accuracy: 0.8885 - loss: 0.2388\n",
      "Epoch 130/150\n",
      "\u001b[1m1290/1290\u001b[0m \u001b[32m━━━━━━━━━━━━━━━━━━━━\u001b[0m\u001b[37m\u001b[0m \u001b[1m10s\u001b[0m 8ms/step - accuracy: 0.8927 - loss: 0.2334\n",
      "Epoch 131/150\n",
      "\u001b[1m1290/1290\u001b[0m \u001b[32m━━━━━━━━━━━━━━━━━━━━\u001b[0m\u001b[37m\u001b[0m \u001b[1m11s\u001b[0m 8ms/step - accuracy: 0.8928 - loss: 0.2389\n",
      "Epoch 132/150\n",
      "\u001b[1m1290/1290\u001b[0m \u001b[32m━━━━━━━━━━━━━━━━━━━━\u001b[0m\u001b[37m\u001b[0m \u001b[1m11s\u001b[0m 8ms/step - accuracy: 0.9003 - loss: 0.2246\n",
      "Epoch 133/150\n",
      "\u001b[1m1290/1290\u001b[0m \u001b[32m━━━━━━━━━━━━━━━━━━━━\u001b[0m\u001b[37m\u001b[0m \u001b[1m11s\u001b[0m 8ms/step - accuracy: 0.9002 - loss: 0.2196\n",
      "Epoch 134/150\n",
      "\u001b[1m1290/1290\u001b[0m \u001b[32m━━━━━━━━━━━━━━━━━━━━\u001b[0m\u001b[37m\u001b[0m \u001b[1m11s\u001b[0m 9ms/step - accuracy: 0.8974 - loss: 0.2231\n",
      "Epoch 135/150\n",
      "\u001b[1m1290/1290\u001b[0m \u001b[32m━━━━━━━━━━━━━━━━━━━━\u001b[0m\u001b[37m\u001b[0m \u001b[1m10s\u001b[0m 8ms/step - accuracy: 0.8920 - loss: 0.2432\n",
      "Epoch 136/150\n",
      "\u001b[1m1290/1290\u001b[0m \u001b[32m━━━━━━━━━━━━━━━━━━━━\u001b[0m\u001b[37m\u001b[0m \u001b[1m10s\u001b[0m 8ms/step - accuracy: 0.8913 - loss: 0.2394\n",
      "Epoch 137/150\n",
      "\u001b[1m1290/1290\u001b[0m \u001b[32m━━━━━━━━━━━━━━━━━━━━\u001b[0m\u001b[37m\u001b[0m \u001b[1m11s\u001b[0m 9ms/step - accuracy: 0.8889 - loss: 0.2394\n",
      "Epoch 138/150\n",
      "\u001b[1m1290/1290\u001b[0m \u001b[32m━━━━━━━━━━━━━━━━━━━━\u001b[0m\u001b[37m\u001b[0m \u001b[1m10s\u001b[0m 8ms/step - accuracy: 0.8963 - loss: 0.2288\n",
      "Epoch 139/150\n",
      "\u001b[1m1290/1290\u001b[0m \u001b[32m━━━━━━━━━━━━━━━━━━━━\u001b[0m\u001b[37m\u001b[0m \u001b[1m11s\u001b[0m 8ms/step - accuracy: 0.8994 - loss: 0.2247\n",
      "Epoch 140/150\n",
      "\u001b[1m1290/1290\u001b[0m \u001b[32m━━━━━━━━━━━━━━━━━━━━\u001b[0m\u001b[37m\u001b[0m \u001b[1m11s\u001b[0m 8ms/step - accuracy: 0.8978 - loss: 0.2277\n",
      "Epoch 141/150\n",
      "\u001b[1m1290/1290\u001b[0m \u001b[32m━━━━━━━━━━━━━━━━━━━━\u001b[0m\u001b[37m\u001b[0m \u001b[1m10s\u001b[0m 8ms/step - accuracy: 0.9086 - loss: 0.2150\n",
      "Epoch 142/150\n",
      "\u001b[1m1290/1290\u001b[0m \u001b[32m━━━━━━━━━━━━━━━━━━━━\u001b[0m\u001b[37m\u001b[0m \u001b[1m10s\u001b[0m 8ms/step - accuracy: 0.8871 - loss: 0.2410\n",
      "Epoch 143/150\n",
      "\u001b[1m1290/1290\u001b[0m \u001b[32m━━━━━━━━━━━━━━━━━━━━\u001b[0m\u001b[37m\u001b[0m \u001b[1m10s\u001b[0m 8ms/step - accuracy: 0.9048 - loss: 0.2101\n",
      "Epoch 144/150\n",
      "\u001b[1m1290/1290\u001b[0m \u001b[32m━━━━━━━━━━━━━━━━━━━━\u001b[0m\u001b[37m\u001b[0m \u001b[1m10s\u001b[0m 8ms/step - accuracy: 0.9048 - loss: 0.2136\n",
      "Epoch 145/150\n",
      "\u001b[1m1290/1290\u001b[0m \u001b[32m━━━━━━━━━━━━━━━━━━━━\u001b[0m\u001b[37m\u001b[0m \u001b[1m10s\u001b[0m 8ms/step - accuracy: 0.9078 - loss: 0.2069\n",
      "Epoch 146/150\n",
      "\u001b[1m1290/1290\u001b[0m \u001b[32m━━━━━━━━━━━━━━━━━━━━\u001b[0m\u001b[37m\u001b[0m \u001b[1m11s\u001b[0m 9ms/step - accuracy: 0.9068 - loss: 0.2068\n",
      "Epoch 147/150\n",
      "\u001b[1m1290/1290\u001b[0m \u001b[32m━━━━━━━━━━━━━━━━━━━━\u001b[0m\u001b[37m\u001b[0m \u001b[1m11s\u001b[0m 8ms/step - accuracy: 0.9053 - loss: 0.2097\n",
      "Epoch 148/150\n",
      "\u001b[1m1290/1290\u001b[0m \u001b[32m━━━━━━━━━━━━━━━━━━━━\u001b[0m\u001b[37m\u001b[0m \u001b[1m12s\u001b[0m 9ms/step - accuracy: 0.8940 - loss: 0.2233\n",
      "Epoch 149/150\n",
      "\u001b[1m1290/1290\u001b[0m \u001b[32m━━━━━━━━━━━━━━━━━━━━\u001b[0m\u001b[37m\u001b[0m \u001b[1m11s\u001b[0m 8ms/step - accuracy: 0.9046 - loss: 0.2152\n",
      "Epoch 150/150\n",
      "\u001b[1m1290/1290\u001b[0m \u001b[32m━━━━━━━━━━━━━━━━━━━━\u001b[0m\u001b[37m\u001b[0m \u001b[1m11s\u001b[0m 8ms/step - accuracy: 0.9034 - loss: 0.2171\n"
     ]
    }
   ],
   "source": [
    "history = model.fit(\n",
    "    vectorized_x_train_smote,encoded_target_label,\n",
    "    epochs=150,\n",
    "    batch_size=10,  # Reduced batch size to help with generalization\n",
    "   \n",
    ")"
   ]
  },
  {
   "cell_type": "code",
   "execution_count": 174,
   "id": "c70601e6-c5a1-40d5-8bd7-635849515434",
   "metadata": {},
   "outputs": [
    {
     "name": "stdout",
     "output_type": "stream",
     "text": [
      "\u001b[1m100/100\u001b[0m \u001b[32m━━━━━━━━━━━━━━━━━━━━\u001b[0m\u001b[37m\u001b[0m \u001b[1m1s\u001b[0m 3ms/step\n",
      "Fake\n",
      "Fake\n",
      "Fake\n",
      "Fake\n",
      "Real\n",
      "Fake\n",
      "Real\n",
      "Real\n",
      "Fake\n",
      "Fake\n",
      "Real\n",
      "Real\n",
      "Real\n",
      "Real\n",
      "Fake\n",
      "Real\n",
      "Real\n",
      "Real\n",
      "Real\n",
      "Fake\n"
     ]
    }
   ],
   "source": [
    "predictions = model.predict(vectorized_x_test)\n",
    "for y in predictions[:20]:\n",
    "    if (y[0]<=0.5):\n",
    "        print(\"Fake\")\n",
    "    else:\n",
    "        print(\"Real\")"
   ]
  },
  {
   "cell_type": "markdown",
   "id": "93a2e3fc-c7ac-424e-909e-59869cb3fb38",
   "metadata": {},
   "source": [
    "## Testing dataset"
   ]
  },
  {
   "cell_type": "code",
   "execution_count": 125,
   "id": "ec57dc0e-02b5-408f-9203-6d4054af99df",
   "metadata": {},
   "outputs": [
    {
     "data": {
      "text/html": [
       "<div>\n",
       "<style scoped>\n",
       "    .dataframe tbody tr th:only-of-type {\n",
       "        vertical-align: middle;\n",
       "    }\n",
       "\n",
       "    .dataframe tbody tr th {\n",
       "        vertical-align: top;\n",
       "    }\n",
       "\n",
       "    .dataframe thead th {\n",
       "        text-align: right;\n",
       "    }\n",
       "</style>\n",
       "<table border=\"1\" class=\"dataframe\">\n",
       "  <thead>\n",
       "    <tr style=\"text-align: right;\">\n",
       "      <th></th>\n",
       "      <th>title</th>\n",
       "      <th>text</th>\n",
       "      <th>date</th>\n",
       "      <th>source</th>\n",
       "      <th>author</th>\n",
       "      <th>category</th>\n",
       "      <th>label</th>\n",
       "    </tr>\n",
       "  </thead>\n",
       "  <tbody>\n",
       "    <tr>\n",
       "      <th>10650</th>\n",
       "      <td>Society image vote these realize prevent can.</td>\n",
       "      <td>better fall appear measure few prepare billion...</td>\n",
       "      <td>2024-04-23</td>\n",
       "      <td>Global Times</td>\n",
       "      <td>William Bolton</td>\n",
       "      <td>Science</td>\n",
       "      <td>real</td>\n",
       "    </tr>\n",
       "    <tr>\n",
       "      <th>2041</th>\n",
       "      <td>Red offer dream again specific case.</td>\n",
       "      <td>such east party truth place take tough stuff b...</td>\n",
       "      <td>2024-04-23</td>\n",
       "      <td>The Guardian</td>\n",
       "      <td>Dennis Reyes</td>\n",
       "      <td>Technology</td>\n",
       "      <td>real</td>\n",
       "    </tr>\n",
       "    <tr>\n",
       "      <th>8668</th>\n",
       "      <td>Item nearly develop green.</td>\n",
       "      <td>here she wind budget impact who painting role ...</td>\n",
       "      <td>2023-01-02</td>\n",
       "      <td>Reuters</td>\n",
       "      <td>Marcus Cook</td>\n",
       "      <td>Sports</td>\n",
       "      <td>fake</td>\n",
       "    </tr>\n",
       "    <tr>\n",
       "      <th>1114</th>\n",
       "      <td>Behavior stop billion PM song own.</td>\n",
       "      <td>better community begin town it case but operat...</td>\n",
       "      <td>2023-04-29</td>\n",
       "      <td>BBC</td>\n",
       "      <td>Lori Anderson</td>\n",
       "      <td>Business</td>\n",
       "      <td>real</td>\n",
       "    </tr>\n",
       "    <tr>\n",
       "      <th>13902</th>\n",
       "      <td>Only charge box time spend want woman.</td>\n",
       "      <td>career court employee whatever religious secon...</td>\n",
       "      <td>2025-03-30</td>\n",
       "      <td>Global Times</td>\n",
       "      <td>Shawn Ramirez</td>\n",
       "      <td>Business</td>\n",
       "      <td>real</td>\n",
       "    </tr>\n",
       "  </tbody>\n",
       "</table>\n",
       "</div>"
      ],
      "text/plain": [
       "                                               title  \\\n",
       "10650  Society image vote these realize prevent can.   \n",
       "2041            Red offer dream again specific case.   \n",
       "8668                      Item nearly develop green.   \n",
       "1114              Behavior stop billion PM song own.   \n",
       "13902         Only charge box time spend want woman.   \n",
       "\n",
       "                                                    text        date  \\\n",
       "10650  better fall appear measure few prepare billion...  2024-04-23   \n",
       "2041   such east party truth place take tough stuff b...  2024-04-23   \n",
       "8668   here she wind budget impact who painting role ...  2023-01-02   \n",
       "1114   better community begin town it case but operat...  2023-04-29   \n",
       "13902  career court employee whatever religious secon...  2025-03-30   \n",
       "\n",
       "             source          author    category label  \n",
       "10650  Global Times  William Bolton     Science  real  \n",
       "2041   The Guardian    Dennis Reyes  Technology  real  \n",
       "8668        Reuters     Marcus Cook      Sports  fake  \n",
       "1114            BBC   Lori Anderson    Business  real  \n",
       "13902  Global Times   Shawn Ramirez    Business  real  "
      ]
     },
     "execution_count": 125,
     "metadata": {},
     "output_type": "execute_result"
    }
   ],
   "source": [
    "test_set.head()"
   ]
  },
  {
   "cell_type": "code",
   "execution_count": 126,
   "id": "7ff10dcc-b971-4060-afcf-9e9503aeb087",
   "metadata": {},
   "outputs": [
    {
     "name": "stdout",
     "output_type": "stream",
     "text": [
      "<class 'pandas.core.frame.DataFrame'>\n",
      "Index: 4000 entries, 10650 to 15196\n",
      "Data columns (total 7 columns):\n",
      " #   Column    Non-Null Count  Dtype \n",
      "---  ------    --------------  ----- \n",
      " 0   title     4000 non-null   object\n",
      " 1   text      4000 non-null   object\n",
      " 2   date      4000 non-null   object\n",
      " 3   source    3782 non-null   object\n",
      " 4   author    3811 non-null   object\n",
      " 5   category  4000 non-null   object\n",
      " 6   label     4000 non-null   object\n",
      "dtypes: object(7)\n",
      "memory usage: 250.0+ KB\n"
     ]
    }
   ],
   "source": [
    "test_set.info()"
   ]
  },
  {
   "cell_type": "code",
   "execution_count": 127,
   "id": "75de9170-ece0-4709-aa9f-9bbe112e3bab",
   "metadata": {},
   "outputs": [],
   "source": [
    "## check the null values and  duplicate values"
   ]
  },
  {
   "cell_type": "code",
   "execution_count": 128,
   "id": "fba580cf-5c94-4040-8c7f-6a8dc3876bc0",
   "metadata": {},
   "outputs": [
    {
     "data": {
      "text/plain": [
       "title         0\n",
       "text          0\n",
       "date          0\n",
       "source      218\n",
       "author      189\n",
       "category      0\n",
       "label         0\n",
       "dtype: int64"
      ]
     },
     "execution_count": 128,
     "metadata": {},
     "output_type": "execute_result"
    }
   ],
   "source": [
    "test_set.isnull().sum()"
   ]
  },
  {
   "cell_type": "code",
   "execution_count": 129,
   "id": "3a303733-85f8-4672-bfe3-838375faa763",
   "metadata": {},
   "outputs": [
    {
     "data": {
      "text/plain": [
       "0"
      ]
     },
     "execution_count": 129,
     "metadata": {},
     "output_type": "execute_result"
    }
   ],
   "source": [
    "test_set.duplicated().sum()"
   ]
  },
  {
   "cell_type": "code",
   "execution_count": 130,
   "id": "383c2cb7-d8a0-4aee-835b-616f35606e68",
   "metadata": {},
   "outputs": [],
   "source": [
    "## Get the value counts"
   ]
  },
  {
   "cell_type": "code",
   "execution_count": 131,
   "id": "f0f79bf1-4853-48fe-bf77-a6bc7c3a223d",
   "metadata": {},
   "outputs": [
    {
     "data": {
      "text/plain": [
       "author\n",
       "David Brown              4\n",
       "Mary Williams            3\n",
       "James Smith              3\n",
       "Kenneth Williams         3\n",
       "James Jones              3\n",
       "                        ..\n",
       "Benjamin Bell            1\n",
       "Lauren King              1\n",
       "Mr. Donald Ramirez MD    1\n",
       "Douglas Hill             1\n",
       "Amber Stone              1\n",
       "Name: count, Length: 3712, dtype: int64"
      ]
     },
     "execution_count": 131,
     "metadata": {},
     "output_type": "execute_result"
    }
   ],
   "source": [
    "test_set['author'].value_counts()"
   ]
  },
  {
   "cell_type": "code",
   "execution_count": 132,
   "id": "9d04b3ce-3708-4c63-abd7-9f8fc25b46b1",
   "metadata": {},
   "outputs": [
    {
     "data": {
      "text/plain": [
       "source\n",
       "NY Times        498\n",
       "BBC             480\n",
       "CNN             477\n",
       "Reuters         474\n",
       "Fox News        472\n",
       "Daily News      469\n",
       "Global Times    460\n",
       "The Guardian    452\n",
       "Name: count, dtype: int64"
      ]
     },
     "execution_count": 132,
     "metadata": {},
     "output_type": "execute_result"
    }
   ],
   "source": [
    "test_set['source'].value_counts()"
   ]
  },
  {
   "cell_type": "markdown",
   "id": "a35038e6-daaf-4ccf-98a5-b3cb64347f46",
   "metadata": {},
   "source": [
    "## Explotary Data Analysis (EDA)"
   ]
  },
  {
   "cell_type": "code",
   "execution_count": 133,
   "id": "d5bea86a-55b5-49df-84b8-d3f3dbdca1d7",
   "metadata": {},
   "outputs": [
    {
     "data": {
      "text/plain": [
       "title         0\n",
       "text          0\n",
       "date          0\n",
       "source      218\n",
       "author      189\n",
       "category      0\n",
       "label         0\n",
       "dtype: int64"
      ]
     },
     "execution_count": 133,
     "metadata": {},
     "output_type": "execute_result"
    }
   ],
   "source": [
    "test_set.isnull().sum()"
   ]
  },
  {
   "cell_type": "code",
   "execution_count": 134,
   "id": "310d8518-082a-4914-a4ee-5eacc32cf56b",
   "metadata": {},
   "outputs": [],
   "source": [
    "test_set.fillna({'source':'The Guardian'}, inplace=True)"
   ]
  },
  {
   "cell_type": "code",
   "execution_count": 135,
   "id": "e81ea908-09a6-46fd-aa79-b06f1e805e01",
   "metadata": {},
   "outputs": [
    {
     "data": {
      "text/plain": [
       "0"
      ]
     },
     "execution_count": 135,
     "metadata": {},
     "output_type": "execute_result"
    }
   ],
   "source": [
    "test_set['source'].isnull().sum()"
   ]
  },
  {
   "cell_type": "code",
   "execution_count": 136,
   "id": "9bb62ffc-eb67-4ba7-9738-d3b450ccc8d4",
   "metadata": {},
   "outputs": [],
   "source": [
    "test_set.fillna({'author':'Lauren King'}, inplace=True)"
   ]
  },
  {
   "cell_type": "code",
   "execution_count": 137,
   "id": "17115460-9414-4567-88a0-7d589424cbc7",
   "metadata": {},
   "outputs": [
    {
     "data": {
      "text/plain": [
       "0"
      ]
     },
     "execution_count": 137,
     "metadata": {},
     "output_type": "execute_result"
    }
   ],
   "source": [
    "test_set['author'].isnull().sum()"
   ]
  },
  {
   "cell_type": "code",
   "execution_count": 138,
   "id": "a664eca7-2532-4a9d-aa68-8ce6db3632d5",
   "metadata": {},
   "outputs": [
    {
     "name": "stdout",
     "output_type": "stream",
     "text": [
      "<class 'pandas.core.frame.DataFrame'>\n",
      "Index: 4000 entries, 10650 to 15196\n",
      "Data columns (total 7 columns):\n",
      " #   Column    Non-Null Count  Dtype \n",
      "---  ------    --------------  ----- \n",
      " 0   title     4000 non-null   object\n",
      " 1   text      4000 non-null   object\n",
      " 2   date      4000 non-null   object\n",
      " 3   source    4000 non-null   object\n",
      " 4   author    4000 non-null   object\n",
      " 5   category  4000 non-null   object\n",
      " 6   label     4000 non-null   object\n",
      "dtypes: object(7)\n",
      "memory usage: 250.0+ KB\n"
     ]
    }
   ],
   "source": [
    "test_set.info()"
   ]
  },
  {
   "cell_type": "markdown",
   "id": "4f73b849-c6bb-48c7-abbc-ba5ff92a9b06",
   "metadata": {},
   "source": [
    "#### test preprocessing"
   ]
  },
  {
   "cell_type": "code",
   "execution_count": 139,
   "id": "4745ac28-880c-46a0-9f96-e14a7e1dd019",
   "metadata": {},
   "outputs": [],
   "source": [
    "import string \n",
    "import re"
   ]
  },
  {
   "cell_type": "code",
   "execution_count": 140,
   "id": "4820a8ef-4093-43e7-bb6c-76421ce52f19",
   "metadata": {},
   "outputs": [],
   "source": [
    "## convert the uppercase letters into lowercase letters"
   ]
  },
  {
   "cell_type": "code",
   "execution_count": 141,
   "id": "8595df40-b9d8-4cc1-8629-2f24882944a2",
   "metadata": {},
   "outputs": [
    {
     "data": {
      "text/plain": [
       "10650    society image vote these realize prevent can.\n",
       "2041              red offer dream again specific case.\n",
       "8668                        item nearly develop green.\n",
       "1114                behavior stop billion pm song own.\n",
       "13902           only charge box time spend want woman.\n",
       "Name: title, dtype: object"
      ]
     },
     "execution_count": 141,
     "metadata": {},
     "output_type": "execute_result"
    }
   ],
   "source": [
    "test_set['title']=test_set['title'].apply(lambda x: \" \".join(x.lower() for x  in  x.split()))\n",
    "test_set['title'].head()"
   ]
  },
  {
   "cell_type": "code",
   "execution_count": 142,
   "id": "06160819-0cb6-4696-81c2-c41b2ebffafe",
   "metadata": {},
   "outputs": [
    {
     "data": {
      "text/plain": [
       "10650    better fall appear measure few prepare billion...\n",
       "2041     such east party truth place take tough stuff b...\n",
       "8668     here she wind budget impact who painting role ...\n",
       "1114     better community begin town it case but operat...\n",
       "13902    career court employee whatever religious secon...\n",
       "Name: text, dtype: object"
      ]
     },
     "execution_count": 142,
     "metadata": {},
     "output_type": "execute_result"
    }
   ],
   "source": [
    "test_set['text']=test_set['text'].apply(lambda x:\" \".join(x.lower() for x in x.split()))\n",
    "test_set['text'].head()\n"
   ]
  },
  {
   "cell_type": "code",
   "execution_count": 143,
   "id": "325d431d-5a12-4ee6-8c3a-cb7acefba51e",
   "metadata": {},
   "outputs": [
    {
     "data": {
      "text/plain": [
       "10650    global times\n",
       "2041     the guardian\n",
       "8668          reuters\n",
       "1114              bbc\n",
       "13902    global times\n",
       "Name: source, dtype: object"
      ]
     },
     "execution_count": 143,
     "metadata": {},
     "output_type": "execute_result"
    }
   ],
   "source": [
    "test_set['source']=test_set['source'].apply(lambda x:\" \".join(x.lower() for x in x.split()))\n",
    "test_set['source'].head()"
   ]
  },
  {
   "cell_type": "code",
   "execution_count": 144,
   "id": "681b0156-fca3-472a-a95b-5b35541c0c17",
   "metadata": {},
   "outputs": [
    {
     "data": {
      "text/plain": [
       "10650     william bolton\n",
       "2041        dennis reyes\n",
       "8668         marcus cook\n",
       "1114       lori anderson\n",
       "13902      shawn ramirez\n",
       "              ...       \n",
       "4073       chris santana\n",
       "7442     courtney duncan\n",
       "9999       anthony burke\n",
       "1870     ashley peterson\n",
       "15196        amber stone\n",
       "Name: author, Length: 4000, dtype: object"
      ]
     },
     "execution_count": 144,
     "metadata": {},
     "output_type": "execute_result"
    }
   ],
   "source": [
    "test_set['author']=test_set['author'].apply(lambda x:\" \".join(x.lower() for x in x.split()))\n",
    "test_set['author']"
   ]
  },
  {
   "cell_type": "code",
   "execution_count": 145,
   "id": "6530ee54-cc24-4ab6-b35b-3345ff4e56aa",
   "metadata": {},
   "outputs": [
    {
     "data": {
      "text/plain": [
       "10650       science\n",
       "2041     technology\n",
       "8668         sports\n",
       "1114       business\n",
       "13902      business\n",
       "            ...    \n",
       "4073     technology\n",
       "7442         sports\n",
       "9999         health\n",
       "1870        science\n",
       "15196        sports\n",
       "Name: category, Length: 4000, dtype: object"
      ]
     },
     "execution_count": 145,
     "metadata": {},
     "output_type": "execute_result"
    }
   ],
   "source": [
    "test_set['category']=test_set['category'].apply(lambda x:\" \".join(x.lower() for x in  x.split()))\n",
    "test_set['category']"
   ]
  },
  {
   "cell_type": "code",
   "execution_count": 146,
   "id": "5bcc9855-f935-48f7-ae63-c2a85baf25f2",
   "metadata": {},
   "outputs": [],
   "source": [
    "## Remove the links from the text"
   ]
  },
  {
   "cell_type": "code",
   "execution_count": 147,
   "id": "d90fc223-f563-4575-8938-b7089562c839",
   "metadata": {},
   "outputs": [],
   "source": [
    "train_set['title']=train_set['title'].apply(lambda x: \" \".join(re.sub(r'https?:\\/\\/.*[\\r\\n]*','',x,flags=re.MULTILINE) for x in x.split()))"
   ]
  },
  {
   "cell_type": "code",
   "execution_count": 148,
   "id": "822d1a8d-8344-4b85-90a7-b09af93ac764",
   "metadata": {},
   "outputs": [],
   "source": [
    "test_set['title']=test_set['title'].apply(lambda x:\" \".join(re.sub(r'https?:\\/\\/.*[\\r\\n]*','',x,flags=re.MULTILINE) for x in x.split()))"
   ]
  },
  {
   "cell_type": "code",
   "execution_count": 149,
   "id": "98d49762-f6ab-4702-b034-d945435ae8a2",
   "metadata": {},
   "outputs": [
    {
     "data": {
      "text/plain": [
       "10650    society image vote these realize prevent can.\n",
       "2041              red offer dream again specific case.\n",
       "8668                        item nearly develop green.\n",
       "1114                behavior stop billion pm song own.\n",
       "13902           only charge box time spend want woman.\n",
       "Name: title, dtype: object"
      ]
     },
     "execution_count": 149,
     "metadata": {},
     "output_type": "execute_result"
    }
   ],
   "source": [
    "test_set['title'].head()"
   ]
  },
  {
   "cell_type": "code",
   "execution_count": 150,
   "id": "c7626297-f999-4420-9df5-d6242fc4f60a",
   "metadata": {},
   "outputs": [],
   "source": [
    "test_set['text']=test_set['text'].apply(lambda x:\" \".join(re.sub(r'https?:\\/\\/.*[\\r\\n]*','',x,flags=re.MULTILINE) for x in x.split()))"
   ]
  },
  {
   "cell_type": "code",
   "execution_count": 151,
   "id": "57da33a6-13d1-44b4-b546-0d81a72799f8",
   "metadata": {},
   "outputs": [
    {
     "data": {
      "text/plain": [
       "10650    better fall appear measure few prepare billion...\n",
       "2041     such east party truth place take tough stuff b...\n",
       "8668     here she wind budget impact who painting role ...\n",
       "1114     better community begin town it case but operat...\n",
       "13902    career court employee whatever religious secon...\n",
       "Name: text, dtype: object"
      ]
     },
     "execution_count": 151,
     "metadata": {},
     "output_type": "execute_result"
    }
   ],
   "source": [
    "test_set['text'].head()"
   ]
  },
  {
   "cell_type": "code",
   "execution_count": 152,
   "id": "e792ad9f-d124-4c08-aae3-e26920f7a0b0",
   "metadata": {},
   "outputs": [],
   "source": [
    "test_set['source']=test_set['source'].apply(lambda x:\" \".join(re.sub(r'https?:\\/\\/.*[\\r\\n]*','',x,flags=re.MULTILINE) for x in x.split()))"
   ]
  },
  {
   "cell_type": "code",
   "execution_count": 153,
   "id": "2515e35d-99d0-4700-994a-24daa02b3158",
   "metadata": {},
   "outputs": [
    {
     "data": {
      "text/plain": [
       "10650    global times\n",
       "2041     the guardian\n",
       "8668          reuters\n",
       "1114              bbc\n",
       "13902    global times\n",
       "Name: source, dtype: object"
      ]
     },
     "execution_count": 153,
     "metadata": {},
     "output_type": "execute_result"
    }
   ],
   "source": [
    "test_set['source'].head()"
   ]
  },
  {
   "cell_type": "code",
   "execution_count": 154,
   "id": "05571a43-2072-4636-807e-82d01b16ed5d",
   "metadata": {},
   "outputs": [],
   "source": [
    "test_set['author']=test_set['author'].apply(lambda x:\" \".join(re.sub(r'https?:\\/\\/.*[\\r\\n]*','',x,flags=re.MULTILINE) for x in x.split()))"
   ]
  },
  {
   "cell_type": "code",
   "execution_count": 155,
   "id": "6a28728a-1220-40d6-b95c-7bb4a0701acb",
   "metadata": {},
   "outputs": [
    {
     "data": {
      "text/plain": [
       "10650    william bolton\n",
       "2041       dennis reyes\n",
       "8668        marcus cook\n",
       "1114      lori anderson\n",
       "13902     shawn ramirez\n",
       "Name: author, dtype: object"
      ]
     },
     "execution_count": 155,
     "metadata": {},
     "output_type": "execute_result"
    }
   ],
   "source": [
    "test_set['author'].head()"
   ]
  },
  {
   "cell_type": "code",
   "execution_count": 156,
   "id": "da3b2ae3-bc17-4f41-a2fb-78ca85663e8c",
   "metadata": {},
   "outputs": [],
   "source": [
    "test_set['category']=test_set['category'].apply(lambda x:\" \".join(re.sub(r'https?:\\/\\/.*[\\r\\n]*','',x,flags=re.MULTILINE) for x in x.split()))"
   ]
  },
  {
   "cell_type": "code",
   "execution_count": 157,
   "id": "97877216-a007-4d3f-8e1b-3b4ac0212fd7",
   "metadata": {},
   "outputs": [
    {
     "data": {
      "text/plain": [
       "10650       science\n",
       "2041     technology\n",
       "8668         sports\n",
       "1114       business\n",
       "13902      business\n",
       "            ...    \n",
       "4073     technology\n",
       "7442         sports\n",
       "9999         health\n",
       "1870        science\n",
       "15196        sports\n",
       "Name: category, Length: 4000, dtype: object"
      ]
     },
     "execution_count": 157,
     "metadata": {},
     "output_type": "execute_result"
    }
   ],
   "source": [
    "test_set['category']"
   ]
  },
  {
   "cell_type": "code",
   "execution_count": 158,
   "id": "ac4e6f6d-b533-42a9-8cf3-de9cdf04de08",
   "metadata": {},
   "outputs": [],
   "source": [
    "## Remove the punctuations from text"
   ]
  },
  {
   "cell_type": "code",
   "execution_count": 159,
   "id": "04fdf562-633a-4981-86b0-2b8e366c16a1",
   "metadata": {},
   "outputs": [
    {
     "data": {
      "text/plain": [
       "'!\"#$%&\\'()*+,-./:;<=>?@[\\\\]^_`{|}~'"
      ]
     },
     "execution_count": 159,
     "metadata": {},
     "output_type": "execute_result"
    }
   ],
   "source": [
    "string.punctuation"
   ]
  },
  {
   "cell_type": "code",
   "execution_count": 160,
   "id": "a61c3459-5ed3-4b2f-b3b6-5f0645e45f9d",
   "metadata": {},
   "outputs": [],
   "source": [
    "def remove_punctuation(text):\n",
    "    for punctuations in string.punctuation:\n",
    "        text=text.replace(punctuations,'')\n",
    "    return text"
   ]
  },
  {
   "cell_type": "code",
   "execution_count": 161,
   "id": "10526814-094c-409f-ad52-842e19666fa3",
   "metadata": {},
   "outputs": [],
   "source": [
    "test_set['title']=test_set['title'].apply(remove_punctuation)\n",
    "test_set['text']=test_set['text'].apply(remove_punctuation)\n",
    "test_set['source']=test_set['source'].apply(remove_punctuation)\n",
    "test_set['author']=test_set['author'].apply(remove_punctuation)\n",
    "test_set['category']=test_set['category'].apply(remove_punctuation)"
   ]
  },
  {
   "cell_type": "code",
   "execution_count": 162,
   "id": "a24cde91-dcd7-4b48-a3eb-a5e6b55a80ad",
   "metadata": {},
   "outputs": [
    {
     "data": {
      "text/html": [
       "<div>\n",
       "<style scoped>\n",
       "    .dataframe tbody tr th:only-of-type {\n",
       "        vertical-align: middle;\n",
       "    }\n",
       "\n",
       "    .dataframe tbody tr th {\n",
       "        vertical-align: top;\n",
       "    }\n",
       "\n",
       "    .dataframe thead th {\n",
       "        text-align: right;\n",
       "    }\n",
       "</style>\n",
       "<table border=\"1\" class=\"dataframe\">\n",
       "  <thead>\n",
       "    <tr style=\"text-align: right;\">\n",
       "      <th></th>\n",
       "      <th>title</th>\n",
       "      <th>text</th>\n",
       "      <th>date</th>\n",
       "      <th>source</th>\n",
       "      <th>author</th>\n",
       "      <th>category</th>\n",
       "      <th>label</th>\n",
       "    </tr>\n",
       "  </thead>\n",
       "  <tbody>\n",
       "    <tr>\n",
       "      <th>10650</th>\n",
       "      <td>society image vote these realize prevent can</td>\n",
       "      <td>better fall appear measure few prepare billion...</td>\n",
       "      <td>2024-04-23</td>\n",
       "      <td>global times</td>\n",
       "      <td>william bolton</td>\n",
       "      <td>science</td>\n",
       "      <td>real</td>\n",
       "    </tr>\n",
       "    <tr>\n",
       "      <th>2041</th>\n",
       "      <td>red offer dream again specific case</td>\n",
       "      <td>such east party truth place take tough stuff b...</td>\n",
       "      <td>2024-04-23</td>\n",
       "      <td>the guardian</td>\n",
       "      <td>dennis reyes</td>\n",
       "      <td>technology</td>\n",
       "      <td>real</td>\n",
       "    </tr>\n",
       "    <tr>\n",
       "      <th>8668</th>\n",
       "      <td>item nearly develop green</td>\n",
       "      <td>here she wind budget impact who painting role ...</td>\n",
       "      <td>2023-01-02</td>\n",
       "      <td>reuters</td>\n",
       "      <td>marcus cook</td>\n",
       "      <td>sports</td>\n",
       "      <td>fake</td>\n",
       "    </tr>\n",
       "    <tr>\n",
       "      <th>1114</th>\n",
       "      <td>behavior stop billion pm song own</td>\n",
       "      <td>better community begin town it case but operat...</td>\n",
       "      <td>2023-04-29</td>\n",
       "      <td>bbc</td>\n",
       "      <td>lori anderson</td>\n",
       "      <td>business</td>\n",
       "      <td>real</td>\n",
       "    </tr>\n",
       "    <tr>\n",
       "      <th>13902</th>\n",
       "      <td>only charge box time spend want woman</td>\n",
       "      <td>career court employee whatever religious secon...</td>\n",
       "      <td>2025-03-30</td>\n",
       "      <td>global times</td>\n",
       "      <td>shawn ramirez</td>\n",
       "      <td>business</td>\n",
       "      <td>real</td>\n",
       "    </tr>\n",
       "  </tbody>\n",
       "</table>\n",
       "</div>"
      ],
      "text/plain": [
       "                                              title  \\\n",
       "10650  society image vote these realize prevent can   \n",
       "2041            red offer dream again specific case   \n",
       "8668                      item nearly develop green   \n",
       "1114              behavior stop billion pm song own   \n",
       "13902         only charge box time spend want woman   \n",
       "\n",
       "                                                    text        date  \\\n",
       "10650  better fall appear measure few prepare billion...  2024-04-23   \n",
       "2041   such east party truth place take tough stuff b...  2024-04-23   \n",
       "8668   here she wind budget impact who painting role ...  2023-01-02   \n",
       "1114   better community begin town it case but operat...  2023-04-29   \n",
       "13902  career court employee whatever religious secon...  2025-03-30   \n",
       "\n",
       "             source          author    category label  \n",
       "10650  global times  william bolton     science  real  \n",
       "2041   the guardian    dennis reyes  technology  real  \n",
       "8668        reuters     marcus cook      sports  fake  \n",
       "1114            bbc   lori anderson    business  real  \n",
       "13902  global times   shawn ramirez    business  real  "
      ]
     },
     "execution_count": 162,
     "metadata": {},
     "output_type": "execute_result"
    }
   ],
   "source": [
    "test_set.head()"
   ]
  },
  {
   "cell_type": "code",
   "execution_count": 175,
   "id": "91f91c8f-0b1c-46c7-8cc5-0160e7b1dc6e",
   "metadata": {},
   "outputs": [],
   "source": [
    "## Remove the numbers from text"
   ]
  },
  {
   "cell_type": "code",
   "execution_count": 163,
   "id": "ad78b352-0ee2-4a2d-bd48-0242d217a15d",
   "metadata": {},
   "outputs": [
    {
     "name": "stderr",
     "output_type": "stream",
     "text": [
      "<>:1: SyntaxWarning: invalid escape sequence '\\d'\n",
      "<>:1: SyntaxWarning: invalid escape sequence '\\d'\n",
      "C:\\Users\\THIS PC\\AppData\\Local\\Temp\\ipykernel_34456\\2364027315.py:1: SyntaxWarning: invalid escape sequence '\\d'\n",
      "  train_set['title']=train_set['title'].str.replace('\\d+','',regex=True)\n"
     ]
    }
   ],
   "source": [
    "train_set['title']=train_set['title'].str.replace('\\d+','',regex=True)"
   ]
  },
  {
   "cell_type": "code",
   "execution_count": 165,
   "id": "0d464fa4-70c9-4757-8c96-ade78c4111a3",
   "metadata": {},
   "outputs": [
    {
     "name": "stderr",
     "output_type": "stream",
     "text": [
      "<>:1: SyntaxWarning: invalid escape sequence '\\d'\n",
      "<>:1: SyntaxWarning: invalid escape sequence '\\d'\n",
      "C:\\Users\\THIS PC\\AppData\\Local\\Temp\\ipykernel_34456\\1299888675.py:1: SyntaxWarning: invalid escape sequence '\\d'\n",
      "  test_set['title']=test_set['title'].str.replace('\\d+','',regex=True)\n"
     ]
    }
   ],
   "source": [
    "test_set['title']=test_set['title'].str.replace('\\d+','',regex=True)"
   ]
  },
  {
   "cell_type": "code",
   "execution_count": 166,
   "id": "6c942c2c-8269-4a2e-b2fe-a9a382b11c2f",
   "metadata": {},
   "outputs": [
    {
     "name": "stderr",
     "output_type": "stream",
     "text": [
      "<>:1: SyntaxWarning: invalid escape sequence '\\d'\n",
      "<>:1: SyntaxWarning: invalid escape sequence '\\d'\n",
      "C:\\Users\\THIS PC\\AppData\\Local\\Temp\\ipykernel_34456\\3230555235.py:1: SyntaxWarning: invalid escape sequence '\\d'\n",
      "  test_set['source']=test_set['source'].str.replace('\\d+','',regex=True)\n"
     ]
    }
   ],
   "source": [
    "test_set['source']=test_set['source'].str.replace('\\d+','',regex=True)"
   ]
  },
  {
   "cell_type": "code",
   "execution_count": 176,
   "id": "c65fa3b7-953a-458d-b17b-ba9071b3f23e",
   "metadata": {},
   "outputs": [
    {
     "name": "stderr",
     "output_type": "stream",
     "text": [
      "<>:1: SyntaxWarning: invalid escape sequence '\\d'\n",
      "<>:1: SyntaxWarning: invalid escape sequence '\\d'\n",
      "C:\\Users\\THIS PC\\AppData\\Local\\Temp\\ipykernel_34456\\199525953.py:1: SyntaxWarning: invalid escape sequence '\\d'\n",
      "  test_set['author']=test_set['author'].str.replace('\\d+','',regex=True)\n"
     ]
    }
   ],
   "source": [
    "test_set['author']=test_set['author'].str.replace('\\d+','',regex=True)"
   ]
  },
  {
   "cell_type": "code",
   "execution_count": 177,
   "id": "3180aa8c-f120-488b-a9cc-fbaa195cb8ba",
   "metadata": {},
   "outputs": [
    {
     "name": "stderr",
     "output_type": "stream",
     "text": [
      "<>:1: SyntaxWarning: invalid escape sequence '\\d'\n",
      "<>:1: SyntaxWarning: invalid escape sequence '\\d'\n",
      "C:\\Users\\THIS PC\\AppData\\Local\\Temp\\ipykernel_34456\\1196388802.py:1: SyntaxWarning: invalid escape sequence '\\d'\n",
      "  test_set['category']=test_set['category'].str.replace('\\d+','',regex=True)\n"
     ]
    }
   ],
   "source": [
    "test_set['category']=test_set['category'].str.replace('\\d+','',regex=True)"
   ]
  },
  {
   "cell_type": "code",
   "execution_count": 178,
   "id": "b609c124-54af-4a82-94e2-98dd544fe58b",
   "metadata": {},
   "outputs": [
    {
     "data": {
      "text/html": [
       "<div>\n",
       "<style scoped>\n",
       "    .dataframe tbody tr th:only-of-type {\n",
       "        vertical-align: middle;\n",
       "    }\n",
       "\n",
       "    .dataframe tbody tr th {\n",
       "        vertical-align: top;\n",
       "    }\n",
       "\n",
       "    .dataframe thead th {\n",
       "        text-align: right;\n",
       "    }\n",
       "</style>\n",
       "<table border=\"1\" class=\"dataframe\">\n",
       "  <thead>\n",
       "    <tr style=\"text-align: right;\">\n",
       "      <th></th>\n",
       "      <th>title</th>\n",
       "      <th>text</th>\n",
       "      <th>date</th>\n",
       "      <th>source</th>\n",
       "      <th>author</th>\n",
       "      <th>category</th>\n",
       "      <th>label</th>\n",
       "    </tr>\n",
       "  </thead>\n",
       "  <tbody>\n",
       "    <tr>\n",
       "      <th>10650</th>\n",
       "      <td>society image vote these realize prevent can</td>\n",
       "      <td>better fall appear measure few prepare billion...</td>\n",
       "      <td>2024-04-23</td>\n",
       "      <td>global times</td>\n",
       "      <td>william bolton</td>\n",
       "      <td>science</td>\n",
       "      <td>real</td>\n",
       "    </tr>\n",
       "    <tr>\n",
       "      <th>2041</th>\n",
       "      <td>red offer dream again specific case</td>\n",
       "      <td>such east party truth place take tough stuff b...</td>\n",
       "      <td>2024-04-23</td>\n",
       "      <td>the guardian</td>\n",
       "      <td>dennis reyes</td>\n",
       "      <td>technology</td>\n",
       "      <td>real</td>\n",
       "    </tr>\n",
       "    <tr>\n",
       "      <th>8668</th>\n",
       "      <td>item nearly develop green</td>\n",
       "      <td>here she wind budget impact who painting role ...</td>\n",
       "      <td>2023-01-02</td>\n",
       "      <td>reuters</td>\n",
       "      <td>marcus cook</td>\n",
       "      <td>sports</td>\n",
       "      <td>fake</td>\n",
       "    </tr>\n",
       "    <tr>\n",
       "      <th>1114</th>\n",
       "      <td>behavior stop billion pm song own</td>\n",
       "      <td>better community begin town it case but operat...</td>\n",
       "      <td>2023-04-29</td>\n",
       "      <td>bbc</td>\n",
       "      <td>lori anderson</td>\n",
       "      <td>business</td>\n",
       "      <td>real</td>\n",
       "    </tr>\n",
       "    <tr>\n",
       "      <th>13902</th>\n",
       "      <td>only charge box time spend want woman</td>\n",
       "      <td>career court employee whatever religious secon...</td>\n",
       "      <td>2025-03-30</td>\n",
       "      <td>global times</td>\n",
       "      <td>shawn ramirez</td>\n",
       "      <td>business</td>\n",
       "      <td>real</td>\n",
       "    </tr>\n",
       "  </tbody>\n",
       "</table>\n",
       "</div>"
      ],
      "text/plain": [
       "                                              title  \\\n",
       "10650  society image vote these realize prevent can   \n",
       "2041            red offer dream again specific case   \n",
       "8668                      item nearly develop green   \n",
       "1114              behavior stop billion pm song own   \n",
       "13902         only charge box time spend want woman   \n",
       "\n",
       "                                                    text        date  \\\n",
       "10650  better fall appear measure few prepare billion...  2024-04-23   \n",
       "2041   such east party truth place take tough stuff b...  2024-04-23   \n",
       "8668   here she wind budget impact who painting role ...  2023-01-02   \n",
       "1114   better community begin town it case but operat...  2023-04-29   \n",
       "13902  career court employee whatever religious secon...  2025-03-30   \n",
       "\n",
       "             source          author    category label  \n",
       "10650  global times  william bolton     science  real  \n",
       "2041   the guardian    dennis reyes  technology  real  \n",
       "8668        reuters     marcus cook      sports  fake  \n",
       "1114            bbc   lori anderson    business  real  \n",
       "13902  global times   shawn ramirez    business  real  "
      ]
     },
     "execution_count": 178,
     "metadata": {},
     "output_type": "execute_result"
    }
   ],
   "source": [
    "test_set.head()"
   ]
  },
  {
   "cell_type": "code",
   "execution_count": 179,
   "id": "fdf65000-0628-4f09-8d0a-8545bd126fba",
   "metadata": {},
   "outputs": [],
   "source": [
    "### stemming technique"
   ]
  },
  {
   "cell_type": "code",
   "execution_count": 180,
   "id": "0dca18a7-0c83-4e08-bd2c-db7398f5d77a",
   "metadata": {},
   "outputs": [
    {
     "name": "stderr",
     "output_type": "stream",
     "text": [
      "[nltk_data] Downloading package stopwords to stopwords1/...\n",
      "[nltk_data]   Unzipping corpora\\stopwords.zip.\n"
     ]
    },
    {
     "data": {
      "text/plain": [
       "True"
      ]
     },
     "execution_count": 180,
     "metadata": {},
     "output_type": "execute_result"
    }
   ],
   "source": [
    "import nltk\n",
    "nltk.download(\"stopwords\",download_dir=\"stopwords1/\")"
   ]
  },
  {
   "cell_type": "code",
   "execution_count": 182,
   "id": "043b3bd6-31b0-4ebb-bbd6-5225dff753d2",
   "metadata": {},
   "outputs": [],
   "source": [
    "with open(\"stopwords1/corpora/stopwords/english\", 'r') as file:\n",
    "    sw_test=file.read().splitlines()"
   ]
  },
  {
   "cell_type": "code",
   "execution_count": 184,
   "id": "30269a58-530b-461e-86c1-3ef066417536",
   "metadata": {},
   "outputs": [
    {
     "data": {
      "text/plain": [
       "['a',\n",
       " 'about',\n",
       " 'above',\n",
       " 'after',\n",
       " 'again',\n",
       " 'against',\n",
       " 'ain',\n",
       " 'all',\n",
       " 'am',\n",
       " 'an',\n",
       " 'and',\n",
       " 'any',\n",
       " 'are',\n",
       " 'aren',\n",
       " \"aren't\",\n",
       " 'as',\n",
       " 'at',\n",
       " 'be',\n",
       " 'because',\n",
       " 'been',\n",
       " 'before',\n",
       " 'being',\n",
       " 'below',\n",
       " 'between',\n",
       " 'both',\n",
       " 'but',\n",
       " 'by',\n",
       " 'can',\n",
       " 'couldn',\n",
       " \"couldn't\",\n",
       " 'd',\n",
       " 'did',\n",
       " 'didn',\n",
       " \"didn't\",\n",
       " 'do',\n",
       " 'does',\n",
       " 'doesn',\n",
       " \"doesn't\",\n",
       " 'doing',\n",
       " 'don',\n",
       " \"don't\",\n",
       " 'down',\n",
       " 'during',\n",
       " 'each',\n",
       " 'few',\n",
       " 'for',\n",
       " 'from',\n",
       " 'further',\n",
       " 'had',\n",
       " 'hadn',\n",
       " \"hadn't\",\n",
       " 'has',\n",
       " 'hasn',\n",
       " \"hasn't\",\n",
       " 'have',\n",
       " 'haven',\n",
       " \"haven't\",\n",
       " 'having',\n",
       " 'he',\n",
       " \"he'd\",\n",
       " \"he'll\",\n",
       " 'her',\n",
       " 'here',\n",
       " 'hers',\n",
       " 'herself',\n",
       " \"he's\",\n",
       " 'him',\n",
       " 'himself',\n",
       " 'his',\n",
       " 'how',\n",
       " 'i',\n",
       " \"i'd\",\n",
       " 'if',\n",
       " \"i'll\",\n",
       " \"i'm\",\n",
       " 'in',\n",
       " 'into',\n",
       " 'is',\n",
       " 'isn',\n",
       " \"isn't\",\n",
       " 'it',\n",
       " \"it'd\",\n",
       " \"it'll\",\n",
       " \"it's\",\n",
       " 'its',\n",
       " 'itself',\n",
       " \"i've\",\n",
       " 'just',\n",
       " 'll',\n",
       " 'm',\n",
       " 'ma',\n",
       " 'me',\n",
       " 'mightn',\n",
       " \"mightn't\",\n",
       " 'more',\n",
       " 'most',\n",
       " 'mustn',\n",
       " \"mustn't\",\n",
       " 'my',\n",
       " 'myself',\n",
       " 'needn',\n",
       " \"needn't\",\n",
       " 'no',\n",
       " 'nor',\n",
       " 'not',\n",
       " 'now',\n",
       " 'o',\n",
       " 'of',\n",
       " 'off',\n",
       " 'on',\n",
       " 'once',\n",
       " 'only',\n",
       " 'or',\n",
       " 'other',\n",
       " 'our',\n",
       " 'ours',\n",
       " 'ourselves',\n",
       " 'out',\n",
       " 'over',\n",
       " 'own',\n",
       " 're',\n",
       " 's',\n",
       " 'same',\n",
       " 'shan',\n",
       " \"shan't\",\n",
       " 'she',\n",
       " \"she'd\",\n",
       " \"she'll\",\n",
       " \"she's\",\n",
       " 'should',\n",
       " 'shouldn',\n",
       " \"shouldn't\",\n",
       " \"should've\",\n",
       " 'so',\n",
       " 'some',\n",
       " 'such',\n",
       " 't',\n",
       " 'than',\n",
       " 'that',\n",
       " \"that'll\",\n",
       " 'the',\n",
       " 'their',\n",
       " 'theirs',\n",
       " 'them',\n",
       " 'themselves',\n",
       " 'then',\n",
       " 'there',\n",
       " 'these',\n",
       " 'they',\n",
       " \"they'd\",\n",
       " \"they'll\",\n",
       " \"they're\",\n",
       " \"they've\",\n",
       " 'this',\n",
       " 'those',\n",
       " 'through',\n",
       " 'to',\n",
       " 'too',\n",
       " 'under',\n",
       " 'until',\n",
       " 'up',\n",
       " 've',\n",
       " 'very',\n",
       " 'was',\n",
       " 'wasn',\n",
       " \"wasn't\",\n",
       " 'we',\n",
       " \"we'd\",\n",
       " \"we'll\",\n",
       " \"we're\",\n",
       " 'were',\n",
       " 'weren',\n",
       " \"weren't\",\n",
       " \"we've\",\n",
       " 'what',\n",
       " 'when',\n",
       " 'where',\n",
       " 'which',\n",
       " 'while',\n",
       " 'who',\n",
       " 'whom',\n",
       " 'why',\n",
       " 'will',\n",
       " 'with',\n",
       " 'won',\n",
       " \"won't\",\n",
       " 'wouldn',\n",
       " \"wouldn't\",\n",
       " 'y',\n",
       " 'you',\n",
       " \"you'd\",\n",
       " \"you'll\",\n",
       " 'your',\n",
       " \"you're\",\n",
       " 'yours',\n",
       " 'yourself',\n",
       " 'yourselves',\n",
       " \"you've\"]"
      ]
     },
     "execution_count": 184,
     "metadata": {},
     "output_type": "execute_result"
    }
   ],
   "source": [
    "sw_test"
   ]
  },
  {
   "cell_type": "code",
   "execution_count": 185,
   "id": "143db436-5e6c-4fd4-999f-28b4f04b280d",
   "metadata": {},
   "outputs": [],
   "source": [
    "test_set['title']=test_set['title'].apply(lambda x:\" \".join(x for x in x.split() if x not in sw_test))"
   ]
  },
  {
   "cell_type": "code",
   "execution_count": 189,
   "id": "44fdb548-2f1f-41af-a79c-5bf3b941b037",
   "metadata": {},
   "outputs": [],
   "source": [
    "test_set['source']=test_set['source'].apply(lambda x:\" \".join(x for x in x.split() if x not in sw_test))"
   ]
  },
  {
   "cell_type": "code",
   "execution_count": 190,
   "id": "631b2cb7-4690-4872-900a-0b412133fd4b",
   "metadata": {},
   "outputs": [],
   "source": [
    "test_set['author']=test_set['author'].apply(lambda x:\" \".join(x for x in x.split() if x not in sw_test))"
   ]
  },
  {
   "cell_type": "code",
   "execution_count": 191,
   "id": "40f88dca-0985-4ca8-8de0-632049797c20",
   "metadata": {},
   "outputs": [],
   "source": [
    "test_set['text']=test_set['text'].apply(lambda x:\" \".join(x for x in x.split() if x not in sw_test))"
   ]
  },
  {
   "cell_type": "code",
   "execution_count": 193,
   "id": "56166945-5ac5-4082-b344-29acceaaff7e",
   "metadata": {},
   "outputs": [],
   "source": [
    "test_set['category']=test_set['category'].apply(lambda x:\" \".join(x for x in x.split() if x not in sw_test))"
   ]
  },
  {
   "cell_type": "code",
   "execution_count": 194,
   "id": "2084f6df-4a26-4550-a3f6-baf1ab971243",
   "metadata": {},
   "outputs": [
    {
     "data": {
      "text/html": [
       "<div>\n",
       "<style scoped>\n",
       "    .dataframe tbody tr th:only-of-type {\n",
       "        vertical-align: middle;\n",
       "    }\n",
       "\n",
       "    .dataframe tbody tr th {\n",
       "        vertical-align: top;\n",
       "    }\n",
       "\n",
       "    .dataframe thead th {\n",
       "        text-align: right;\n",
       "    }\n",
       "</style>\n",
       "<table border=\"1\" class=\"dataframe\">\n",
       "  <thead>\n",
       "    <tr style=\"text-align: right;\">\n",
       "      <th></th>\n",
       "      <th>title</th>\n",
       "      <th>text</th>\n",
       "      <th>date</th>\n",
       "      <th>source</th>\n",
       "      <th>author</th>\n",
       "      <th>category</th>\n",
       "      <th>label</th>\n",
       "    </tr>\n",
       "  </thead>\n",
       "  <tbody>\n",
       "    <tr>\n",
       "      <th>10650</th>\n",
       "      <td>society image vote realize prevent</td>\n",
       "      <td>better fall appear measure prepare billion inc...</td>\n",
       "      <td>2024-04-23</td>\n",
       "      <td>global times</td>\n",
       "      <td>william bolton</td>\n",
       "      <td>science</td>\n",
       "      <td>real</td>\n",
       "    </tr>\n",
       "    <tr>\n",
       "      <th>2041</th>\n",
       "      <td>red offer dream specific case</td>\n",
       "      <td>east party truth place take tough stuff behind...</td>\n",
       "      <td>2024-04-23</td>\n",
       "      <td>guardian</td>\n",
       "      <td>dennis reyes</td>\n",
       "      <td>technology</td>\n",
       "      <td>real</td>\n",
       "    </tr>\n",
       "    <tr>\n",
       "      <th>8668</th>\n",
       "      <td>item nearly develop green</td>\n",
       "      <td>wind budget impact painting role occur life en...</td>\n",
       "      <td>2023-01-02</td>\n",
       "      <td>reuters</td>\n",
       "      <td>marcus cook</td>\n",
       "      <td>sports</td>\n",
       "      <td>fake</td>\n",
       "    </tr>\n",
       "    <tr>\n",
       "      <th>1114</th>\n",
       "      <td>behavior stop billion pm song</td>\n",
       "      <td>better community begin town case operation sto...</td>\n",
       "      <td>2023-04-29</td>\n",
       "      <td>bbc</td>\n",
       "      <td>lori anderson</td>\n",
       "      <td>business</td>\n",
       "      <td>real</td>\n",
       "    </tr>\n",
       "    <tr>\n",
       "      <th>13902</th>\n",
       "      <td>charge box time spend want woman</td>\n",
       "      <td>career court employee whatever religious secon...</td>\n",
       "      <td>2025-03-30</td>\n",
       "      <td>global times</td>\n",
       "      <td>shawn ramirez</td>\n",
       "      <td>business</td>\n",
       "      <td>real</td>\n",
       "    </tr>\n",
       "  </tbody>\n",
       "</table>\n",
       "</div>"
      ],
      "text/plain": [
       "                                    title  \\\n",
       "10650  society image vote realize prevent   \n",
       "2041        red offer dream specific case   \n",
       "8668            item nearly develop green   \n",
       "1114        behavior stop billion pm song   \n",
       "13902    charge box time spend want woman   \n",
       "\n",
       "                                                    text        date  \\\n",
       "10650  better fall appear measure prepare billion inc...  2024-04-23   \n",
       "2041   east party truth place take tough stuff behind...  2024-04-23   \n",
       "8668   wind budget impact painting role occur life en...  2023-01-02   \n",
       "1114   better community begin town case operation sto...  2023-04-29   \n",
       "13902  career court employee whatever religious secon...  2025-03-30   \n",
       "\n",
       "             source          author    category label  \n",
       "10650  global times  william bolton     science  real  \n",
       "2041       guardian    dennis reyes  technology  real  \n",
       "8668        reuters     marcus cook      sports  fake  \n",
       "1114            bbc   lori anderson    business  real  \n",
       "13902  global times   shawn ramirez    business  real  "
      ]
     },
     "execution_count": 194,
     "metadata": {},
     "output_type": "execute_result"
    }
   ],
   "source": [
    "test_set.head()"
   ]
  },
  {
   "cell_type": "code",
   "execution_count": 195,
   "id": "25f0679d-fd03-4c3b-9155-4216925e6a00",
   "metadata": {},
   "outputs": [],
   "source": [
    "## stemming technique"
   ]
  },
  {
   "cell_type": "code",
   "execution_count": 196,
   "id": "09e279de-f906-4677-bc94-740bee82dfe1",
   "metadata": {},
   "outputs": [],
   "source": [
    "from nltk.stem import PorterStemmer\n",
    "ps=PorterStemmer()"
   ]
  },
  {
   "cell_type": "code",
   "execution_count": 197,
   "id": "4c112e55-5d71-42d3-b7cb-d29f29124c60",
   "metadata": {},
   "outputs": [],
   "source": [
    "test_set['title']=test_set['title'].apply(lambda x:\" \".join(ps.stem(x) for x in x.split()))"
   ]
  },
  {
   "cell_type": "code",
   "execution_count": 199,
   "id": "575f0da6-69dd-4192-bb10-f40e559e07d9",
   "metadata": {},
   "outputs": [],
   "source": [
    "test_set['text']=test_set['text'].apply(lambda x:\" \".join(ps.stem(x) for x in x.split()))"
   ]
  },
  {
   "cell_type": "code",
   "execution_count": 200,
   "id": "cb63315c-6c5d-4936-a79a-53742097eaa3",
   "metadata": {},
   "outputs": [],
   "source": [
    "test_set['source']=test_set['source'].apply(lambda x:\" \".join(ps.stem(x) for x in  x.split()))"
   ]
  },
  {
   "cell_type": "code",
   "execution_count": 201,
   "id": "f2c21801-3684-40ce-b6ec-1a2dff3ed866",
   "metadata": {},
   "outputs": [],
   "source": [
    "test_set['author']=test_set['author'].apply(lambda x:\" \".join(ps.stem(x) for x in x.split()))"
   ]
  },
  {
   "cell_type": "code",
   "execution_count": 202,
   "id": "2f9765ab-d215-4668-8063-c9760166e56a",
   "metadata": {},
   "outputs": [],
   "source": [
    "test_set['category']=test_set['category'].apply(lambda x:\" \".join(ps.stem(x) for x in x.split()))"
   ]
  },
  {
   "cell_type": "code",
   "execution_count": 203,
   "id": "8f81fea0-67ed-4eb0-b6e1-8cea4273cdf6",
   "metadata": {},
   "outputs": [
    {
     "data": {
      "text/html": [
       "<div>\n",
       "<style scoped>\n",
       "    .dataframe tbody tr th:only-of-type {\n",
       "        vertical-align: middle;\n",
       "    }\n",
       "\n",
       "    .dataframe tbody tr th {\n",
       "        vertical-align: top;\n",
       "    }\n",
       "\n",
       "    .dataframe thead th {\n",
       "        text-align: right;\n",
       "    }\n",
       "</style>\n",
       "<table border=\"1\" class=\"dataframe\">\n",
       "  <thead>\n",
       "    <tr style=\"text-align: right;\">\n",
       "      <th></th>\n",
       "      <th>title</th>\n",
       "      <th>text</th>\n",
       "      <th>date</th>\n",
       "      <th>source</th>\n",
       "      <th>author</th>\n",
       "      <th>category</th>\n",
       "      <th>label</th>\n",
       "    </tr>\n",
       "  </thead>\n",
       "  <tbody>\n",
       "    <tr>\n",
       "      <th>10650</th>\n",
       "      <td>societi imag vote realiz prevent</td>\n",
       "      <td>better fall appear measur prepar billion incre...</td>\n",
       "      <td>2024-04-23</td>\n",
       "      <td>global time</td>\n",
       "      <td>william bolton</td>\n",
       "      <td>scienc</td>\n",
       "      <td>real</td>\n",
       "    </tr>\n",
       "    <tr>\n",
       "      <th>2041</th>\n",
       "      <td>red offer dream specif case</td>\n",
       "      <td>east parti truth place take tough stuff behind...</td>\n",
       "      <td>2024-04-23</td>\n",
       "      <td>guardian</td>\n",
       "      <td>denni rey</td>\n",
       "      <td>technolog</td>\n",
       "      <td>real</td>\n",
       "    </tr>\n",
       "    <tr>\n",
       "      <th>8668</th>\n",
       "      <td>item nearli develop green</td>\n",
       "      <td>wind budget impact paint role occur life enjoy...</td>\n",
       "      <td>2023-01-02</td>\n",
       "      <td>reuter</td>\n",
       "      <td>marcu cook</td>\n",
       "      <td>sport</td>\n",
       "      <td>fake</td>\n",
       "    </tr>\n",
       "    <tr>\n",
       "      <th>1114</th>\n",
       "      <td>behavior stop billion pm song</td>\n",
       "      <td>better commun begin town case oper stori produ...</td>\n",
       "      <td>2023-04-29</td>\n",
       "      <td>bbc</td>\n",
       "      <td>lori anderson</td>\n",
       "      <td>busi</td>\n",
       "      <td>real</td>\n",
       "    </tr>\n",
       "    <tr>\n",
       "      <th>13902</th>\n",
       "      <td>charg box time spend want woman</td>\n",
       "      <td>career court employe whatev religi second answ...</td>\n",
       "      <td>2025-03-30</td>\n",
       "      <td>global time</td>\n",
       "      <td>shawn ramirez</td>\n",
       "      <td>busi</td>\n",
       "      <td>real</td>\n",
       "    </tr>\n",
       "  </tbody>\n",
       "</table>\n",
       "</div>"
      ],
      "text/plain": [
       "                                  title  \\\n",
       "10650  societi imag vote realiz prevent   \n",
       "2041        red offer dream specif case   \n",
       "8668          item nearli develop green   \n",
       "1114      behavior stop billion pm song   \n",
       "13902   charg box time spend want woman   \n",
       "\n",
       "                                                    text        date  \\\n",
       "10650  better fall appear measur prepar billion incre...  2024-04-23   \n",
       "2041   east parti truth place take tough stuff behind...  2024-04-23   \n",
       "8668   wind budget impact paint role occur life enjoy...  2023-01-02   \n",
       "1114   better commun begin town case oper stori produ...  2023-04-29   \n",
       "13902  career court employe whatev religi second answ...  2025-03-30   \n",
       "\n",
       "            source          author   category label  \n",
       "10650  global time  william bolton     scienc  real  \n",
       "2041      guardian       denni rey  technolog  real  \n",
       "8668        reuter      marcu cook      sport  fake  \n",
       "1114           bbc   lori anderson       busi  real  \n",
       "13902  global time   shawn ramirez       busi  real  "
      ]
     },
     "execution_count": 203,
     "metadata": {},
     "output_type": "execute_result"
    }
   ],
   "source": [
    "test_set.head()"
   ]
  },
  {
   "cell_type": "markdown",
   "id": "d3633376-447d-4ce6-a16f-b4a8f10c36d5",
   "metadata": {},
   "source": [
    "## Building the vocabulary"
   ]
  },
  {
   "cell_type": "code",
   "execution_count": 212,
   "id": "9510e1cf-16c7-4446-9e8b-c0207a437534",
   "metadata": {},
   "outputs": [],
   "source": [
    "from collections import Counter\n",
    "vocab_test=Counter()"
   ]
  },
  {
   "cell_type": "code",
   "execution_count": 213,
   "id": "0c05cea0-b5de-44c7-9d12-8f3008d7c656",
   "metadata": {},
   "outputs": [
    {
     "data": {
      "text/plain": [
       "Counter()"
      ]
     },
     "execution_count": 213,
     "metadata": {},
     "output_type": "execute_result"
    }
   ],
   "source": [
    "vocab_test"
   ]
  },
  {
   "cell_type": "code",
   "execution_count": 214,
   "id": "815ffa3a-244b-4ab7-9f99-0b87c3bd5760",
   "metadata": {},
   "outputs": [],
   "source": [
    "test_set_columns=['title','text','source','author','category']\n",
    "for i in test_set_columns:\n",
    "    vocab_test.update(test_set[i])"
   ]
  },
  {
   "cell_type": "code",
   "execution_count": 215,
   "id": "6f963655-ff42-4b25-ab8e-498c10b45406",
   "metadata": {},
   "outputs": [
    {
     "data": {
      "text/plain": [
       "11726"
      ]
     },
     "execution_count": 215,
     "metadata": {},
     "output_type": "execute_result"
    }
   ],
   "source": [
    "len(vocab_test)"
   ]
  },
  {
   "cell_type": "code",
   "execution_count": 216,
   "id": "3b039608-108d-4c94-87cf-ce174be48158",
   "metadata": {},
   "outputs": [
    {
     "data": {
      "text/plain": [
       "Counter({'guardian': 670,\n",
       "         'health': 593,\n",
       "         'technolog': 586,\n",
       "         'sport': 585,\n",
       "         'entertain': 579,\n",
       "         'busi': 565,\n",
       "         'polit': 556,\n",
       "         'scienc': 537,\n",
       "         'ny time': 498,\n",
       "         'bbc': 480,\n",
       "         'cnn': 477,\n",
       "         'reuter': 474,\n",
       "         'fox news': 472,\n",
       "         'daili news': 469,\n",
       "         'global time': 460,\n",
       "         'lauren king': 190,\n",
       "         'david brown': 4,\n",
       "         'jame jone': 3,\n",
       "         'jame smith': 3,\n",
       "         'kenneth william': 3,\n",
       "         'mari william': 3,\n",
       "         'karen cox': 3,\n",
       "         'ashley davi': 3,\n",
       "         'stephani wilson': 2,\n",
       "         'felicia martinez': 2,\n",
       "         'christoph mitchel': 2,\n",
       "         'jami clark': 2,\n",
       "         'felicia patterson': 2,\n",
       "         'michel johnson': 2,\n",
       "         'alexandra smith': 2,\n",
       "         'michael martin': 2,\n",
       "         'timothi jimenez': 2,\n",
       "         'jennif allen': 2,\n",
       "         'sarah lopez': 2,\n",
       "         'stephani smith': 2,\n",
       "         'keith sanchez': 2,\n",
       "         'jame thoma': 2,\n",
       "         'kati smith': 2,\n",
       "         'michael campbel': 2,\n",
       "         'eric brown': 2,\n",
       "         'paul hammond': 2,\n",
       "         'william joseph': 2,\n",
       "         'paul brown': 2,\n",
       "         'nathan smith': 2,\n",
       "         'lisa william': 2,\n",
       "         'megan lopez': 2,\n",
       "         'jame green': 2,\n",
       "         'jeffrey morrison': 2,\n",
       "         'brian johnson': 2,\n",
       "         'nicol miller': 2,\n",
       "         'david jone': 2,\n",
       "         'spencer johnson': 2,\n",
       "         'amber stewart': 2,\n",
       "         'kristin brown': 2,\n",
       "         'steven jone': 2,\n",
       "         'richard brown': 2,\n",
       "         'christoph austin': 2,\n",
       "         'michael wood': 2,\n",
       "         'jame martin': 2,\n",
       "         'robert martin': 2,\n",
       "         'jennif brown': 2,\n",
       "         'ami cook': 2,\n",
       "         'thoma smith': 2,\n",
       "         'michael smith': 2,\n",
       "         'christoph johnson': 2,\n",
       "         'angela ortiz': 2,\n",
       "         'juli brown': 2,\n",
       "         'thoma hernandez': 2,\n",
       "         'ashley miller': 2,\n",
       "         'john smith': 2,\n",
       "         'michael moral': 2,\n",
       "         'john william': 2,\n",
       "         'matthew rodriguez': 2,\n",
       "         'jame william': 2,\n",
       "         'peter wilson': 2,\n",
       "         'john campbel': 2,\n",
       "         'sandra davi': 2,\n",
       "         'heidi taylor': 2,\n",
       "         'tammi robinson': 2,\n",
       "         'john garcia': 2,\n",
       "         'michel rodriguez': 2,\n",
       "         'andrew smith': 2,\n",
       "         'david smith': 2,\n",
       "         'christoph ramo': 2,\n",
       "         'justin bryant': 2,\n",
       "         'joshua gonzalez': 2,\n",
       "         'michael lopez': 2,\n",
       "         'thoma miller': 2,\n",
       "         'elizabeth johnson': 2,\n",
       "         'robert brown': 2,\n",
       "         'justin phillip': 2,\n",
       "         'stephen brown': 2,\n",
       "         'jeffrey hall': 2,\n",
       "         'jame nguyen': 2,\n",
       "         'shannon matthew': 2,\n",
       "         'stephani hale': 2,\n",
       "         'jame coleman': 2,\n",
       "         'anna peterson': 2,\n",
       "         'georg green': 2,\n",
       "         'brian wilson': 2,\n",
       "         'robert park': 2,\n",
       "         'rebecca ford': 2,\n",
       "         'mark johnson': 2,\n",
       "         'patrick thompson': 2,\n",
       "         'vanessa thoma': 2,\n",
       "         'melissa garrett': 2,\n",
       "         'ryan johnson': 2,\n",
       "         'societi imag vote realiz prevent': 1,\n",
       "         'red offer dream specif case': 1,\n",
       "         'item nearli develop green': 1,\n",
       "         'behavior stop billion pm song': 1,\n",
       "         'charg box time spend want woman': 1,\n",
       "         'import easi rise happi': 1,\n",
       "         'seriou technolog say presid question': 1,\n",
       "         'best avail agenc suffer money return outsid': 1,\n",
       "         'technolog certainli phone': 1,\n",
       "         'game though societi best despit form': 1,\n",
       "         'leg pictur final': 1,\n",
       "         'variou leg let street intern whose valu': 1,\n",
       "         'stuff sister shoulder season exist': 1,\n",
       "         'room probabl almost walk wrong truth read': 1,\n",
       "         'interest grow skill girl': 1,\n",
       "         'creat occur wide woman book tend': 1,\n",
       "         'list may project': 1,\n",
       "         'issu middl whatev stuff': 1,\n",
       "         'insid school past southern ago': 1,\n",
       "         'born rest larg hard actual hot els': 1,\n",
       "         'give poor wall method sever nice friend': 1,\n",
       "         'price caus answer econom': 1,\n",
       "         'break ye short parti movi': 1,\n",
       "         'school stand face differ begin concern': 1,\n",
       "         'ten day commerci': 1,\n",
       "         'eight morn charact': 1,\n",
       "         'might hour concern congress well execut feel': 1,\n",
       "         'also mr sister invest': 1,\n",
       "         'memori usual day lawyer': 1,\n",
       "         'stock yard direct face includ': 1,\n",
       "         'bodi ground popul coupl establish': 1,\n",
       "         'offici': 1,\n",
       "         'pictur certainli finish local': 1,\n",
       "         'actual hear agent produc major earli mission': 1,\n",
       "         'store popular well hope phone marriag': 1,\n",
       "         'big sort anyon worker memori popul': 1,\n",
       "         'identifi radio owner': 1,\n",
       "         'machin radio quickli perform year common': 1,\n",
       "         'role explain age perform': 1,\n",
       "         'econom join offici state public man risk': 1,\n",
       "         'pattern win continu better close': 1,\n",
       "         'similar dinner fli writer polit huge': 1,\n",
       "         'gener industri cell seri': 1,\n",
       "         'cultur forward affect must pattern ground appli': 1,\n",
       "         'local wrong drug goal recent': 1,\n",
       "         'possibl hundr event front suggest': 1,\n",
       "         'check writer scienc': 1,\n",
       "         'cup think realli perform wear': 1,\n",
       "         'oil clear carri effort leg suffer': 1,\n",
       "         'address manag true away': 1,\n",
       "         'necessari seven execut bag kind dark beauti': 1,\n",
       "         'becom end hand note day': 1,\n",
       "         'marriag rule deal type less argu': 1,\n",
       "         'follow western author phone year evid oil surfac': 1,\n",
       "         'stop realiz point law': 1,\n",
       "         'oper mr tend energi': 1,\n",
       "         'invest organ step number would parent describ leg': 1,\n",
       "         'thank mind matter': 1,\n",
       "         'abl watch girl seriou time': 1,\n",
       "         'size letter common certainli': 1,\n",
       "         'meet': 1,\n",
       "         'get alon hair million guess thank capit': 1,\n",
       "         'skin look repres enough': 1,\n",
       "         'still around pattern quit like': 1,\n",
       "         'food expect institut sport turn perform': 1,\n",
       "         'interest later happen': 1,\n",
       "         'glass ever summer method main board': 1,\n",
       "         'increas room everybodi mayb': 1,\n",
       "         'page southern give': 1,\n",
       "         'execut thing bodi popul': 1,\n",
       "         'wrong worker news worri': 1,\n",
       "         'better similar polit former often': 1,\n",
       "         'join sit republican us involv': 1,\n",
       "         'treat question task': 1,\n",
       "         'tri question never affect catch floor': 1,\n",
       "         'despit seek team reflect imagin ok': 1,\n",
       "         'recent establish reveal entir': 1,\n",
       "         'center reflect sport need troubl': 1,\n",
       "         'studi born someon much debat': 1,\n",
       "         'strong everyth risk': 1,\n",
       "         'confer particular section campaign': 1,\n",
       "         'stori approach season intern woman': 1,\n",
       "         'offic ga half record': 1,\n",
       "         'situat': 1,\n",
       "         'common today west entir': 1,\n",
       "         'hear human bag west wish': 1,\n",
       "         'actual must thought senior': 1,\n",
       "         'word custom trade blood catch draw': 1,\n",
       "         'cours land rememb comput land remain': 1,\n",
       "         'turn polit around avoid station yet': 1,\n",
       "         'easi visit particular affect candid': 1,\n",
       "         'speak compani citizen': 1,\n",
       "         'lay togeth': 1,\n",
       "         'relat consum repres earli elect spend word': 1,\n",
       "         'assum upon prove cultur': 1,\n",
       "         'polici often recent rather whatev adult offer': 1,\n",
       "         'career rule sell': 1,\n",
       "         'full one babi': 1,\n",
       "         'light film offici blood place': 1,\n",
       "         'troubl build determin': 1,\n",
       "         'attent human human ok studi loss': 1,\n",
       "         'special nation job main expect network': 1,\n",
       "         'begin debat educ': 1,\n",
       "         'school rather appli includ despit': 1,\n",
       "         'store person evid': 1,\n",
       "         'thank exampl rest put church issu': 1,\n",
       "         'heavi compar voic understand trial': 1,\n",
       "         'card guess soldier onto second societi': 1,\n",
       "         'partner run ahead guess': 1,\n",
       "         'rais inform outsid': 1,\n",
       "         'pictur hous could': 1,\n",
       "         'put seek': 1,\n",
       "         'argu walk action defens guy': 1,\n",
       "         'amount determin song famili interview energi': 1,\n",
       "         'loss argu pictur strong impact anyon current': 1,\n",
       "         'level child exist around affect': 1,\n",
       "         'surfac loss current sign option': 1,\n",
       "         'toward hair evid learn': 1,\n",
       "         'power state remain': 1,\n",
       "         'leav sport loss worker bad': 1,\n",
       "         'floor imagin oper doctor even strong detail': 1,\n",
       "         'alway game never either within': 1,\n",
       "         'reason possibl parent data recent feel': 1,\n",
       "         'list person among rest tree particularli other': 1,\n",
       "         'oil west guy east go': 1,\n",
       "         'word foreign free back mr': 1,\n",
       "         'staff name number half': 1,\n",
       "         'heart rise rest posit': 1,\n",
       "         'road develop floor dinner physic former hope': 1,\n",
       "         'move east bring human': 1,\n",
       "         'differ speak guess histori last': 1,\n",
       "         'provid tradit bit meet': 1,\n",
       "         'inde matter catch let': 1,\n",
       "         'player believ less court summer sea': 1,\n",
       "         'behind store door glass notic enough': 1,\n",
       "         'cultur': 1,\n",
       "         'skill campaign movi': 1,\n",
       "         'begin perhap differ begin': 1,\n",
       "         'mention far fast along skill': 1,\n",
       "         'loss land tabl travel cost': 1,\n",
       "         'laugh scienc chair entir compar prevent': 1,\n",
       "         'let energi forget develop effect': 1,\n",
       "         'best stuff sometim remain sit popular true': 1,\n",
       "         'thing tree eye bit': 1,\n",
       "         'east small along': 1,\n",
       "         'test elect western black piec treat play': 1,\n",
       "         'race enjoy live mr': 1,\n",
       "         'accord next beyond': 1,\n",
       "         'stop break control talk': 1,\n",
       "         'sourc peopl cultur': 1,\n",
       "         'practic remain plan': 1,\n",
       "         'throw poor movement benefit decad': 1,\n",
       "         'hot almost research': 1,\n",
       "         'system rest surfac system add pass skin': 1,\n",
       "         'talk troubl execut half environment creat share level': 1,\n",
       "         'capit resourc industri page success': 1,\n",
       "         'stuff add singl': 1,\n",
       "         'heart set voic thank ok': 1,\n",
       "         'high invest cell fli requir outsid lay': 1,\n",
       "         'especi light alreadi agent exampl': 1,\n",
       "         'understand like quickli strategi': 1,\n",
       "         'season senior station think despit': 1,\n",
       "         'affect expert determin firm': 1,\n",
       "         'invest green air boy': 1,\n",
       "         'peac analysi anyon': 1,\n",
       "         'pass entir articl': 1,\n",
       "         'lead cell order cut els decid': 1,\n",
       "         'indic feder around offic': 1,\n",
       "         'lawyer thousand defens last place compani': 1,\n",
       "         'score consid care opportun recogn group morn': 1,\n",
       "         'republican like thought ok': 1,\n",
       "         'social peopl onto present': 1,\n",
       "         'whether continu certain natur': 1,\n",
       "         'organ crime treatment lay produc': 1,\n",
       "         'sinc much help pressur modern': 1,\n",
       "         'thought sell special appli view': 1,\n",
       "         'accept bag bad democrat vote poor guess': 1,\n",
       "         'gun hundr sit last easi': 1,\n",
       "         'financi increas fine end everi whether senior invest': 1,\n",
       "         'figur factor': 1,\n",
       "         'throughout perhap imagin much return': 1,\n",
       "         'seven compar like fall lot throw': 1,\n",
       "         'trip thing young colleg yeah agenc could': 1,\n",
       "         'confer particular great mission anim listen': 1,\n",
       "         'standard idea live exampl includ standard action': 1,\n",
       "         'kind fast structur': 1,\n",
       "         'site top follow': 1,\n",
       "         'meet son especi view account': 1,\n",
       "         'least colleg check spend smile head tonight': 1,\n",
       "         'woman final sing laugh': 1,\n",
       "         'cultur exist group often threat practic': 1,\n",
       "         'let chair hair loss': 1,\n",
       "         'break heavi': 1,\n",
       "         'larg behavior way everi research necessari': 1,\n",
       "         'case everi messag attent instead phone': 1,\n",
       "         'garden offic issu money hope leav': 1,\n",
       "         'detail better busi newspap fine discov execut': 1,\n",
       "         'hard exampl colleg': 1,\n",
       "         'thought wife elect expert common variou unit': 1,\n",
       "         'onto well differ item': 1,\n",
       "         'troubl begin religi': 1,\n",
       "         'site answer appli brother four': 1,\n",
       "         'mean heavi notic spend stage reveal': 1,\n",
       "         'run environment togeth tend everyth pressur economi': 1,\n",
       "         'week pattern news alreadi singl born tough': 1,\n",
       "         'short histori way board describ': 1,\n",
       "         'phone tabl behind mayb': 1,\n",
       "         'view dinner one parent beauti': 1,\n",
       "         'individu threat meet peac art knowledg': 1,\n",
       "         'final type go tree': 1,\n",
       "         'occur local': 1,\n",
       "         'card account begin beauti land': 1,\n",
       "         'child easi particular talk': 1,\n",
       "         'medic affect blue': 1,\n",
       "         'direct major debat war town': 1,\n",
       "         'style beyond centuri': 1,\n",
       "         'manag languag repres': 1,\n",
       "         'sens employe offic group give sea drive': 1,\n",
       "         'rich els studi put serv requir': 1,\n",
       "         'paint modern today present southern product among': 1,\n",
       "         'civil despit last mission sister': 1,\n",
       "         'send fight whose': 1,\n",
       "         'feel feel sens economi sing hear': 1,\n",
       "         'interview project': 1,\n",
       "         'ago part occur': 1,\n",
       "         'movement reduc differ invest factor outsid': 1,\n",
       "         'interest well rememb commerci partner studi': 1,\n",
       "         'away bar plan near defens piec': 1,\n",
       "         'candid rock': 1,\n",
       "         'true compani act leg': 1,\n",
       "         'word manag rate product feel street': 1,\n",
       "         'sea everyon red': 1,\n",
       "         'technolog sport age audienc polit citi': 1,\n",
       "         'home site els social return': 1,\n",
       "         'go staff half site join next buy assum': 1,\n",
       "         'standard realiti stock polit open commun': 1,\n",
       "         'usual begin player million project': 1,\n",
       "         'recent alway identifi relationship countri worker': 1,\n",
       "         'attack talk though intern end': 1,\n",
       "         'tabl sit left challeng school': 1,\n",
       "         'inde paint start': 1,\n",
       "         'fight entir suggest budget': 1,\n",
       "         'issu ever town paper man': 1,\n",
       "         'colleg away repres live free': 1,\n",
       "         'class trip food phone end abil enjoy': 1,\n",
       "         'letter floor analysi avail': 1,\n",
       "         'husband word rich camera': 1,\n",
       "         'result south parti per top book': 1,\n",
       "         'tonight dinner forward onto stuff third': 1,\n",
       "         'join stock': 1,\n",
       "         'militari respons common western move though particip': 1,\n",
       "         'accept risk': 1,\n",
       "         'attorney everi brother red war includ': 1,\n",
       "         'fund write even join': 1,\n",
       "         'accord benefit morn chang certain price front': 1,\n",
       "         'custom western ahead valu might full number': 1,\n",
       "         'still particular howev dark': 1,\n",
       "         'blood take person lead societi': 1,\n",
       "         'least decid market': 1,\n",
       "         'nation focu five': 1,\n",
       "         'forget anim time': 1,\n",
       "         'full enjoy look lose spend': 1,\n",
       "         'water ask consid young card secur': 1,\n",
       "         'free north state': 1,\n",
       "         'risk card avail larg two find big': 1,\n",
       "         'week public less address establish energi': 1,\n",
       "         'someon chang today rang': 1,\n",
       "         'singl research reflect task hope behavior final capit': 1,\n",
       "         'indic rais pick read': 1,\n",
       "         'let pretti paper': 1,\n",
       "         'seri anyth notic simpli offic challeng': 1,\n",
       "         'job walk term feel': 1,\n",
       "         'realiti camera draw main': 1,\n",
       "         'huge dog sometim': 1,\n",
       "         'deal structur begin letter': 1,\n",
       "         'floor profession human page': 1,\n",
       "         'bad report': 1,\n",
       "         'consum hard kitchen open abil push today gener': 1,\n",
       "         'differ attent account sell': 1,\n",
       "         'eat seriou especi': 1,\n",
       "         'confer paper bed away': 1,\n",
       "         'place public along action front': 1,\n",
       "         'song foreign citizen hope nation us look': 1,\n",
       "         'call board tri whether cours us': 1,\n",
       "         'parent doctor name wait babi': 1,\n",
       "         'mean imagin mother floor effort': 1,\n",
       "         'babi gun polici': 1,\n",
       "         'huge mother like make bring mr civil': 1,\n",
       "         'serv find tough easi': 1,\n",
       "         'mouth train watch church cours seri interest form': 1,\n",
       "         'back give start perhap': 1,\n",
       "         'seek heart base return': 1,\n",
       "         'region nearli research red environ point': 1,\n",
       "         'health imag sure door': 1,\n",
       "         'major share sometim front site': 1,\n",
       "         'beyond teach vote world american member wait': 1,\n",
       "         'great certainli job keep teacher famili court': 1,\n",
       "         'centuri differ includ heart give': 1,\n",
       "         'trial everybodi': 1,\n",
       "         'benefit sometim foot': 1,\n",
       "         'similar law tonight other level': 1,\n",
       "         'daughter use blue includ type': 1,\n",
       "         'materi order see practic ye': 1,\n",
       "         'pictur assum reflect rule debat': 1,\n",
       "         'cut finish cell': 1,\n",
       "         'miss talk prove follow window': 1,\n",
       "         'season risk method simpli outsid southern price': 1,\n",
       "         'stuff modern well member two leav': 1,\n",
       "         'water outsid trade': 1,\n",
       "         'beat like fire capit owner program cost': 1,\n",
       "         'let coupl act': 1,\n",
       "         'scene top brother light question case evid': 1,\n",
       "         'gener network capit enough mind': 1,\n",
       "         'understand would focu help lot instead': 1,\n",
       "         'great profession continu high sometim': 1,\n",
       "         'former heart': 1,\n",
       "         'parti lawyer send': 1,\n",
       "         'shake pressur upon troubl': 1,\n",
       "         'list team million sing forward high still': 1,\n",
       "         'real travel light nice charg tend': 1,\n",
       "         'seriou mouth': 1,\n",
       "         'everyth big morn chair matter': 1,\n",
       "         'power kind eat person mission': 1,\n",
       "         'ball hair later bar': 1,\n",
       "         'worri measur would': 1,\n",
       "         'avoid admit democrat team peac sign': 1,\n",
       "         'thought paint cultur natur opportun': 1,\n",
       "         'across reduc would scienc nation': 1,\n",
       "         'near modern place one trip': 1,\n",
       "         'televis night reduc financi': 1,\n",
       "         'polit leg task support know agenc strategi': 1,\n",
       "         'night small nation tradit campaign': 1,\n",
       "         'whatev inform free true concern give husband': 1,\n",
       "         'approach west notic': 1,\n",
       "         'larg understand place sometim clear clearli': 1,\n",
       "         'voic local test number choic': 1,\n",
       "         'life game program doctor mind forget': 1,\n",
       "         'wait outsid music': 1,\n",
       "         'letter instead moment': 1,\n",
       "         'behind purpos particip consum get': 1,\n",
       "         'answer ball larg fine push polit financi news': 1,\n",
       "         'becom popul focu last': 1,\n",
       "         'american leav noth line realiti rate adult realiz': 1,\n",
       "         'factor stage skill health': 1,\n",
       "         'quickli career prove wind identifi sell key': 1,\n",
       "         'requir hold pretti challeng road signific': 1,\n",
       "         'garden sport democrat evid system': 1,\n",
       "         'two instead manag later clearli fish': 1,\n",
       "         'full ten includ senior industri': 1,\n",
       "         'servic sometim career though enough establish clearli': 1,\n",
       "         'histori easi thu next': 1,\n",
       "         'appear comput night pm final': 1,\n",
       "         'custom show televis moment': 1,\n",
       "         'troubl region believ alon tri mention result see': 1,\n",
       "         'moment appli sure attack develop': 1,\n",
       "         'gener letter medic free central relationship lay end': 1,\n",
       "         'scene forward current': 1,\n",
       "         'throughout everybodi particip recogn yeah question design': 1,\n",
       "         'reason agreement top despit': 1,\n",
       "         'night process product program chanc': 1,\n",
       "         'beyond messag game father stop plan memori': 1,\n",
       "         'tabl democrat rate structur qualiti may': 1,\n",
       "         'effort end space north real recent daughter benefit': 1,\n",
       "         'behavior posit famili reveal': 1,\n",
       "         'economi sit air space': 1,\n",
       "         'indic think beyond statement arm alon': 1,\n",
       "         'meet educ pretti second teacher': 1,\n",
       "         'system task coach rich gun across hot': 1,\n",
       "         'almost time current sing tell': 1,\n",
       "         'beauti especi success wife': 1,\n",
       "         'present join moment direct owner though': 1,\n",
       "         'understand item shoulder messag direct requir necessari': 1,\n",
       "         'small mission ball sure': 1,\n",
       "         'hit within tree worker perform new': 1,\n",
       "         'chang offic number gener claim use': 1,\n",
       "         'check everi around polit': 1,\n",
       "         'cover woman answer year drop fast beauti': 1,\n",
       "         'theori form research wide bar strategi': 1,\n",
       "         'right blood network hospit variou': 1,\n",
       "         'charact week figur model': 1,\n",
       "         'behind last': 1,\n",
       "         'religi measur standard project stage art': 1,\n",
       "         'quickli water least enter cold sit west': 1,\n",
       "         'candid common': 1,\n",
       "         'stay mean rais especi base husband mission': 1,\n",
       "         'matter night none alon defens arm maintain': 1,\n",
       "         'must hear record': 1,\n",
       "         'laugh natur get futur along': 1,\n",
       "         'wait believ career often easi': 1,\n",
       "         'past without green good exactli': 1,\n",
       "         'face pm board econom becom': 1,\n",
       "         'enough full strong': 1,\n",
       "         'know long talk especi': 1,\n",
       "         'standard get final': 1,\n",
       "         'church return meet mr rich': 1,\n",
       "         'near wish differ posit word': 1,\n",
       "         'pm bit concern visit also base': 1,\n",
       "         'interview billion know even day sinc': 1,\n",
       "         'pretti sens standard edg': 1,\n",
       "         'pressur cover offici': 1,\n",
       "         'long part world': 1,\n",
       "         'develop buy citizen cost commun tax': 1,\n",
       "         'american resourc person': 1,\n",
       "         'collect offic well': 1,\n",
       "         'hair film west state': 1,\n",
       "         'sister gener contain': 1,\n",
       "         'offer true believ actual past expect': 1,\n",
       "         'technolog modern pick rich famili game kitchen program': 1,\n",
       "         'poor day keep': 1,\n",
       "         'thank pressur whether truth': 1,\n",
       "         'machin around know everybodi public': 1,\n",
       "         'account miss rest': 1,\n",
       "         'usual billion away least method': 1,\n",
       "         'look comput': 1,\n",
       "         'claim properti claim offic situat control sourc': 1,\n",
       "         'actual famili troubl cup everi size': 1,\n",
       "         'suffer writer thank': 1,\n",
       "         'actual across protect teacher return': 1,\n",
       "         'old certain matter energi stage mind without': 1,\n",
       "         'color total movi sister': 1,\n",
       "         'listen ground human': 1,\n",
       "         'final risk individu view pressur': 1,\n",
       "         'effect relationship govern task': 1,\n",
       "         'fall great expect particip next': 1,\n",
       "         'throughout section offici hold execut': 1,\n",
       "         'result reason offer hotel activ human': 1,\n",
       "         'land centuri health consum': 1,\n",
       "         'matter tv sea magazin laugh suddenli': 1,\n",
       "         'fear middl tv': 1,\n",
       "         'describ six street sure': 1,\n",
       "         'posit success court rule': 1,\n",
       "         'resourc unit race offici': 1,\n",
       "         'send idea street program far tax': 1,\n",
       "         'local exactli late individu': 1,\n",
       "         'old adult popular': 1,\n",
       "         'box religi onto offic': 1,\n",
       "         'consid manag good group unit hospit': 1,\n",
       "         'popul compani wife': 1,\n",
       "         'guess civil reveal': 1,\n",
       "         'thu tv find west': 1,\n",
       "         'field black hand color': 1,\n",
       "         'necessari far fact day week fast ball': 1,\n",
       "         'affect could behind skill similar million car away': 1,\n",
       "         'letter doctor quit suggest morn alway side': 1,\n",
       "         'student mr': 1,\n",
       "         'thousand alon benefit age': 1,\n",
       "         'scienc glass unit realli resourc interest use': 1,\n",
       "         'threat far gener creat three center': 1,\n",
       "         'notic forward girl eight front': 1,\n",
       "         'wall feel parent differ hear like requir': 1,\n",
       "         'defens degre style record': 1,\n",
       "         'staff part seat': 1,\n",
       "         'seem total natur mouth properti peopl': 1,\n",
       "         'manag recogn gun mr world eye environment': 1,\n",
       "         'race institut case side': 1,\n",
       "         'sign process old window seriou natur': 1,\n",
       "         'time occur style tell': 1,\n",
       "         'larg season magazin': 1,\n",
       "         'peopl guess beat interest togeth everi': 1,\n",
       "         'address establish page better stand level': 1,\n",
       "         'best cover report shake': 1,\n",
       "         'room goal team matter peopl': 1,\n",
       "         'bit littl claim everybodi': 1,\n",
       "         'adult start secur seek manag hand': 1,\n",
       "         'interview ago garden notic': 1,\n",
       "         'sort shake expect real': 1,\n",
       "         'woman give capit campaign signific variou brother': 1,\n",
       "         'direct campaign manag': 1,\n",
       "         'individu son might govern': 1,\n",
       "         'unit whose tell camera wonder': 1,\n",
       "         'black respond style thing final skill': 1,\n",
       "         'group individu water none': 1,\n",
       "         'final action pretti kid four': 1,\n",
       "         'littl action seat': 1,\n",
       "         'read strong lead attorney': 1,\n",
       "         'level issu carri appear one creat account growth': 1,\n",
       "         'base choos agreement account fish': 1,\n",
       "         'type tend order could': 1,\n",
       "         'articl soldier begin anim put compani': 1,\n",
       "         'star stori skill materi show': 1,\n",
       "         'left north kitchen home': 1,\n",
       "         'top avoid accord middl larg group activ': 1,\n",
       "         'product home later shake': 1,\n",
       "         'avail stand weight paper world': 1,\n",
       "         'area page run outsid blood': 1,\n",
       "         'product give dinner chang abl': 1,\n",
       "         'artist catch effort work risk develop': 1,\n",
       "         'tough spend score': 1,\n",
       "         'travel near democrat guess': 1,\n",
       "         'similar product final stay': 1,\n",
       "         'test manag father': 1,\n",
       "         'abl fear husband': 1,\n",
       "         'price train wind hot mouth': 1,\n",
       "         'avoid someth media': 1,\n",
       "         'comput expert fight fear polici view town': 1,\n",
       "         'upon accord possibl pass teacher attent entir': 1,\n",
       "         'central protect hard ga': 1,\n",
       "         'recent cours subject western green goal': 1,\n",
       "         'good grow activ': 1,\n",
       "         'instead view visit author': 1,\n",
       "         'end artist foreign': 1,\n",
       "         'amount author visit phone': 1,\n",
       "         'like skin economi risk option newspap': 1,\n",
       "         'along issu window sens': 1,\n",
       "         'four seem evid militari tax see': 1,\n",
       "         'adult doctor prove see': 1,\n",
       "         'point perform sometim presid high': 1,\n",
       "         'worri polit act militari job elect': 1,\n",
       "         'materi parti variou budget last': 1,\n",
       "         'base one rock open pattern listen brother': 1,\n",
       "         'agent north suffer agre often': 1,\n",
       "         'like experi head factor notic civil': 1,\n",
       "         'notic charact finish build car mr hour': 1,\n",
       "         'glass heart prevent opportun': 1,\n",
       "         'page food': 1,\n",
       "         'reach bag follow': 1,\n",
       "         'drop entir special': 1,\n",
       "         'begin option music': 1,\n",
       "         'expert materi discuss success': 1,\n",
       "         'movi provid nation place major director': 1,\n",
       "         'materi form even job teacher': 1,\n",
       "         'tonight choos use two right servic minut': 1,\n",
       "         'els enough free': 1,\n",
       "         'southern charg capit': 1,\n",
       "         'project present collect imagin': 1,\n",
       "         'rise board abil accept hit': 1,\n",
       "         'far save back finish': 1,\n",
       "         'best servic factor': 1,\n",
       "         'quit rememb religi land game': 1,\n",
       "         'offic sign alway': 1,\n",
       "         'piec respons imagin remain ask per': 1,\n",
       "         'rule manag card bit debat': 1,\n",
       "         'insid south person person life': 1,\n",
       "         'resourc fine budget want': 1,\n",
       "         'either posit readi reveal': 1,\n",
       "         'thu arm develop': 1,\n",
       "         'measur polit realiti cup report anyth': 1,\n",
       "         'network west father differ case address els': 1,\n",
       "         'way without take technolog': 1,\n",
       "         'lose repres train': 1,\n",
       "         'cultur player short presid check respons': 1,\n",
       "         'seriou exist author': 1,\n",
       "         'case minut memori special huge design': 1,\n",
       "         'appli account gun may': 1,\n",
       "         'entir card abl': 1,\n",
       "         'task singl page detail later game': 1,\n",
       "         'better join star movi': 1,\n",
       "         'similar insid western trade realiti': 1,\n",
       "         'ok send busi common': 1,\n",
       "         'congress call common abl toward point skill': 1,\n",
       "         'design know role wonder cost rememb': 1,\n",
       "         'valu chanc spend avail republican': 1,\n",
       "         'probabl face soldier anyon mind mr': 1,\n",
       "         'author thing high account televis cultur check': 1,\n",
       "         'like seem know box back hospit guess': 1,\n",
       "         'field sort take memori author': 1,\n",
       "         'cultur finish offic expect': 1,\n",
       "         'presid materi test throughout': 1,\n",
       "         'assum draw market vote religi fast west': 1,\n",
       "         'beauti spring without': 1,\n",
       "         'save thank public': 1,\n",
       "         'resourc girl follow star father easi': 1,\n",
       "         'bag late site follow south': 1,\n",
       "         'term adult wall race': 1,\n",
       "         'newspap best born kitchen may pull': 1,\n",
       "         'teacher structur see open turn societi televis': 1,\n",
       "         'bodi town budget late cut kid': 1,\n",
       "         'next save whose eat three': 1,\n",
       "         'relationship enter wife': 1,\n",
       "         'statement art stuff mayb reduc economi': 1,\n",
       "         'share play posit': 1,\n",
       "         'arriv memori thu attent prevent': 1,\n",
       "         'stuff start central': 1,\n",
       "         'team confer turn relat easi': 1,\n",
       "         'includ materi blue green perform number': 1,\n",
       "         'may plan spring quickli': 1,\n",
       "         'seem half garden middl econom busi': 1,\n",
       "         'sort tell consum get win hot noth': 1,\n",
       "         'anyon word hear': 1,\n",
       "         'thought trade admit friend': 1,\n",
       "         'like troubl yet list hundr get': 1,\n",
       "         'glass send condit think': 1,\n",
       "         'agre shake occur polici often': 1,\n",
       "         'year return drop run hour mouth': 1,\n",
       "         'run eat hard produc opportun meet': 1,\n",
       "         'option west guess': 1,\n",
       "         'life matter colleg letter lose capit': 1,\n",
       "         'dinner wrong side': 1,\n",
       "         'outsid work high green develop attorney alon': 1,\n",
       "         'could audienc none manag': 1,\n",
       "         'design letter impact safe consum': 1,\n",
       "         'impact execut hair yeah': 1,\n",
       "         'pattern almost everybodi statement': 1,\n",
       "         'hear import famili amount': 1,\n",
       "         'write skill hospit bag effect person realiz': 1,\n",
       "         'posit window boy add moment worker': 1,\n",
       "         'actual catch babi': 1,\n",
       "         'creat intern class forc particularli cold return': 1,\n",
       "         'later nearli simpl chang hour realiz': 1,\n",
       "         'item parti rang inform ye': 1,\n",
       "         'religi tri first author foot style': 1,\n",
       "         'hot mani hospit instead': 1,\n",
       "         'respond local hundr protect player': 1,\n",
       "         'goal approach enter variou sever fli': 1,\n",
       "         'relat enter drop citizen': 1,\n",
       "         'sometim quickli': 1,\n",
       "         'edg wife food improv': 1,\n",
       "         'insid night expect music back': 1,\n",
       "         'join start smile believ inde alon local': 1,\n",
       "         'add commerci hous impact instead': 1,\n",
       "         'seven board scienc reduc benefit music thank': 1,\n",
       "         'tough room': 1,\n",
       "         'strong pass area huge deep statement reason weight': 1,\n",
       "         'mother signific build manag readi': 1,\n",
       "         'leg light perhap base suffer materi': 1,\n",
       "         'hour impact believ type north stay care': 1,\n",
       "         'team make wife earli': 1,\n",
       "         'whole suddenli read build simpli': 1,\n",
       "         'us cut good perform particular visit road': 1,\n",
       "         'station region compani realiti young': 1,\n",
       "         'coach thank colleg health record less collect interest': 1,\n",
       "         'watch remain fear singl': 1,\n",
       "         'great win road particular within': 1,\n",
       "         'modern less servic': 1,\n",
       "         'babi heavi popul produc school cover beat': 1,\n",
       "         'ground dark black chanc act ye week intern': 1,\n",
       "         'whose hair particip': 1,\n",
       "         'execut movi dinner present': 1,\n",
       "         'presid respons provid kitchen owner fill beauti': 1,\n",
       "         'friend discuss individu democrat mention effort': 1,\n",
       "         'improv certain threat bit role': 1,\n",
       "         'meet continu forward wind six charg professor congress': 1,\n",
       "         'chair pass pull': 1,\n",
       "         'set forward player carri point': 1,\n",
       "         'yet read structur suggest': 1,\n",
       "         'wind increas tax front head technolog': 1,\n",
       "         'eat third line number still practic': 1,\n",
       "         'east charg televis': 1,\n",
       "         'live season left ask part paint posit': 1,\n",
       "         'countri indic arriv real loss skill': 1,\n",
       "         'foot final deep': 1,\n",
       "         'posit develop': 1,\n",
       "         'station provid industri cover claim public level': 1,\n",
       "         'writer wait futur work outsid': 1,\n",
       "         'train ye abil includ long': 1,\n",
       "         'end lawyer littl term standard': 1,\n",
       "         'head hour whose door': 1,\n",
       "         'make key director tell issu treat almost': 1,\n",
       "         'mani style might': 1,\n",
       "         'everyth certainli offer word meet like': 1,\n",
       "         'white see similar': 1,\n",
       "         'build week senior languag writer bill discov': 1,\n",
       "         'everyon guess worker manag find': 1,\n",
       "         'edg white hospit babi': 1,\n",
       "         'foreign pick earli posit': 1,\n",
       "         'religi figur soldier administr': 1,\n",
       "         'gun look concern': 1,\n",
       "         'professor democrat polit see execut': 1,\n",
       "         'run everyth colleg attorney reflect': 1,\n",
       "         'institut day would public account chang': 1,\n",
       "         'film like idea chair realiti': 1,\n",
       "         'centuri polici pick score': 1,\n",
       "         'inde improv score bit bit forget': 1,\n",
       "         'threat describ ask simpl among result': 1,\n",
       "         'caus student interest true job perhap campaign': 1,\n",
       "         'line coach base director author': 1,\n",
       "         'degre shoulder budget insid art': 1,\n",
       "         'wear deep natur chang agent pictur pull': 1,\n",
       "         'forc offic best': 1,\n",
       "         'popul artist final sport peac half ball heart': 1,\n",
       "         'book last town employe front elect societi': 1,\n",
       "         'profession blood chanc': 1,\n",
       "         'experi alreadi provid realiti ball': 1,\n",
       "         'especi hand build hundr window difficult care': 1,\n",
       "         'see invest respons much money': 1,\n",
       "         'hard rang posit nation': 1,\n",
       "         'bit charg main issu': 1,\n",
       "         'capit alway treat edg': 1,\n",
       "         'friend campaign type special': 1,\n",
       "         'bill score histori market main': 1,\n",
       "         'everyon end item alway natur low': 1,\n",
       "         'materi theori determin light measur show': 1,\n",
       "         'includ often peopl rais tabl blood manag control': 1,\n",
       "         'admit magazin parent least want behind': 1,\n",
       "         'huge street billion respons troubl prepar': 1,\n",
       "         'follow analysi improv mr': 1,\n",
       "         'reason loss laugh cultur order': 1,\n",
       "         'fear suddenli east get': 1,\n",
       "         'seek situat ten front market feel popular': 1,\n",
       "         'charact fact safe pull': 1,\n",
       "         'natur say environ foot put matter': 1,\n",
       "         'well per manag': 1,\n",
       "         'movement sell start': 1,\n",
       "         'develop true road thank futur often plan act': 1,\n",
       "         'bad town head': 1,\n",
       "         'similar writer senior show mani drop': 1,\n",
       "         'soon meet hundr budget onto continu': 1,\n",
       "         'hope famili good whose much': 1,\n",
       "         'go evid argu': 1,\n",
       "         'section govern rock fine reflect probabl': 1,\n",
       "         'yet professor final particularli beyond garden brother': 1,\n",
       "         'partner person relat daughter prevent manag degre': 1,\n",
       "         'within could writer consid': 1,\n",
       "         'articl anim answer': 1,\n",
       "         'chang protect trial': 1,\n",
       "         'inde may tend fear wall': 1,\n",
       "         'market execut': 1,\n",
       "         'voic voic attack sell moment dog': 1,\n",
       "         'room sister includ much employe': 1,\n",
       "         'level figur industri': 1,\n",
       "         'ever idea economi environment theori step': 1,\n",
       "         'throughout view view carri floor media': 1,\n",
       "         'polic health respons believ': 1,\n",
       "         'white poor audienc': 1,\n",
       "         'land best': 1,\n",
       "         'consid trial two factor wear polic': 1,\n",
       "         'paper begin open': 1,\n",
       "         'watch profession purpos shoulder fast prevent': 1,\n",
       "         'feel add': 1,\n",
       "         'strong blue dream throughout': 1,\n",
       "         'fli theori reflect blood': 1,\n",
       "         'futur run admit old': 1,\n",
       "         'fact prepar knowledg student': 1,\n",
       "         'central rich cup': 1,\n",
       "         'ok design war interest religi': 1,\n",
       "         'good view': 1,\n",
       "         'public threat road best': 1,\n",
       "         'rock citizen whole today': 1,\n",
       "         'throw score watch hope accept': 1,\n",
       "         'color abl play public media tough': 1,\n",
       "         'condit line man': 1,\n",
       "         'tree posit includ': 1,\n",
       "         'real turn stock': 1,\n",
       "         'five yet affect': 1,\n",
       "         'recent star friend thank rise candid never': 1,\n",
       "         'usual compani ask job light care condit leader': 1,\n",
       "         'result congress mani hard show': 1,\n",
       "         'product suddenli': 1,\n",
       "         'idea realiz': 1,\n",
       "         'involv control later stuff': 1,\n",
       "         'interview owner would prepar son life even': 1,\n",
       "         'protect blue main truth new': 1,\n",
       "         'continu agre stand local': 1,\n",
       "         'nation war might': 1,\n",
       "         'million particularli economi': 1,\n",
       "         'size repres maintain': 1,\n",
       "         'might alon anoth analysi': 1,\n",
       "         'trial point two': 1,\n",
       "         'research sever memori': 1,\n",
       "         'skin govern five teacher develop': 1,\n",
       "         'much plant sport cut anyon left': 1,\n",
       "         'threat maintain posit militari happi': 1,\n",
       "         'speak send reach late produc week soon': 1,\n",
       "         'get littl move': 1,\n",
       "         'film chanc tend back': 1,\n",
       "         'becom suffer special seek': 1,\n",
       "         'resourc necessari bar movi administr relat center': 1,\n",
       "         'list better pay': 1,\n",
       "         'food decid last big attent': 1,\n",
       "         'state former happi': 1,\n",
       "         'project dinner head littl fire': 1,\n",
       "         'son attent upon team treatment': 1,\n",
       "         'whatev happi safe polici': 1,\n",
       "         'truth central drug rais democrat': 1,\n",
       "         'side success major leg': 1,\n",
       "         'morn director citi learn work requir': 1,\n",
       "         'color season end share probabl': 1,\n",
       "         'decis finish describ movi sign': 1,\n",
       "         'wall babi right seven': 1,\n",
       "         'green find econom resourc requir': 1,\n",
       "         'pressur begin insid degre prove write': 1,\n",
       "         'notic might heart growth set': 1,\n",
       "         'camera chanc hour keep larg': 1,\n",
       "         'campaign sens memori skin': 1,\n",
       "         'oper brother church singl summer fire ever': 1,\n",
       "         'confer relat person offic standard': 1,\n",
       "         'still first actual differ guy hour': 1,\n",
       "         'mission individu campaign': 1,\n",
       "         'hundr dog inde intern west': 1,\n",
       "         'none parti rock food challeng': 1,\n",
       "         'peac life say': 1,\n",
       "         'polic see start commerci': 1,\n",
       "         'languag quit theori call pretti': 1,\n",
       "         'season realiti bill': 1,\n",
       "         'sport bodi relat answer manag': 1,\n",
       "         'buy possibl blood foreign left along': 1,\n",
       "         'trial wrong requir rule': 1,\n",
       "         'difficult trip turn econom soldier never howev': 1,\n",
       "         'bodi citizen author never focu comput': 1,\n",
       "         'blood popul establish center turn true relat simpli': 1,\n",
       "         'answer imag explain avoid stay woman': 1,\n",
       "         'impact perhap let worri whether control': 1,\n",
       "         'high tabl eat door': 1,\n",
       "         'money work posit cup indic treatment': 1,\n",
       "         'seven troubl join board choic huge': 1,\n",
       "         'pressur remain requir find admit parti mention': 1,\n",
       "         'sign properti hour budget find exactli': 1,\n",
       "         'candid question drug moment return': 1,\n",
       "         'prevent wife speech audienc section trade': 1,\n",
       "         'concern bank prevent trade': 1,\n",
       "         'church futur second singl leader seven expert': 1,\n",
       "         'wind suggest': 1,\n",
       "         'contain husband manag': 1,\n",
       "         'writer research read film notic expect': 1,\n",
       "         'director two dog': 1,\n",
       "         'anyon togeth': 1,\n",
       "         'certainli light month': 1,\n",
       "         'pretti scene societi guy enjoy': 1,\n",
       "         'plant strategi technolog serv': 1,\n",
       "         'front cold claim activ develop': 1,\n",
       "         'militari side individu bit shake issu': 1,\n",
       "         'popul program travel last increas look past street': 1,\n",
       "         'shake food success despit commerci hundr': 1,\n",
       "         'good tough mayb': 1,\n",
       "         'bring edg main dream pay manag': 1,\n",
       "         'mission polici provid anim': 1,\n",
       "         'inde firm school machin give last blue job': 1,\n",
       "         'soon show polit night': 1,\n",
       "         'magazin art toward': 1,\n",
       "         'kid person none behavior step see': 1,\n",
       "         'earli offic feel door': 1,\n",
       "         'wife oil impact': 1,\n",
       "         'somebodi exactli environ art scientist': 1,\n",
       "         'task financi fine boy': 1,\n",
       "         'book face middl necessari tabl': 1,\n",
       "         'caus child larg': 1,\n",
       "         'industri middl rememb creat market': 1,\n",
       "         'beauti law arm': 1,\n",
       "         'posit ga final': 1,\n",
       "         'beauti skill sit movement artist director': 1,\n",
       "         'candid tonight voic': 1,\n",
       "         'better probabl fill': 1,\n",
       "         'sign posit amount kid': 1,\n",
       "         'think tell anyth oil': 1,\n",
       "         'guy season': 1,\n",
       "         'along rise southern repres benefit manag guess': 1,\n",
       "         'skill spend view blue car': 1,\n",
       "         'carri rate approach': 1,\n",
       "         'fire system good radio answer': 1,\n",
       "         'thing best suggest posit even subject': 1,\n",
       "         'health arriv health yeah': 1,\n",
       "         'compar peopl hit chang vote': 1,\n",
       "         'larg cold activ': 1,\n",
       "         'dinner paper forget middl': 1,\n",
       "         'upon variou mouth right candid': 1,\n",
       "         'author decid guy includ human': 1,\n",
       "         'recent busi north think day dinner green': 1,\n",
       "         'per life': 1,\n",
       "         'certainli often someth site tree show': 1,\n",
       "         'least though type easi summer whose': 1,\n",
       "         'soon effort back among': 1,\n",
       "         'respons smile late fine': 1,\n",
       "         'anim variou provid bad confer consum respond': 1,\n",
       "         'low matter build though certainli perform establish word': 1,\n",
       "         'glass valu soldier challeng': 1,\n",
       "         'site speech nice major': 1,\n",
       "         'remain owner issu result second final': 1,\n",
       "         'respons western everybodi school': 1,\n",
       "         'guess group respond true travel hospit garden': 1,\n",
       "         'fear like say modern fill fund confer': 1,\n",
       "         'sell success possibl compar condit author': 1,\n",
       "         'near public chang five rich': 1,\n",
       "         'tree countri perhap ga televis': 1,\n",
       "         'radio wrong risk result career pay': 1,\n",
       "         'heavi languag assum posit': 1,\n",
       "         'brother share paper treat bank enjoy': 1,\n",
       "         'although els owner': 1,\n",
       "         'choos pay either right hand individu': 1,\n",
       "         'suggest lose plan truth financi whether home': 1,\n",
       "         'busi although start': 1,\n",
       "         'specif bring seri almost medic republican': 1,\n",
       "         'turn agenc build': 1,\n",
       "         'someth buy home foreign former': 1,\n",
       "         'skill thing run car': 1,\n",
       "         'quit offer effort rememb hope event histori': 1,\n",
       "         'region network center': 1,\n",
       "         'execut point magazin': 1,\n",
       "         'enough interest requir town': 1,\n",
       "         'law usual citizen tax': 1,\n",
       "         'central studi quit': 1,\n",
       "         'good process thu dream daughter': 1,\n",
       "         'soldier item tree tv': 1,\n",
       "         'site side develop adult': 1,\n",
       "         'scene film involv everi nation mr': 1,\n",
       "         'prepar invest student town': 1,\n",
       "         'individu billion presid pretti': 1,\n",
       "         'intern other wall put arm': 1,\n",
       "         'daughter societi ground inde career': 1,\n",
       "         'similar tree share boy occur': 1,\n",
       "         'whatev want face data north beauti': 1,\n",
       "         'peac anoth could deal involv figur speak': 1,\n",
       "         'teacher elect tradit whole leg happen mission': 1,\n",
       "         'prove even opportun pull star': 1,\n",
       "         ...})"
      ]
     },
     "execution_count": 216,
     "metadata": {},
     "output_type": "execute_result"
    }
   ],
   "source": [
    "vocab_test"
   ]
  },
  {
   "cell_type": "code",
   "execution_count": 211,
   "id": "95c021cc-6224-4ff7-b028-72147dcccc4a",
   "metadata": {},
   "outputs": [],
   "source": [
    "## save the vociabulary based on the test data"
   ]
  },
  {
   "cell_type": "code",
   "execution_count": 217,
   "id": "d186f610-4c9c-4601-92cc-22be76a2f7ec",
   "metadata": {},
   "outputs": [],
   "source": [
    "def save_vocabulary(lines,filename):\n",
    "    data='\\n'.join(lines)\n",
    "    file=open(filename, 'w',encoding='utf-8')\n",
    "    file.write(data)\n",
    "    file.close()\n",
    "\n",
    "save_vocabulary(vocab_test,'vocabulary_test.txt')\n",
    "    "
   ]
  },
  {
   "cell_type": "code",
   "execution_count": 219,
   "id": "cbd87bb7-2fcc-4254-82d5-8ccadc2615d2",
   "metadata": {},
   "outputs": [
    {
     "data": {
      "text/html": [
       "<div>\n",
       "<style scoped>\n",
       "    .dataframe tbody tr th:only-of-type {\n",
       "        vertical-align: middle;\n",
       "    }\n",
       "\n",
       "    .dataframe tbody tr th {\n",
       "        vertical-align: top;\n",
       "    }\n",
       "\n",
       "    .dataframe thead th {\n",
       "        text-align: right;\n",
       "    }\n",
       "</style>\n",
       "<table border=\"1\" class=\"dataframe\">\n",
       "  <thead>\n",
       "    <tr style=\"text-align: right;\">\n",
       "      <th></th>\n",
       "      <th>title</th>\n",
       "      <th>text</th>\n",
       "      <th>date</th>\n",
       "      <th>source</th>\n",
       "      <th>author</th>\n",
       "      <th>category</th>\n",
       "      <th>label</th>\n",
       "    </tr>\n",
       "  </thead>\n",
       "  <tbody>\n",
       "    <tr>\n",
       "      <th>10650</th>\n",
       "      <td>societi imag vote realiz prevent</td>\n",
       "      <td>better fall appear measur prepar billion incre...</td>\n",
       "      <td>2024-04-23</td>\n",
       "      <td>global time</td>\n",
       "      <td>william bolton</td>\n",
       "      <td>scienc</td>\n",
       "      <td>real</td>\n",
       "    </tr>\n",
       "    <tr>\n",
       "      <th>2041</th>\n",
       "      <td>red offer dream specif case</td>\n",
       "      <td>east parti truth place take tough stuff behind...</td>\n",
       "      <td>2024-04-23</td>\n",
       "      <td>guardian</td>\n",
       "      <td>denni rey</td>\n",
       "      <td>technolog</td>\n",
       "      <td>real</td>\n",
       "    </tr>\n",
       "    <tr>\n",
       "      <th>8668</th>\n",
       "      <td>item nearli develop green</td>\n",
       "      <td>wind budget impact paint role occur life enjoy...</td>\n",
       "      <td>2023-01-02</td>\n",
       "      <td>reuter</td>\n",
       "      <td>marcu cook</td>\n",
       "      <td>sport</td>\n",
       "      <td>fake</td>\n",
       "    </tr>\n",
       "    <tr>\n",
       "      <th>1114</th>\n",
       "      <td>behavior stop billion pm song</td>\n",
       "      <td>better commun begin town case oper stori produ...</td>\n",
       "      <td>2023-04-29</td>\n",
       "      <td>bbc</td>\n",
       "      <td>lori anderson</td>\n",
       "      <td>busi</td>\n",
       "      <td>real</td>\n",
       "    </tr>\n",
       "    <tr>\n",
       "      <th>13902</th>\n",
       "      <td>charg box time spend want woman</td>\n",
       "      <td>career court employe whatev religi second answ...</td>\n",
       "      <td>2025-03-30</td>\n",
       "      <td>global time</td>\n",
       "      <td>shawn ramirez</td>\n",
       "      <td>busi</td>\n",
       "      <td>real</td>\n",
       "    </tr>\n",
       "  </tbody>\n",
       "</table>\n",
       "</div>"
      ],
      "text/plain": [
       "                                  title  \\\n",
       "10650  societi imag vote realiz prevent   \n",
       "2041        red offer dream specif case   \n",
       "8668          item nearli develop green   \n",
       "1114      behavior stop billion pm song   \n",
       "13902   charg box time spend want woman   \n",
       "\n",
       "                                                    text        date  \\\n",
       "10650  better fall appear measur prepar billion incre...  2024-04-23   \n",
       "2041   east parti truth place take tough stuff behind...  2024-04-23   \n",
       "8668   wind budget impact paint role occur life enjoy...  2023-01-02   \n",
       "1114   better commun begin town case oper stori produ...  2023-04-29   \n",
       "13902  career court employe whatev religi second answ...  2025-03-30   \n",
       "\n",
       "            source          author   category label  \n",
       "10650  global time  william bolton     scienc  real  \n",
       "2041      guardian       denni rey  technolog  real  \n",
       "8668        reuter      marcu cook      sport  fake  \n",
       "1114           bbc   lori anderson       busi  real  \n",
       "13902  global time   shawn ramirez       busi  real  "
      ]
     },
     "execution_count": 219,
     "metadata": {},
     "output_type": "execute_result"
    }
   ],
   "source": [
    "test_set.head()"
   ]
  },
  {
   "cell_type": "code",
   "execution_count": 220,
   "id": "c178b0b3-0d99-477c-badf-27baf087f930",
   "metadata": {},
   "outputs": [],
   "source": [
    "test_set_features=test_set.drop('label',axis=1)"
   ]
  },
  {
   "cell_type": "code",
   "execution_count": 222,
   "id": "1df0f209-eba8-467c-9cb1-a0ba0c835080",
   "metadata": {},
   "outputs": [
    {
     "data": {
      "text/html": [
       "<div>\n",
       "<style scoped>\n",
       "    .dataframe tbody tr th:only-of-type {\n",
       "        vertical-align: middle;\n",
       "    }\n",
       "\n",
       "    .dataframe tbody tr th {\n",
       "        vertical-align: top;\n",
       "    }\n",
       "\n",
       "    .dataframe thead th {\n",
       "        text-align: right;\n",
       "    }\n",
       "</style>\n",
       "<table border=\"1\" class=\"dataframe\">\n",
       "  <thead>\n",
       "    <tr style=\"text-align: right;\">\n",
       "      <th></th>\n",
       "      <th>title</th>\n",
       "      <th>text</th>\n",
       "      <th>date</th>\n",
       "      <th>source</th>\n",
       "      <th>author</th>\n",
       "      <th>category</th>\n",
       "    </tr>\n",
       "  </thead>\n",
       "  <tbody>\n",
       "    <tr>\n",
       "      <th>10650</th>\n",
       "      <td>societi imag vote realiz prevent</td>\n",
       "      <td>better fall appear measur prepar billion incre...</td>\n",
       "      <td>2024-04-23</td>\n",
       "      <td>global time</td>\n",
       "      <td>william bolton</td>\n",
       "      <td>scienc</td>\n",
       "    </tr>\n",
       "    <tr>\n",
       "      <th>2041</th>\n",
       "      <td>red offer dream specif case</td>\n",
       "      <td>east parti truth place take tough stuff behind...</td>\n",
       "      <td>2024-04-23</td>\n",
       "      <td>guardian</td>\n",
       "      <td>denni rey</td>\n",
       "      <td>technolog</td>\n",
       "    </tr>\n",
       "    <tr>\n",
       "      <th>8668</th>\n",
       "      <td>item nearli develop green</td>\n",
       "      <td>wind budget impact paint role occur life enjoy...</td>\n",
       "      <td>2023-01-02</td>\n",
       "      <td>reuter</td>\n",
       "      <td>marcu cook</td>\n",
       "      <td>sport</td>\n",
       "    </tr>\n",
       "    <tr>\n",
       "      <th>1114</th>\n",
       "      <td>behavior stop billion pm song</td>\n",
       "      <td>better commun begin town case oper stori produ...</td>\n",
       "      <td>2023-04-29</td>\n",
       "      <td>bbc</td>\n",
       "      <td>lori anderson</td>\n",
       "      <td>busi</td>\n",
       "    </tr>\n",
       "    <tr>\n",
       "      <th>13902</th>\n",
       "      <td>charg box time spend want woman</td>\n",
       "      <td>career court employe whatev religi second answ...</td>\n",
       "      <td>2025-03-30</td>\n",
       "      <td>global time</td>\n",
       "      <td>shawn ramirez</td>\n",
       "      <td>busi</td>\n",
       "    </tr>\n",
       "    <tr>\n",
       "      <th>11963</th>\n",
       "      <td>import easi rise happi</td>\n",
       "      <td>protect televis better star beauti year polit ...</td>\n",
       "      <td>2024-08-31</td>\n",
       "      <td>fox news</td>\n",
       "      <td>melissa green</td>\n",
       "      <td>polit</td>\n",
       "    </tr>\n",
       "    <tr>\n",
       "      <th>11072</th>\n",
       "      <td>seriou technolog say presid question</td>\n",
       "      <td>phone save close compar shake purpos fill forc...</td>\n",
       "      <td>2025-02-19</td>\n",
       "      <td>daili news</td>\n",
       "      <td>andrew garcia</td>\n",
       "      <td>scienc</td>\n",
       "    </tr>\n",
       "    <tr>\n",
       "      <th>3002</th>\n",
       "      <td>best avail agenc suffer money return outsid</td>\n",
       "      <td>variou think staff per court report author pla...</td>\n",
       "      <td>2024-12-09</td>\n",
       "      <td>guardian</td>\n",
       "      <td>lori allen</td>\n",
       "      <td>sport</td>\n",
       "    </tr>\n",
       "    <tr>\n",
       "      <th>19771</th>\n",
       "      <td>technolog certainli phone</td>\n",
       "      <td>mouth stay movement loss owner must believ tre...</td>\n",
       "      <td>2023-09-08</td>\n",
       "      <td>fox news</td>\n",
       "      <td>briana burk</td>\n",
       "      <td>sport</td>\n",
       "    </tr>\n",
       "    <tr>\n",
       "      <th>8115</th>\n",
       "      <td>game though societi best despit form</td>\n",
       "      <td>gener intern seat histori scienc without medic...</td>\n",
       "      <td>2025-01-18</td>\n",
       "      <td>cnn</td>\n",
       "      <td>alyssa sanchez</td>\n",
       "      <td>health</td>\n",
       "    </tr>\n",
       "  </tbody>\n",
       "</table>\n",
       "</div>"
      ],
      "text/plain": [
       "                                             title  \\\n",
       "10650             societi imag vote realiz prevent   \n",
       "2041                   red offer dream specif case   \n",
       "8668                     item nearli develop green   \n",
       "1114                 behavior stop billion pm song   \n",
       "13902              charg box time spend want woman   \n",
       "11963                       import easi rise happi   \n",
       "11072         seriou technolog say presid question   \n",
       "3002   best avail agenc suffer money return outsid   \n",
       "19771                    technolog certainli phone   \n",
       "8115          game though societi best despit form   \n",
       "\n",
       "                                                    text        date  \\\n",
       "10650  better fall appear measur prepar billion incre...  2024-04-23   \n",
       "2041   east parti truth place take tough stuff behind...  2024-04-23   \n",
       "8668   wind budget impact paint role occur life enjoy...  2023-01-02   \n",
       "1114   better commun begin town case oper stori produ...  2023-04-29   \n",
       "13902  career court employe whatev religi second answ...  2025-03-30   \n",
       "11963  protect televis better star beauti year polit ...  2024-08-31   \n",
       "11072  phone save close compar shake purpos fill forc...  2025-02-19   \n",
       "3002   variou think staff per court report author pla...  2024-12-09   \n",
       "19771  mouth stay movement loss owner must believ tre...  2023-09-08   \n",
       "8115   gener intern seat histori scienc without medic...  2025-01-18   \n",
       "\n",
       "            source          author   category  \n",
       "10650  global time  william bolton     scienc  \n",
       "2041      guardian       denni rey  technolog  \n",
       "8668        reuter      marcu cook      sport  \n",
       "1114           bbc   lori anderson       busi  \n",
       "13902  global time   shawn ramirez       busi  \n",
       "11963     fox news   melissa green      polit  \n",
       "11072   daili news   andrew garcia     scienc  \n",
       "3002      guardian      lori allen      sport  \n",
       "19771     fox news     briana burk      sport  \n",
       "8115           cnn  alyssa sanchez     health  "
      ]
     },
     "execution_count": 222,
     "metadata": {},
     "output_type": "execute_result"
    }
   ],
   "source": [
    "test_set_features.head(10)"
   ]
  },
  {
   "cell_type": "code",
   "execution_count": 224,
   "id": "1256099a-d8eb-4c98-be39-eac4c8e10724",
   "metadata": {},
   "outputs": [],
   "source": [
    "## convert this dataframe into the list"
   ]
  },
  {
   "cell_type": "code",
   "execution_count": 226,
   "id": "8ea81ebd-c1f3-4edf-940c-be7db51567fd",
   "metadata": {},
   "outputs": [
    {
     "data": {
      "text/plain": [
       "4000"
      ]
     },
     "execution_count": 226,
     "metadata": {},
     "output_type": "execute_result"
    }
   ],
   "source": [
    "ds_test = test_set.astype(str).agg(' '.join, axis=1).tolist() \n",
    "len(ds_test)"
   ]
  },
  {
   "cell_type": "code",
   "execution_count": 223,
   "id": "72990531-9e5c-4c3d-8744-39b6b99ea48b",
   "metadata": {},
   "outputs": [],
   "source": [
    "## convert the text of test data into numerical values"
   ]
  },
  {
   "cell_type": "code",
   "execution_count": 227,
   "id": "36a22e3a-6c75-4bb0-9b22-5fd8ed264e34",
   "metadata": {},
   "outputs": [
    {
     "data": {
      "text/plain": [
       "array([[0., 0., 0., ..., 0., 0., 0.],\n",
       "       [0., 0., 0., ..., 1., 0., 0.],\n",
       "       [0., 0., 0., ..., 0., 1., 0.],\n",
       "       ...,\n",
       "       [0., 0., 0., ..., 0., 1., 0.],\n",
       "       [0., 0., 0., ..., 1., 0., 0.],\n",
       "       [0., 0., 0., ..., 0., 0., 0.]], dtype=float32)"
      ]
     },
     "execution_count": 227,
     "metadata": {},
     "output_type": "execute_result"
    }
   ],
   "source": [
    "vectorized_test_set=vectorizer(ds_test,vocab_test)\n",
    "vectorized_test_set"
   ]
  },
  {
   "cell_type": "code",
   "execution_count": 228,
   "id": "72a447a6-9503-4eb8-8af3-3ced56d41a64",
   "metadata": {},
   "outputs": [
    {
     "data": {
      "text/plain": [
       "4000"
      ]
     },
     "execution_count": 228,
     "metadata": {},
     "output_type": "execute_result"
    }
   ],
   "source": [
    "len(vectorized_test_set)"
   ]
  },
  {
   "cell_type": "code",
   "execution_count": null,
   "id": "983cc863-548e-456b-b967-5bbe899302ae",
   "metadata": {},
   "outputs": [],
   "source": []
  }
 ],
 "metadata": {
  "kernelspec": {
   "display_name": "Python 3 (ipykernel)",
   "language": "python",
   "name": "python3"
  },
  "language_info": {
   "codemirror_mode": {
    "name": "ipython",
    "version": 3
   },
   "file_extension": ".py",
   "mimetype": "text/x-python",
   "name": "python",
   "nbconvert_exporter": "python",
   "pygments_lexer": "ipython3",
   "version": "3.12.1"
  }
 },
 "nbformat": 4,
 "nbformat_minor": 5
}
