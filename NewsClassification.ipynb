{
 "cells": [
  {
   "cell_type": "code",
   "execution_count": 2,
   "id": "a7b2aa64-ff93-4ded-9720-47598150687a",
   "metadata": {},
   "outputs": [
    {
     "data": {
      "text/html": [
       "\n",
       "            <div>\n",
       "                <p><b>SparkSession - in-memory</b></p>\n",
       "                \n",
       "        <div>\n",
       "            <p><b>SparkContext</b></p>\n",
       "\n",
       "            <p><a href=\"http://host.docker.internal:4040\">Spark UI</a></p>\n",
       "\n",
       "            <dl>\n",
       "              <dt>Version</dt>\n",
       "                <dd><code>v3.5.5</code></dd>\n",
       "              <dt>Master</dt>\n",
       "                <dd><code>local[*]</code></dd>\n",
       "              <dt>AppName</dt>\n",
       "                <dd><code>News classification</code></dd>\n",
       "            </dl>\n",
       "        </div>\n",
       "        \n",
       "            </div>\n",
       "        "
      ],
      "text/plain": [
       "<pyspark.sql.session.SparkSession at 0x2d8e1c12270>"
      ]
     },
     "execution_count": 2,
     "metadata": {},
     "output_type": "execute_result"
    }
   ],
   "source": [
    "import pyspark\n",
    "from pyspark.sql import SparkSession\n",
    "spark=SparkSession.builder.appName(\"News classification\").getOrCreate()\n",
    "spark"
   ]
  },
  {
   "cell_type": "code",
   "execution_count": 5,
   "id": "9abd5bf9-7773-4a00-a75d-339a08baa12e",
   "metadata": {},
   "outputs": [
    {
     "name": "stdout",
     "output_type": "stream",
     "text": [
      "+--------------------+--------------------+----------+------------+--------------------+-------------+-----+\n",
      "|               title|                text|      date|      source|              author|     category|label|\n",
      "+--------------------+--------------------+----------+------------+--------------------+-------------+-----+\n",
      "|Foreign Democrat ...|more tax developm...|2023-03-10|    NY Times|        Paula George|     Politics| real|\n",
      "|To offer down res...|probably guess we...|2022-05-25|    Fox News|         Joseph Hill|     Politics| fake|\n",
      "|Himself church my...|them identify for...|2022-09-01|         CNN|      Julia Robinson|     Business| fake|\n",
      "|You unit its should.|phone which item ...|2023-02-07|     Reuters|Mr. David Foster DDS|      Science| fake|\n",
      "|Billion believe e...|wonder myself fac...|2023-04-03|         CNN|       Austin Walker|   Technology| fake|\n",
      "|Method purpose mi...|affect too bill w...|2023-12-02|     Reuters|          Sherri Fry|       Health| real|\n",
      "|  Laugh member step.|often along newsp...|2022-06-01|         CNN|        Alyssa Young|     Business| fake|\n",
      "|Center measure di...|ready movement be...|2024-12-31|    NY Times|        Tina Garrett|       Sports| fake|\n",
      "|Moment make those...|officer mention d...|2022-09-08|    Fox News|      Heather Greene|Entertainment| fake|\n",
      "|Reason physical c...|choose anything t...|2022-11-08|  Daily News|         Erin Hanson|       Health| real|\n",
      "|Whose particular ...|design quality ge...|2024-06-24|Global Times|       Douglas Evans|      Science| real|\n",
      "|Region itself fro...|ground team which...|2025-02-10|    Fox News|      Andrew Chapman|     Politics| real|\n",
      "|Believe short Mrs...|expert edge place...|2022-04-27|  Daily News|        Diane Hayden|       Sports| real|\n",
      "|Bag national play...|director view med...|2023-07-17|         CNN|        Roy Trujillo|       Sports| fake|\n",
      "|Simple support wr...|star skill song c...|2025-03-04|The Guardian|      Gerald Jenkins|   Technology| real|\n",
      "|Concern nice idea...|test green themse...|2023-09-17|         BBC|      Karen Floyd MD|     Politics| real|\n",
      "|Almost gun system...|single high again...|2024-09-14|    NY Times|      James Williams|     Business| real|\n",
      "|Nothing firm hand...|dark billion bill...|2024-11-20|    Fox News|       David Burgess|     Business| fake|\n",
      "| Cut somebody skill.|into politics say...|2024-10-15|Global Times|     Andrew Robinson|       Sports| fake|\n",
      "|Discover quite le...|family century si...|2024-04-18|    Fox News|                NULL|     Business| fake|\n",
      "+--------------------+--------------------+----------+------------+--------------------+-------------+-----+\n",
      "only showing top 20 rows\n",
      "\n"
     ]
    }
   ],
   "source": [
    "## Import and read the first five records of dataset\n",
    "data=spark.read.csv(\"fake_news_dataset.csv\", header=True, inferSchema=True)\n",
    "data.show()"
   ]
  },
  {
   "cell_type": "code",
   "execution_count": 8,
   "id": "9262301f-cad7-444b-a24b-f438338c20d9",
   "metadata": {},
   "outputs": [],
   "source": [
    "## check the  data types of each columns of dataset"
   ]
  },
  {
   "cell_type": "code",
   "execution_count": 11,
   "id": "ef07962d-3f2d-4b4d-a9f7-0c60deec5de4",
   "metadata": {},
   "outputs": [],
   "source": [
    "#data.printSchema()"
   ]
  },
  {
   "cell_type": "code",
   "execution_count": null,
   "id": "f2754e46-5f7a-4cc7-8e69-eeb8e7bdc0d9",
   "metadata": {},
   "outputs": [],
   "source": []
  }
 ],
 "metadata": {
  "kernelspec": {
   "display_name": "Python 3 (ipykernel)",
   "language": "python",
   "name": "python3"
  },
  "language_info": {
   "codemirror_mode": {
    "name": "ipython",
    "version": 3
   },
   "file_extension": ".py",
   "mimetype": "text/x-python",
   "name": "python",
   "nbconvert_exporter": "python",
   "pygments_lexer": "ipython3",
   "version": "3.12.1"
  }
 },
 "nbformat": 4,
 "nbformat_minor": 5
}
