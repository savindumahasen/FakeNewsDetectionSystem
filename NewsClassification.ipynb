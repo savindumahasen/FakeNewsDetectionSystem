{
 "cells": [
  {
   "cell_type": "code",
   "execution_count": 1,
   "id": "a7b2aa64-ff93-4ded-9720-47598150687a",
   "metadata": {},
   "outputs": [],
   "source": [
    "import pandas as pd\n",
    "import seaborn as sns"
   ]
  },
  {
   "cell_type": "code",
   "execution_count": 2,
   "id": "9abd5bf9-7773-4a00-a75d-339a08baa12e",
   "metadata": {},
   "outputs": [
    {
     "data": {
      "text/html": [
       "<div>\n",
       "<style scoped>\n",
       "    .dataframe tbody tr th:only-of-type {\n",
       "        vertical-align: middle;\n",
       "    }\n",
       "\n",
       "    .dataframe tbody tr th {\n",
       "        vertical-align: top;\n",
       "    }\n",
       "\n",
       "    .dataframe thead th {\n",
       "        text-align: right;\n",
       "    }\n",
       "</style>\n",
       "<table border=\"1\" class=\"dataframe\">\n",
       "  <thead>\n",
       "    <tr style=\"text-align: right;\">\n",
       "      <th></th>\n",
       "      <th>title</th>\n",
       "      <th>text</th>\n",
       "      <th>date</th>\n",
       "      <th>source</th>\n",
       "      <th>author</th>\n",
       "      <th>category</th>\n",
       "      <th>label</th>\n",
       "    </tr>\n",
       "  </thead>\n",
       "  <tbody>\n",
       "    <tr>\n",
       "      <th>0</th>\n",
       "      <td>Foreign Democrat final.</td>\n",
       "      <td>more tax development both store agreement lawy...</td>\n",
       "      <td>2023-03-10</td>\n",
       "      <td>NY Times</td>\n",
       "      <td>Paula George</td>\n",
       "      <td>Politics</td>\n",
       "      <td>real</td>\n",
       "    </tr>\n",
       "    <tr>\n",
       "      <th>1</th>\n",
       "      <td>To offer down resource great point.</td>\n",
       "      <td>probably guess western behind likely next inve...</td>\n",
       "      <td>2022-05-25</td>\n",
       "      <td>Fox News</td>\n",
       "      <td>Joseph Hill</td>\n",
       "      <td>Politics</td>\n",
       "      <td>fake</td>\n",
       "    </tr>\n",
       "    <tr>\n",
       "      <th>2</th>\n",
       "      <td>Himself church myself carry.</td>\n",
       "      <td>them identify forward present success risk sev...</td>\n",
       "      <td>2022-09-01</td>\n",
       "      <td>CNN</td>\n",
       "      <td>Julia Robinson</td>\n",
       "      <td>Business</td>\n",
       "      <td>fake</td>\n",
       "    </tr>\n",
       "    <tr>\n",
       "      <th>3</th>\n",
       "      <td>You unit its should.</td>\n",
       "      <td>phone which item yard Republican safe where po...</td>\n",
       "      <td>2023-02-07</td>\n",
       "      <td>Reuters</td>\n",
       "      <td>Mr. David Foster DDS</td>\n",
       "      <td>Science</td>\n",
       "      <td>fake</td>\n",
       "    </tr>\n",
       "    <tr>\n",
       "      <th>4</th>\n",
       "      <td>Billion believe employee summer how.</td>\n",
       "      <td>wonder myself fact difficult course forget exa...</td>\n",
       "      <td>2023-04-03</td>\n",
       "      <td>CNN</td>\n",
       "      <td>Austin Walker</td>\n",
       "      <td>Technology</td>\n",
       "      <td>fake</td>\n",
       "    </tr>\n",
       "  </tbody>\n",
       "</table>\n",
       "</div>"
      ],
      "text/plain": [
       "                                  title  \\\n",
       "0               Foreign Democrat final.   \n",
       "1   To offer down resource great point.   \n",
       "2          Himself church myself carry.   \n",
       "3                  You unit its should.   \n",
       "4  Billion believe employee summer how.   \n",
       "\n",
       "                                                text        date    source  \\\n",
       "0  more tax development both store agreement lawy...  2023-03-10  NY Times   \n",
       "1  probably guess western behind likely next inve...  2022-05-25  Fox News   \n",
       "2  them identify forward present success risk sev...  2022-09-01       CNN   \n",
       "3  phone which item yard Republican safe where po...  2023-02-07   Reuters   \n",
       "4  wonder myself fact difficult course forget exa...  2023-04-03       CNN   \n",
       "\n",
       "                 author    category label  \n",
       "0          Paula George    Politics  real  \n",
       "1           Joseph Hill    Politics  fake  \n",
       "2        Julia Robinson    Business  fake  \n",
       "3  Mr. David Foster DDS     Science  fake  \n",
       "4         Austin Walker  Technology  fake  "
      ]
     },
     "execution_count": 2,
     "metadata": {},
     "output_type": "execute_result"
    }
   ],
   "source": [
    "## Import and read the first five records of dataset\n",
    "data=pd.read_csv(\"fake_news_dataset.csv\")\n",
    "data.head()"
   ]
  },
  {
   "cell_type": "code",
   "execution_count": 3,
   "id": "9262301f-cad7-444b-a24b-f438338c20d9",
   "metadata": {},
   "outputs": [],
   "source": [
    "## check the  data types of each columns of dataset"
   ]
  },
  {
   "cell_type": "code",
   "execution_count": 4,
   "id": "ef07962d-3f2d-4b4d-a9f7-0c60deec5de4",
   "metadata": {},
   "outputs": [
    {
     "name": "stdout",
     "output_type": "stream",
     "text": [
      "<class 'pandas.core.frame.DataFrame'>\n",
      "RangeIndex: 20000 entries, 0 to 19999\n",
      "Data columns (total 7 columns):\n",
      " #   Column    Non-Null Count  Dtype \n",
      "---  ------    --------------  ----- \n",
      " 0   title     20000 non-null  object\n",
      " 1   text      20000 non-null  object\n",
      " 2   date      20000 non-null  object\n",
      " 3   source    19000 non-null  object\n",
      " 4   author    19000 non-null  object\n",
      " 5   category  20000 non-null  object\n",
      " 6   label     20000 non-null  object\n",
      "dtypes: object(7)\n",
      "memory usage: 1.1+ MB\n"
     ]
    }
   ],
   "source": [
    "data.info()"
   ]
  },
  {
   "cell_type": "code",
   "execution_count": 5,
   "id": "f2754e46-5f7a-4cc7-8e69-eeb8e7bdc0d9",
   "metadata": {},
   "outputs": [],
   "source": [
    "## Get the number of  rows in the dataset"
   ]
  },
  {
   "cell_type": "code",
   "execution_count": 6,
   "id": "76fa719b-2bb7-4e9a-aa68-2b646c947fe2",
   "metadata": {},
   "outputs": [
    {
     "data": {
      "text/plain": [
       "title       20000\n",
       "text        20000\n",
       "date        20000\n",
       "source      19000\n",
       "author      19000\n",
       "category    20000\n",
       "label       20000\n",
       "dtype: int64"
      ]
     },
     "execution_count": 6,
     "metadata": {},
     "output_type": "execute_result"
    }
   ],
   "source": [
    "data.count()"
   ]
  },
  {
   "cell_type": "code",
   "execution_count": 7,
   "id": "a41f17a0-16b5-4a24-9257-8e597604dc5c",
   "metadata": {},
   "outputs": [],
   "source": [
    "## Check  the null values are their or not"
   ]
  },
  {
   "cell_type": "code",
   "execution_count": 8,
   "id": "319603c5-48bb-4832-99c2-e5b341188ae5",
   "metadata": {},
   "outputs": [
    {
     "data": {
      "text/plain": [
       "title          0\n",
       "text           0\n",
       "date           0\n",
       "source      1000\n",
       "author      1000\n",
       "category       0\n",
       "label          0\n",
       "dtype: int64"
      ]
     },
     "execution_count": 8,
     "metadata": {},
     "output_type": "execute_result"
    }
   ],
   "source": [
    "data.isnull().sum()"
   ]
  },
  {
   "cell_type": "code",
   "execution_count": 9,
   "id": "662e232f-171c-454c-8cce-291489bf4505",
   "metadata": {},
   "outputs": [],
   "source": [
    "##  check the duplicate values"
   ]
  },
  {
   "cell_type": "code",
   "execution_count": 10,
   "id": "8f159a7d-2b6b-4b38-b568-ca4e9085d500",
   "metadata": {},
   "outputs": [
    {
     "data": {
      "text/plain": [
       "0"
      ]
     },
     "execution_count": 10,
     "metadata": {},
     "output_type": "execute_result"
    }
   ],
   "source": [
    "data.duplicated().sum()"
   ]
  },
  {
   "cell_type": "code",
   "execution_count": 11,
   "id": "4c09575c-3e6b-4354-9f15-a6017bdb59f3",
   "metadata": {},
   "outputs": [],
   "source": [
    "## Split the whole dataset into train and test set"
   ]
  },
  {
   "cell_type": "code",
   "execution_count": 12,
   "id": "2398f684-2fda-4011-ae23-15f8a7db960f",
   "metadata": {},
   "outputs": [],
   "source": [
    "from sklearn.model_selection import train_test_split\n",
    "\n",
    "train_set,test_set=train_test_split(data, test_size=0.2, random_state=42)"
   ]
  },
  {
   "cell_type": "code",
   "execution_count": 13,
   "id": "e2a450ee-6619-49b5-9599-bdb3623f0698",
   "metadata": {},
   "outputs": [
    {
     "name": "stdout",
     "output_type": "stream",
     "text": [
      "(16000, 7) (4000, 7)\n"
     ]
    }
   ],
   "source": [
    "print(train_set.shape,test_set.shape)"
   ]
  },
  {
   "cell_type": "markdown",
   "id": "4903bb61-4a5a-46be-80e2-4a8ddf68becc",
   "metadata": {},
   "source": [
    "## Explotary Data Analysis  (EDA)"
   ]
  },
  {
   "cell_type": "code",
   "execution_count": 14,
   "id": "8dfd334f-b942-4122-83d5-c13a934585d3",
   "metadata": {},
   "outputs": [],
   "source": [
    "## check the null values of train_set"
   ]
  },
  {
   "cell_type": "code",
   "execution_count": 15,
   "id": "a48d6e0c-c1a2-43cf-9e8e-f0a7da5bb7ac",
   "metadata": {},
   "outputs": [
    {
     "data": {
      "text/plain": [
       "title         0\n",
       "text          0\n",
       "date          0\n",
       "source      782\n",
       "author      811\n",
       "category      0\n",
       "label         0\n",
       "dtype: int64"
      ]
     },
     "execution_count": 15,
     "metadata": {},
     "output_type": "execute_result"
    }
   ],
   "source": [
    "train_set.isnull().sum()"
   ]
  },
  {
   "cell_type": "code",
   "execution_count": 16,
   "id": "0fd6c12d-8220-40f2-883a-5b5fc5d2bc25",
   "metadata": {},
   "outputs": [],
   "source": [
    "## check the duplicate values of  train_set"
   ]
  },
  {
   "cell_type": "code",
   "execution_count": 17,
   "id": "00c3d6da-56e5-461b-8f82-b7662043b246",
   "metadata": {},
   "outputs": [
    {
     "data": {
      "text/plain": [
       "0"
      ]
     },
     "execution_count": 17,
     "metadata": {},
     "output_type": "execute_result"
    }
   ],
   "source": [
    "train_set.duplicated().sum()"
   ]
  },
  {
   "cell_type": "code",
   "execution_count": 18,
   "id": "84a93317-8595-40b3-be1a-3f0c476bf05a",
   "metadata": {},
   "outputs": [],
   "source": [
    "## check the value counts of  source and  author solumns"
   ]
  },
  {
   "cell_type": "code",
   "execution_count": 19,
   "id": "364c8be8-4ede-4ff4-be6c-02e5cb3fc475",
   "metadata": {},
   "outputs": [
    {
     "data": {
      "text/plain": [
       "source\n",
       "Daily News      1970\n",
       "The Guardian    1930\n",
       "BBC             1913\n",
       "CNN             1898\n",
       "Fox News        1890\n",
       "Reuters         1886\n",
       "NY Times        1874\n",
       "Global Times    1857\n",
       "Name: count, dtype: int64"
      ]
     },
     "execution_count": 19,
     "metadata": {},
     "output_type": "execute_result"
    }
   ],
   "source": [
    "train_set['source'].value_counts()"
   ]
  },
  {
   "cell_type": "code",
   "execution_count": 20,
   "id": "f442bae6-e354-4613-a486-19a7450bf1b5",
   "metadata": {},
   "outputs": [
    {
     "data": {
      "text/plain": [
       "author\n",
       "Michael Smith            10\n",
       "John Smith                9\n",
       "Christopher Johnson       7\n",
       "Jennifer Davis            7\n",
       "John Brown                6\n",
       "                         ..\n",
       "Wendy Mccullough          1\n",
       "Jonathan Curtis           1\n",
       "Rodney Young              1\n",
       "Samantha Gutierrez        1\n",
       "Mr. Ernest Harris Jr.     1\n",
       "Name: count, Length: 13847, dtype: int64"
      ]
     },
     "execution_count": 20,
     "metadata": {},
     "output_type": "execute_result"
    }
   ],
   "source": [
    "train_set['author'].value_counts()"
   ]
  },
  {
   "cell_type": "code",
   "execution_count": 21,
   "id": "8fb45f60-cba6-4073-9b5a-c66a65c25cdd",
   "metadata": {},
   "outputs": [],
   "source": [
    "## fill the null values"
   ]
  },
  {
   "cell_type": "code",
   "execution_count": 22,
   "id": "a5a4767d-e2eb-40e6-a029-8572fd53c4b2",
   "metadata": {},
   "outputs": [
    {
     "name": "stderr",
     "output_type": "stream",
     "text": [
      "C:\\Users\\THIS PC\\AppData\\Local\\Temp\\ipykernel_34456\\3912575003.py:1: FutureWarning: A value is trying to be set on a copy of a DataFrame or Series through chained assignment using an inplace method.\n",
      "The behavior will change in pandas 3.0. This inplace method will never work because the intermediate object on which we are setting values always behaves as a copy.\n",
      "\n",
      "For example, when doing 'df[col].method(value, inplace=True)', try using 'df.method({col: value}, inplace=True)' or df[col] = df[col].method(value) instead, to perform the operation inplace on the original object.\n",
      "\n",
      "\n",
      "  train_set['source'].fillna('Global Times', inplace=True)\n"
     ]
    }
   ],
   "source": [
    "train_set['source'].fillna('Global Times', inplace=True)"
   ]
  },
  {
   "cell_type": "code",
   "execution_count": 23,
   "id": "a94d3ce3-6453-4b3c-80bd-0709437abbcb",
   "metadata": {},
   "outputs": [
    {
     "data": {
      "text/plain": [
       "title         0\n",
       "text          0\n",
       "date          0\n",
       "source        0\n",
       "author      811\n",
       "category      0\n",
       "label         0\n",
       "dtype: int64"
      ]
     },
     "execution_count": 23,
     "metadata": {},
     "output_type": "execute_result"
    }
   ],
   "source": [
    "train_set.isnull().sum()"
   ]
  },
  {
   "cell_type": "code",
   "execution_count": 24,
   "id": "8853a11e-e8c2-4644-b0b0-b3bd7d9bffa9",
   "metadata": {},
   "outputs": [
    {
     "name": "stderr",
     "output_type": "stream",
     "text": [
      "C:\\Users\\THIS PC\\AppData\\Local\\Temp\\ipykernel_34456\\546374671.py:1: FutureWarning: A value is trying to be set on a copy of a DataFrame or Series through chained assignment using an inplace method.\n",
      "The behavior will change in pandas 3.0. This inplace method will never work because the intermediate object on which we are setting values always behaves as a copy.\n",
      "\n",
      "For example, when doing 'df[col].method(value, inplace=True)', try using 'df.method({col: value}, inplace=True)' or df[col] = df[col].method(value) instead, to perform the operation inplace on the original object.\n",
      "\n",
      "\n",
      "  train_set['author'].fillna('Wendy Mccullough', inplace=True)\n"
     ]
    }
   ],
   "source": [
    "train_set['author'].fillna('Wendy Mccullough', inplace=True)"
   ]
  },
  {
   "cell_type": "code",
   "execution_count": 25,
   "id": "a64fe61f-5c8f-4827-a8a3-4de9fea7c29b",
   "metadata": {},
   "outputs": [
    {
     "data": {
      "text/plain": [
       "title       0\n",
       "text        0\n",
       "date        0\n",
       "source      0\n",
       "author      0\n",
       "category    0\n",
       "label       0\n",
       "dtype: int64"
      ]
     },
     "execution_count": 25,
     "metadata": {},
     "output_type": "execute_result"
    }
   ],
   "source": [
    "train_set.isnull().sum()"
   ]
  },
  {
   "cell_type": "code",
   "execution_count": 26,
   "id": "03956ff0-fbc7-4d09-adca-811b8304af41",
   "metadata": {},
   "outputs": [
    {
     "data": {
      "text/plain": [
       "title       0\n",
       "text        0\n",
       "date        0\n",
       "source      0\n",
       "author      0\n",
       "category    0\n",
       "label       0\n",
       "dtype: int64"
      ]
     },
     "execution_count": 26,
     "metadata": {},
     "output_type": "execute_result"
    }
   ],
   "source": [
    "train_set.isnull().sum()"
   ]
  },
  {
   "cell_type": "code",
   "execution_count": 27,
   "id": "5a8c5dce-1078-4a76-8e5b-9abff019e20e",
   "metadata": {},
   "outputs": [],
   "source": [
    "## check the duplicate values again"
   ]
  },
  {
   "cell_type": "code",
   "execution_count": 28,
   "id": "d064efaf-299e-4cd3-889a-3a34917d4710",
   "metadata": {},
   "outputs": [
    {
     "data": {
      "text/plain": [
       "0"
      ]
     },
     "execution_count": 28,
     "metadata": {},
     "output_type": "execute_result"
    }
   ],
   "source": [
    "train_set.duplicated().sum()"
   ]
  },
  {
   "cell_type": "markdown",
   "id": "1ff1982c-b649-49a4-8eb6-83f2b994cf3a",
   "metadata": {},
   "source": [
    "## Explotary Data Analysis (EDA)"
   ]
  },
  {
   "cell_type": "markdown",
   "id": "c9edfde2-e6d0-4c67-b37f-56a32a1deed6",
   "metadata": {},
   "source": [
    "#### Text Preprocessing"
   ]
  },
  {
   "cell_type": "code",
   "execution_count": 29,
   "id": "66e0b0a9-74b0-45ba-898e-bab44bcc8c40",
   "metadata": {},
   "outputs": [
    {
     "data": {
      "text/html": [
       "<div>\n",
       "<style scoped>\n",
       "    .dataframe tbody tr th:only-of-type {\n",
       "        vertical-align: middle;\n",
       "    }\n",
       "\n",
       "    .dataframe tbody tr th {\n",
       "        vertical-align: top;\n",
       "    }\n",
       "\n",
       "    .dataframe thead th {\n",
       "        text-align: right;\n",
       "    }\n",
       "</style>\n",
       "<table border=\"1\" class=\"dataframe\">\n",
       "  <thead>\n",
       "    <tr style=\"text-align: right;\">\n",
       "      <th></th>\n",
       "      <th>title</th>\n",
       "      <th>text</th>\n",
       "      <th>date</th>\n",
       "      <th>source</th>\n",
       "      <th>author</th>\n",
       "      <th>category</th>\n",
       "      <th>label</th>\n",
       "    </tr>\n",
       "  </thead>\n",
       "  <tbody>\n",
       "    <tr>\n",
       "      <th>5894</th>\n",
       "      <td>Age important scientist question why onto acti...</td>\n",
       "      <td>image morning whether thought seven office kit...</td>\n",
       "      <td>2022-05-30</td>\n",
       "      <td>NY Times</td>\n",
       "      <td>Kimberly Martinez</td>\n",
       "      <td>Politics</td>\n",
       "      <td>real</td>\n",
       "    </tr>\n",
       "    <tr>\n",
       "      <th>3728</th>\n",
       "      <td>Trial candidate travel pretty agreement attack...</td>\n",
       "      <td>recent item success plant dark however however...</td>\n",
       "      <td>2024-10-20</td>\n",
       "      <td>BBC</td>\n",
       "      <td>Mr. Daniel Bailey DDS</td>\n",
       "      <td>Sports</td>\n",
       "      <td>real</td>\n",
       "    </tr>\n",
       "    <tr>\n",
       "      <th>8958</th>\n",
       "      <td>Animal painting interest I society air east to...</td>\n",
       "      <td>yourself religious point hour Mrs cover case s...</td>\n",
       "      <td>2024-08-25</td>\n",
       "      <td>NY Times</td>\n",
       "      <td>Kimberly Wagner</td>\n",
       "      <td>Politics</td>\n",
       "      <td>fake</td>\n",
       "    </tr>\n",
       "    <tr>\n",
       "      <th>7671</th>\n",
       "      <td>Improve surface face today fact.</td>\n",
       "      <td>road listen add question main head worker gene...</td>\n",
       "      <td>2023-10-07</td>\n",
       "      <td>CNN</td>\n",
       "      <td>Charlene Harrington</td>\n",
       "      <td>Entertainment</td>\n",
       "      <td>fake</td>\n",
       "    </tr>\n",
       "    <tr>\n",
       "      <th>5999</th>\n",
       "      <td>Family pressure common behavior.</td>\n",
       "      <td>low indicate education support brother suffer ...</td>\n",
       "      <td>2025-03-17</td>\n",
       "      <td>Fox News</td>\n",
       "      <td>Robert Gardner</td>\n",
       "      <td>Politics</td>\n",
       "      <td>real</td>\n",
       "    </tr>\n",
       "  </tbody>\n",
       "</table>\n",
       "</div>"
      ],
      "text/plain": [
       "                                                  title  \\\n",
       "5894  Age important scientist question why onto acti...   \n",
       "3728  Trial candidate travel pretty agreement attack...   \n",
       "8958  Animal painting interest I society air east to...   \n",
       "7671                   Improve surface face today fact.   \n",
       "5999                   Family pressure common behavior.   \n",
       "\n",
       "                                                   text        date    source  \\\n",
       "5894  image morning whether thought seven office kit...  2022-05-30  NY Times   \n",
       "3728  recent item success plant dark however however...  2024-10-20       BBC   \n",
       "8958  yourself religious point hour Mrs cover case s...  2024-08-25  NY Times   \n",
       "7671  road listen add question main head worker gene...  2023-10-07       CNN   \n",
       "5999  low indicate education support brother suffer ...  2025-03-17  Fox News   \n",
       "\n",
       "                     author       category label  \n",
       "5894      Kimberly Martinez       Politics  real  \n",
       "3728  Mr. Daniel Bailey DDS         Sports  real  \n",
       "8958        Kimberly Wagner       Politics  fake  \n",
       "7671    Charlene Harrington  Entertainment  fake  \n",
       "5999         Robert Gardner       Politics  real  "
      ]
     },
     "execution_count": 29,
     "metadata": {},
     "output_type": "execute_result"
    }
   ],
   "source": [
    "train_set.head()"
   ]
  },
  {
   "cell_type": "code",
   "execution_count": 30,
   "id": "a8899e6d-2018-45a3-a533-c02675771ede",
   "metadata": {},
   "outputs": [],
   "source": [
    "#train_set['source'].value_counts()"
   ]
  },
  {
   "cell_type": "code",
   "execution_count": 31,
   "id": "badd9fc3-4810-48c2-b97e-f625e9def8d4",
   "metadata": {},
   "outputs": [],
   "source": [
    "#train_set['category'].value_counts()"
   ]
  },
  {
   "cell_type": "code",
   "execution_count": 32,
   "id": "f0890cf8-638a-4b25-a375-b24383248f36",
   "metadata": {},
   "outputs": [],
   "source": [
    "#train_set['category'].head(100)"
   ]
  },
  {
   "cell_type": "code",
   "execution_count": 33,
   "id": "b14df0b2-092d-40e6-a0f5-44c1a9a1e915",
   "metadata": {},
   "outputs": [],
   "source": [
    "#train_set.replace({'source':{'Daily News':0,'The Guardian':1,'BBC':3,'CNN':4,'Fox News':5,'Reuters':6,'NY Times':7,'Global Times':8}}, inplace=True)\n",
    "#train_set.replace({'cateogry':{'Health':1,'Entertainment':2,'Technology':3,'Business':4,'Sports':5,'Science':6,'Politics':7}},inplace=True)\n",
    "#train_set.head()"
   ]
  },
  {
   "cell_type": "code",
   "execution_count": 34,
   "id": "b0449d37-a531-46ac-8da6-ac032d2c96e9",
   "metadata": {},
   "outputs": [],
   "source": [
    "import re\n",
    "import string"
   ]
  },
  {
   "cell_type": "code",
   "execution_count": 35,
   "id": "edeb96ea-2246-416b-a29e-94ab97327b13",
   "metadata": {},
   "outputs": [
    {
     "data": {
      "text/plain": [
       "5894    image morning whether thought seven office kit...\n",
       "3728    recent item success plant dark however however...\n",
       "8958    yourself religious point hour Mrs cover case s...\n",
       "7671    road listen add question main head worker gene...\n",
       "5999    low indicate education support brother suffer ...\n",
       "Name: text, dtype: object"
      ]
     },
     "execution_count": 35,
     "metadata": {},
     "output_type": "execute_result"
    }
   ],
   "source": [
    "train_set['text'].head()"
   ]
  },
  {
   "cell_type": "code",
   "execution_count": 36,
   "id": "ae9312f1-512c-4e28-91b4-51b2912a87b8",
   "metadata": {},
   "outputs": [],
   "source": [
    "## Convert uppercase into lowercase"
   ]
  },
  {
   "cell_type": "code",
   "execution_count": 37,
   "id": "727c0183-1bdb-44fa-a1b4-4fe0366115d3",
   "metadata": {},
   "outputs": [],
   "source": [
    "train_set['text']=train_set['text'].apply(lambda x: \" \".join(x.lower() for x in x.split()))"
   ]
  },
  {
   "cell_type": "code",
   "execution_count": 38,
   "id": "1d5e1a5d-f872-45be-86b1-6f8a82fbdb9a",
   "metadata": {},
   "outputs": [
    {
     "data": {
      "text/plain": [
       "5894     image morning whether thought seven office kit...\n",
       "3728     recent item success plant dark however however...\n",
       "8958     yourself religious point hour mrs cover case s...\n",
       "7671     road listen add question main head worker gene...\n",
       "5999     low indicate education support brother suffer ...\n",
       "                               ...                        \n",
       "11284    middle form imagine item company good town for...\n",
       "11964    collection short section yourself involve real...\n",
       "5390     card compare magazine education evening energy...\n",
       "860      fire ask lose institution field candidate age ...\n",
       "15795    book easy morning report kind better start fig...\n",
       "Name: text, Length: 16000, dtype: object"
      ]
     },
     "execution_count": 38,
     "metadata": {},
     "output_type": "execute_result"
    }
   ],
   "source": [
    "train_set['text']"
   ]
  },
  {
   "cell_type": "code",
   "execution_count": 39,
   "id": "75eff3de-fb14-4d76-b1c8-27eaf6740281",
   "metadata": {},
   "outputs": [],
   "source": [
    "train_set['author']=train_set['author'].apply(lambda x: \" \".join(x.lower() for x in x.split()))"
   ]
  },
  {
   "cell_type": "code",
   "execution_count": 40,
   "id": "aadf958e-37dd-4e36-9aac-8b66d3f723fc",
   "metadata": {},
   "outputs": [
    {
     "data": {
      "text/plain": [
       "5894         kimberly martinez\n",
       "3728     mr. daniel bailey dds\n",
       "8958           kimberly wagner\n",
       "7671       charlene harrington\n",
       "5999            robert gardner\n",
       "                 ...          \n",
       "11284              cathy woods\n",
       "11964      nicholas williamson\n",
       "5390               david mcgee\n",
       "860           stephanie austin\n",
       "15795    mr. ernest harris jr.\n",
       "Name: author, Length: 16000, dtype: object"
      ]
     },
     "execution_count": 40,
     "metadata": {},
     "output_type": "execute_result"
    }
   ],
   "source": [
    "train_set['author']"
   ]
  },
  {
   "cell_type": "code",
   "execution_count": 41,
   "id": "608ab0ce-1171-4fd1-83a4-e3f0233f80b4",
   "metadata": {},
   "outputs": [],
   "source": [
    "train_set['title']=train_set['title'].apply(lambda x:\" \".join(x.lower() for x in x.split()))"
   ]
  },
  {
   "cell_type": "code",
   "execution_count": 42,
   "id": "d653ff45-6124-4378-bc7c-0199320821cb",
   "metadata": {},
   "outputs": [
    {
     "data": {
      "text/plain": [
       "5894     age important scientist question why onto acti...\n",
       "3728     trial candidate travel pretty agreement attack...\n",
       "8958     animal painting interest i society air east to...\n",
       "7671                      improve surface face today fact.\n",
       "5999                      family pressure common behavior.\n",
       "                               ...                        \n",
       "11284               surface address media speak join poor.\n",
       "11964     short theory live role pressure since point for.\n",
       "5390                       hope television artist improve.\n",
       "860           far choice test last generation friend rich.\n",
       "15795          audience four art section assume a may out.\n",
       "Name: title, Length: 16000, dtype: object"
      ]
     },
     "execution_count": 42,
     "metadata": {},
     "output_type": "execute_result"
    }
   ],
   "source": [
    "train_set['title']"
   ]
  },
  {
   "cell_type": "code",
   "execution_count": 43,
   "id": "90c7b4a1-d97d-4871-8d16-7a350cd5fa44",
   "metadata": {},
   "outputs": [],
   "source": [
    "train_set['author']=train_set['author'].apply(lambda x:\" \".join(x.lower() for x in x.split()))"
   ]
  },
  {
   "cell_type": "code",
   "execution_count": 44,
   "id": "3684ef86-e9aa-4772-b3b6-4ce5038713d3",
   "metadata": {},
   "outputs": [
    {
     "data": {
      "text/plain": [
       "5894         kimberly martinez\n",
       "3728     mr. daniel bailey dds\n",
       "8958           kimberly wagner\n",
       "7671       charlene harrington\n",
       "5999            robert gardner\n",
       "                 ...          \n",
       "11284              cathy woods\n",
       "11964      nicholas williamson\n",
       "5390               david mcgee\n",
       "860           stephanie austin\n",
       "15795    mr. ernest harris jr.\n",
       "Name: author, Length: 16000, dtype: object"
      ]
     },
     "execution_count": 44,
     "metadata": {},
     "output_type": "execute_result"
    }
   ],
   "source": [
    "train_set['author']"
   ]
  },
  {
   "cell_type": "code",
   "execution_count": 45,
   "id": "ff440feb-5db4-43f2-85d8-f060aa362e22",
   "metadata": {},
   "outputs": [],
   "source": [
    "train_set['source']=train_set['source'].apply(lambda x:\" \".join(x.lower() for x in  x.split()))"
   ]
  },
  {
   "cell_type": "code",
   "execution_count": 46,
   "id": "c356ab95-619d-4087-80bb-28a2dfb7661d",
   "metadata": {},
   "outputs": [
    {
     "data": {
      "text/plain": [
       "5894       ny times\n",
       "3728            bbc\n",
       "8958       ny times\n",
       "7671            cnn\n",
       "5999       fox news\n",
       "            ...    \n",
       "11284      fox news\n",
       "11964      ny times\n",
       "5390            bbc\n",
       "860      daily news\n",
       "15795      ny times\n",
       "Name: source, Length: 16000, dtype: object"
      ]
     },
     "execution_count": 46,
     "metadata": {},
     "output_type": "execute_result"
    }
   ],
   "source": [
    "train_set['source']"
   ]
  },
  {
   "cell_type": "code",
   "execution_count": 47,
   "id": "47412d7e-94cb-4432-b64d-409227d5b4bb",
   "metadata": {},
   "outputs": [],
   "source": [
    "train_set['category']=train_set['category'].apply(lambda x: \" \".join(x.lower() for x in x.split()))"
   ]
  },
  {
   "cell_type": "code",
   "execution_count": 48,
   "id": "135800af-c112-486e-af34-80b9c017210b",
   "metadata": {},
   "outputs": [
    {
     "data": {
      "text/plain": [
       "5894          politics\n",
       "3728            sports\n",
       "8958          politics\n",
       "7671     entertainment\n",
       "5999          politics\n",
       "             ...      \n",
       "11284         business\n",
       "11964         business\n",
       "5390           science\n",
       "860            science\n",
       "15795           sports\n",
       "Name: category, Length: 16000, dtype: object"
      ]
     },
     "execution_count": 48,
     "metadata": {},
     "output_type": "execute_result"
    }
   ],
   "source": [
    "train_set['category']"
   ]
  },
  {
   "cell_type": "code",
   "execution_count": 49,
   "id": "06923dff-e1a4-434f-8031-e9ad7c4c451f",
   "metadata": {},
   "outputs": [
    {
     "data": {
      "text/html": [
       "<div>\n",
       "<style scoped>\n",
       "    .dataframe tbody tr th:only-of-type {\n",
       "        vertical-align: middle;\n",
       "    }\n",
       "\n",
       "    .dataframe tbody tr th {\n",
       "        vertical-align: top;\n",
       "    }\n",
       "\n",
       "    .dataframe thead th {\n",
       "        text-align: right;\n",
       "    }\n",
       "</style>\n",
       "<table border=\"1\" class=\"dataframe\">\n",
       "  <thead>\n",
       "    <tr style=\"text-align: right;\">\n",
       "      <th></th>\n",
       "      <th>title</th>\n",
       "      <th>text</th>\n",
       "      <th>date</th>\n",
       "      <th>source</th>\n",
       "      <th>author</th>\n",
       "      <th>category</th>\n",
       "      <th>label</th>\n",
       "    </tr>\n",
       "  </thead>\n",
       "  <tbody>\n",
       "    <tr>\n",
       "      <th>5894</th>\n",
       "      <td>age important scientist question why onto acti...</td>\n",
       "      <td>image morning whether thought seven office kit...</td>\n",
       "      <td>2022-05-30</td>\n",
       "      <td>ny times</td>\n",
       "      <td>kimberly martinez</td>\n",
       "      <td>politics</td>\n",
       "      <td>real</td>\n",
       "    </tr>\n",
       "    <tr>\n",
       "      <th>3728</th>\n",
       "      <td>trial candidate travel pretty agreement attack...</td>\n",
       "      <td>recent item success plant dark however however...</td>\n",
       "      <td>2024-10-20</td>\n",
       "      <td>bbc</td>\n",
       "      <td>mr. daniel bailey dds</td>\n",
       "      <td>sports</td>\n",
       "      <td>real</td>\n",
       "    </tr>\n",
       "    <tr>\n",
       "      <th>8958</th>\n",
       "      <td>animal painting interest i society air east to...</td>\n",
       "      <td>yourself religious point hour mrs cover case s...</td>\n",
       "      <td>2024-08-25</td>\n",
       "      <td>ny times</td>\n",
       "      <td>kimberly wagner</td>\n",
       "      <td>politics</td>\n",
       "      <td>fake</td>\n",
       "    </tr>\n",
       "    <tr>\n",
       "      <th>7671</th>\n",
       "      <td>improve surface face today fact.</td>\n",
       "      <td>road listen add question main head worker gene...</td>\n",
       "      <td>2023-10-07</td>\n",
       "      <td>cnn</td>\n",
       "      <td>charlene harrington</td>\n",
       "      <td>entertainment</td>\n",
       "      <td>fake</td>\n",
       "    </tr>\n",
       "    <tr>\n",
       "      <th>5999</th>\n",
       "      <td>family pressure common behavior.</td>\n",
       "      <td>low indicate education support brother suffer ...</td>\n",
       "      <td>2025-03-17</td>\n",
       "      <td>fox news</td>\n",
       "      <td>robert gardner</td>\n",
       "      <td>politics</td>\n",
       "      <td>real</td>\n",
       "    </tr>\n",
       "  </tbody>\n",
       "</table>\n",
       "</div>"
      ],
      "text/plain": [
       "                                                  title  \\\n",
       "5894  age important scientist question why onto acti...   \n",
       "3728  trial candidate travel pretty agreement attack...   \n",
       "8958  animal painting interest i society air east to...   \n",
       "7671                   improve surface face today fact.   \n",
       "5999                   family pressure common behavior.   \n",
       "\n",
       "                                                   text        date    source  \\\n",
       "5894  image morning whether thought seven office kit...  2022-05-30  ny times   \n",
       "3728  recent item success plant dark however however...  2024-10-20       bbc   \n",
       "8958  yourself religious point hour mrs cover case s...  2024-08-25  ny times   \n",
       "7671  road listen add question main head worker gene...  2023-10-07       cnn   \n",
       "5999  low indicate education support brother suffer ...  2025-03-17  fox news   \n",
       "\n",
       "                     author       category label  \n",
       "5894      kimberly martinez       politics  real  \n",
       "3728  mr. daniel bailey dds         sports  real  \n",
       "8958        kimberly wagner       politics  fake  \n",
       "7671    charlene harrington  entertainment  fake  \n",
       "5999         robert gardner       politics  real  "
      ]
     },
     "execution_count": 49,
     "metadata": {},
     "output_type": "execute_result"
    }
   ],
   "source": [
    "train_set.head()"
   ]
  },
  {
   "cell_type": "code",
   "execution_count": 50,
   "id": "ed066093-de7c-4dfe-ab23-9f9efec45b17",
   "metadata": {},
   "outputs": [],
   "source": [
    "## Remove the links"
   ]
  },
  {
   "cell_type": "code",
   "execution_count": 51,
   "id": "484769b9-6530-4710-b90e-f75b25543ab7",
   "metadata": {},
   "outputs": [],
   "source": [
    "train_set['title']=train_set['title'].apply(lambda x: \" \".join(re.sub(r'https?:\\/\\/.*[\\r\\n]*','',x,flags=re.MULTILINE) for x in x.split()))"
   ]
  },
  {
   "cell_type": "code",
   "execution_count": 52,
   "id": "18cb7a47-dada-410c-b5a0-69728c12ae4e",
   "metadata": {},
   "outputs": [
    {
     "data": {
      "text/plain": [
       "5894     age important scientist question why onto acti...\n",
       "3728     trial candidate travel pretty agreement attack...\n",
       "8958     animal painting interest i society air east to...\n",
       "7671                      improve surface face today fact.\n",
       "5999                      family pressure common behavior.\n",
       "                               ...                        \n",
       "11284               surface address media speak join poor.\n",
       "11964     short theory live role pressure since point for.\n",
       "5390                       hope television artist improve.\n",
       "860           far choice test last generation friend rich.\n",
       "15795          audience four art section assume a may out.\n",
       "Name: title, Length: 16000, dtype: object"
      ]
     },
     "execution_count": 52,
     "metadata": {},
     "output_type": "execute_result"
    }
   ],
   "source": [
    "train_set['title']"
   ]
  },
  {
   "cell_type": "code",
   "execution_count": 53,
   "id": "45983acf-a6e8-4924-be8d-088b0ec9a8ca",
   "metadata": {},
   "outputs": [],
   "source": [
    "train_set['text']=train_set['text'].apply(lambda x: \" \".join(re.sub(r'https?\\/\\/.*[\\r\\n]*','',x,flags=re.MULTILINE) for x in x.split()))"
   ]
  },
  {
   "cell_type": "code",
   "execution_count": 54,
   "id": "18c7bbb6-4b33-44d8-bff5-6690ad7ad9cb",
   "metadata": {},
   "outputs": [
    {
     "data": {
      "text/plain": [
       "5894     image morning whether thought seven office kit...\n",
       "3728     recent item success plant dark however however...\n",
       "8958     yourself religious point hour mrs cover case s...\n",
       "7671     road listen add question main head worker gene...\n",
       "5999     low indicate education support brother suffer ...\n",
       "                               ...                        \n",
       "11284    middle form imagine item company good town for...\n",
       "11964    collection short section yourself involve real...\n",
       "5390     card compare magazine education evening energy...\n",
       "860      fire ask lose institution field candidate age ...\n",
       "15795    book easy morning report kind better start fig...\n",
       "Name: text, Length: 16000, dtype: object"
      ]
     },
     "execution_count": 54,
     "metadata": {},
     "output_type": "execute_result"
    }
   ],
   "source": [
    "train_set['text']"
   ]
  },
  {
   "cell_type": "code",
   "execution_count": 55,
   "id": "681d3ec0-afbb-4a53-ae2d-a0fc352d5dc0",
   "metadata": {},
   "outputs": [],
   "source": [
    "train_set['source']=train_set['source'].apply(lambda x: \" \".join(re.sub(r'https?\\/\\/.*[\\r\\n]*','',x,flags=re.MULTILINE) for x in x.split()))"
   ]
  },
  {
   "cell_type": "code",
   "execution_count": 56,
   "id": "5ea69c3b-f7f0-48f4-b09f-91b29ef86a6e",
   "metadata": {},
   "outputs": [
    {
     "data": {
      "text/plain": [
       "5894       ny times\n",
       "3728            bbc\n",
       "8958       ny times\n",
       "7671            cnn\n",
       "5999       fox news\n",
       "            ...    \n",
       "11284      fox news\n",
       "11964      ny times\n",
       "5390            bbc\n",
       "860      daily news\n",
       "15795      ny times\n",
       "Name: source, Length: 16000, dtype: object"
      ]
     },
     "execution_count": 56,
     "metadata": {},
     "output_type": "execute_result"
    }
   ],
   "source": [
    "train_set['source']"
   ]
  },
  {
   "cell_type": "code",
   "execution_count": 57,
   "id": "620f4843-3595-42ad-a293-b415554744bf",
   "metadata": {},
   "outputs": [],
   "source": [
    "train_set['author']=train_set['author'].apply(lambda x:\" \".join(re.sub(r'https?\\/\\/.*[\\r\\n]*','',x,flags=re.MULTILINE) for x in x.split()))"
   ]
  },
  {
   "cell_type": "code",
   "execution_count": 58,
   "id": "5d25d8d8-2565-4074-9ff0-5168032c9087",
   "metadata": {},
   "outputs": [
    {
     "data": {
      "text/plain": [
       "5894         kimberly martinez\n",
       "3728     mr. daniel bailey dds\n",
       "8958           kimberly wagner\n",
       "7671       charlene harrington\n",
       "5999            robert gardner\n",
       "                 ...          \n",
       "11284              cathy woods\n",
       "11964      nicholas williamson\n",
       "5390               david mcgee\n",
       "860           stephanie austin\n",
       "15795    mr. ernest harris jr.\n",
       "Name: author, Length: 16000, dtype: object"
      ]
     },
     "execution_count": 58,
     "metadata": {},
     "output_type": "execute_result"
    }
   ],
   "source": [
    "train_set['author']"
   ]
  },
  {
   "cell_type": "code",
   "execution_count": 59,
   "id": "f180c6a7-374f-419f-903b-72ff75370ca2",
   "metadata": {},
   "outputs": [],
   "source": [
    "train_set['category']=train_set['category'].apply(lambda x: \" \".join(re.sub(r'https?\\/\\/.*[\\r\\n]*','',x,flags=re.MULTILINE) for x in x.split()))"
   ]
  },
  {
   "cell_type": "code",
   "execution_count": 60,
   "id": "7cbf5d3a-d933-413d-aa7a-04d94d5711be",
   "metadata": {},
   "outputs": [
    {
     "data": {
      "text/plain": [
       "5894          politics\n",
       "3728            sports\n",
       "8958          politics\n",
       "7671     entertainment\n",
       "5999          politics\n",
       "             ...      \n",
       "11284         business\n",
       "11964         business\n",
       "5390           science\n",
       "860            science\n",
       "15795           sports\n",
       "Name: category, Length: 16000, dtype: object"
      ]
     },
     "execution_count": 60,
     "metadata": {},
     "output_type": "execute_result"
    }
   ],
   "source": [
    "train_set['category']"
   ]
  },
  {
   "cell_type": "code",
   "execution_count": 61,
   "id": "47b4f707-c41f-4c5b-96d1-b6aa74f0e631",
   "metadata": {},
   "outputs": [],
   "source": [
    "## Remove the puncutations from text"
   ]
  },
  {
   "cell_type": "code",
   "execution_count": 62,
   "id": "edb672d6-f56e-4648-ba7e-959c70889955",
   "metadata": {},
   "outputs": [
    {
     "data": {
      "text/plain": [
       "'!\"#$%&\\'()*+,-./:;<=>?@[\\\\]^_`{|}~'"
      ]
     },
     "execution_count": 62,
     "metadata": {},
     "output_type": "execute_result"
    }
   ],
   "source": [
    "string.punctuation"
   ]
  },
  {
   "cell_type": "code",
   "execution_count": 63,
   "id": "f2291a1b-bf90-4d05-b673-87cb6e5b325e",
   "metadata": {},
   "outputs": [
    {
     "data": {
      "text/html": [
       "<div>\n",
       "<style scoped>\n",
       "    .dataframe tbody tr th:only-of-type {\n",
       "        vertical-align: middle;\n",
       "    }\n",
       "\n",
       "    .dataframe tbody tr th {\n",
       "        vertical-align: top;\n",
       "    }\n",
       "\n",
       "    .dataframe thead th {\n",
       "        text-align: right;\n",
       "    }\n",
       "</style>\n",
       "<table border=\"1\" class=\"dataframe\">\n",
       "  <thead>\n",
       "    <tr style=\"text-align: right;\">\n",
       "      <th></th>\n",
       "      <th>title</th>\n",
       "      <th>text</th>\n",
       "      <th>date</th>\n",
       "      <th>source</th>\n",
       "      <th>author</th>\n",
       "      <th>category</th>\n",
       "      <th>label</th>\n",
       "    </tr>\n",
       "  </thead>\n",
       "  <tbody>\n",
       "    <tr>\n",
       "      <th>5894</th>\n",
       "      <td>age important scientist question why onto acti...</td>\n",
       "      <td>image morning whether thought seven office kit...</td>\n",
       "      <td>2022-05-30</td>\n",
       "      <td>ny times</td>\n",
       "      <td>kimberly martinez</td>\n",
       "      <td>politics</td>\n",
       "      <td>real</td>\n",
       "    </tr>\n",
       "    <tr>\n",
       "      <th>3728</th>\n",
       "      <td>trial candidate travel pretty agreement attack...</td>\n",
       "      <td>recent item success plant dark however however...</td>\n",
       "      <td>2024-10-20</td>\n",
       "      <td>bbc</td>\n",
       "      <td>mr. daniel bailey dds</td>\n",
       "      <td>sports</td>\n",
       "      <td>real</td>\n",
       "    </tr>\n",
       "    <tr>\n",
       "      <th>8958</th>\n",
       "      <td>animal painting interest i society air east to...</td>\n",
       "      <td>yourself religious point hour mrs cover case s...</td>\n",
       "      <td>2024-08-25</td>\n",
       "      <td>ny times</td>\n",
       "      <td>kimberly wagner</td>\n",
       "      <td>politics</td>\n",
       "      <td>fake</td>\n",
       "    </tr>\n",
       "    <tr>\n",
       "      <th>7671</th>\n",
       "      <td>improve surface face today fact.</td>\n",
       "      <td>road listen add question main head worker gene...</td>\n",
       "      <td>2023-10-07</td>\n",
       "      <td>cnn</td>\n",
       "      <td>charlene harrington</td>\n",
       "      <td>entertainment</td>\n",
       "      <td>fake</td>\n",
       "    </tr>\n",
       "    <tr>\n",
       "      <th>5999</th>\n",
       "      <td>family pressure common behavior.</td>\n",
       "      <td>low indicate education support brother suffer ...</td>\n",
       "      <td>2025-03-17</td>\n",
       "      <td>fox news</td>\n",
       "      <td>robert gardner</td>\n",
       "      <td>politics</td>\n",
       "      <td>real</td>\n",
       "    </tr>\n",
       "  </tbody>\n",
       "</table>\n",
       "</div>"
      ],
      "text/plain": [
       "                                                  title  \\\n",
       "5894  age important scientist question why onto acti...   \n",
       "3728  trial candidate travel pretty agreement attack...   \n",
       "8958  animal painting interest i society air east to...   \n",
       "7671                   improve surface face today fact.   \n",
       "5999                   family pressure common behavior.   \n",
       "\n",
       "                                                   text        date    source  \\\n",
       "5894  image morning whether thought seven office kit...  2022-05-30  ny times   \n",
       "3728  recent item success plant dark however however...  2024-10-20       bbc   \n",
       "8958  yourself religious point hour mrs cover case s...  2024-08-25  ny times   \n",
       "7671  road listen add question main head worker gene...  2023-10-07       cnn   \n",
       "5999  low indicate education support brother suffer ...  2025-03-17  fox news   \n",
       "\n",
       "                     author       category label  \n",
       "5894      kimberly martinez       politics  real  \n",
       "3728  mr. daniel bailey dds         sports  real  \n",
       "8958        kimberly wagner       politics  fake  \n",
       "7671    charlene harrington  entertainment  fake  \n",
       "5999         robert gardner       politics  real  "
      ]
     },
     "execution_count": 63,
     "metadata": {},
     "output_type": "execute_result"
    }
   ],
   "source": [
    "train_set.head()"
   ]
  },
  {
   "cell_type": "code",
   "execution_count": 64,
   "id": "8c75c7a4-5283-4f05-b566-c11b1a26024c",
   "metadata": {},
   "outputs": [],
   "source": [
    "def remove_punctuation(text):\n",
    "    for punctuations in string.punctuation:\n",
    "        text=text.replace(punctuations,'')\n",
    "    return text\n",
    "\n",
    "train_set['title']=train_set['title'].apply(remove_punctuation)\n",
    "train_set['text']=train_set['text'].apply(remove_punctuation)\n",
    "train_set['source']=train_set['source'].apply(remove_punctuation)\n",
    "train_set['author']=train_set['author'].apply(remove_punctuation)\n",
    "train_set['category']=train_set['category'].apply(remove_punctuation)"
   ]
  },
  {
   "cell_type": "code",
   "execution_count": 65,
   "id": "9b6f5cb0-8af5-49b5-93dc-11dfbaa73125",
   "metadata": {},
   "outputs": [
    {
     "data": {
      "text/plain": [
       "5894    age important scientist question why onto acti...\n",
       "3728    trial candidate travel pretty agreement attack...\n",
       "8958    animal painting interest i society air east total\n",
       "7671                      improve surface face today fact\n",
       "5999                      family pressure common behavior\n",
       "Name: title, dtype: object"
      ]
     },
     "execution_count": 65,
     "metadata": {},
     "output_type": "execute_result"
    }
   ],
   "source": [
    "train_set['title'].head()"
   ]
  },
  {
   "cell_type": "code",
   "execution_count": 66,
   "id": "dd738f29-f9ba-4331-b07a-9d6b063b8c68",
   "metadata": {},
   "outputs": [
    {
     "data": {
      "text/plain": [
       "5894    image morning whether thought seven office kit...\n",
       "3728    recent item success plant dark however however...\n",
       "8958    yourself religious point hour mrs cover case s...\n",
       "7671    road listen add question main head worker gene...\n",
       "5999    low indicate education support brother suffer ...\n",
       "Name: text, dtype: object"
      ]
     },
     "execution_count": 66,
     "metadata": {},
     "output_type": "execute_result"
    }
   ],
   "source": [
    "train_set['text'].head()"
   ]
  },
  {
   "cell_type": "code",
   "execution_count": 67,
   "id": "4e40b895-43fd-4d00-a376-eef113663233",
   "metadata": {},
   "outputs": [
    {
     "data": {
      "text/plain": [
       "5894    ny times\n",
       "3728         bbc\n",
       "8958    ny times\n",
       "7671         cnn\n",
       "5999    fox news\n",
       "Name: source, dtype: object"
      ]
     },
     "execution_count": 67,
     "metadata": {},
     "output_type": "execute_result"
    }
   ],
   "source": [
    "train_set['source'].head()"
   ]
  },
  {
   "cell_type": "code",
   "execution_count": 68,
   "id": "13429ee4-513b-4da0-8aa0-fb4b7a9cb25f",
   "metadata": {},
   "outputs": [
    {
     "data": {
      "text/plain": [
       "5894       kimberly martinez\n",
       "3728    mr daniel bailey dds\n",
       "8958         kimberly wagner\n",
       "7671     charlene harrington\n",
       "5999          robert gardner\n",
       "Name: author, dtype: object"
      ]
     },
     "execution_count": 68,
     "metadata": {},
     "output_type": "execute_result"
    }
   ],
   "source": [
    "train_set['author'].head()"
   ]
  },
  {
   "cell_type": "code",
   "execution_count": 69,
   "id": "7dc209b3-51a3-43c3-9ad4-d085399469bb",
   "metadata": {},
   "outputs": [
    {
     "data": {
      "text/plain": [
       "5894         politics\n",
       "3728           sports\n",
       "8958         politics\n",
       "7671    entertainment\n",
       "5999         politics\n",
       "Name: category, dtype: object"
      ]
     },
     "execution_count": 69,
     "metadata": {},
     "output_type": "execute_result"
    }
   ],
   "source": [
    "train_set['category'].head()"
   ]
  },
  {
   "cell_type": "code",
   "execution_count": 70,
   "id": "23795a9b-da9b-4686-bcfe-44fb8d224085",
   "metadata": {},
   "outputs": [],
   "source": [
    "## Remove the numbers from  text"
   ]
  },
  {
   "cell_type": "code",
   "execution_count": 71,
   "id": "c84ced6b-fa26-4e2c-9425-6d4875246d82",
   "metadata": {},
   "outputs": [
    {
     "name": "stderr",
     "output_type": "stream",
     "text": [
      "<>:1: SyntaxWarning: invalid escape sequence '\\d'\n",
      "<>:2: SyntaxWarning: invalid escape sequence '\\d'\n",
      "<>:3: SyntaxWarning: invalid escape sequence '\\d'\n",
      "<>:4: SyntaxWarning: invalid escape sequence '\\d'\n",
      "<>:5: SyntaxWarning: invalid escape sequence '\\d'\n",
      "<>:1: SyntaxWarning: invalid escape sequence '\\d'\n",
      "<>:2: SyntaxWarning: invalid escape sequence '\\d'\n",
      "<>:3: SyntaxWarning: invalid escape sequence '\\d'\n",
      "<>:4: SyntaxWarning: invalid escape sequence '\\d'\n",
      "<>:5: SyntaxWarning: invalid escape sequence '\\d'\n",
      "C:\\Users\\THIS PC\\AppData\\Local\\Temp\\ipykernel_34456\\3529597117.py:1: SyntaxWarning: invalid escape sequence '\\d'\n",
      "  train_set['title']=train_set['title'].str.replace('\\d+','',regex=True)\n",
      "C:\\Users\\THIS PC\\AppData\\Local\\Temp\\ipykernel_34456\\3529597117.py:2: SyntaxWarning: invalid escape sequence '\\d'\n",
      "  train_set['text']=train_set['text'].str.replace('\\d+','',regex=True)\n",
      "C:\\Users\\THIS PC\\AppData\\Local\\Temp\\ipykernel_34456\\3529597117.py:3: SyntaxWarning: invalid escape sequence '\\d'\n",
      "  train_set['source']=train_set['source'].str.replace('\\d+','',regex=True)\n",
      "C:\\Users\\THIS PC\\AppData\\Local\\Temp\\ipykernel_34456\\3529597117.py:4: SyntaxWarning: invalid escape sequence '\\d'\n",
      "  train_set['author']=train_set['author'].str.replace('\\d+','',regex=True)\n",
      "C:\\Users\\THIS PC\\AppData\\Local\\Temp\\ipykernel_34456\\3529597117.py:5: SyntaxWarning: invalid escape sequence '\\d'\n",
      "  train_set['category']=train_set['category'].str.replace('\\d+','',regex=True)\n"
     ]
    }
   ],
   "source": [
    "train_set['title']=train_set['title'].str.replace('\\d+','',regex=True)\n",
    "train_set['text']=train_set['text'].str.replace('\\d+','',regex=True)\n",
    "train_set['source']=train_set['source'].str.replace('\\d+','',regex=True)\n",
    "train_set['author']=train_set['author'].str.replace('\\d+','',regex=True)\n",
    "train_set['category']=train_set['category'].str.replace('\\d+','',regex=True)\n"
   ]
  },
  {
   "cell_type": "code",
   "execution_count": 72,
   "id": "3bf621bb-f796-4eec-aadc-cbe83b2eb9dc",
   "metadata": {},
   "outputs": [
    {
     "data": {
      "text/html": [
       "<div>\n",
       "<style scoped>\n",
       "    .dataframe tbody tr th:only-of-type {\n",
       "        vertical-align: middle;\n",
       "    }\n",
       "\n",
       "    .dataframe tbody tr th {\n",
       "        vertical-align: top;\n",
       "    }\n",
       "\n",
       "    .dataframe thead th {\n",
       "        text-align: right;\n",
       "    }\n",
       "</style>\n",
       "<table border=\"1\" class=\"dataframe\">\n",
       "  <thead>\n",
       "    <tr style=\"text-align: right;\">\n",
       "      <th></th>\n",
       "      <th>title</th>\n",
       "      <th>text</th>\n",
       "      <th>date</th>\n",
       "      <th>source</th>\n",
       "      <th>author</th>\n",
       "      <th>category</th>\n",
       "      <th>label</th>\n",
       "    </tr>\n",
       "  </thead>\n",
       "  <tbody>\n",
       "    <tr>\n",
       "      <th>5894</th>\n",
       "      <td>age important scientist question why onto acti...</td>\n",
       "      <td>image morning whether thought seven office kit...</td>\n",
       "      <td>2022-05-30</td>\n",
       "      <td>ny times</td>\n",
       "      <td>kimberly martinez</td>\n",
       "      <td>politics</td>\n",
       "      <td>real</td>\n",
       "    </tr>\n",
       "    <tr>\n",
       "      <th>3728</th>\n",
       "      <td>trial candidate travel pretty agreement attack...</td>\n",
       "      <td>recent item success plant dark however however...</td>\n",
       "      <td>2024-10-20</td>\n",
       "      <td>bbc</td>\n",
       "      <td>mr daniel bailey dds</td>\n",
       "      <td>sports</td>\n",
       "      <td>real</td>\n",
       "    </tr>\n",
       "    <tr>\n",
       "      <th>8958</th>\n",
       "      <td>animal painting interest i society air east total</td>\n",
       "      <td>yourself religious point hour mrs cover case s...</td>\n",
       "      <td>2024-08-25</td>\n",
       "      <td>ny times</td>\n",
       "      <td>kimberly wagner</td>\n",
       "      <td>politics</td>\n",
       "      <td>fake</td>\n",
       "    </tr>\n",
       "    <tr>\n",
       "      <th>7671</th>\n",
       "      <td>improve surface face today fact</td>\n",
       "      <td>road listen add question main head worker gene...</td>\n",
       "      <td>2023-10-07</td>\n",
       "      <td>cnn</td>\n",
       "      <td>charlene harrington</td>\n",
       "      <td>entertainment</td>\n",
       "      <td>fake</td>\n",
       "    </tr>\n",
       "    <tr>\n",
       "      <th>5999</th>\n",
       "      <td>family pressure common behavior</td>\n",
       "      <td>low indicate education support brother suffer ...</td>\n",
       "      <td>2025-03-17</td>\n",
       "      <td>fox news</td>\n",
       "      <td>robert gardner</td>\n",
       "      <td>politics</td>\n",
       "      <td>real</td>\n",
       "    </tr>\n",
       "  </tbody>\n",
       "</table>\n",
       "</div>"
      ],
      "text/plain": [
       "                                                  title  \\\n",
       "5894  age important scientist question why onto acti...   \n",
       "3728  trial candidate travel pretty agreement attack...   \n",
       "8958  animal painting interest i society air east total   \n",
       "7671                    improve surface face today fact   \n",
       "5999                    family pressure common behavior   \n",
       "\n",
       "                                                   text        date    source  \\\n",
       "5894  image morning whether thought seven office kit...  2022-05-30  ny times   \n",
       "3728  recent item success plant dark however however...  2024-10-20       bbc   \n",
       "8958  yourself religious point hour mrs cover case s...  2024-08-25  ny times   \n",
       "7671  road listen add question main head worker gene...  2023-10-07       cnn   \n",
       "5999  low indicate education support brother suffer ...  2025-03-17  fox news   \n",
       "\n",
       "                    author       category label  \n",
       "5894     kimberly martinez       politics  real  \n",
       "3728  mr daniel bailey dds         sports  real  \n",
       "8958       kimberly wagner       politics  fake  \n",
       "7671   charlene harrington  entertainment  fake  \n",
       "5999        robert gardner       politics  real  "
      ]
     },
     "execution_count": 72,
     "metadata": {},
     "output_type": "execute_result"
    }
   ],
   "source": [
    "train_set.head()"
   ]
  },
  {
   "cell_type": "code",
   "execution_count": 73,
   "id": "0dddfcee-deeb-4cb7-9495-f43d1d864deb",
   "metadata": {},
   "outputs": [],
   "source": [
    "## Remove the stop words"
   ]
  },
  {
   "cell_type": "code",
   "execution_count": 74,
   "id": "80aed0be-f572-4f20-9297-5247265d0392",
   "metadata": {},
   "outputs": [],
   "source": [
    "import nltk"
   ]
  },
  {
   "cell_type": "code",
   "execution_count": 75,
   "id": "51fdf5bd-db8e-4573-ba8a-c86a36e179c3",
   "metadata": {},
   "outputs": [
    {
     "name": "stderr",
     "output_type": "stream",
     "text": [
      "[nltk_data] Downloading package stopwords to stopwords/...\n",
      "[nltk_data]   Package stopwords is already up-to-date!\n"
     ]
    },
    {
     "data": {
      "text/plain": [
       "True"
      ]
     },
     "execution_count": 75,
     "metadata": {},
     "output_type": "execute_result"
    }
   ],
   "source": [
    "nltk.download('stopwords',download_dir='stopwords/')"
   ]
  },
  {
   "cell_type": "code",
   "execution_count": 76,
   "id": "5ce2d54c-3db3-43f7-81bd-5c77ae905e4a",
   "metadata": {},
   "outputs": [],
   "source": [
    "with open('stopwords/corpora/stopwords/english', 'r') as file:\n",
    "    sw=file.read().splitlines()"
   ]
  },
  {
   "cell_type": "code",
   "execution_count": 77,
   "id": "2d1510a7-69a3-41f2-8554-c48f0cf771f0",
   "metadata": {},
   "outputs": [
    {
     "data": {
      "text/plain": [
       "['a',\n",
       " 'about',\n",
       " 'above',\n",
       " 'after',\n",
       " 'again',\n",
       " 'against',\n",
       " 'ain',\n",
       " 'all',\n",
       " 'am',\n",
       " 'an',\n",
       " 'and',\n",
       " 'any',\n",
       " 'are',\n",
       " 'aren',\n",
       " \"aren't\",\n",
       " 'as',\n",
       " 'at',\n",
       " 'be',\n",
       " 'because',\n",
       " 'been',\n",
       " 'before',\n",
       " 'being',\n",
       " 'below',\n",
       " 'between',\n",
       " 'both',\n",
       " 'but',\n",
       " 'by',\n",
       " 'can',\n",
       " 'couldn',\n",
       " \"couldn't\",\n",
       " 'd',\n",
       " 'did',\n",
       " 'didn',\n",
       " \"didn't\",\n",
       " 'do',\n",
       " 'does',\n",
       " 'doesn',\n",
       " \"doesn't\",\n",
       " 'doing',\n",
       " 'don',\n",
       " \"don't\",\n",
       " 'down',\n",
       " 'during',\n",
       " 'each',\n",
       " 'few',\n",
       " 'for',\n",
       " 'from',\n",
       " 'further',\n",
       " 'had',\n",
       " 'hadn',\n",
       " \"hadn't\",\n",
       " 'has',\n",
       " 'hasn',\n",
       " \"hasn't\",\n",
       " 'have',\n",
       " 'haven',\n",
       " \"haven't\",\n",
       " 'having',\n",
       " 'he',\n",
       " \"he'd\",\n",
       " \"he'll\",\n",
       " 'her',\n",
       " 'here',\n",
       " 'hers',\n",
       " 'herself',\n",
       " \"he's\",\n",
       " 'him',\n",
       " 'himself',\n",
       " 'his',\n",
       " 'how',\n",
       " 'i',\n",
       " \"i'd\",\n",
       " 'if',\n",
       " \"i'll\",\n",
       " \"i'm\",\n",
       " 'in',\n",
       " 'into',\n",
       " 'is',\n",
       " 'isn',\n",
       " \"isn't\",\n",
       " 'it',\n",
       " \"it'd\",\n",
       " \"it'll\",\n",
       " \"it's\",\n",
       " 'its',\n",
       " 'itself',\n",
       " \"i've\",\n",
       " 'just',\n",
       " 'll',\n",
       " 'm',\n",
       " 'ma',\n",
       " 'me',\n",
       " 'mightn',\n",
       " \"mightn't\",\n",
       " 'more',\n",
       " 'most',\n",
       " 'mustn',\n",
       " \"mustn't\",\n",
       " 'my',\n",
       " 'myself',\n",
       " 'needn',\n",
       " \"needn't\",\n",
       " 'no',\n",
       " 'nor',\n",
       " 'not',\n",
       " 'now',\n",
       " 'o',\n",
       " 'of',\n",
       " 'off',\n",
       " 'on',\n",
       " 'once',\n",
       " 'only',\n",
       " 'or',\n",
       " 'other',\n",
       " 'our',\n",
       " 'ours',\n",
       " 'ourselves',\n",
       " 'out',\n",
       " 'over',\n",
       " 'own',\n",
       " 're',\n",
       " 's',\n",
       " 'same',\n",
       " 'shan',\n",
       " \"shan't\",\n",
       " 'she',\n",
       " \"she'd\",\n",
       " \"she'll\",\n",
       " \"she's\",\n",
       " 'should',\n",
       " 'shouldn',\n",
       " \"shouldn't\",\n",
       " \"should've\",\n",
       " 'so',\n",
       " 'some',\n",
       " 'such',\n",
       " 't',\n",
       " 'than',\n",
       " 'that',\n",
       " \"that'll\",\n",
       " 'the',\n",
       " 'their',\n",
       " 'theirs',\n",
       " 'them',\n",
       " 'themselves',\n",
       " 'then',\n",
       " 'there',\n",
       " 'these',\n",
       " 'they',\n",
       " \"they'd\",\n",
       " \"they'll\",\n",
       " \"they're\",\n",
       " \"they've\",\n",
       " 'this',\n",
       " 'those',\n",
       " 'through',\n",
       " 'to',\n",
       " 'too',\n",
       " 'under',\n",
       " 'until',\n",
       " 'up',\n",
       " 've',\n",
       " 'very',\n",
       " 'was',\n",
       " 'wasn',\n",
       " \"wasn't\",\n",
       " 'we',\n",
       " \"we'd\",\n",
       " \"we'll\",\n",
       " \"we're\",\n",
       " 'were',\n",
       " 'weren',\n",
       " \"weren't\",\n",
       " \"we've\",\n",
       " 'what',\n",
       " 'when',\n",
       " 'where',\n",
       " 'which',\n",
       " 'while',\n",
       " 'who',\n",
       " 'whom',\n",
       " 'why',\n",
       " 'will',\n",
       " 'with',\n",
       " 'won',\n",
       " \"won't\",\n",
       " 'wouldn',\n",
       " \"wouldn't\",\n",
       " 'y',\n",
       " 'you',\n",
       " \"you'd\",\n",
       " \"you'll\",\n",
       " 'your',\n",
       " \"you're\",\n",
       " 'yours',\n",
       " 'yourself',\n",
       " 'yourselves',\n",
       " \"you've\"]"
      ]
     },
     "execution_count": 77,
     "metadata": {},
     "output_type": "execute_result"
    }
   ],
   "source": [
    "sw"
   ]
  },
  {
   "cell_type": "code",
   "execution_count": 78,
   "id": "709bcdba-9e36-4db2-998b-1418b62c8d87",
   "metadata": {},
   "outputs": [],
   "source": [
    "train_set['title']=train_set['title'].apply(lambda x: \" \".join(x for x in x.split() if x not in sw))\n",
    "train_set['text']=train_set['text'].apply(lambda x:\" \".join(x for x in x.split() if x not in sw))\n",
    "train_set['source']=train_set['source'].apply(lambda x:\" \".join(x for x in x.split() if x not in sw))\n",
    "train_set['author']=train_set['author'].apply(lambda x: \" \".join(x for x in x.split() if x not in sw))\n",
    "train_set['category']=train_set['category'].apply(lambda x:\" \".join(x for x in x.split() if x not in sw))"
   ]
  },
  {
   "cell_type": "code",
   "execution_count": 79,
   "id": "a7bd4e15-1f01-499a-b09f-edc1fb751d1b",
   "metadata": {},
   "outputs": [
    {
     "data": {
      "text/html": [
       "<div>\n",
       "<style scoped>\n",
       "    .dataframe tbody tr th:only-of-type {\n",
       "        vertical-align: middle;\n",
       "    }\n",
       "\n",
       "    .dataframe tbody tr th {\n",
       "        vertical-align: top;\n",
       "    }\n",
       "\n",
       "    .dataframe thead th {\n",
       "        text-align: right;\n",
       "    }\n",
       "</style>\n",
       "<table border=\"1\" class=\"dataframe\">\n",
       "  <thead>\n",
       "    <tr style=\"text-align: right;\">\n",
       "      <th></th>\n",
       "      <th>title</th>\n",
       "      <th>text</th>\n",
       "      <th>date</th>\n",
       "      <th>source</th>\n",
       "      <th>author</th>\n",
       "      <th>category</th>\n",
       "      <th>label</th>\n",
       "    </tr>\n",
       "  </thead>\n",
       "  <tbody>\n",
       "    <tr>\n",
       "      <th>5894</th>\n",
       "      <td>age important scientist question onto activity</td>\n",
       "      <td>image morning whether thought seven office kit...</td>\n",
       "      <td>2022-05-30</td>\n",
       "      <td>ny times</td>\n",
       "      <td>kimberly martinez</td>\n",
       "      <td>politics</td>\n",
       "      <td>real</td>\n",
       "    </tr>\n",
       "    <tr>\n",
       "      <th>3728</th>\n",
       "      <td>trial candidate travel pretty agreement attack...</td>\n",
       "      <td>recent item success plant dark however however...</td>\n",
       "      <td>2024-10-20</td>\n",
       "      <td>bbc</td>\n",
       "      <td>mr daniel bailey dds</td>\n",
       "      <td>sports</td>\n",
       "      <td>real</td>\n",
       "    </tr>\n",
       "    <tr>\n",
       "      <th>8958</th>\n",
       "      <td>animal painting interest society air east total</td>\n",
       "      <td>religious point hour mrs cover case source sea...</td>\n",
       "      <td>2024-08-25</td>\n",
       "      <td>ny times</td>\n",
       "      <td>kimberly wagner</td>\n",
       "      <td>politics</td>\n",
       "      <td>fake</td>\n",
       "    </tr>\n",
       "    <tr>\n",
       "      <th>7671</th>\n",
       "      <td>improve surface face today fact</td>\n",
       "      <td>road listen add question main head worker gene...</td>\n",
       "      <td>2023-10-07</td>\n",
       "      <td>cnn</td>\n",
       "      <td>charlene harrington</td>\n",
       "      <td>entertainment</td>\n",
       "      <td>fake</td>\n",
       "    </tr>\n",
       "    <tr>\n",
       "      <th>5999</th>\n",
       "      <td>family pressure common behavior</td>\n",
       "      <td>low indicate education support brother suffer ...</td>\n",
       "      <td>2025-03-17</td>\n",
       "      <td>fox news</td>\n",
       "      <td>robert gardner</td>\n",
       "      <td>politics</td>\n",
       "      <td>real</td>\n",
       "    </tr>\n",
       "    <tr>\n",
       "      <th>5751</th>\n",
       "      <td>agent degree pass feeling address</td>\n",
       "      <td>almost without trouble resource memory senior ...</td>\n",
       "      <td>2024-03-09</td>\n",
       "      <td>reuters</td>\n",
       "      <td>dawn stewart</td>\n",
       "      <td>entertainment</td>\n",
       "      <td>fake</td>\n",
       "    </tr>\n",
       "    <tr>\n",
       "      <th>1688</th>\n",
       "      <td>spend record participant assume fund real</td>\n",
       "      <td>sense phone change low name use appear senior ...</td>\n",
       "      <td>2023-04-02</td>\n",
       "      <td>guardian</td>\n",
       "      <td>daniel mitchell</td>\n",
       "      <td>entertainment</td>\n",
       "      <td>real</td>\n",
       "    </tr>\n",
       "    <tr>\n",
       "      <th>6836</th>\n",
       "      <td>maybe cause center sit cut argue</td>\n",
       "      <td>professional boy blood fast treat east method ...</td>\n",
       "      <td>2025-04-18</td>\n",
       "      <td>ny times</td>\n",
       "      <td>samuel gates</td>\n",
       "      <td>technology</td>\n",
       "      <td>fake</td>\n",
       "    </tr>\n",
       "    <tr>\n",
       "      <th>6536</th>\n",
       "      <td>maybe result character value</td>\n",
       "      <td>choice lay sometimes article team newspaper ra...</td>\n",
       "      <td>2024-09-03</td>\n",
       "      <td>cnn</td>\n",
       "      <td>frank barajas</td>\n",
       "      <td>sports</td>\n",
       "      <td>fake</td>\n",
       "    </tr>\n",
       "    <tr>\n",
       "      <th>4842</th>\n",
       "      <td>eight though bag claim issue</td>\n",
       "      <td>social sister ball pretty thus management rece...</td>\n",
       "      <td>2023-05-13</td>\n",
       "      <td>ny times</td>\n",
       "      <td>kristen mercado</td>\n",
       "      <td>science</td>\n",
       "      <td>fake</td>\n",
       "    </tr>\n",
       "    <tr>\n",
       "      <th>15844</th>\n",
       "      <td>hot allow economy wall fast case</td>\n",
       "      <td>shake represent listen camera student event fi...</td>\n",
       "      <td>2022-08-29</td>\n",
       "      <td>daily news</td>\n",
       "      <td>dustin hamilton</td>\n",
       "      <td>health</td>\n",
       "      <td>real</td>\n",
       "    </tr>\n",
       "    <tr>\n",
       "      <th>196</th>\n",
       "      <td>second point increase</td>\n",
       "      <td>sport door want check instead mean yet still f...</td>\n",
       "      <td>2024-03-27</td>\n",
       "      <td>cnn</td>\n",
       "      <td>david saunders</td>\n",
       "      <td>business</td>\n",
       "      <td>fake</td>\n",
       "    </tr>\n",
       "    <tr>\n",
       "      <th>518</th>\n",
       "      <td>light baby conference</td>\n",
       "      <td>better guess across position line remain quick...</td>\n",
       "      <td>2025-04-12</td>\n",
       "      <td>reuters</td>\n",
       "      <td>kathleen baker</td>\n",
       "      <td>science</td>\n",
       "      <td>fake</td>\n",
       "    </tr>\n",
       "    <tr>\n",
       "      <th>10581</th>\n",
       "      <td>three best end mean</td>\n",
       "      <td>evidence lot reach dinner attention phone resu...</td>\n",
       "      <td>2023-05-25</td>\n",
       "      <td>cnn</td>\n",
       "      <td>michael washington</td>\n",
       "      <td>science</td>\n",
       "      <td>fake</td>\n",
       "    </tr>\n",
       "    <tr>\n",
       "      <th>13320</th>\n",
       "      <td>notice term major play</td>\n",
       "      <td>better woman end conference month reality know...</td>\n",
       "      <td>2023-01-21</td>\n",
       "      <td>cnn</td>\n",
       "      <td>heather gonzales</td>\n",
       "      <td>business</td>\n",
       "      <td>fake</td>\n",
       "    </tr>\n",
       "    <tr>\n",
       "      <th>10790</th>\n",
       "      <td>response represent hard provide name matter ball</td>\n",
       "      <td>around role institution capital environmental ...</td>\n",
       "      <td>2022-10-15</td>\n",
       "      <td>cnn</td>\n",
       "      <td>melanie odonnell</td>\n",
       "      <td>politics</td>\n",
       "      <td>real</td>\n",
       "    </tr>\n",
       "    <tr>\n",
       "      <th>16939</th>\n",
       "      <td>practice environmental management hold close</td>\n",
       "      <td>section drop pressure generation attorney cons...</td>\n",
       "      <td>2025-03-28</td>\n",
       "      <td>cnn</td>\n",
       "      <td>sarah williams</td>\n",
       "      <td>science</td>\n",
       "      <td>fake</td>\n",
       "    </tr>\n",
       "    <tr>\n",
       "      <th>841</th>\n",
       "      <td>anyone thus black couple rate</td>\n",
       "      <td>friend sound read medical forward discussion p...</td>\n",
       "      <td>2023-08-23</td>\n",
       "      <td>ny times</td>\n",
       "      <td>ian wagner</td>\n",
       "      <td>politics</td>\n",
       "      <td>fake</td>\n",
       "    </tr>\n",
       "    <tr>\n",
       "      <th>9507</th>\n",
       "      <td>fly low half common likely affect</td>\n",
       "      <td>anything market address rise south member send...</td>\n",
       "      <td>2024-11-08</td>\n",
       "      <td>cnn</td>\n",
       "      <td>laura fitzgerald</td>\n",
       "      <td>politics</td>\n",
       "      <td>real</td>\n",
       "    </tr>\n",
       "    <tr>\n",
       "      <th>10482</th>\n",
       "      <td>fill loss view education black account</td>\n",
       "      <td>edge everyone young significant bad management...</td>\n",
       "      <td>2025-03-01</td>\n",
       "      <td>global times</td>\n",
       "      <td>matthew morris</td>\n",
       "      <td>entertainment</td>\n",
       "      <td>real</td>\n",
       "    </tr>\n",
       "  </tbody>\n",
       "</table>\n",
       "</div>"
      ],
      "text/plain": [
       "                                                   title  \\\n",
       "5894      age important scientist question onto activity   \n",
       "3728   trial candidate travel pretty agreement attack...   \n",
       "8958     animal painting interest society air east total   \n",
       "7671                     improve surface face today fact   \n",
       "5999                     family pressure common behavior   \n",
       "5751                   agent degree pass feeling address   \n",
       "1688           spend record participant assume fund real   \n",
       "6836                    maybe cause center sit cut argue   \n",
       "6536                        maybe result character value   \n",
       "4842                        eight though bag claim issue   \n",
       "15844                   hot allow economy wall fast case   \n",
       "196                                second point increase   \n",
       "518                                light baby conference   \n",
       "10581                                three best end mean   \n",
       "13320                             notice term major play   \n",
       "10790   response represent hard provide name matter ball   \n",
       "16939       practice environmental management hold close   \n",
       "841                        anyone thus black couple rate   \n",
       "9507                   fly low half common likely affect   \n",
       "10482             fill loss view education black account   \n",
       "\n",
       "                                                    text        date  \\\n",
       "5894   image morning whether thought seven office kit...  2022-05-30   \n",
       "3728   recent item success plant dark however however...  2024-10-20   \n",
       "8958   religious point hour mrs cover case source sea...  2024-08-25   \n",
       "7671   road listen add question main head worker gene...  2023-10-07   \n",
       "5999   low indicate education support brother suffer ...  2025-03-17   \n",
       "5751   almost without trouble resource memory senior ...  2024-03-09   \n",
       "1688   sense phone change low name use appear senior ...  2023-04-02   \n",
       "6836   professional boy blood fast treat east method ...  2025-04-18   \n",
       "6536   choice lay sometimes article team newspaper ra...  2024-09-03   \n",
       "4842   social sister ball pretty thus management rece...  2023-05-13   \n",
       "15844  shake represent listen camera student event fi...  2022-08-29   \n",
       "196    sport door want check instead mean yet still f...  2024-03-27   \n",
       "518    better guess across position line remain quick...  2025-04-12   \n",
       "10581  evidence lot reach dinner attention phone resu...  2023-05-25   \n",
       "13320  better woman end conference month reality know...  2023-01-21   \n",
       "10790  around role institution capital environmental ...  2022-10-15   \n",
       "16939  section drop pressure generation attorney cons...  2025-03-28   \n",
       "841    friend sound read medical forward discussion p...  2023-08-23   \n",
       "9507   anything market address rise south member send...  2024-11-08   \n",
       "10482  edge everyone young significant bad management...  2025-03-01   \n",
       "\n",
       "             source                author       category label  \n",
       "5894       ny times     kimberly martinez       politics  real  \n",
       "3728            bbc  mr daniel bailey dds         sports  real  \n",
       "8958       ny times       kimberly wagner       politics  fake  \n",
       "7671            cnn   charlene harrington  entertainment  fake  \n",
       "5999       fox news        robert gardner       politics  real  \n",
       "5751        reuters          dawn stewart  entertainment  fake  \n",
       "1688       guardian       daniel mitchell  entertainment  real  \n",
       "6836       ny times          samuel gates     technology  fake  \n",
       "6536            cnn         frank barajas         sports  fake  \n",
       "4842       ny times       kristen mercado        science  fake  \n",
       "15844    daily news       dustin hamilton         health  real  \n",
       "196             cnn        david saunders       business  fake  \n",
       "518         reuters        kathleen baker        science  fake  \n",
       "10581           cnn    michael washington        science  fake  \n",
       "13320           cnn      heather gonzales       business  fake  \n",
       "10790           cnn      melanie odonnell       politics  real  \n",
       "16939           cnn        sarah williams        science  fake  \n",
       "841        ny times            ian wagner       politics  fake  \n",
       "9507            cnn      laura fitzgerald       politics  real  \n",
       "10482  global times        matthew morris  entertainment  real  "
      ]
     },
     "execution_count": 79,
     "metadata": {},
     "output_type": "execute_result"
    }
   ],
   "source": [
    "train_set.head(20)"
   ]
  },
  {
   "cell_type": "code",
   "execution_count": 80,
   "id": "3a0540ad-6f89-44dc-a788-66a6b3af54f7",
   "metadata": {},
   "outputs": [],
   "source": [
    "## Stemming technique"
   ]
  },
  {
   "cell_type": "code",
   "execution_count": 81,
   "id": "aad7afeb-9525-4ea7-890c-bb8a24e9d406",
   "metadata": {},
   "outputs": [],
   "source": [
    "from nltk.stem import PorterStemmer\n",
    "\n",
    "ps=PorterStemmer()"
   ]
  },
  {
   "cell_type": "code",
   "execution_count": 82,
   "id": "8944972b-1d39-4442-8dc3-6436782ba10e",
   "metadata": {},
   "outputs": [],
   "source": [
    "train_set['title']=train_set['title'].apply(lambda x:\" \".join(ps.stem(x) for x in x.split()))\n",
    "train_set['text']=train_set['text'].apply(lambda x:\" \".join(ps.stem(x) for x in x.split()))\n",
    "train_set['source']=train_set['source'].apply(lambda x:\" \".join(ps.stem(x) for x in x.split()))\n",
    "train_set['author']=train_set['author'].apply(lambda x:\" \".join(ps.stem(x) for x in x.split()))\n",
    "train_set['category']=train_set['author'].apply(lambda x:\" \".join(ps.stem(x) for x in  x.split()))                                           "
   ]
  },
  {
   "cell_type": "code",
   "execution_count": 83,
   "id": "e9e4de45-ec69-4fd1-bc0a-f6a9b22570d4",
   "metadata": {},
   "outputs": [
    {
     "data": {
      "text/html": [
       "<div>\n",
       "<style scoped>\n",
       "    .dataframe tbody tr th:only-of-type {\n",
       "        vertical-align: middle;\n",
       "    }\n",
       "\n",
       "    .dataframe tbody tr th {\n",
       "        vertical-align: top;\n",
       "    }\n",
       "\n",
       "    .dataframe thead th {\n",
       "        text-align: right;\n",
       "    }\n",
       "</style>\n",
       "<table border=\"1\" class=\"dataframe\">\n",
       "  <thead>\n",
       "    <tr style=\"text-align: right;\">\n",
       "      <th></th>\n",
       "      <th>title</th>\n",
       "      <th>text</th>\n",
       "      <th>date</th>\n",
       "      <th>source</th>\n",
       "      <th>author</th>\n",
       "      <th>category</th>\n",
       "      <th>label</th>\n",
       "    </tr>\n",
       "  </thead>\n",
       "  <tbody>\n",
       "    <tr>\n",
       "      <th>5894</th>\n",
       "      <td>age import scientist question onto activ</td>\n",
       "      <td>imag morn whether thought seven offic kitchen ...</td>\n",
       "      <td>2022-05-30</td>\n",
       "      <td>ny time</td>\n",
       "      <td>kimberli martinez</td>\n",
       "      <td>kimberli martinez</td>\n",
       "      <td>real</td>\n",
       "    </tr>\n",
       "    <tr>\n",
       "      <th>3728</th>\n",
       "      <td>trial candid travel pretti agreement attack me...</td>\n",
       "      <td>recent item success plant dark howev howev pai...</td>\n",
       "      <td>2024-10-20</td>\n",
       "      <td>bbc</td>\n",
       "      <td>mr daniel bailey dd</td>\n",
       "      <td>mr daniel bailey dd</td>\n",
       "      <td>real</td>\n",
       "    </tr>\n",
       "    <tr>\n",
       "      <th>8958</th>\n",
       "      <td>anim paint interest societi air east total</td>\n",
       "      <td>religi point hour mr cover case sourc season p...</td>\n",
       "      <td>2024-08-25</td>\n",
       "      <td>ny time</td>\n",
       "      <td>kimberli wagner</td>\n",
       "      <td>kimberli wagner</td>\n",
       "      <td>fake</td>\n",
       "    </tr>\n",
       "    <tr>\n",
       "      <th>7671</th>\n",
       "      <td>improv surfac face today fact</td>\n",
       "      <td>road listen add question main head worker gene...</td>\n",
       "      <td>2023-10-07</td>\n",
       "      <td>cnn</td>\n",
       "      <td>charlen harrington</td>\n",
       "      <td>charlen harrington</td>\n",
       "      <td>fake</td>\n",
       "    </tr>\n",
       "    <tr>\n",
       "      <th>5999</th>\n",
       "      <td>famili pressur common behavior</td>\n",
       "      <td>low indic educ support brother suffer owner sp...</td>\n",
       "      <td>2025-03-17</td>\n",
       "      <td>fox news</td>\n",
       "      <td>robert gardner</td>\n",
       "      <td>robert gardner</td>\n",
       "      <td>real</td>\n",
       "    </tr>\n",
       "    <tr>\n",
       "      <th>5751</th>\n",
       "      <td>agent degre pass feel address</td>\n",
       "      <td>almost without troubl resourc memori senior re...</td>\n",
       "      <td>2024-03-09</td>\n",
       "      <td>reuter</td>\n",
       "      <td>dawn stewart</td>\n",
       "      <td>dawn stewart</td>\n",
       "      <td>fake</td>\n",
       "    </tr>\n",
       "    <tr>\n",
       "      <th>1688</th>\n",
       "      <td>spend record particip assum fund real</td>\n",
       "      <td>sens phone chang low name use appear senior re...</td>\n",
       "      <td>2023-04-02</td>\n",
       "      <td>guardian</td>\n",
       "      <td>daniel mitchel</td>\n",
       "      <td>daniel mitchel</td>\n",
       "      <td>real</td>\n",
       "    </tr>\n",
       "    <tr>\n",
       "      <th>6836</th>\n",
       "      <td>mayb caus center sit cut argu</td>\n",
       "      <td>profession boy blood fast treat east method si...</td>\n",
       "      <td>2025-04-18</td>\n",
       "      <td>ny time</td>\n",
       "      <td>samuel gate</td>\n",
       "      <td>samuel gate</td>\n",
       "      <td>fake</td>\n",
       "    </tr>\n",
       "    <tr>\n",
       "      <th>6536</th>\n",
       "      <td>mayb result charact valu</td>\n",
       "      <td>choic lay sometim articl team newspap rate aro...</td>\n",
       "      <td>2024-09-03</td>\n",
       "      <td>cnn</td>\n",
       "      <td>frank baraja</td>\n",
       "      <td>frank baraja</td>\n",
       "      <td>fake</td>\n",
       "    </tr>\n",
       "    <tr>\n",
       "      <th>4842</th>\n",
       "      <td>eight though bag claim issu</td>\n",
       "      <td>social sister ball pretti thu manag recent sub...</td>\n",
       "      <td>2023-05-13</td>\n",
       "      <td>ny time</td>\n",
       "      <td>kristen mercado</td>\n",
       "      <td>kristen mercado</td>\n",
       "      <td>fake</td>\n",
       "    </tr>\n",
       "    <tr>\n",
       "      <th>15844</th>\n",
       "      <td>hot allow economi wall fast case</td>\n",
       "      <td>shake repres listen camera student event field...</td>\n",
       "      <td>2022-08-29</td>\n",
       "      <td>daili news</td>\n",
       "      <td>dustin hamilton</td>\n",
       "      <td>dustin hamilton</td>\n",
       "      <td>real</td>\n",
       "    </tr>\n",
       "    <tr>\n",
       "      <th>196</th>\n",
       "      <td>second point increas</td>\n",
       "      <td>sport door want check instead mean yet still f...</td>\n",
       "      <td>2024-03-27</td>\n",
       "      <td>cnn</td>\n",
       "      <td>david saunder</td>\n",
       "      <td>david saunder</td>\n",
       "      <td>fake</td>\n",
       "    </tr>\n",
       "    <tr>\n",
       "      <th>518</th>\n",
       "      <td>light babi confer</td>\n",
       "      <td>better guess across posit line remain quickli ...</td>\n",
       "      <td>2025-04-12</td>\n",
       "      <td>reuter</td>\n",
       "      <td>kathleen baker</td>\n",
       "      <td>kathleen baker</td>\n",
       "      <td>fake</td>\n",
       "    </tr>\n",
       "    <tr>\n",
       "      <th>10581</th>\n",
       "      <td>three best end mean</td>\n",
       "      <td>evid lot reach dinner attent phone result meet...</td>\n",
       "      <td>2023-05-25</td>\n",
       "      <td>cnn</td>\n",
       "      <td>michael washington</td>\n",
       "      <td>michael washington</td>\n",
       "      <td>fake</td>\n",
       "    </tr>\n",
       "    <tr>\n",
       "      <th>13320</th>\n",
       "      <td>notic term major play</td>\n",
       "      <td>better woman end confer month realiti know wor...</td>\n",
       "      <td>2023-01-21</td>\n",
       "      <td>cnn</td>\n",
       "      <td>heather gonzal</td>\n",
       "      <td>heather gonzal</td>\n",
       "      <td>fake</td>\n",
       "    </tr>\n",
       "    <tr>\n",
       "      <th>10790</th>\n",
       "      <td>respons repres hard provid name matter ball</td>\n",
       "      <td>around role institut capit environment discuss...</td>\n",
       "      <td>2022-10-15</td>\n",
       "      <td>cnn</td>\n",
       "      <td>melani odonnel</td>\n",
       "      <td>melani odonnel</td>\n",
       "      <td>real</td>\n",
       "    </tr>\n",
       "    <tr>\n",
       "      <th>16939</th>\n",
       "      <td>practic environment manag hold close</td>\n",
       "      <td>section drop pressur gener attorney consum saf...</td>\n",
       "      <td>2025-03-28</td>\n",
       "      <td>cnn</td>\n",
       "      <td>sarah william</td>\n",
       "      <td>sarah william</td>\n",
       "      <td>fake</td>\n",
       "    </tr>\n",
       "    <tr>\n",
       "      <th>841</th>\n",
       "      <td>anyon thu black coupl rate</td>\n",
       "      <td>friend sound read medic forward discuss polici...</td>\n",
       "      <td>2023-08-23</td>\n",
       "      <td>ny time</td>\n",
       "      <td>ian wagner</td>\n",
       "      <td>ian wagner</td>\n",
       "      <td>fake</td>\n",
       "    </tr>\n",
       "    <tr>\n",
       "      <th>9507</th>\n",
       "      <td>fli low half common like affect</td>\n",
       "      <td>anyth market address rise south member send ma...</td>\n",
       "      <td>2024-11-08</td>\n",
       "      <td>cnn</td>\n",
       "      <td>laura fitzgerald</td>\n",
       "      <td>laura fitzgerald</td>\n",
       "      <td>real</td>\n",
       "    </tr>\n",
       "    <tr>\n",
       "      <th>10482</th>\n",
       "      <td>fill loss view educ black account</td>\n",
       "      <td>edg everyon young signific bad manag owner pre...</td>\n",
       "      <td>2025-03-01</td>\n",
       "      <td>global time</td>\n",
       "      <td>matthew morri</td>\n",
       "      <td>matthew morri</td>\n",
       "      <td>real</td>\n",
       "    </tr>\n",
       "  </tbody>\n",
       "</table>\n",
       "</div>"
      ],
      "text/plain": [
       "                                                   title  \\\n",
       "5894            age import scientist question onto activ   \n",
       "3728   trial candid travel pretti agreement attack me...   \n",
       "8958          anim paint interest societi air east total   \n",
       "7671                       improv surfac face today fact   \n",
       "5999                      famili pressur common behavior   \n",
       "5751                       agent degre pass feel address   \n",
       "1688               spend record particip assum fund real   \n",
       "6836                       mayb caus center sit cut argu   \n",
       "6536                            mayb result charact valu   \n",
       "4842                         eight though bag claim issu   \n",
       "15844                   hot allow economi wall fast case   \n",
       "196                                 second point increas   \n",
       "518                                    light babi confer   \n",
       "10581                                three best end mean   \n",
       "13320                              notic term major play   \n",
       "10790        respons repres hard provid name matter ball   \n",
       "16939               practic environment manag hold close   \n",
       "841                           anyon thu black coupl rate   \n",
       "9507                     fli low half common like affect   \n",
       "10482                  fill loss view educ black account   \n",
       "\n",
       "                                                    text        date  \\\n",
       "5894   imag morn whether thought seven offic kitchen ...  2022-05-30   \n",
       "3728   recent item success plant dark howev howev pai...  2024-10-20   \n",
       "8958   religi point hour mr cover case sourc season p...  2024-08-25   \n",
       "7671   road listen add question main head worker gene...  2023-10-07   \n",
       "5999   low indic educ support brother suffer owner sp...  2025-03-17   \n",
       "5751   almost without troubl resourc memori senior re...  2024-03-09   \n",
       "1688   sens phone chang low name use appear senior re...  2023-04-02   \n",
       "6836   profession boy blood fast treat east method si...  2025-04-18   \n",
       "6536   choic lay sometim articl team newspap rate aro...  2024-09-03   \n",
       "4842   social sister ball pretti thu manag recent sub...  2023-05-13   \n",
       "15844  shake repres listen camera student event field...  2022-08-29   \n",
       "196    sport door want check instead mean yet still f...  2024-03-27   \n",
       "518    better guess across posit line remain quickli ...  2025-04-12   \n",
       "10581  evid lot reach dinner attent phone result meet...  2023-05-25   \n",
       "13320  better woman end confer month realiti know wor...  2023-01-21   \n",
       "10790  around role institut capit environment discuss...  2022-10-15   \n",
       "16939  section drop pressur gener attorney consum saf...  2025-03-28   \n",
       "841    friend sound read medic forward discuss polici...  2023-08-23   \n",
       "9507   anyth market address rise south member send ma...  2024-11-08   \n",
       "10482  edg everyon young signific bad manag owner pre...  2025-03-01   \n",
       "\n",
       "            source               author             category label  \n",
       "5894       ny time    kimberli martinez    kimberli martinez  real  \n",
       "3728           bbc  mr daniel bailey dd  mr daniel bailey dd  real  \n",
       "8958       ny time      kimberli wagner      kimberli wagner  fake  \n",
       "7671           cnn   charlen harrington   charlen harrington  fake  \n",
       "5999      fox news       robert gardner       robert gardner  real  \n",
       "5751        reuter         dawn stewart         dawn stewart  fake  \n",
       "1688      guardian       daniel mitchel       daniel mitchel  real  \n",
       "6836       ny time          samuel gate          samuel gate  fake  \n",
       "6536           cnn         frank baraja         frank baraja  fake  \n",
       "4842       ny time      kristen mercado      kristen mercado  fake  \n",
       "15844   daili news      dustin hamilton      dustin hamilton  real  \n",
       "196            cnn        david saunder        david saunder  fake  \n",
       "518         reuter       kathleen baker       kathleen baker  fake  \n",
       "10581          cnn   michael washington   michael washington  fake  \n",
       "13320          cnn       heather gonzal       heather gonzal  fake  \n",
       "10790          cnn       melani odonnel       melani odonnel  real  \n",
       "16939          cnn        sarah william        sarah william  fake  \n",
       "841        ny time           ian wagner           ian wagner  fake  \n",
       "9507           cnn     laura fitzgerald     laura fitzgerald  real  \n",
       "10482  global time        matthew morri        matthew morri  real  "
      ]
     },
     "execution_count": 83,
     "metadata": {},
     "output_type": "execute_result"
    }
   ],
   "source": [
    "train_set.head(20)"
   ]
  },
  {
   "cell_type": "markdown",
   "id": "b1b4c799-7de9-4522-896b-ac7e0eb9e79a",
   "metadata": {},
   "source": [
    "##  Building the  vocabulary"
   ]
  },
  {
   "cell_type": "code",
   "execution_count": 84,
   "id": "4b0609f8-af2d-4c87-8118-deddb423a1ea",
   "metadata": {},
   "outputs": [],
   "source": [
    "from collections import Counter\n",
    "vocab=Counter()"
   ]
  },
  {
   "cell_type": "code",
   "execution_count": 85,
   "id": "81af1b45-250b-40e4-aee8-62deadb04fce",
   "metadata": {},
   "outputs": [
    {
     "data": {
      "text/plain": [
       "Counter()"
      ]
     },
     "execution_count": 85,
     "metadata": {},
     "output_type": "execute_result"
    }
   ],
   "source": [
    "vocab"
   ]
  },
  {
   "cell_type": "code",
   "execution_count": 86,
   "id": "5452868f-bfd4-4f70-bc2f-5aef64678dd3",
   "metadata": {},
   "outputs": [],
   "source": [
    "train_set_columns_list=['title','text','source','author','category']\n",
    "\n",
    "for i  in train_set_columns_list:\n",
    "    vocab.update(train_set[i])"
   ]
  },
  {
   "cell_type": "code",
   "execution_count": 87,
   "id": "82637f8b-a00c-41e4-80b5-43bdeb37fd93",
   "metadata": {},
   "outputs": [
    {
     "data": {
      "text/plain": [
       "45901"
      ]
     },
     "execution_count": 87,
     "metadata": {},
     "output_type": "execute_result"
    }
   ],
   "source": [
    "len(vocab)"
   ]
  },
  {
   "cell_type": "code",
   "execution_count": 88,
   "id": "bd242192-42b8-4b8c-b644-1735c523b0dc",
   "metadata": {},
   "outputs": [],
   "source": [
    "#token = [key for key in vocab if vocab[key]>8]\n",
    "#token"
   ]
  },
  {
   "cell_type": "code",
   "execution_count": 89,
   "id": "3b3681bb-3dae-4aa1-8971-280c6c8ca2be",
   "metadata": {},
   "outputs": [],
   "source": [
    "#len(token)"
   ]
  },
  {
   "cell_type": "code",
   "execution_count": 90,
   "id": "fec7ee01-b52c-4b9e-812b-6f3686305d88",
   "metadata": {},
   "outputs": [],
   "source": [
    "def save_vocabulary(lines, filename):\n",
    "    data=\"\\n\".join(lines)\n",
    "    file=open(filename,'w', encoding=\"utf-8\")\n",
    "    file.write(data)\n",
    "    file.close()\n",
    "\n",
    "save_vocabulary(vocab, 'vocabulary.txt')"
   ]
  },
  {
   "cell_type": "code",
   "execution_count": 91,
   "id": "789a678b-833b-4b53-ac9d-024c9b51c4d1",
   "metadata": {},
   "outputs": [],
   "source": [
    "## Seperate the dataset  independent variables and target variable"
   ]
  },
  {
   "cell_type": "code",
   "execution_count": 92,
   "id": "a5d975d2-d5a9-476b-8e54-693c9963c396",
   "metadata": {},
   "outputs": [],
   "source": [
    "x=train_set.drop('label', axis=1)\n",
    "y=train_set['label']"
   ]
  },
  {
   "cell_type": "code",
   "execution_count": 93,
   "id": "355fe502-edc5-4fae-84b4-4cbfd4078a6d",
   "metadata": {},
   "outputs": [
    {
     "data": {
      "text/html": [
       "<div>\n",
       "<style scoped>\n",
       "    .dataframe tbody tr th:only-of-type {\n",
       "        vertical-align: middle;\n",
       "    }\n",
       "\n",
       "    .dataframe tbody tr th {\n",
       "        vertical-align: top;\n",
       "    }\n",
       "\n",
       "    .dataframe thead th {\n",
       "        text-align: right;\n",
       "    }\n",
       "</style>\n",
       "<table border=\"1\" class=\"dataframe\">\n",
       "  <thead>\n",
       "    <tr style=\"text-align: right;\">\n",
       "      <th></th>\n",
       "      <th>title</th>\n",
       "      <th>text</th>\n",
       "      <th>date</th>\n",
       "      <th>source</th>\n",
       "      <th>author</th>\n",
       "      <th>category</th>\n",
       "    </tr>\n",
       "  </thead>\n",
       "  <tbody>\n",
       "    <tr>\n",
       "      <th>5894</th>\n",
       "      <td>age import scientist question onto activ</td>\n",
       "      <td>imag morn whether thought seven offic kitchen ...</td>\n",
       "      <td>2022-05-30</td>\n",
       "      <td>ny time</td>\n",
       "      <td>kimberli martinez</td>\n",
       "      <td>kimberli martinez</td>\n",
       "    </tr>\n",
       "    <tr>\n",
       "      <th>3728</th>\n",
       "      <td>trial candid travel pretti agreement attack me...</td>\n",
       "      <td>recent item success plant dark howev howev pai...</td>\n",
       "      <td>2024-10-20</td>\n",
       "      <td>bbc</td>\n",
       "      <td>mr daniel bailey dd</td>\n",
       "      <td>mr daniel bailey dd</td>\n",
       "    </tr>\n",
       "    <tr>\n",
       "      <th>8958</th>\n",
       "      <td>anim paint interest societi air east total</td>\n",
       "      <td>religi point hour mr cover case sourc season p...</td>\n",
       "      <td>2024-08-25</td>\n",
       "      <td>ny time</td>\n",
       "      <td>kimberli wagner</td>\n",
       "      <td>kimberli wagner</td>\n",
       "    </tr>\n",
       "    <tr>\n",
       "      <th>7671</th>\n",
       "      <td>improv surfac face today fact</td>\n",
       "      <td>road listen add question main head worker gene...</td>\n",
       "      <td>2023-10-07</td>\n",
       "      <td>cnn</td>\n",
       "      <td>charlen harrington</td>\n",
       "      <td>charlen harrington</td>\n",
       "    </tr>\n",
       "    <tr>\n",
       "      <th>5999</th>\n",
       "      <td>famili pressur common behavior</td>\n",
       "      <td>low indic educ support brother suffer owner sp...</td>\n",
       "      <td>2025-03-17</td>\n",
       "      <td>fox news</td>\n",
       "      <td>robert gardner</td>\n",
       "      <td>robert gardner</td>\n",
       "    </tr>\n",
       "  </tbody>\n",
       "</table>\n",
       "</div>"
      ],
      "text/plain": [
       "                                                  title  \\\n",
       "5894           age import scientist question onto activ   \n",
       "3728  trial candid travel pretti agreement attack me...   \n",
       "8958         anim paint interest societi air east total   \n",
       "7671                      improv surfac face today fact   \n",
       "5999                     famili pressur common behavior   \n",
       "\n",
       "                                                   text        date    source  \\\n",
       "5894  imag morn whether thought seven offic kitchen ...  2022-05-30   ny time   \n",
       "3728  recent item success plant dark howev howev pai...  2024-10-20       bbc   \n",
       "8958  religi point hour mr cover case sourc season p...  2024-08-25   ny time   \n",
       "7671  road listen add question main head worker gene...  2023-10-07       cnn   \n",
       "5999  low indic educ support brother suffer owner sp...  2025-03-17  fox news   \n",
       "\n",
       "                   author             category  \n",
       "5894    kimberli martinez    kimberli martinez  \n",
       "3728  mr daniel bailey dd  mr daniel bailey dd  \n",
       "8958      kimberli wagner      kimberli wagner  \n",
       "7671   charlen harrington   charlen harrington  \n",
       "5999       robert gardner       robert gardner  "
      ]
     },
     "execution_count": 93,
     "metadata": {},
     "output_type": "execute_result"
    }
   ],
   "source": [
    "x.head()"
   ]
  },
  {
   "cell_type": "code",
   "execution_count": 94,
   "id": "afea9649-9a9e-4438-a2ef-5765ec4b7378",
   "metadata": {},
   "outputs": [
    {
     "data": {
      "text/plain": [
       "5894    real\n",
       "3728    real\n",
       "8958    fake\n",
       "7671    fake\n",
       "5999    real\n",
       "Name: label, dtype: object"
      ]
     },
     "execution_count": 94,
     "metadata": {},
     "output_type": "execute_result"
    }
   ],
   "source": [
    "y.head()"
   ]
  },
  {
   "cell_type": "code",
   "execution_count": 95,
   "id": "d8bac283-2cda-4539-9417-868cf66582cb",
   "metadata": {},
   "outputs": [],
   "source": [
    "## split the independent features into X_train,X_test,y_train,y_test"
   ]
  },
  {
   "cell_type": "code",
   "execution_count": 96,
   "id": "e6ce1658-97f6-48cb-b371-cc67d6598c86",
   "metadata": {},
   "outputs": [],
   "source": [
    "from sklearn.model_selection import train_test_split\n",
    "\n",
    "X_train,X_test,y_train,y_test=train_test_split(x,y,test_size=0.2, random_state=42)"
   ]
  },
  {
   "cell_type": "code",
   "execution_count": 97,
   "id": "4ecf8917-244b-4d11-aa6b-d5b3e948cc28",
   "metadata": {},
   "outputs": [
    {
     "data": {
      "text/plain": [
       "(12800, 6)"
      ]
     },
     "execution_count": 97,
     "metadata": {},
     "output_type": "execute_result"
    }
   ],
   "source": [
    "X_train.shape"
   ]
  },
  {
   "cell_type": "code",
   "execution_count": 98,
   "id": "1692d6ff-a139-4ec7-bcd3-8a94d42cac5e",
   "metadata": {},
   "outputs": [
    {
     "data": {
      "text/plain": [
       "(12800,)"
      ]
     },
     "execution_count": 98,
     "metadata": {},
     "output_type": "execute_result"
    }
   ],
   "source": [
    "y_train.shape"
   ]
  },
  {
   "cell_type": "code",
   "execution_count": 99,
   "id": "d2228ca9-c6a7-4f71-8e71-56edcc6a0442",
   "metadata": {},
   "outputs": [
    {
     "data": {
      "text/plain": [
       "(3200, 6)"
      ]
     },
     "execution_count": 99,
     "metadata": {},
     "output_type": "execute_result"
    }
   ],
   "source": [
    "X_test.shape"
   ]
  },
  {
   "cell_type": "code",
   "execution_count": 100,
   "id": "d3a5b485-a90a-45f6-8e5c-f15a9905cc9c",
   "metadata": {},
   "outputs": [
    {
     "data": {
      "text/plain": [
       "(3200,)"
      ]
     },
     "execution_count": 100,
     "metadata": {},
     "output_type": "execute_result"
    }
   ],
   "source": [
    "y_test.shape"
   ]
  },
  {
   "cell_type": "code",
   "execution_count": 101,
   "id": "68d1d29c-62f5-4fd3-b20e-5f90dc85e75e",
   "metadata": {},
   "outputs": [
    {
     "data": {
      "text/html": [
       "<div>\n",
       "<style scoped>\n",
       "    .dataframe tbody tr th:only-of-type {\n",
       "        vertical-align: middle;\n",
       "    }\n",
       "\n",
       "    .dataframe tbody tr th {\n",
       "        vertical-align: top;\n",
       "    }\n",
       "\n",
       "    .dataframe thead th {\n",
       "        text-align: right;\n",
       "    }\n",
       "</style>\n",
       "<table border=\"1\" class=\"dataframe\">\n",
       "  <thead>\n",
       "    <tr style=\"text-align: right;\">\n",
       "      <th></th>\n",
       "      <th>title</th>\n",
       "      <th>text</th>\n",
       "      <th>date</th>\n",
       "      <th>source</th>\n",
       "      <th>author</th>\n",
       "      <th>category</th>\n",
       "    </tr>\n",
       "  </thead>\n",
       "  <tbody>\n",
       "    <tr>\n",
       "      <th>252</th>\n",
       "      <td>hope polic budget station anyon</td>\n",
       "      <td>billion simpli know social ok opportun product...</td>\n",
       "      <td>2024-08-15</td>\n",
       "      <td>ny time</td>\n",
       "      <td>ashley miller</td>\n",
       "      <td>ashley miller</td>\n",
       "    </tr>\n",
       "    <tr>\n",
       "      <th>18632</th>\n",
       "      <td>nearli prove none especi</td>\n",
       "      <td>star recogn fill secur movement republican goo...</td>\n",
       "      <td>2024-11-13</td>\n",
       "      <td>ny time</td>\n",
       "      <td>lori hickman</td>\n",
       "      <td>lori hickman</td>\n",
       "    </tr>\n",
       "    <tr>\n",
       "      <th>19138</th>\n",
       "      <td>finish charg world group without</td>\n",
       "      <td>want film tend includ dog exist long bad liste...</td>\n",
       "      <td>2022-07-23</td>\n",
       "      <td>cnn</td>\n",
       "      <td>dana jordan</td>\n",
       "      <td>dana jordan</td>\n",
       "    </tr>\n",
       "    <tr>\n",
       "      <th>1673</th>\n",
       "      <td>develop defens effect sort attorney requir also</td>\n",
       "      <td>money avail abil size arriv power yet elect ow...</td>\n",
       "      <td>2024-02-06</td>\n",
       "      <td>bbc</td>\n",
       "      <td>erika mcdonald</td>\n",
       "      <td>erika mcdonald</td>\n",
       "    </tr>\n",
       "    <tr>\n",
       "      <th>17688</th>\n",
       "      <td>group although</td>\n",
       "      <td>open fire hard away cut societi citi troubl ba...</td>\n",
       "      <td>2024-07-02</td>\n",
       "      <td>ny time</td>\n",
       "      <td>nicol henri</td>\n",
       "      <td>nicol henri</td>\n",
       "    </tr>\n",
       "  </tbody>\n",
       "</table>\n",
       "</div>"
      ],
      "text/plain": [
       "                                                 title  \\\n",
       "252                    hope polic budget station anyon   \n",
       "18632                         nearli prove none especi   \n",
       "19138                 finish charg world group without   \n",
       "1673   develop defens effect sort attorney requir also   \n",
       "17688                                   group although   \n",
       "\n",
       "                                                    text        date   source  \\\n",
       "252    billion simpli know social ok opportun product...  2024-08-15  ny time   \n",
       "18632  star recogn fill secur movement republican goo...  2024-11-13  ny time   \n",
       "19138  want film tend includ dog exist long bad liste...  2022-07-23      cnn   \n",
       "1673   money avail abil size arriv power yet elect ow...  2024-02-06      bbc   \n",
       "17688  open fire hard away cut societi citi troubl ba...  2024-07-02  ny time   \n",
       "\n",
       "               author        category  \n",
       "252     ashley miller   ashley miller  \n",
       "18632    lori hickman    lori hickman  \n",
       "19138     dana jordan     dana jordan  \n",
       "1673   erika mcdonald  erika mcdonald  \n",
       "17688     nicol henri     nicol henri  "
      ]
     },
     "execution_count": 101,
     "metadata": {},
     "output_type": "execute_result"
    }
   ],
   "source": [
    "X_train.head()"
   ]
  },
  {
   "cell_type": "code",
   "execution_count": 102,
   "id": "e3202b29-a4c3-47f0-8c34-826a6ee7131a",
   "metadata": {},
   "outputs": [
    {
     "data": {
      "text/plain": [
       "252      fake\n",
       "18632    fake\n",
       "19138    fake\n",
       "1673     fake\n",
       "17688    fake\n",
       "Name: label, dtype: object"
      ]
     },
     "execution_count": 102,
     "metadata": {},
     "output_type": "execute_result"
    }
   ],
   "source": [
    "y_train.head()"
   ]
  },
  {
   "cell_type": "code",
   "execution_count": 103,
   "id": "43a328d1-fd30-412c-8693-33fbfcacce7d",
   "metadata": {},
   "outputs": [
    {
     "data": {
      "text/plain": [
       "(12800, 6)"
      ]
     },
     "execution_count": 103,
     "metadata": {},
     "output_type": "execute_result"
    }
   ],
   "source": [
    "X_train.shape"
   ]
  },
  {
   "cell_type": "code",
   "execution_count": 104,
   "id": "da1d921e-9583-444e-98b5-e2b07c85dc74",
   "metadata": {},
   "outputs": [
    {
     "data": {
      "text/plain": [
       "(12800,)"
      ]
     },
     "execution_count": 104,
     "metadata": {},
     "output_type": "execute_result"
    }
   ],
   "source": [
    "y_train.shape"
   ]
  },
  {
   "cell_type": "code",
   "execution_count": 105,
   "id": "5c15ceea-d1f2-461d-a3ac-f397bbcebc29",
   "metadata": {},
   "outputs": [],
   "source": [
    "## convert the text into the  numerical values"
   ]
  },
  {
   "cell_type": "code",
   "execution_count": 106,
   "id": "cc7e0414-d9e1-4bd1-b0c3-b1d4da1b1124",
   "metadata": {},
   "outputs": [],
   "source": [
    "import numpy as np\n",
    "\n",
    "def vectorizer(ds, vocabulary):\n",
    "    vectorizer_list = []\n",
    "    vocab_set = set(vocabulary)  # Use a set for faster lookup\n",
    "    \n",
    "    for sentence in ds:\n",
    "        sentence_list = np.zeros(len(vocabulary), dtype=np.float32)  # Use np.float16 to reduce memory usage\n",
    "        sentence_words = set(sentence.split())  # Split and convert sentence to a set to speed up membership checking\n",
    "        \n",
    "        for i, word in enumerate(vocabulary):\n",
    "            if word in sentence_words:  # Check if word exists in the sentence\n",
    "                sentence_list[i] = 1\n",
    "                \n",
    "        vectorizer_list.append(sentence_list)\n",
    "    \n",
    "    # Convert the list to a numpy array only once\n",
    "    vectorizer_list_new = np.asarray(vectorizer_list, dtype=np.float32)\n",
    "    \n",
    "    return vectorizer_list_new"
   ]
  },
  {
   "cell_type": "code",
   "execution_count": 107,
   "id": "2c362e9b-3a1d-49ae-b69c-88c1f02ff4a6",
   "metadata": {},
   "outputs": [
    {
     "data": {
      "text/plain": [
       "(12800, 6)"
      ]
     },
     "execution_count": 107,
     "metadata": {},
     "output_type": "execute_result"
    }
   ],
   "source": [
    "# Example: Combine columns into a single sentence per row\n",
    "X_train = pd.DataFrame(X_train)\n",
    "X_train.shape"
   ]
  },
  {
   "cell_type": "code",
   "execution_count": 108,
   "id": "aca56101-2165-436f-80ab-c083c770fb16",
   "metadata": {},
   "outputs": [
    {
     "data": {
      "text/plain": [
       "12800"
      ]
     },
     "execution_count": 108,
     "metadata": {},
     "output_type": "execute_result"
    }
   ],
   "source": [
    "ds = X_train.astype(str).agg(' '.join, axis=1).tolist() \n",
    "len(ds)"
   ]
  },
  {
   "cell_type": "code",
   "execution_count": 109,
   "id": "c89e9004-1e83-4eea-b563-e08a7cebce3e",
   "metadata": {},
   "outputs": [
    {
     "data": {
      "text/plain": [
       "array([[0., 0., 0., ..., 0., 0., 0.],\n",
       "       [0., 0., 0., ..., 0., 0., 0.],\n",
       "       [0., 0., 0., ..., 0., 0., 0.],\n",
       "       ...,\n",
       "       [0., 0., 0., ..., 0., 0., 0.],\n",
       "       [0., 0., 0., ..., 0., 0., 0.],\n",
       "       [0., 0., 0., ..., 0., 0., 0.]], dtype=float32)"
      ]
     },
     "execution_count": 109,
     "metadata": {},
     "output_type": "execute_result"
    }
   ],
   "source": [
    "vectorized_x_train=vectorizer(ds,vocab)\n",
    "vectorized_x_train"
   ]
  },
  {
   "cell_type": "code",
   "execution_count": 110,
   "id": "768161d5-8df6-4ca5-918f-38b236394f5a",
   "metadata": {},
   "outputs": [
    {
     "data": {
      "text/plain": [
       "(12800, 45901)"
      ]
     },
     "execution_count": 110,
     "metadata": {},
     "output_type": "execute_result"
    }
   ],
   "source": [
    "vectorized_x_train.shape"
   ]
  },
  {
   "cell_type": "code",
   "execution_count": 111,
   "id": "f85defbf-1ad9-4a3a-97b2-a43f4dd2ff48",
   "metadata": {},
   "outputs": [
    {
     "data": {
      "text/plain": [
       "3200"
      ]
     },
     "execution_count": 111,
     "metadata": {},
     "output_type": "execute_result"
    }
   ],
   "source": [
    "ds = X_test.astype(str).agg(' '.join, axis=1).tolist() \n",
    "len(ds)"
   ]
  },
  {
   "cell_type": "code",
   "execution_count": 112,
   "id": "096ebfbc-9f6e-4da9-a14f-a51fb90607c4",
   "metadata": {},
   "outputs": [
    {
     "data": {
      "text/plain": [
       "array([[0., 0., 0., ..., 0., 0., 0.],\n",
       "       [0., 0., 0., ..., 0., 0., 0.],\n",
       "       [0., 0., 0., ..., 0., 0., 0.],\n",
       "       ...,\n",
       "       [0., 0., 0., ..., 0., 0., 0.],\n",
       "       [0., 0., 0., ..., 0., 0., 0.],\n",
       "       [0., 0., 0., ..., 0., 0., 0.]], dtype=float32)"
      ]
     },
     "execution_count": 112,
     "metadata": {},
     "output_type": "execute_result"
    }
   ],
   "source": [
    "vectorized_x_test=vectorizer(ds,vocab)\n",
    "vectorized_x_test"
   ]
  },
  {
   "cell_type": "code",
   "execution_count": 113,
   "id": "23c35b53-1180-4e7c-8271-e8d33b6901ca",
   "metadata": {},
   "outputs": [
    {
     "data": {
      "text/plain": [
       "(3200, 45901)"
      ]
     },
     "execution_count": 113,
     "metadata": {},
     "output_type": "execute_result"
    }
   ],
   "source": [
    "vectorized_x_test.shape"
   ]
  },
  {
   "cell_type": "code",
   "execution_count": 114,
   "id": "574716f5-354e-4dc4-bf5c-cbd8f1750482",
   "metadata": {},
   "outputs": [],
   "source": [
    "## check the valu counts of y_train"
   ]
  },
  {
   "cell_type": "code",
   "execution_count": 115,
   "id": "efd1adb2-54b1-48c5-9b11-31a1d238c191",
   "metadata": {},
   "outputs": [
    {
     "data": {
      "text/plain": [
       "(12800,)"
      ]
     },
     "execution_count": 115,
     "metadata": {},
     "output_type": "execute_result"
    }
   ],
   "source": [
    "y_train.shape"
   ]
  },
  {
   "cell_type": "code",
   "execution_count": 116,
   "id": "9e9c2a9a-5034-44cc-bad5-fd80e9bff299",
   "metadata": {},
   "outputs": [
    {
     "data": {
      "text/plain": [
       "label\n",
       "fake    6447\n",
       "real    6353\n",
       "Name: count, dtype: int64"
      ]
     },
     "execution_count": 116,
     "metadata": {},
     "output_type": "execute_result"
    }
   ],
   "source": [
    "y_train.value_counts()"
   ]
  },
  {
   "cell_type": "code",
   "execution_count": 117,
   "id": "13c449a5-a9a7-4c94-a049-badeae0c0c6d",
   "metadata": {},
   "outputs": [
    {
     "name": "stderr",
     "output_type": "stream",
     "text": [
      "C:\\Users\\THIS PC\\AppData\\Local\\Temp\\ipykernel_34456\\2474439606.py:2: FutureWarning: Series.__getitem__ treating keys as positions is deprecated. In a future version, integer keys will always be treated as labels (consistent with DataFrame behavior). To access a value by position, use `ser.iloc[pos]`\n",
      "  plt.pie(np.array([y_train.value_counts()[0],y_train.value_counts()[1]]), labels=[\"Fake\",\"Real\"])\n",
      "C:\\Users\\THIS PC\\AppData\\Local\\Temp\\ipykernel_34456\\2474439606.py:2: FutureWarning: Series.__getitem__ treating keys as positions is deprecated. In a future version, integer keys will always be treated as labels (consistent with DataFrame behavior). To access a value by position, use `ser.iloc[pos]`\n",
      "  plt.pie(np.array([y_train.value_counts()[0],y_train.value_counts()[1]]), labels=[\"Fake\",\"Real\"])\n"
     ]
    },
    {
     "data": {
      "text/plain": [
       "([<matplotlib.patches.Wedge at 0x21fd13378c0>,\n",
       "  <matplotlib.patches.Wedge at 0x21fcbedcef0>],\n",
       " [Text(-0.012688840613844302, 1.0999268127124988, 'Fake'),\n",
       "  Text(0.012688840613844165, -1.0999268127124988, 'Real')])"
      ]
     },
     "execution_count": 117,
     "metadata": {},
     "output_type": "execute_result"
    },
    {
     "data": {
      "image/png": "[encoded data removed]",
      "text/plain": [
       "<Figure size 640x480 with 1 Axes>"
      ]
     },
     "metadata": {},
     "output_type": "display_data"
    }
   ],
   "source": [
    "import matplotlib.pyplot as plt\n",
    "plt.pie(np.array([y_train.value_counts()[0],y_train.value_counts()[1]]), labels=[\"Fake\",\"Real\"])"
   ]
  },
  {
   "cell_type": "code",
   "execution_count": 118,
   "id": "b5e898ab-1bb0-4882-aa59-64093a29e0e1",
   "metadata": {},
   "outputs": [],
   "source": [
    " ## Handle the imbalance dataset"
   ]
  },
  {
   "cell_type": "code",
   "execution_count": 119,
   "id": "8120704a-77ba-4eb6-900c-f39db57c20cc",
   "metadata": {},
   "outputs": [
    {
     "name": "stderr",
     "output_type": "stream",
     "text": [
      "C:\\Users\\THIS PC\\AppData\\Local\\Programs\\Python\\Python312\\Lib\\site-packages\\sklearn\\base.py:474: FutureWarning: `BaseEstimator._validate_data` is deprecated in 1.6 and will be removed in 1.7. Use `sklearn.utils.validation.validate_data` instead. This function becomes public and is part of the scikit-learn developer API.\n",
      "  warnings.warn(\n"
     ]
    },
    {
     "name": "stdout",
     "output_type": "stream",
     "text": [
      "(12894, 45901) (12894,)\n"
     ]
    }
   ],
   "source": [
    "from imblearn.over_sampling import SMOTE\n",
    "smote=SMOTE()\n",
    "vectorized_x_train_smote,y_train_smote=smote.fit_resample(vectorized_x_train,y_train)\n",
    "print(vectorized_x_train_smote.shape,y_train_smote.shape)"
   ]
  },
  {
   "cell_type": "code",
   "execution_count": 120,
   "id": "ff383848-8331-4504-8c01-30b6bd1a1794",
   "metadata": {},
   "outputs": [],
   "source": [
    "## convert the y_train_smote valuues into numerical values"
   ]
  },
  {
   "cell_type": "code",
   "execution_count": 121,
   "id": "0b0b6252-306e-4329-a6c6-00be7a33a744",
   "metadata": {},
   "outputs": [
    {
     "data": {
      "text/plain": [
       "array([0, 0, 0, ..., 1, 1, 1])"
      ]
     },
     "execution_count": 121,
     "metadata": {},
     "output_type": "execute_result"
    }
   ],
   "source": [
    "from sklearn.preprocessing import LabelEncoder\n",
    "label_ob=LabelEncoder()\n",
    "encoded_target_label=label_ob.fit_transform(y_train_smote)\n",
    "encoded_target_label"
   ]
  },
  {
   "cell_type": "markdown",
   "id": "7817b647-55b9-4eec-998a-a96c0a264cbf",
   "metadata": {},
   "source": [
    "## ANN (Artificial Neural Network)"
   ]
  },
  {
   "cell_type": "code",
   "execution_count": 171,
   "id": "6c479a07-7c0e-4344-93db-f4f701dab7ac",
   "metadata": {},
   "outputs": [],
   "source": [
    "import tensorflow as tf\n",
    "\n",
    "\n",
    "model=tf.keras.Sequential([\n",
    "    tf.keras.layers.Dense(16, input_shape=(45901,)),\n",
    "    tf.keras.layers.Dense(32, activation='relu'),\n",
    "    tf.keras.layers.Dense(64, activation='relu'),\n",
    "    tf.keras.layers.Dense(128, activation='sigmoid'),\n",
    "    tf.keras.layers.Dense(1, activation='sigmoid')\n",
    "\n",
    "])\n",
    "\n",
    "model.compile(\n",
    "    loss='binary_crossentropy',\n",
    "    optimizer=tf.keras.optimizers.Adam(learning_rate=0.001),\n",
    "    metrics=['accuracy']\n",
    ")"
   ]
  },
  {
   "cell_type": "code",
   "execution_count": 173,
   "id": "1fa82961-a306-4481-bc0f-e00fba5c9f25",
   "metadata": {},
   "outputs": [
    {
     "name": "stdout",
     "output_type": "stream",
     "text": [
      "Epoch 1/150\n",
      "\u001b[1m1290/1290\u001b[0m \u001b[32m━━━━━━━━━━━━━━━━━━━━\u001b[0m\u001b[37m\u001b[0m \u001b[1m11s\u001b[0m 8ms/step - accuracy: 0.7991 - loss: 0.4095\n",
      "Epoch 2/150\n",
      "\u001b[1m1290/1290\u001b[0m \u001b[32m━━━━━━━━━━━━━━━━━━━━\u001b[0m\u001b[37m\u001b[0m \u001b[1m10s\u001b[0m 8ms/step - accuracy: 0.8026 - loss: 0.4033\n",
      "Epoch 3/150\n",
      "\u001b[1m1290/1290\u001b[0m \u001b[32m━━━━━━━━━━━━━━━━━━━━\u001b[0m\u001b[37m\u001b[0m \u001b[1m11s\u001b[0m 8ms/step - accuracy: 0.8058 - loss: 0.3991\n",
      "Epoch 4/150\n",
      "\u001b[1m1290/1290\u001b[0m \u001b[32m━━━━━━━━━━━━━━━━━━━━\u001b[0m\u001b[37m\u001b[0m \u001b[1m11s\u001b[0m 9ms/step - accuracy: 0.8058 - loss: 0.4030\n",
      "Epoch 5/150\n",
      "\u001b[1m1290/1290\u001b[0m \u001b[32m━━━━━━━━━━━━━━━━━━━━\u001b[0m\u001b[37m\u001b[0m \u001b[1m11s\u001b[0m 8ms/step - accuracy: 0.8088 - loss: 0.3994\n",
      "Epoch 6/150\n",
      "\u001b[1m1290/1290\u001b[0m \u001b[32m━━━━━━━━━━━━━━━━━━━━\u001b[0m\u001b[37m\u001b[0m \u001b[1m10s\u001b[0m 8ms/step - accuracy: 0.8073 - loss: 0.3966\n",
      "Epoch 7/150\n",
      "\u001b[1m1290/1290\u001b[0m \u001b[32m━━━━━━━━━━━━━━━━━━━━\u001b[0m\u001b[37m\u001b[0m \u001b[1m11s\u001b[0m 8ms/step - accuracy: 0.8077 - loss: 0.3972\n",
      "Epoch 8/150\n",
      "\u001b[1m1290/1290\u001b[0m \u001b[32m━━━━━━━━━━━━━━━━━━━━\u001b[0m\u001b[37m\u001b[0m \u001b[1m14s\u001b[0m 11ms/step - accuracy: 0.8053 - loss: 0.3931\n",
      "Epoch 9/150\n",
      "\u001b[1m1290/1290\u001b[0m \u001b[32m━━━━━━━━━━━━━━━━━━━━\u001b[0m\u001b[37m\u001b[0m \u001b[1m10s\u001b[0m 8ms/step - accuracy: 0.8084 - loss: 0.3967\n",
      "Epoch 10/150\n",
      "\u001b[1m1290/1290\u001b[0m \u001b[32m━━━━━━━━━━━━━━━━━━━━\u001b[0m\u001b[37m\u001b[0m \u001b[1m11s\u001b[0m 8ms/step - accuracy: 0.8059 - loss: 0.3968\n",
      "Epoch 11/150\n",
      "\u001b[1m1290/1290\u001b[0m \u001b[32m━━━━━━━━━━━━━━━━━━━━\u001b[0m\u001b[37m\u001b[0m \u001b[1m10s\u001b[0m 8ms/step - accuracy: 0.8027 - loss: 0.4035\n",
      "Epoch 12/150\n",
      "\u001b[1m1290/1290\u001b[0m \u001b[32m━━━━━━━━━━━━━━━━━━━━\u001b[0m\u001b[37m\u001b[0m \u001b[1m13s\u001b[0m 10ms/step - accuracy: 0.8083 - loss: 0.3909\n",
      "Epoch 13/150\n",
      "\u001b[1m1290/1290\u001b[0m \u001b[32m━━━━━━━━━━━━━━━━━━━━\u001b[0m\u001b[37m\u001b[0m \u001b[1m11s\u001b[0m 8ms/step - accuracy: 0.8048 - loss: 0.4046\n",
      "Epoch 14/150\n",
      "\u001b[1m1290/1290\u001b[0m \u001b[32m━━━━━━━━━━━━━━━━━━━━\u001b[0m\u001b[37m\u001b[0m \u001b[1m10s\u001b[0m 8ms/step - accuracy: 0.8066 - loss: 0.3894\n",
      "Epoch 15/150\n",
      "\u001b[1m1290/1290\u001b[0m \u001b[32m━━━━━━━━━━━━━━━━━━━━\u001b[0m\u001b[37m\u001b[0m \u001b[1m10s\u001b[0m 8ms/step - accuracy: 0.8055 - loss: 0.3986\n",
      "Epoch 16/150\n",
      "\u001b[1m1290/1290\u001b[0m \u001b[32m━━━━━━━━━━━━━━━━━━━━\u001b[0m\u001b[37m\u001b[0m \u001b[1m10s\u001b[0m 8ms/step - accuracy: 0.8092 - loss: 0.3883\n",
      "Epoch 17/150\n",
      "\u001b[1m1290/1290\u001b[0m \u001b[32m━━━━━━━━━━━━━━━━━━━━\u001b[0m\u001b[37m\u001b[0m \u001b[1m10s\u001b[0m 8ms/step - accuracy: 0.8090 - loss: 0.3898\n",
      "Epoch 18/150\n",
      "\u001b[1m1290/1290\u001b[0m \u001b[32m━━━━━━━━━━━━━━━━━━━━\u001b[0m\u001b[37m\u001b[0m \u001b[1m14s\u001b[0m 11ms/step - accuracy: 0.8134 - loss: 0.3795\n",
      "Epoch 19/150\n",
      "\u001b[1m1290/1290\u001b[0m \u001b[32m━━━━━━━━━━━━━━━━━━━━\u001b[0m\u001b[37m\u001b[0m \u001b[1m14s\u001b[0m 11ms/step - accuracy: 0.8189 - loss: 0.3790\n",
      "Epoch 20/150\n",
      "\u001b[1m1290/1290\u001b[0m \u001b[32m━━━━━━━━━━━━━━━━━━━━\u001b[0m\u001b[37m\u001b[0m \u001b[1m12s\u001b[0m 10ms/step - accuracy: 0.8126 - loss: 0.3794\n",
      "Epoch 21/150\n",
      "\u001b[1m1290/1290\u001b[0m \u001b[32m━━━━━━━━━━━━━━━━━━━━\u001b[0m\u001b[37m\u001b[0m \u001b[1m12s\u001b[0m 9ms/step - accuracy: 0.8139 - loss: 0.3787\n",
      "Epoch 22/150\n",
      "\u001b[1m1290/1290\u001b[0m \u001b[32m━━━━━━━━━━━━━━━━━━━━\u001b[0m\u001b[37m\u001b[0m \u001b[1m10s\u001b[0m 8ms/step - accuracy: 0.8177 - loss: 0.3830\n",
      "Epoch 23/150\n",
      "\u001b[1m1290/1290\u001b[0m \u001b[32m━━━━━━━━━━━━━━━━━━━━\u001b[0m\u001b[37m\u001b[0m \u001b[1m10s\u001b[0m 7ms/step - accuracy: 0.8114 - loss: 0.3797\n",
      "Epoch 24/150\n",
      "\u001b[1m1290/1290\u001b[0m \u001b[32m━━━━━━━━━━━━━━━━━━━━\u001b[0m\u001b[37m\u001b[0m \u001b[1m10s\u001b[0m 8ms/step - accuracy: 0.8102 - loss: 0.3835\n",
      "Epoch 25/150\n",
      "\u001b[1m1290/1290\u001b[0m \u001b[32m━━━━━━━━━━━━━━━━━━━━\u001b[0m\u001b[37m\u001b[0m \u001b[1m10s\u001b[0m 8ms/step - accuracy: 0.8186 - loss: 0.3785\n",
      "Epoch 26/150\n",
      "\u001b[1m1290/1290\u001b[0m \u001b[32m━━━━━━━━━━━━━━━━━━━━\u001b[0m\u001b[37m\u001b[0m \u001b[1m10s\u001b[0m 8ms/step - accuracy: 0.8195 - loss: 0.3704\n",
      "Epoch 27/150\n",
      "\u001b[1m1290/1290\u001b[0m \u001b[32m━━━━━━━━━━━━━━━━━━━━\u001b[0m\u001b[37m\u001b[0m \u001b[1m10s\u001b[0m 7ms/step - accuracy: 0.8107 - loss: 0.3801\n",
      "Epoch 28/150\n",
      "\u001b[1m1290/1290\u001b[0m \u001b[32m━━━━━━━━━━━━━━━━━━━━\u001b[0m\u001b[37m\u001b[0m \u001b[1m9s\u001b[0m 7ms/step - accuracy: 0.8147 - loss: 0.3737\n",
      "Epoch 29/150\n",
      "\u001b[1m1290/1290\u001b[0m \u001b[32m━━━━━━━━━━━━━━━━━━━━\u001b[0m\u001b[37m\u001b[0m \u001b[1m9s\u001b[0m 7ms/step - accuracy: 0.8217 - loss: 0.3699\n",
      "Epoch 30/150\n",
      "\u001b[1m1290/1290\u001b[0m \u001b[32m━━━━━━━━━━━━━━━━━━━━\u001b[0m\u001b[37m\u001b[0m \u001b[1m10s\u001b[0m 8ms/step - accuracy: 0.8206 - loss: 0.3716\n",
      "Epoch 31/150\n",
      "\u001b[1m1290/1290\u001b[0m \u001b[32m━━━━━━━━━━━━━━━━━━━━\u001b[0m\u001b[37m\u001b[0m \u001b[1m9s\u001b[0m 7ms/step - accuracy: 0.8231 - loss: 0.3716\n",
      "Epoch 32/150\n",
      "\u001b[1m1290/1290\u001b[0m \u001b[32m━━━━━━━━━━━━━━━━━━━━\u001b[0m\u001b[37m\u001b[0m \u001b[1m10s\u001b[0m 8ms/step - accuracy: 0.8214 - loss: 0.3728\n",
      "Epoch 33/150\n",
      "\u001b[1m1290/1290\u001b[0m \u001b[32m━━━━━━━━━━━━━━━━━━━━\u001b[0m\u001b[37m\u001b[0m \u001b[1m13s\u001b[0m 10ms/step - accuracy: 0.8238 - loss: 0.3735\n",
      "Epoch 34/150\n",
      "\u001b[1m1290/1290\u001b[0m \u001b[32m━━━━━━━━━━━━━━━━━━━━\u001b[0m\u001b[37m\u001b[0m \u001b[1m10s\u001b[0m 8ms/step - accuracy: 0.8183 - loss: 0.3724\n",
      "Epoch 35/150\n",
      "\u001b[1m1290/1290\u001b[0m \u001b[32m━━━━━━━━━━━━━━━━━━━━\u001b[0m\u001b[37m\u001b[0m \u001b[1m9s\u001b[0m 7ms/step - accuracy: 0.8240 - loss: 0.3649\n",
      "Epoch 36/150\n",
      "\u001b[1m1290/1290\u001b[0m \u001b[32m━━━━━━━━━━━━━━━━━━━━\u001b[0m\u001b[37m\u001b[0m \u001b[1m13s\u001b[0m 10ms/step - accuracy: 0.8228 - loss: 0.3623\n",
      "Epoch 37/150\n",
      "\u001b[1m1290/1290\u001b[0m \u001b[32m━━━━━━━━━━━━━━━━━━━━\u001b[0m\u001b[37m\u001b[0m \u001b[1m10s\u001b[0m 8ms/step - accuracy: 0.8266 - loss: 0.3653\n",
      "Epoch 38/150\n",
      "\u001b[1m1290/1290\u001b[0m \u001b[32m━━━━━━━━━━━━━━━━━━━━\u001b[0m\u001b[37m\u001b[0m \u001b[1m10s\u001b[0m 8ms/step - accuracy: 0.8214 - loss: 0.3726\n",
      "Epoch 39/150\n",
      "\u001b[1m1290/1290\u001b[0m \u001b[32m━━━━━━━━━━━━━━━━━━━━\u001b[0m\u001b[37m\u001b[0m \u001b[1m10s\u001b[0m 8ms/step - accuracy: 0.8249 - loss: 0.3601\n",
      "Epoch 40/150\n",
      "\u001b[1m1290/1290\u001b[0m \u001b[32m━━━━━━━━━━━━━━━━━━━━\u001b[0m\u001b[37m\u001b[0m \u001b[1m11s\u001b[0m 8ms/step - accuracy: 0.8301 - loss: 0.3607\n",
      "Epoch 41/150\n",
      "\u001b[1m1290/1290\u001b[0m \u001b[32m━━━━━━━━━━━━━━━━━━━━\u001b[0m\u001b[37m\u001b[0m \u001b[1m9s\u001b[0m 7ms/step - accuracy: 0.8190 - loss: 0.3701\n",
      "Epoch 42/150\n",
      "\u001b[1m1290/1290\u001b[0m \u001b[32m━━━━━━━━━━━━━━━━━━━━\u001b[0m\u001b[37m\u001b[0m \u001b[1m10s\u001b[0m 8ms/step - accuracy: 0.8363 - loss: 0.3531\n",
      "Epoch 43/150\n",
      "\u001b[1m1290/1290\u001b[0m \u001b[32m━━━━━━━━━━━━━━━━━━━━\u001b[0m\u001b[37m\u001b[0m \u001b[1m10s\u001b[0m 8ms/step - accuracy: 0.8296 - loss: 0.3545\n",
      "Epoch 44/150\n",
      "\u001b[1m1290/1290\u001b[0m \u001b[32m━━━━━━━━━━━━━━━━━━━━\u001b[0m\u001b[37m\u001b[0m \u001b[1m12s\u001b[0m 9ms/step - accuracy: 0.8298 - loss: 0.3562\n",
      "Epoch 45/150\n",
      "\u001b[1m1290/1290\u001b[0m \u001b[32m━━━━━━━━━━━━━━━━━━━━\u001b[0m\u001b[37m\u001b[0m \u001b[1m11s\u001b[0m 9ms/step - accuracy: 0.8320 - loss: 0.3493\n",
      "Epoch 46/150\n",
      "\u001b[1m1290/1290\u001b[0m \u001b[32m━━━━━━━━━━━━━━━━━━━━\u001b[0m\u001b[37m\u001b[0m \u001b[1m10s\u001b[0m 8ms/step - accuracy: 0.8307 - loss: 0.3595\n",
      "Epoch 47/150\n",
      "\u001b[1m1290/1290\u001b[0m \u001b[32m━━━━━━━━━━━━━━━━━━━━\u001b[0m\u001b[37m\u001b[0m \u001b[1m10s\u001b[0m 8ms/step - accuracy: 0.8285 - loss: 0.3507\n",
      "Epoch 48/150\n",
      "\u001b[1m1290/1290\u001b[0m \u001b[32m━━━━━━━━━━━━━━━━━━━━\u001b[0m\u001b[37m\u001b[0m \u001b[1m10s\u001b[0m 8ms/step - accuracy: 0.8391 - loss: 0.3446\n",
      "Epoch 49/150\n",
      "\u001b[1m1290/1290\u001b[0m \u001b[32m━━━━━━━━━━━━━━━━━━━━\u001b[0m\u001b[37m\u001b[0m \u001b[1m10s\u001b[0m 8ms/step - accuracy: 0.8312 - loss: 0.3471\n",
      "Epoch 50/150\n",
      "\u001b[1m1290/1290\u001b[0m \u001b[32m━━━━━━━━━━━━━━━━━━━━\u001b[0m\u001b[37m\u001b[0m \u001b[1m10s\u001b[0m 8ms/step - accuracy: 0.8286 - loss: 0.3556\n",
      "Epoch 51/150\n",
      "\u001b[1m1290/1290\u001b[0m \u001b[32m━━━━━━━━━━━━━━━━━━━━\u001b[0m\u001b[37m\u001b[0m \u001b[1m10s\u001b[0m 7ms/step - accuracy: 0.8372 - loss: 0.3496\n",
      "Epoch 52/150\n",
      "\u001b[1m1290/1290\u001b[0m \u001b[32m━━━━━━━━━━━━━━━━━━━━\u001b[0m\u001b[37m\u001b[0m \u001b[1m10s\u001b[0m 8ms/step - accuracy: 0.8345 - loss: 0.3497\n",
      "Epoch 53/150\n",
      "\u001b[1m1290/1290\u001b[0m \u001b[32m━━━━━━━━━━━━━━━━━━━━\u001b[0m\u001b[37m\u001b[0m \u001b[1m10s\u001b[0m 7ms/step - accuracy: 0.8411 - loss: 0.3414\n",
      "Epoch 54/150\n",
      "\u001b[1m1290/1290\u001b[0m \u001b[32m━━━━━━━━━━━━━━━━━━━━\u001b[0m\u001b[37m\u001b[0m \u001b[1m10s\u001b[0m 8ms/step - accuracy: 0.8348 - loss: 0.3459\n",
      "Epoch 55/150\n",
      "\u001b[1m1290/1290\u001b[0m \u001b[32m━━━━━━━━━━━━━━━━━━━━\u001b[0m\u001b[37m\u001b[0m \u001b[1m10s\u001b[0m 8ms/step - accuracy: 0.8414 - loss: 0.3380\n",
      "Epoch 56/150\n",
      "\u001b[1m1290/1290\u001b[0m \u001b[32m━━━━━━━━━━━━━━━━━━━━\u001b[0m\u001b[37m\u001b[0m \u001b[1m11s\u001b[0m 8ms/step - accuracy: 0.8387 - loss: 0.3396\n",
      "Epoch 57/150\n",
      "\u001b[1m1290/1290\u001b[0m \u001b[32m━━━━━━━━━━━━━━━━━━━━\u001b[0m\u001b[37m\u001b[0m \u001b[1m10s\u001b[0m 8ms/step - accuracy: 0.8383 - loss: 0.3435\n",
      "Epoch 58/150\n",
      "\u001b[1m1290/1290\u001b[0m \u001b[32m━━━━━━━━━━━━━━━━━━━━\u001b[0m\u001b[37m\u001b[0m \u001b[1m10s\u001b[0m 8ms/step - accuracy: 0.8363 - loss: 0.3424\n",
      "Epoch 59/150\n",
      "\u001b[1m1290/1290\u001b[0m \u001b[32m━━━━━━━━━━━━━━━━━━━━\u001b[0m\u001b[37m\u001b[0m \u001b[1m10s\u001b[0m 8ms/step - accuracy: 0.8334 - loss: 0.3478\n",
      "Epoch 60/150\n",
      "\u001b[1m1290/1290\u001b[0m \u001b[32m━━━━━━━━━━━━━━━━━━━━\u001b[0m\u001b[37m\u001b[0m \u001b[1m10s\u001b[0m 8ms/step - accuracy: 0.8404 - loss: 0.3370\n",
      "Epoch 61/150\n",
      "\u001b[1m1290/1290\u001b[0m \u001b[32m━━━━━━━━━━━━━━━━━━━━\u001b[0m\u001b[37m\u001b[0m \u001b[1m9s\u001b[0m 7ms/step - accuracy: 0.8452 - loss: 0.3273\n",
      "Epoch 62/150\n",
      "\u001b[1m1290/1290\u001b[0m \u001b[32m━━━━━━━━━━━━━━━━━━━━\u001b[0m\u001b[37m\u001b[0m \u001b[1m9s\u001b[0m 7ms/step - accuracy: 0.8422 - loss: 0.3301\n",
      "Epoch 63/150\n",
      "\u001b[1m1290/1290\u001b[0m \u001b[32m━━━━━━━━━━━━━━━━━━━━\u001b[0m\u001b[37m\u001b[0m \u001b[1m9s\u001b[0m 7ms/step - accuracy: 0.8460 - loss: 0.3229\n",
      "Epoch 64/150\n",
      "\u001b[1m1290/1290\u001b[0m \u001b[32m━━━━━━━━━━━━━━━━━━━━\u001b[0m\u001b[37m\u001b[0m \u001b[1m9s\u001b[0m 7ms/step - accuracy: 0.8399 - loss: 0.3350\n",
      "Epoch 65/150\n",
      "\u001b[1m1290/1290\u001b[0m \u001b[32m━━━━━━━━━━━━━━━━━━━━\u001b[0m\u001b[37m\u001b[0m \u001b[1m10s\u001b[0m 8ms/step - accuracy: 0.8475 - loss: 0.3217\n",
      "Epoch 66/150\n",
      "\u001b[1m1290/1290\u001b[0m \u001b[32m━━━━━━━━━━━━━━━━━━━━\u001b[0m\u001b[37m\u001b[0m \u001b[1m9s\u001b[0m 7ms/step - accuracy: 0.8389 - loss: 0.3349\n",
      "Epoch 67/150\n",
      "\u001b[1m1290/1290\u001b[0m \u001b[32m━━━━━━━━━━━━━━━━━━━━\u001b[0m\u001b[37m\u001b[0m \u001b[1m10s\u001b[0m 8ms/step - accuracy: 0.8503 - loss: 0.3204\n",
      "Epoch 68/150\n",
      "\u001b[1m1290/1290\u001b[0m \u001b[32m━━━━━━━━━━━━━━━━━━━━\u001b[0m\u001b[37m\u001b[0m \u001b[1m11s\u001b[0m 8ms/step - accuracy: 0.8439 - loss: 0.3197\n",
      "Epoch 69/150\n",
      "\u001b[1m1290/1290\u001b[0m \u001b[32m━━━━━━━━━━━━━━━━━━━━\u001b[0m\u001b[37m\u001b[0m \u001b[1m10s\u001b[0m 8ms/step - accuracy: 0.8354 - loss: 0.3415\n",
      "Epoch 70/150\n",
      "\u001b[1m1290/1290\u001b[0m \u001b[32m━━━━━━━━━━━━━━━━━━━━\u001b[0m\u001b[37m\u001b[0m \u001b[1m9s\u001b[0m 7ms/step - accuracy: 0.8519 - loss: 0.3213\n",
      "Epoch 71/150\n",
      "\u001b[1m1290/1290\u001b[0m \u001b[32m━━━━━━━━━━━━━━━━━━━━\u001b[0m\u001b[37m\u001b[0m \u001b[1m10s\u001b[0m 8ms/step - accuracy: 0.8431 - loss: 0.3285\n",
      "Epoch 72/150\n",
      "\u001b[1m1290/1290\u001b[0m \u001b[32m━━━━━━━━━━━━━━━━━━━━\u001b[0m\u001b[37m\u001b[0m \u001b[1m10s\u001b[0m 8ms/step - accuracy: 0.8448 - loss: 0.3266\n",
      "Epoch 73/150\n",
      "\u001b[1m1290/1290\u001b[0m \u001b[32m━━━━━━━━━━━━━━━━━━━━\u001b[0m\u001b[37m\u001b[0m \u001b[1m10s\u001b[0m 8ms/step - accuracy: 0.8431 - loss: 0.3254\n",
      "Epoch 74/150\n",
      "\u001b[1m1290/1290\u001b[0m \u001b[32m━━━━━━━━━━━━━━━━━━━━\u001b[0m\u001b[37m\u001b[0m \u001b[1m10s\u001b[0m 8ms/step - accuracy: 0.8522 - loss: 0.3149\n",
      "Epoch 75/150\n",
      "\u001b[1m1290/1290\u001b[0m \u001b[32m━━━━━━━━━━━━━━━━━━━━\u001b[0m\u001b[37m\u001b[0m \u001b[1m9s\u001b[0m 7ms/step - accuracy: 0.8447 - loss: 0.3208\n",
      "Epoch 76/150\n",
      "\u001b[1m1290/1290\u001b[0m \u001b[32m━━━━━━━━━━━━━━━━━━━━\u001b[0m\u001b[37m\u001b[0m \u001b[1m11s\u001b[0m 8ms/step - accuracy: 0.8567 - loss: 0.3060\n",
      "Epoch 77/150\n",
      "\u001b[1m1290/1290\u001b[0m \u001b[32m━━━━━━━━━━━━━━━━━━━━\u001b[0m\u001b[37m\u001b[0m \u001b[1m9s\u001b[0m 7ms/step - accuracy: 0.8451 - loss: 0.3295\n",
      "Epoch 78/150\n",
      "\u001b[1m1290/1290\u001b[0m \u001b[32m━━━━━━━━━━━━━━━━━━━━\u001b[0m\u001b[37m\u001b[0m \u001b[1m9s\u001b[0m 7ms/step - accuracy: 0.8452 - loss: 0.3238\n",
      "Epoch 79/150\n",
      "\u001b[1m1290/1290\u001b[0m \u001b[32m━━━━━━━━━━━━━━━━━━━━\u001b[0m\u001b[37m\u001b[0m \u001b[1m10s\u001b[0m 7ms/step - accuracy: 0.8520 - loss: 0.3067\n",
      "Epoch 80/150\n",
      "\u001b[1m1290/1290\u001b[0m \u001b[32m━━━━━━━━━━━━━━━━━━━━\u001b[0m\u001b[37m\u001b[0m \u001b[1m9s\u001b[0m 7ms/step - accuracy: 0.8562 - loss: 0.3061\n",
      "Epoch 81/150\n",
      "\u001b[1m1290/1290\u001b[0m \u001b[32m━━━━━━━━━━━━━━━━━━━━\u001b[0m\u001b[37m\u001b[0m \u001b[1m9s\u001b[0m 7ms/step - accuracy: 0.8524 - loss: 0.3157\n",
      "Epoch 82/150\n",
      "\u001b[1m1290/1290\u001b[0m \u001b[32m━━━━━━━━━━━━━━━━━━━━\u001b[0m\u001b[37m\u001b[0m \u001b[1m10s\u001b[0m 7ms/step - accuracy: 0.8511 - loss: 0.3050\n",
      "Epoch 83/150\n",
      "\u001b[1m1290/1290\u001b[0m \u001b[32m━━━━━━━━━━━━━━━━━━━━\u001b[0m\u001b[37m\u001b[0m \u001b[1m10s\u001b[0m 8ms/step - accuracy: 0.8629 - loss: 0.2982\n",
      "Epoch 84/150\n",
      "\u001b[1m1290/1290\u001b[0m \u001b[32m━━━━━━━━━━━━━━━━━━━━\u001b[0m\u001b[37m\u001b[0m \u001b[1m11s\u001b[0m 9ms/step - accuracy: 0.8522 - loss: 0.3060\n",
      "Epoch 85/150\n",
      "\u001b[1m1290/1290\u001b[0m \u001b[32m━━━━━━━━━━━━━━━━━━━━\u001b[0m\u001b[37m\u001b[0m \u001b[1m11s\u001b[0m 8ms/step - accuracy: 0.8573 - loss: 0.3072\n",
      "Epoch 86/150\n",
      "\u001b[1m1290/1290\u001b[0m \u001b[32m━━━━━━━━━━━━━━━━━━━━\u001b[0m\u001b[37m\u001b[0m \u001b[1m11s\u001b[0m 8ms/step - accuracy: 0.8604 - loss: 0.2986\n",
      "Epoch 87/150\n",
      "\u001b[1m1290/1290\u001b[0m \u001b[32m━━━━━━━━━━━━━━━━━━━━\u001b[0m\u001b[37m\u001b[0m \u001b[1m10s\u001b[0m 8ms/step - accuracy: 0.8547 - loss: 0.3051\n",
      "Epoch 88/150\n",
      "\u001b[1m1290/1290\u001b[0m \u001b[32m━━━━━━━━━━━━━━━━━━━━\u001b[0m\u001b[37m\u001b[0m \u001b[1m12s\u001b[0m 9ms/step - accuracy: 0.8622 - loss: 0.2906\n",
      "Epoch 89/150\n",
      "\u001b[1m1290/1290\u001b[0m \u001b[32m━━━━━━━━━━━━━━━━━━━━\u001b[0m\u001b[37m\u001b[0m \u001b[1m12s\u001b[0m 9ms/step - accuracy: 0.8606 - loss: 0.3005\n",
      "Epoch 90/150\n",
      "\u001b[1m1290/1290\u001b[0m \u001b[32m━━━━━━━━━━━━━━━━━━━━\u001b[0m\u001b[37m\u001b[0m \u001b[1m13s\u001b[0m 10ms/step - accuracy: 0.8643 - loss: 0.2819\n",
      "Epoch 91/150\n",
      "\u001b[1m1290/1290\u001b[0m \u001b[32m━━━━━━━━━━━━━━━━━━━━\u001b[0m\u001b[37m\u001b[0m \u001b[1m15s\u001b[0m 12ms/step - accuracy: 0.8597 - loss: 0.2991\n",
      "Epoch 92/150\n",
      "\u001b[1m1290/1290\u001b[0m \u001b[32m━━━━━━━━━━━━━━━━━━━━\u001b[0m\u001b[37m\u001b[0m \u001b[1m14s\u001b[0m 10ms/step - accuracy: 0.8570 - loss: 0.3003\n",
      "Epoch 93/150\n",
      "\u001b[1m1290/1290\u001b[0m \u001b[32m━━━━━━━━━━━━━━━━━━━━\u001b[0m\u001b[37m\u001b[0m \u001b[1m13s\u001b[0m 10ms/step - accuracy: 0.8634 - loss: 0.2883\n",
      "Epoch 94/150\n",
      "\u001b[1m1290/1290\u001b[0m \u001b[32m━━━━━━━━━━━━━━━━━━━━\u001b[0m\u001b[37m\u001b[0m \u001b[1m11s\u001b[0m 9ms/step - accuracy: 0.8677 - loss: 0.2885\n",
      "Epoch 95/150\n",
      "\u001b[1m1290/1290\u001b[0m \u001b[32m━━━━━━━━━━━━━━━━━━━━\u001b[0m\u001b[37m\u001b[0m \u001b[1m13s\u001b[0m 10ms/step - accuracy: 0.8652 - loss: 0.2885\n",
      "Epoch 96/150\n",
      "\u001b[1m1290/1290\u001b[0m \u001b[32m━━━━━━━━━━━━━━━━━━━━\u001b[0m\u001b[37m\u001b[0m \u001b[1m12s\u001b[0m 9ms/step - accuracy: 0.8774 - loss: 0.2694\n",
      "Epoch 97/150\n",
      "\u001b[1m1290/1290\u001b[0m \u001b[32m━━━━━━━━━━━━━━━━━━━━\u001b[0m\u001b[37m\u001b[0m \u001b[1m11s\u001b[0m 9ms/step - accuracy: 0.8666 - loss: 0.2862\n",
      "Epoch 98/150\n",
      "\u001b[1m1290/1290\u001b[0m \u001b[32m━━━━━━━━━━━━━━━━━━━━\u001b[0m\u001b[37m\u001b[0m \u001b[1m11s\u001b[0m 9ms/step - accuracy: 0.8602 - loss: 0.2986\n",
      "Epoch 99/150\n",
      "\u001b[1m1290/1290\u001b[0m \u001b[32m━━━━━━━━━━━━━━━━━━━━\u001b[0m\u001b[37m\u001b[0m \u001b[1m11s\u001b[0m 8ms/step - accuracy: 0.8750 - loss: 0.2726\n",
      "Epoch 100/150\n",
      "\u001b[1m1290/1290\u001b[0m \u001b[32m━━━━━━━━━━━━━━━━━━━━\u001b[0m\u001b[37m\u001b[0m \u001b[1m12s\u001b[0m 9ms/step - accuracy: 0.8672 - loss: 0.2854\n",
      "Epoch 101/150\n",
      "\u001b[1m1290/1290\u001b[0m \u001b[32m━━━━━━━━━━━━━━━━━━━━\u001b[0m\u001b[37m\u001b[0m \u001b[1m12s\u001b[0m 9ms/step - accuracy: 0.8712 - loss: 0.2731\n",
      "Epoch 102/150\n",
      "\u001b[1m1290/1290\u001b[0m \u001b[32m━━━━━━━━━━━━━━━━━━━━\u001b[0m\u001b[37m\u001b[0m \u001b[1m10s\u001b[0m 8ms/step - accuracy: 0.8666 - loss: 0.2883\n",
      "Epoch 103/150\n",
      "\u001b[1m1290/1290\u001b[0m \u001b[32m━━━━━━━━━━━━━━━━━━━━\u001b[0m\u001b[37m\u001b[0m \u001b[1m11s\u001b[0m 8ms/step - accuracy: 0.8755 - loss: 0.2743\n",
      "Epoch 104/150\n",
      "\u001b[1m1290/1290\u001b[0m \u001b[32m━━━━━━━━━━━━━━━━━━━━\u001b[0m\u001b[37m\u001b[0m \u001b[1m11s\u001b[0m 8ms/step - accuracy: 0.8782 - loss: 0.2676\n",
      "Epoch 105/150\n",
      "\u001b[1m1290/1290\u001b[0m \u001b[32m━━━━━━━━━━━━━━━━━━━━\u001b[0m\u001b[37m\u001b[0m \u001b[1m11s\u001b[0m 9ms/step - accuracy: 0.8742 - loss: 0.2708\n",
      "Epoch 106/150\n",
      "\u001b[1m1290/1290\u001b[0m \u001b[32m━━━━━━━━━━━━━━━━━━━━\u001b[0m\u001b[37m\u001b[0m \u001b[1m10s\u001b[0m 8ms/step - accuracy: 0.8676 - loss: 0.2801\n",
      "Epoch 107/150\n",
      "\u001b[1m1290/1290\u001b[0m \u001b[32m━━━━━━━━━━━━━━━━━━━━\u001b[0m\u001b[37m\u001b[0m \u001b[1m11s\u001b[0m 8ms/step - accuracy: 0.8791 - loss: 0.2665\n",
      "Epoch 108/150\n",
      "\u001b[1m1290/1290\u001b[0m \u001b[32m━━━━━━━━━━━━━━━━━━━━\u001b[0m\u001b[37m\u001b[0m \u001b[1m11s\u001b[0m 8ms/step - accuracy: 0.8757 - loss: 0.2690\n",
      "Epoch 109/150\n",
      "\u001b[1m1290/1290\u001b[0m \u001b[32m━━━━━━━━━━━━━━━━━━━━\u001b[0m\u001b[37m\u001b[0m \u001b[1m11s\u001b[0m 9ms/step - accuracy: 0.8784 - loss: 0.2642\n",
      "Epoch 110/150\n",
      "\u001b[1m1290/1290\u001b[0m \u001b[32m━━━━━━━━━━━━━━━━━━━━\u001b[0m\u001b[37m\u001b[0m \u001b[1m10s\u001b[0m 8ms/step - accuracy: 0.8755 - loss: 0.2701\n",
      "Epoch 111/150\n",
      "\u001b[1m1290/1290\u001b[0m \u001b[32m━━━━━━━━━━━━━━━━━━━━\u001b[0m\u001b[37m\u001b[0m \u001b[1m11s\u001b[0m 9ms/step - accuracy: 0.8770 - loss: 0.2614\n",
      "Epoch 112/150\n",
      "\u001b[1m1290/1290\u001b[0m \u001b[32m━━━━━━━━━━━━━━━━━━━━\u001b[0m\u001b[37m\u001b[0m \u001b[1m11s\u001b[0m 9ms/step - accuracy: 0.8836 - loss: 0.2616\n",
      "Epoch 113/150\n",
      "\u001b[1m1290/1290\u001b[0m \u001b[32m━━━━━━━━━━━━━━━━━━━━\u001b[0m\u001b[37m\u001b[0m \u001b[1m11s\u001b[0m 9ms/step - accuracy: 0.8812 - loss: 0.2562\n",
      "Epoch 114/150\n",
      "\u001b[1m1290/1290\u001b[0m \u001b[32m━━━━━━━━━━━━━━━━━━━━\u001b[0m\u001b[37m\u001b[0m \u001b[1m11s\u001b[0m 8ms/step - accuracy: 0.8844 - loss: 0.2509\n",
      "Epoch 115/150\n",
      "\u001b[1m1290/1290\u001b[0m \u001b[32m━━━━━━━━━━━━━━━━━━━━\u001b[0m\u001b[37m\u001b[0m \u001b[1m11s\u001b[0m 8ms/step - accuracy: 0.8862 - loss: 0.2539\n",
      "Epoch 116/150\n",
      "\u001b[1m1290/1290\u001b[0m \u001b[32m━━━━━━━━━━━━━━━━━━━━\u001b[0m\u001b[37m\u001b[0m \u001b[1m11s\u001b[0m 8ms/step - accuracy: 0.8817 - loss: 0.2509\n",
      "Epoch 117/150\n",
      "\u001b[1m1290/1290\u001b[0m \u001b[32m━━━━━━━━━━━━━━━━━━━━\u001b[0m\u001b[37m\u001b[0m \u001b[1m12s\u001b[0m 9ms/step - accuracy: 0.8816 - loss: 0.2565\n",
      "Epoch 118/150\n",
      "\u001b[1m1290/1290\u001b[0m \u001b[32m━━━━━━━━━━━━━━━━━━━━\u001b[0m\u001b[37m\u001b[0m \u001b[1m15s\u001b[0m 11ms/step - accuracy: 0.8915 - loss: 0.2372\n",
      "Epoch 119/150\n",
      "\u001b[1m1290/1290\u001b[0m \u001b[32m━━━━━━━━━━━━━━━━━━━━\u001b[0m\u001b[37m\u001b[0m \u001b[1m11s\u001b[0m 9ms/step - accuracy: 0.8814 - loss: 0.2550\n",
      "Epoch 120/150\n",
      "\u001b[1m1290/1290\u001b[0m \u001b[32m━━━━━━━━━━━━━━━━━━━━\u001b[0m\u001b[37m\u001b[0m \u001b[1m11s\u001b[0m 9ms/step - accuracy: 0.8852 - loss: 0.2481\n",
      "Epoch 121/150\n",
      "\u001b[1m1290/1290\u001b[0m \u001b[32m━━━━━━━━━━━━━━━━━━━━\u001b[0m\u001b[37m\u001b[0m \u001b[1m11s\u001b[0m 8ms/step - accuracy: 0.8842 - loss: 0.2592\n",
      "Epoch 122/150\n",
      "\u001b[1m1290/1290\u001b[0m \u001b[32m━━━━━━━━━━━━━━━━━━━━\u001b[0m\u001b[37m\u001b[0m \u001b[1m11s\u001b[0m 9ms/step - accuracy: 0.8945 - loss: 0.2354\n",
      "Epoch 123/150\n",
      "\u001b[1m1290/1290\u001b[0m \u001b[32m━━━━━━━━━━━━━━━━━━━━\u001b[0m\u001b[37m\u001b[0m \u001b[1m11s\u001b[0m 8ms/step - accuracy: 0.8855 - loss: 0.2496\n",
      "Epoch 124/150\n",
      "\u001b[1m1290/1290\u001b[0m \u001b[32m━━━━━━━━━━━━━━━━━━━━\u001b[0m\u001b[37m\u001b[0m \u001b[1m11s\u001b[0m 8ms/step - accuracy: 0.8917 - loss: 0.2420\n",
      "Epoch 125/150\n",
      "\u001b[1m1290/1290\u001b[0m \u001b[32m━━━━━━━━━━━━━━━━━━━━\u001b[0m\u001b[37m\u001b[0m \u001b[1m11s\u001b[0m 8ms/step - accuracy: 0.8917 - loss: 0.2341\n",
      "Epoch 126/150\n",
      "\u001b[1m1290/1290\u001b[0m \u001b[32m━━━━━━━━━━━━━━━━━━━━\u001b[0m\u001b[37m\u001b[0m \u001b[1m11s\u001b[0m 8ms/step - accuracy: 0.8854 - loss: 0.2417\n",
      "Epoch 127/150\n",
      "\u001b[1m1290/1290\u001b[0m \u001b[32m━━━━━━━━━━━━━━━━━━━━\u001b[0m\u001b[37m\u001b[0m \u001b[1m11s\u001b[0m 9ms/step - accuracy: 0.8938 - loss: 0.2381\n",
      "Epoch 128/150\n",
      "\u001b[1m1290/1290\u001b[0m \u001b[32m━━━━━━━━━━━━━━━━━━━━\u001b[0m\u001b[37m\u001b[0m \u001b[1m11s\u001b[0m 8ms/step - accuracy: 0.8910 - loss: 0.2430\n",
      "Epoch 129/150\n",
      "\u001b[1m1290/1290\u001b[0m \u001b[32m━━━━━━━━━━━━━━━━━━━━\u001b[0m\u001b[37m\u001b[0m \u001b[1m10s\u001b[0m 8ms/step - accuracy: 0.8885 - loss: 0.2388\n",
      "Epoch 130/150\n",
      "\u001b[1m1290/1290\u001b[0m \u001b[32m━━━━━━━━━━━━━━━━━━━━\u001b[0m\u001b[37m\u001b[0m \u001b[1m10s\u001b[0m 8ms/step - accuracy: 0.8927 - loss: 0.2334\n",
      "Epoch 131/150\n",
      "\u001b[1m1290/1290\u001b[0m \u001b[32m━━━━━━━━━━━━━━━━━━━━\u001b[0m\u001b[37m\u001b[0m \u001b[1m11s\u001b[0m 8ms/step - accuracy: 0.8928 - loss: 0.2389\n",
      "Epoch 132/150\n",
      "\u001b[1m1290/1290\u001b[0m \u001b[32m━━━━━━━━━━━━━━━━━━━━\u001b[0m\u001b[37m\u001b[0m \u001b[1m11s\u001b[0m 8ms/step - accuracy: 0.9003 - loss: 0.2246\n",
      "Epoch 133/150\n",
      "\u001b[1m1290/1290\u001b[0m \u001b[32m━━━━━━━━━━━━━━━━━━━━\u001b[0m\u001b[37m\u001b[0m \u001b[1m11s\u001b[0m 8ms/step - accuracy: 0.9002 - loss: 0.2196\n",
      "Epoch 134/150\n",
      "\u001b[1m1290/1290\u001b[0m \u001b[32m━━━━━━━━━━━━━━━━━━━━\u001b[0m\u001b[37m\u001b[0m \u001b[1m11s\u001b[0m 9ms/step - accuracy: 0.8974 - loss: 0.2231\n",
      "Epoch 135/150\n",
      "\u001b[1m1290/1290\u001b[0m \u001b[32m━━━━━━━━━━━━━━━━━━━━\u001b[0m\u001b[37m\u001b[0m \u001b[1m10s\u001b[0m 8ms/step - accuracy: 0.8920 - loss: 0.2432\n",
      "Epoch 136/150\n",
      "\u001b[1m1290/1290\u001b[0m \u001b[32m━━━━━━━━━━━━━━━━━━━━\u001b[0m\u001b[37m\u001b[0m \u001b[1m10s\u001b[0m 8ms/step - accuracy: 0.8913 - loss: 0.2394\n",
      "Epoch 137/150\n",
      "\u001b[1m1290/1290\u001b[0m \u001b[32m━━━━━━━━━━━━━━━━━━━━\u001b[0m\u001b[37m\u001b[0m \u001b[1m11s\u001b[0m 9ms/step - accuracy: 0.8889 - loss: 0.2394\n",
      "Epoch 138/150\n",
      "\u001b[1m1290/1290\u001b[0m \u001b[32m━━━━━━━━━━━━━━━━━━━━\u001b[0m\u001b[37m\u001b[0m \u001b[1m10s\u001b[0m 8ms/step - accuracy: 0.8963 - loss: 0.2288\n",
      "Epoch 139/150\n",
      "\u001b[1m1290/1290\u001b[0m \u001b[32m━━━━━━━━━━━━━━━━━━━━\u001b[0m\u001b[37m\u001b[0m \u001b[1m11s\u001b[0m 8ms/step - accuracy: 0.8994 - loss: 0.2247\n",
      "Epoch 140/150\n",
      "\u001b[1m1290/1290\u001b[0m \u001b[32m━━━━━━━━━━━━━━━━━━━━\u001b[0m\u001b[37m\u001b[0m \u001b[1m11s\u001b[0m 8ms/step - accuracy: 0.8978 - loss: 0.2277\n",
      "Epoch 141/150\n",
      "\u001b[1m1290/1290\u001b[0m \u001b[32m━━━━━━━━━━━━━━━━━━━━\u001b[0m\u001b[37m\u001b[0m \u001b[1m10s\u001b[0m 8ms/step - accuracy: 0.9086 - loss: 0.2150\n",
      "Epoch 142/150\n",
      "\u001b[1m1290/1290\u001b[0m \u001b[32m━━━━━━━━━━━━━━━━━━━━\u001b[0m\u001b[37m\u001b[0m \u001b[1m10s\u001b[0m 8ms/step - accuracy: 0.8871 - loss: 0.2410\n",
      "Epoch 143/150\n",
      "\u001b[1m1290/1290\u001b[0m \u001b[32m━━━━━━━━━━━━━━━━━━━━\u001b[0m\u001b[37m\u001b[0m \u001b[1m10s\u001b[0m 8ms/step - accuracy: 0.9048 - loss: 0.2101\n",
      "Epoch 144/150\n",
      "\u001b[1m1290/1290\u001b[0m \u001b[32m━━━━━━━━━━━━━━━━━━━━\u001b[0m\u001b[37m\u001b[0m \u001b[1m10s\u001b[0m 8ms/step - accuracy: 0.9048 - loss: 0.2136\n",
      "Epoch 145/150\n",
      "\u001b[1m1290/1290\u001b[0m \u001b[32m━━━━━━━━━━━━━━━━━━━━\u001b[0m\u001b[37m\u001b[0m \u001b[1m10s\u001b[0m 8ms/step - accuracy: 0.9078 - loss: 0.2069\n",
      "Epoch 146/150\n",
      "\u001b[1m1290/1290\u001b[0m \u001b[32m━━━━━━━━━━━━━━━━━━━━\u001b[0m\u001b[37m\u001b[0m \u001b[1m11s\u001b[0m 9ms/step - accuracy: 0.9068 - loss: 0.2068\n",
      "Epoch 147/150\n",
      "\u001b[1m1290/1290\u001b[0m \u001b[32m━━━━━━━━━━━━━━━━━━━━\u001b[0m\u001b[37m\u001b[0m \u001b[1m11s\u001b[0m 8ms/step - accuracy: 0.9053 - loss: 0.2097\n",
      "Epoch 148/150\n",
      "\u001b[1m1290/1290\u001b[0m \u001b[32m━━━━━━━━━━━━━━━━━━━━\u001b[0m\u001b[37m\u001b[0m \u001b[1m12s\u001b[0m 9ms/step - accuracy: 0.8940 - loss: 0.2233\n",
      "Epoch 149/150\n",
      "\u001b[1m1290/1290\u001b[0m \u001b[32m━━━━━━━━━━━━━━━━━━━━\u001b[0m\u001b[37m\u001b[0m \u001b[1m11s\u001b[0m 8ms/step - accuracy: 0.9046 - loss: 0.2152\n",
      "Epoch 150/150\n",
      "\u001b[1m1290/1290\u001b[0m \u001b[32m━━━━━━━━━━━━━━━━━━━━\u001b[0m\u001b[37m\u001b[0m \u001b[1m11s\u001b[0m 8ms/step - accuracy: 0.9034 - loss: 0.2171\n"
     ]
    }
   ],
   "source": [
    "history = model.fit(\n",
    "    vectorized_x_train_smote,encoded_target_label,\n",
    "    epochs=150,\n",
    "    batch_size=10,  # Reduced batch size to help with generalization\n",
    "   \n",
    ")"
   ]
  },
  {
   "cell_type": "code",
   "execution_count": 174,
   "id": "c70601e6-c5a1-40d5-8bd7-635849515434",
   "metadata": {},
   "outputs": [
    {
     "name": "stdout",
     "output_type": "stream",
     "text": [
      "\u001b[1m100/100\u001b[0m \u001b[32m━━━━━━━━━━━━━━━━━━━━\u001b[0m\u001b[37m\u001b[0m \u001b[1m1s\u001b[0m 3ms/step\n",
      "Fake\n",
      "Fake\n",
      "Fake\n",
      "Fake\n",
      "Real\n",
      "Fake\n",
      "Real\n",
      "Real\n",
      "Fake\n",
      "Fake\n",
      "Real\n",
      "Real\n",
      "Real\n",
      "Real\n",
      "Fake\n",
      "Real\n",
      "Real\n",
      "Real\n",
      "Real\n",
      "Fake\n"
     ]
    }
   ],
   "source": [
    "predictions = model.predict(vectorized_x_test)\n",
    "for y in predictions[:20]:\n",
    "    if (y[0]<=0.5):\n",
    "        print(\"Fake\")\n",
    "    else:\n",
    "        print(\"Real\")"
   ]
  },
  {
   "cell_type": "markdown",
   "id": "93a2e3fc-c7ac-424e-909e-59869cb3fb38",
   "metadata": {},
   "source": [
    "## Testing dataset"
   ]
  },
  {
   "cell_type": "code",
   "execution_count": 125,
   "id": "ec57dc0e-02b5-408f-9203-6d4054af99df",
   "metadata": {},
   "outputs": [
    {
     "data": {
      "text/html": [
       "<div>\n",
       "<style scoped>\n",
       "    .dataframe tbody tr th:only-of-type {\n",
       "        vertical-align: middle;\n",
       "    }\n",
       "\n",
       "    .dataframe tbody tr th {\n",
       "        vertical-align: top;\n",
       "    }\n",
       "\n",
       "    .dataframe thead th {\n",
       "        text-align: right;\n",
       "    }\n",
       "</style>\n",
       "<table border=\"1\" class=\"dataframe\">\n",
       "  <thead>\n",
       "    <tr style=\"text-align: right;\">\n",
       "      <th></th>\n",
       "      <th>title</th>\n",
       "      <th>text</th>\n",
       "      <th>date</th>\n",
       "      <th>source</th>\n",
       "      <th>author</th>\n",
       "      <th>category</th>\n",
       "      <th>label</th>\n",
       "    </tr>\n",
       "  </thead>\n",
       "  <tbody>\n",
       "    <tr>\n",
       "      <th>10650</th>\n",
       "      <td>Society image vote these realize prevent can.</td>\n",
       "      <td>better fall appear measure few prepare billion...</td>\n",
       "      <td>2024-04-23</td>\n",
       "      <td>Global Times</td>\n",
       "      <td>William Bolton</td>\n",
       "      <td>Science</td>\n",
       "      <td>real</td>\n",
       "    </tr>\n",
       "    <tr>\n",
       "      <th>2041</th>\n",
       "      <td>Red offer dream again specific case.</td>\n",
       "      <td>such east party truth place take tough stuff b...</td>\n",
       "      <td>2024-04-23</td>\n",
       "      <td>The Guardian</td>\n",
       "      <td>Dennis Reyes</td>\n",
       "      <td>Technology</td>\n",
       "      <td>real</td>\n",
       "    </tr>\n",
       "    <tr>\n",
       "      <th>8668</th>\n",
       "      <td>Item nearly develop green.</td>\n",
       "      <td>here she wind budget impact who painting role ...</td>\n",
       "      <td>2023-01-02</td>\n",
       "      <td>Reuters</td>\n",
       "      <td>Marcus Cook</td>\n",
       "      <td>Sports</td>\n",
       "      <td>fake</td>\n",
       "    </tr>\n",
       "    <tr>\n",
       "      <th>1114</th>\n",
       "      <td>Behavior stop billion PM song own.</td>\n",
       "      <td>better community begin town it case but operat...</td>\n",
       "      <td>2023-04-29</td>\n",
       "      <td>BBC</td>\n",
       "      <td>Lori Anderson</td>\n",
       "      <td>Business</td>\n",
       "      <td>real</td>\n",
       "    </tr>\n",
       "    <tr>\n",
       "      <th>13902</th>\n",
       "      <td>Only charge box time spend want woman.</td>\n",
       "      <td>career court employee whatever religious secon...</td>\n",
       "      <td>2025-03-30</td>\n",
       "      <td>Global Times</td>\n",
       "      <td>Shawn Ramirez</td>\n",
       "      <td>Business</td>\n",
       "      <td>real</td>\n",
       "    </tr>\n",
       "  </tbody>\n",
       "</table>\n",
       "</div>"
      ],
      "text/plain": [
       "                                               title  \\\n",
       "10650  Society image vote these realize prevent can.   \n",
       "2041            Red offer dream again specific case.   \n",
       "8668                      Item nearly develop green.   \n",
       "1114              Behavior stop billion PM song own.   \n",
       "13902         Only charge box time spend want woman.   \n",
       "\n",
       "                                                    text        date  \\\n",
       "10650  better fall appear measure few prepare billion...  2024-04-23   \n",
       "2041   such east party truth place take tough stuff b...  2024-04-23   \n",
       "8668   here she wind budget impact who painting role ...  2023-01-02   \n",
       "1114   better community begin town it case but operat...  2023-04-29   \n",
       "13902  career court employee whatever religious secon...  2025-03-30   \n",
       "\n",
       "             source          author    category label  \n",
       "10650  Global Times  William Bolton     Science  real  \n",
       "2041   The Guardian    Dennis Reyes  Technology  real  \n",
       "8668        Reuters     Marcus Cook      Sports  fake  \n",
       "1114            BBC   Lori Anderson    Business  real  \n",
       "13902  Global Times   Shawn Ramirez    Business  real  "
      ]
     },
     "execution_count": 125,
     "metadata": {},
     "output_type": "execute_result"
    }
   ],
   "source": [
    "test_set.head()"
   ]
  },
  {
   "cell_type": "code",
   "execution_count": 126,
   "id": "7ff10dcc-b971-4060-afcf-9e9503aeb087",
   "metadata": {},
   "outputs": [
    {
     "name": "stdout",
     "output_type": "stream",
     "text": [
      "<class 'pandas.core.frame.DataFrame'>\n",
      "Index: 4000 entries, 10650 to 15196\n",
      "Data columns (total 7 columns):\n",
      " #   Column    Non-Null Count  Dtype \n",
      "---  ------    --------------  ----- \n",
      " 0   title     4000 non-null   object\n",
      " 1   text      4000 non-null   object\n",
      " 2   date      4000 non-null   object\n",
      " 3   source    3782 non-null   object\n",
      " 4   author    3811 non-null   object\n",
      " 5   category  4000 non-null   object\n",
      " 6   label     4000 non-null   object\n",
      "dtypes: object(7)\n",
      "memory usage: 250.0+ KB\n"
     ]
    }
   ],
   "source": [
    "test_set.info()"
   ]
  },
  {
   "cell_type": "code",
   "execution_count": 127,
   "id": "75de9170-ece0-4709-aa9f-9bbe112e3bab",
   "metadata": {},
   "outputs": [],
   "source": [
    "## check the null values and  duplicate values"
   ]
  },
  {
   "cell_type": "code",
   "execution_count": 128,
   "id": "fba580cf-5c94-4040-8c7f-6a8dc3876bc0",
   "metadata": {},
   "outputs": [
    {
     "data": {
      "text/plain": [
       "title         0\n",
       "text          0\n",
       "date          0\n",
       "source      218\n",
       "author      189\n",
       "category      0\n",
       "label         0\n",
       "dtype: int64"
      ]
     },
     "execution_count": 128,
     "metadata": {},
     "output_type": "execute_result"
    }
   ],
   "source": [
    "test_set.isnull().sum()"
   ]
  },
  {
   "cell_type": "code",
   "execution_count": 129,
   "id": "3a303733-85f8-4672-bfe3-838375faa763",
   "metadata": {},
   "outputs": [
    {
     "data": {
      "text/plain": [
       "0"
      ]
     },
     "execution_count": 129,
     "metadata": {},
     "output_type": "execute_result"
    }
   ],
   "source": [
    "test_set.duplicated().sum()"
   ]
  },
  {
   "cell_type": "code",
   "execution_count": 130,
   "id": "383c2cb7-d8a0-4aee-835b-616f35606e68",
   "metadata": {},
   "outputs": [],
   "source": [
    "## Get the value counts"
   ]
  },
  {
   "cell_type": "code",
   "execution_count": 131,
   "id": "f0f79bf1-4853-48fe-bf77-a6bc7c3a223d",
   "metadata": {},
   "outputs": [
    {
     "data": {
      "text/plain": [
       "author\n",
       "David Brown              4\n",
       "Mary Williams            3\n",
       "James Smith              3\n",
       "Kenneth Williams         3\n",
       "James Jones              3\n",
       "                        ..\n",
       "Benjamin Bell            1\n",
       "Lauren King              1\n",
       "Mr. Donald Ramirez MD    1\n",
       "Douglas Hill             1\n",
       "Amber Stone              1\n",
       "Name: count, Length: 3712, dtype: int64"
      ]
     },
     "execution_count": 131,
     "metadata": {},
     "output_type": "execute_result"
    }
   ],
   "source": [
    "test_set['author'].value_counts()"
   ]
  },
  {
   "cell_type": "code",
   "execution_count": 132,
   "id": "9d04b3ce-3708-4c63-abd7-9f8fc25b46b1",
   "metadata": {},
   "outputs": [
    {
     "data": {
      "text/plain": [
       "source\n",
       "NY Times        498\n",
       "BBC             480\n",
       "CNN             477\n",
       "Reuters         474\n",
       "Fox News        472\n",
       "Daily News      469\n",
       "Global Times    460\n",
       "The Guardian    452\n",
       "Name: count, dtype: int64"
      ]
     },
     "execution_count": 132,
     "metadata": {},
     "output_type": "execute_result"
    }
   ],
   "source": [
    "test_set['source'].value_counts()"
   ]
  },
  {
   "cell_type": "markdown",
   "id": "a35038e6-daaf-4ccf-98a5-b3cb64347f46",
   "metadata": {},
   "source": [
    "## Explotary Data Analysis (EDA)"
   ]
  },
  {
   "cell_type": "code",
   "execution_count": 133,
   "id": "d5bea86a-55b5-49df-84b8-d3f3dbdca1d7",
   "metadata": {},
   "outputs": [
    {
     "data": {
      "text/plain": [
       "title         0\n",
       "text          0\n",
       "date          0\n",
       "source      218\n",
       "author      189\n",
       "category      0\n",
       "label         0\n",
       "dtype: int64"
      ]
     },
     "execution_count": 133,
     "metadata": {},
     "output_type": "execute_result"
    }
   ],
   "source": [
    "test_set.isnull().sum()"
   ]
  },
  {
   "cell_type": "code",
   "execution_count": 134,
   "id": "310d8518-082a-4914-a4ee-5eacc32cf56b",
   "metadata": {},
   "outputs": [],
   "source": [
    "test_set.fillna({'source':'The Guardian'}, inplace=True)"
   ]
  },
  {
   "cell_type": "code",
   "execution_count": 135,
   "id": "e81ea908-09a6-46fd-aa79-b06f1e805e01",
   "metadata": {},
   "outputs": [
    {
     "data": {
      "text/plain": [
       "0"
      ]
     },
     "execution_count": 135,
     "metadata": {},
     "output_type": "execute_result"
    }
   ],
   "source": [
    "test_set['source'].isnull().sum()"
   ]
  },
  {
   "cell_type": "code",
   "execution_count": 136,
   "id": "9bb62ffc-eb67-4ba7-9738-d3b450ccc8d4",
   "metadata": {},
   "outputs": [],
   "source": [
    "test_set.fillna({'author':'Lauren King'}, inplace=True)"
   ]
  },
  {
   "cell_type": "code",
   "execution_count": 137,
   "id": "17115460-9414-4567-88a0-7d589424cbc7",
   "metadata": {},
   "outputs": [
    {
     "data": {
      "text/plain": [
       "0"
      ]
     },
     "execution_count": 137,
     "metadata": {},
     "output_type": "execute_result"
    }
   ],
   "source": [
    "test_set['author'].isnull().sum()"
   ]
  },
  {
   "cell_type": "code",
   "execution_count": 138,
   "id": "a664eca7-2532-4a9d-aa68-8ce6db3632d5",
   "metadata": {},
   "outputs": [
    {
     "name": "stdout",
     "output_type": "stream",
     "text": [
      "<class 'pandas.core.frame.DataFrame'>\n",
      "Index: 4000 entries, 10650 to 15196\n",
      "Data columns (total 7 columns):\n",
      " #   Column    Non-Null Count  Dtype \n",
      "---  ------    --------------  ----- \n",
      " 0   title     4000 non-null   object\n",
      " 1   text      4000 non-null   object\n",
      " 2   date      4000 non-null   object\n",
      " 3   source    4000 non-null   object\n",
      " 4   author    4000 non-null   object\n",
      " 5   category  4000 non-null   object\n",
      " 6   label     4000 non-null   object\n",
      "dtypes: object(7)\n",
      "memory usage: 250.0+ KB\n"
     ]
    }
   ],
   "source": [
    "test_set.info()"
   ]
  },
  {
   "cell_type": "markdown",
   "id": "4f73b849-c6bb-48c7-abbc-ba5ff92a9b06",
   "metadata": {},
   "source": [
    "#### test preprocessing"
   ]
  },
  {
   "cell_type": "code",
   "execution_count": 139,
   "id": "4745ac28-880c-46a0-9f96-e14a7e1dd019",
   "metadata": {},
   "outputs": [],
   "source": [
    "import string \n",
    "import re"
   ]
  },
  {
   "cell_type": "code",
   "execution_count": 140,
   "id": "4820a8ef-4093-43e7-bb6c-76421ce52f19",
   "metadata": {},
   "outputs": [],
   "source": [
    "## convert the uppercase letters into lowercase letters"
   ]
  },
  {
   "cell_type": "code",
   "execution_count": 141,
   "id": "8595df40-b9d8-4cc1-8629-2f24882944a2",
   "metadata": {},
   "outputs": [
    {
     "data": {
      "text/plain": [
       "10650    society image vote these realize prevent can.\n",
       "2041              red offer dream again specific case.\n",
       "8668                        item nearly develop green.\n",
       "1114                behavior stop billion pm song own.\n",
       "13902           only charge box time spend want woman.\n",
       "Name: title, dtype: object"
      ]
     },
     "execution_count": 141,
     "metadata": {},
     "output_type": "execute_result"
    }
   ],
   "source": [
    "test_set['title']=test_set['title'].apply(lambda x: \" \".join(x.lower() for x  in  x.split()))\n",
    "test_set['title'].head()"
   ]
  },
  {
   "cell_type": "code",
   "execution_count": 142,
   "id": "06160819-0cb6-4696-81c2-c41b2ebffafe",
   "metadata": {},
   "outputs": [
    {
     "data": {
      "text/plain": [
       "10650    better fall appear measure few prepare billion...\n",
       "2041     such east party truth place take tough stuff b...\n",
       "8668     here she wind budget impact who painting role ...\n",
       "1114     better community begin town it case but operat...\n",
       "13902    career court employee whatever religious secon...\n",
       "Name: text, dtype: object"
      ]
     },
     "execution_count": 142,
     "metadata": {},
     "output_type": "execute_result"
    }
   ],
   "source": [
    "test_set['text']=test_set['text'].apply(lambda x:\" \".join(x.lower() for x in x.split()))\n",
    "test_set['text'].head()\n"
   ]
  },
  {
   "cell_type": "code",
   "execution_count": 143,
   "id": "325d431d-5a12-4ee6-8c3a-cb7acefba51e",
   "metadata": {},
   "outputs": [
    {
     "data": {
      "text/plain": [
       "10650    global times\n",
       "2041     the guardian\n",
       "8668          reuters\n",
       "1114              bbc\n",
       "13902    global times\n",
       "Name: source, dtype: object"
      ]
     },
     "execution_count": 143,
     "metadata": {},
     "output_type": "execute_result"
    }
   ],
   "source": [
    "test_set['source']=test_set['source'].apply(lambda x:\" \".join(x.lower() for x in x.split()))\n",
    "test_set['source'].head()"
   ]
  },
  {
   "cell_type": "code",
   "execution_count": 144,
   "id": "681b0156-fca3-472a-a95b-5b35541c0c17",
   "metadata": {},
   "outputs": [
    {
     "data": {
      "text/plain": [
       "10650     william bolton\n",
       "2041        dennis reyes\n",
       "8668         marcus cook\n",
       "1114       lori anderson\n",
       "13902      shawn ramirez\n",
       "              ...       \n",
       "4073       chris santana\n",
       "7442     courtney duncan\n",
       "9999       anthony burke\n",
       "1870     ashley peterson\n",
       "15196        amber stone\n",
       "Name: author, Length: 4000, dtype: object"
      ]
     },
     "execution_count": 144,
     "metadata": {},
     "output_type": "execute_result"
    }
   ],
   "source": [
    "test_set['author']=test_set['author'].apply(lambda x:\" \".join(x.lower() for x in x.split()))\n",
    "test_set['author']"
   ]
  },
  {
   "cell_type": "code",
   "execution_count": 145,
   "id": "6530ee54-cc24-4ab6-b35b-3345ff4e56aa",
   "metadata": {},
   "outputs": [
    {
     "data": {
      "text/plain": [
       "10650       science\n",
       "2041     technology\n",
       "8668         sports\n",
       "1114       business\n",
       "13902      business\n",
       "            ...    \n",
       "4073     technology\n",
       "7442         sports\n",
       "9999         health\n",
       "1870        science\n",
       "15196        sports\n",
       "Name: category, Length: 4000, dtype: object"
      ]
     },
     "execution_count": 145,
     "metadata": {},
     "output_type": "execute_result"
    }
   ],
   "source": [
    "test_set['category']=test_set['category'].apply(lambda x:\" \".join(x.lower() for x in  x.split()))\n",
    "test_set['category']"
   ]
  },
  {
   "cell_type": "code",
   "execution_count": 146,
   "id": "5bcc9855-f935-48f7-ae63-c2a85baf25f2",
   "metadata": {},
   "outputs": [],
   "source": [
    "## Remove the links from the text"
   ]
  },
  {
   "cell_type": "code",
   "execution_count": 147,
   "id": "d90fc223-f563-4575-8938-b7089562c839",
   "metadata": {},
   "outputs": [],
   "source": [
    "train_set['title']=train_set['title'].apply(lambda x: \" \".join(re.sub(r'https?:\\/\\/.*[\\r\\n]*','',x,flags=re.MULTILINE) for x in x.split()))"
   ]
  },
  {
   "cell_type": "code",
   "execution_count": 148,
   "id": "822d1a8d-8344-4b85-90a7-b09af93ac764",
   "metadata": {},
   "outputs": [],
   "source": [
    "test_set['title']=test_set['title'].apply(lambda x:\" \".join(re.sub(r'https?:\\/\\/.*[\\r\\n]*','',x,flags=re.MULTILINE) for x in x.split()))"
   ]
  },
  {
   "cell_type": "code",
   "execution_count": 149,
   "id": "98d49762-f6ab-4702-b034-d945435ae8a2",
   "metadata": {},
   "outputs": [
    {
     "data": {
      "text/plain": [
       "10650    society image vote these realize prevent can.\n",
       "2041              red offer dream again specific case.\n",
       "8668                        item nearly develop green.\n",
       "1114                behavior stop billion pm song own.\n",
       "13902           only charge box time spend want woman.\n",
       "Name: title, dtype: object"
      ]
     },
     "execution_count": 149,
     "metadata": {},
     "output_type": "execute_result"
    }
   ],
   "source": [
    "test_set['title'].head()"
   ]
  },
  {
   "cell_type": "code",
   "execution_count": 150,
   "id": "c7626297-f999-4420-9df5-d6242fc4f60a",
   "metadata": {},
   "outputs": [],
   "source": [
    "test_set['text']=test_set['text'].apply(lambda x:\" \".join(re.sub(r'https?:\\/\\/.*[\\r\\n]*','',x,flags=re.MULTILINE) for x in x.split()))"
   ]
  },
  {
   "cell_type": "code",
   "execution_count": 151,
   "id": "57da33a6-13d1-44b4-b546-0d81a72799f8",
   "metadata": {},
   "outputs": [
    {
     "data": {
      "text/plain": [
       "10650    better fall appear measure few prepare billion...\n",
       "2041     such east party truth place take tough stuff b...\n",
       "8668     here she wind budget impact who painting role ...\n",
       "1114     better community begin town it case but operat...\n",
       "13902    career court employee whatever religious secon...\n",
       "Name: text, dtype: object"
      ]
     },
     "execution_count": 151,
     "metadata": {},
     "output_type": "execute_result"
    }
   ],
   "source": [
    "test_set['text'].head()"
   ]
  },
  {
   "cell_type": "code",
   "execution_count": 152,
   "id": "e792ad9f-d124-4c08-aae3-e26920f7a0b0",
   "metadata": {},
   "outputs": [],
   "source": [
    "test_set['source']=test_set['source'].apply(lambda x:\" \".join(re.sub(r'https?:\\/\\/.*[\\r\\n]*','',x,flags=re.MULTILINE) for x in x.split()))"
   ]
  },
  {
   "cell_type": "code",
   "execution_count": 153,
   "id": "2515e35d-99d0-4700-994a-24daa02b3158",
   "metadata": {},
   "outputs": [
    {
     "data": {
      "text/plain": [
       "10650    global times\n",
       "2041     the guardian\n",
       "8668          reuters\n",
       "1114              bbc\n",
       "13902    global times\n",
       "Name: source, dtype: object"
      ]
     },
     "execution_count": 153,
     "metadata": {},
     "output_type": "execute_result"
    }
   ],
   "source": [
    "test_set['source'].head()"
   ]
  },
  {
   "cell_type": "code",
   "execution_count": 154,
   "id": "05571a43-2072-4636-807e-82d01b16ed5d",
   "metadata": {},
   "outputs": [],
   "source": [
    "test_set['author']=test_set['author'].apply(lambda x:\" \".join(re.sub(r'https?:\\/\\/.*[\\r\\n]*','',x,flags=re.MULTILINE) for x in x.split()))"
   ]
  },
  {
   "cell_type": "code",
   "execution_count": 155,
   "id": "6a28728a-1220-40d6-b95c-7bb4a0701acb",
   "metadata": {},
   "outputs": [
    {
     "data": {
      "text/plain": [
       "10650    william bolton\n",
       "2041       dennis reyes\n",
       "8668        marcus cook\n",
       "1114      lori anderson\n",
       "13902     shawn ramirez\n",
       "Name: author, dtype: object"
      ]
     },
     "execution_count": 155,
     "metadata": {},
     "output_type": "execute_result"
    }
   ],
   "source": [
    "test_set['author'].head()"
   ]
  },
  {
   "cell_type": "code",
   "execution_count": 156,
   "id": "da3b2ae3-bc17-4f41-a2fb-78ca85663e8c",
   "metadata": {},
   "outputs": [],
   "source": [
    "test_set['category']=test_set['category'].apply(lambda x:\" \".join(re.sub(r'https?:\\/\\/.*[\\r\\n]*','',x,flags=re.MULTILINE) for x in x.split()))"
   ]
  },
  {
   "cell_type": "code",
   "execution_count": 157,
   "id": "97877216-a007-4d3f-8e1b-3b4ac0212fd7",
   "metadata": {},
   "outputs": [
    {
     "data": {
      "text/plain": [
       "10650       science\n",
       "2041     technology\n",
       "8668         sports\n",
       "1114       business\n",
       "13902      business\n",
       "            ...    \n",
       "4073     technology\n",
       "7442         sports\n",
       "9999         health\n",
       "1870        science\n",
       "15196        sports\n",
       "Name: category, Length: 4000, dtype: object"
      ]
     },
     "execution_count": 157,
     "metadata": {},
     "output_type": "execute_result"
    }
   ],
   "source": [
    "test_set['category']"
   ]
  },
  {
   "cell_type": "code",
   "execution_count": 158,
   "id": "ac4e6f6d-b533-42a9-8cf3-de9cdf04de08",
   "metadata": {},
   "outputs": [],
   "source": [
    "## Remove the punctuations from text"
   ]
  },
  {
   "cell_type": "code",
   "execution_count": 159,
   "id": "04fdf562-633a-4981-86b0-2b8e366c16a1",
   "metadata": {},
   "outputs": [
    {
     "data": {
      "text/plain": [
       "'!\"#$%&\\'()*+,-./:;<=>?@[\\\\]^_`{|}~'"
      ]
     },
     "execution_count": 159,
     "metadata": {},
     "output_type": "execute_result"
    }
   ],
   "source": [
    "string.punctuation"
   ]
  },
  {
   "cell_type": "code",
   "execution_count": 160,
   "id": "a61c3459-5ed3-4b2f-b3b6-5f0645e45f9d",
   "metadata": {},
   "outputs": [],
   "source": [
    "def remove_punctuation(text):\n",
    "    for punctuations in string.punctuation:\n",
    "        text=text.replace(punctuations,'')\n",
    "    return text"
   ]
  },
  {
   "cell_type": "code",
   "execution_count": 161,
   "id": "10526814-094c-409f-ad52-842e19666fa3",
   "metadata": {},
   "outputs": [],
   "source": [
    "test_set['title']=test_set['title'].apply(remove_punctuation)\n",
    "test_set['text']=test_set['text'].apply(remove_punctuation)\n",
    "test_set['source']=test_set['source'].apply(remove_punctuation)\n",
    "test_set['author']=test_set['author'].apply(remove_punctuation)\n",
    "test_set['category']=test_set['category'].apply(remove_punctuation)"
   ]
  },
  {
   "cell_type": "code",
   "execution_count": 162,
   "id": "a24cde91-dcd7-4b48-a3eb-a5e6b55a80ad",
   "metadata": {},
   "outputs": [
    {
     "data": {
      "text/html": [
       "<div>\n",
       "<style scoped>\n",
       "    .dataframe tbody tr th:only-of-type {\n",
       "        vertical-align: middle;\n",
       "    }\n",
       "\n",
       "    .dataframe tbody tr th {\n",
       "        vertical-align: top;\n",
       "    }\n",
       "\n",
       "    .dataframe thead th {\n",
       "        text-align: right;\n",
       "    }\n",
       "</style>\n",
       "<table border=\"1\" class=\"dataframe\">\n",
       "  <thead>\n",
       "    <tr style=\"text-align: right;\">\n",
       "      <th></th>\n",
       "      <th>title</th>\n",
       "      <th>text</th>\n",
       "      <th>date</th>\n",
       "      <th>source</th>\n",
       "      <th>author</th>\n",
       "      <th>category</th>\n",
       "      <th>label</th>\n",
       "    </tr>\n",
       "  </thead>\n",
       "  <tbody>\n",
       "    <tr>\n",
       "      <th>10650</th>\n",
       "      <td>society image vote these realize prevent can</td>\n",
       "      <td>better fall appear measure few prepare billion...</td>\n",
       "      <td>2024-04-23</td>\n",
       "      <td>global times</td>\n",
       "      <td>william bolton</td>\n",
       "      <td>science</td>\n",
       "      <td>real</td>\n",
       "    </tr>\n",
       "    <tr>\n",
       "      <th>2041</th>\n",
       "      <td>red offer dream again specific case</td>\n",
       "      <td>such east party truth place take tough stuff b...</td>\n",
       "      <td>2024-04-23</td>\n",
       "      <td>the guardian</td>\n",
       "      <td>dennis reyes</td>\n",
       "      <td>technology</td>\n",
       "      <td>real</td>\n",
       "    </tr>\n",
       "    <tr>\n",
       "      <th>8668</th>\n",
       "      <td>item nearly develop green</td>\n",
       "      <td>here she wind budget impact who painting role ...</td>\n",
       "      <td>2023-01-02</td>\n",
       "      <td>reuters</td>\n",
       "      <td>marcus cook</td>\n",
       "      <td>sports</td>\n",
       "      <td>fake</td>\n",
       "    </tr>\n",
       "    <tr>\n",
       "      <th>1114</th>\n",
       "      <td>behavior stop billion pm song own</td>\n",
       "      <td>better community begin town it case but operat...</td>\n",
       "      <td>2023-04-29</td>\n",
       "      <td>bbc</td>\n",
       "      <td>lori anderson</td>\n",
       "      <td>business</td>\n",
       "      <td>real</td>\n",
       "    </tr>\n",
       "    <tr>\n",
       "      <th>13902</th>\n",
       "      <td>only charge box time spend want woman</td>\n",
       "      <td>career court employee whatever religious secon...</td>\n",
       "      <td>2025-03-30</td>\n",
       "      <td>global times</td>\n",
       "      <td>shawn ramirez</td>\n",
       "      <td>business</td>\n",
       "      <td>real</td>\n",
       "    </tr>\n",
       "  </tbody>\n",
       "</table>\n",
       "</div>"
      ],
      "text/plain": [
       "                                              title  \\\n",
       "10650  society image vote these realize prevent can   \n",
       "2041            red offer dream again specific case   \n",
       "8668                      item nearly develop green   \n",
       "1114              behavior stop billion pm song own   \n",
       "13902         only charge box time spend want woman   \n",
       "\n",
       "                                                    text        date  \\\n",
       "10650  better fall appear measure few prepare billion...  2024-04-23   \n",
       "2041   such east party truth place take tough stuff b...  2024-04-23   \n",
       "8668   here she wind budget impact who painting role ...  2023-01-02   \n",
       "1114   better community begin town it case but operat...  2023-04-29   \n",
       "13902  career court employee whatever religious secon...  2025-03-30   \n",
       "\n",
       "             source          author    category label  \n",
       "10650  global times  william bolton     science  real  \n",
       "2041   the guardian    dennis reyes  technology  real  \n",
       "8668        reuters     marcus cook      sports  fake  \n",
       "1114            bbc   lori anderson    business  real  \n",
       "13902  global times   shawn ramirez    business  real  "
      ]
     },
     "execution_count": 162,
     "metadata": {},
     "output_type": "execute_result"
    }
   ],
   "source": [
    "test_set.head()"
   ]
  },
  {
   "cell_type": "code",
   "execution_count": 175,
   "id": "91f91c8f-0b1c-46c7-8cc5-0160e7b1dc6e",
   "metadata": {},
   "outputs": [],
   "source": [
    "## Remove the numbers from text"
   ]
  },
  {
   "cell_type": "code",
   "execution_count": 163,
   "id": "ad78b352-0ee2-4a2d-bd48-0242d217a15d",
   "metadata": {},
   "outputs": [
    {
     "name": "stderr",
     "output_type": "stream",
     "text": [
      "<>:1: SyntaxWarning: invalid escape sequence '\\d'\n",
      "<>:1: SyntaxWarning: invalid escape sequence '\\d'\n",
      "C:\\Users\\THIS PC\\AppData\\Local\\Temp\\ipykernel_34456\\2364027315.py:1: SyntaxWarning: invalid escape sequence '\\d'\n",
      "  train_set['title']=train_set['title'].str.replace('\\d+','',regex=True)\n"
     ]
    }
   ],
   "source": [
    "train_set['title']=train_set['title'].str.replace('\\d+','',regex=True)"
   ]
  },
  {
   "cell_type": "code",
   "execution_count": 165,
   "id": "0d464fa4-70c9-4757-8c96-ade78c4111a3",
   "metadata": {},
   "outputs": [
    {
     "name": "stderr",
     "output_type": "stream",
     "text": [
      "<>:1: SyntaxWarning: invalid escape sequence '\\d'\n",
      "<>:1: SyntaxWarning: invalid escape sequence '\\d'\n",
      "C:\\Users\\THIS PC\\AppData\\Local\\Temp\\ipykernel_34456\\1299888675.py:1: SyntaxWarning: invalid escape sequence '\\d'\n",
      "  test_set['title']=test_set['title'].str.replace('\\d+','',regex=True)\n"
     ]
    }
   ],
   "source": [
    "test_set['title']=test_set['title'].str.replace('\\d+','',regex=True)"
   ]
  },
  {
   "cell_type": "code",
   "execution_count": 166,
   "id": "6c942c2c-8269-4a2e-b2fe-a9a382b11c2f",
   "metadata": {},
   "outputs": [
    {
     "name": "stderr",
     "output_type": "stream",
     "text": [
      "<>:1: SyntaxWarning: invalid escape sequence '\\d'\n",
      "<>:1: SyntaxWarning: invalid escape sequence '\\d'\n",
      "C:\\Users\\THIS PC\\AppData\\Local\\Temp\\ipykernel_34456\\3230555235.py:1: SyntaxWarning: invalid escape sequence '\\d'\n",
      "  test_set['source']=test_set['source'].str.replace('\\d+','',regex=True)\n"
     ]
    }
   ],
   "source": [
    "test_set['source']=test_set['source'].str.replace('\\d+','',regex=True)"
   ]
  },
  {
   "cell_type": "code",
   "execution_count": 176,
   "id": "c65fa3b7-953a-458d-b17b-ba9071b3f23e",
   "metadata": {},
   "outputs": [
    {
     "name": "stderr",
     "output_type": "stream",
     "text": [
      "<>:1: SyntaxWarning: invalid escape sequence '\\d'\n",
      "<>:1: SyntaxWarning: invalid escape sequence '\\d'\n",
      "C:\\Users\\THIS PC\\AppData\\Local\\Temp\\ipykernel_34456\\199525953.py:1: SyntaxWarning: invalid escape sequence '\\d'\n",
      "  test_set['author']=test_set['author'].str.replace('\\d+','',regex=True)\n"
     ]
    }
   ],
   "source": [
    "test_set['author']=test_set['author'].str.replace('\\d+','',regex=True)"
   ]
  },
  {
   "cell_type": "code",
   "execution_count": 177,
   "id": "3180aa8c-f120-488b-a9cc-fbaa195cb8ba",
   "metadata": {},
   "outputs": [
    {
     "name": "stderr",
     "output_type": "stream",
     "text": [
      "<>:1: SyntaxWarning: invalid escape sequence '\\d'\n",
      "<>:1: SyntaxWarning: invalid escape sequence '\\d'\n",
      "C:\\Users\\THIS PC\\AppData\\Local\\Temp\\ipykernel_34456\\1196388802.py:1: SyntaxWarning: invalid escape sequence '\\d'\n",
      "  test_set['category']=test_set['category'].str.replace('\\d+','',regex=True)\n"
     ]
    }
   ],
   "source": [
    "test_set['category']=test_set['category'].str.replace('\\d+','',regex=True)"
   ]
  },
  {
   "cell_type": "code",
   "execution_count": 178,
   "id": "b609c124-54af-4a82-94e2-98dd544fe58b",
   "metadata": {},
   "outputs": [
    {
     "data": {
      "text/html": [
       "<div>\n",
       "<style scoped>\n",
       "    .dataframe tbody tr th:only-of-type {\n",
       "        vertical-align: middle;\n",
       "    }\n",
       "\n",
       "    .dataframe tbody tr th {\n",
       "        vertical-align: top;\n",
       "    }\n",
       "\n",
       "    .dataframe thead th {\n",
       "        text-align: right;\n",
       "    }\n",
       "</style>\n",
       "<table border=\"1\" class=\"dataframe\">\n",
       "  <thead>\n",
       "    <tr style=\"text-align: right;\">\n",
       "      <th></th>\n",
       "      <th>title</th>\n",
       "      <th>text</th>\n",
       "      <th>date</th>\n",
       "      <th>source</th>\n",
       "      <th>author</th>\n",
       "      <th>category</th>\n",
       "      <th>label</th>\n",
       "    </tr>\n",
       "  </thead>\n",
       "  <tbody>\n",
       "    <tr>\n",
       "      <th>10650</th>\n",
       "      <td>society image vote these realize prevent can</td>\n",
       "      <td>better fall appear measure few prepare billion...</td>\n",
       "      <td>2024-04-23</td>\n",
       "      <td>global times</td>\n",
       "      <td>william bolton</td>\n",
       "      <td>science</td>\n",
       "      <td>real</td>\n",
       "    </tr>\n",
       "    <tr>\n",
       "      <th>2041</th>\n",
       "      <td>red offer dream again specific case</td>\n",
       "      <td>such east party truth place take tough stuff b...</td>\n",
       "      <td>2024-04-23</td>\n",
       "      <td>the guardian</td>\n",
       "      <td>dennis reyes</td>\n",
       "      <td>technology</td>\n",
       "      <td>real</td>\n",
       "    </tr>\n",
       "    <tr>\n",
       "      <th>8668</th>\n",
       "      <td>item nearly develop green</td>\n",
       "      <td>here she wind budget impact who painting role ...</td>\n",
       "      <td>2023-01-02</td>\n",
       "      <td>reuters</td>\n",
       "      <td>marcus cook</td>\n",
       "      <td>sports</td>\n",
       "      <td>fake</td>\n",
       "    </tr>\n",
       "    <tr>\n",
       "      <th>1114</th>\n",
       "      <td>behavior stop billion pm song own</td>\n",
       "      <td>better community begin town it case but operat...</td>\n",
       "      <td>2023-04-29</td>\n",
       "      <td>bbc</td>\n",
       "      <td>lori anderson</td>\n",
       "      <td>business</td>\n",
       "      <td>real</td>\n",
       "    </tr>\n",
       "    <tr>\n",
       "      <th>13902</th>\n",
       "      <td>only charge box time spend want woman</td>\n",
       "      <td>career court employee whatever religious secon...</td>\n",
       "      <td>2025-03-30</td>\n",
       "      <td>global times</td>\n",
       "      <td>shawn ramirez</td>\n",
       "      <td>business</td>\n",
       "      <td>real</td>\n",
       "    </tr>\n",
       "  </tbody>\n",
       "</table>\n",
       "</div>"
      ],
      "text/plain": [
       "                                              title  \\\n",
       "10650  society image vote these realize prevent can   \n",
       "2041            red offer dream again specific case   \n",
       "8668                      item nearly develop green   \n",
       "1114              behavior stop billion pm song own   \n",
       "13902         only charge box time spend want woman   \n",
       "\n",
       "                                                    text        date  \\\n",
       "10650  better fall appear measure few prepare billion...  2024-04-23   \n",
       "2041   such east party truth place take tough stuff b...  2024-04-23   \n",
       "8668   here she wind budget impact who painting role ...  2023-01-02   \n",
       "1114   better community begin town it case but operat...  2023-04-29   \n",
       "13902  career court employee whatever religious secon...  2025-03-30   \n",
       "\n",
       "             source          author    category label  \n",
       "10650  global times  william bolton     science  real  \n",
       "2041   the guardian    dennis reyes  technology  real  \n",
       "8668        reuters     marcus cook      sports  fake  \n",
       "1114            bbc   lori anderson    business  real  \n",
       "13902  global times   shawn ramirez    business  real  "
      ]
     },
     "execution_count": 178,
     "metadata": {},
     "output_type": "execute_result"
    }
   ],
   "source": [
    "test_set.head()"
   ]
  },
  {
   "cell_type": "code",
   "execution_count": 179,
   "id": "fdf65000-0628-4f09-8d0a-8545bd126fba",
   "metadata": {},
   "outputs": [],
   "source": [
    "### stemming technique"
   ]
  },
  {
   "cell_type": "code",
   "execution_count": 180,
   "id": "0dca18a7-0c83-4e08-bd2c-db7398f5d77a",
   "metadata": {},
   "outputs": [
    {
     "name": "stderr",
     "output_type": "stream",
     "text": [
      "[nltk_data] Downloading package stopwords to stopwords1/...\n",
      "[nltk_data]   Unzipping corpora\\stopwords.zip.\n"
     ]
    },
    {
     "data": {
      "text/plain": [
       "True"
      ]
     },
     "execution_count": 180,
     "metadata": {},
     "output_type": "execute_result"
    }
   ],
   "source": [
    "import nltk\n",
    "nltk.download(\"stopwords\",download_dir=\"stopwords1/\")"
   ]
  },
  {
   "cell_type": "code",
   "execution_count": 182,
   "id": "043b3bd6-31b0-4ebb-bbd6-5225dff753d2",
   "metadata": {},
   "outputs": [],
   "source": [
    "with open(\"stopwords1/corpora/stopwords/english\", 'r') as file:\n",
    "    sw_test=file.read().splitlines()"
   ]
  },
  {
   "cell_type": "code",
   "execution_count": 184,
   "id": "30269a58-530b-461e-86c1-3ef066417536",
   "metadata": {},
   "outputs": [
    {
     "data": {
      "text/plain": [
       "['a',\n",
       " 'about',\n",
       " 'above',\n",
       " 'after',\n",
       " 'again',\n",
       " 'against',\n",
       " 'ain',\n",
       " 'all',\n",
       " 'am',\n",
       " 'an',\n",
       " 'and',\n",
       " 'any',\n",
       " 'are',\n",
       " 'aren',\n",
       " \"aren't\",\n",
       " 'as',\n",
       " 'at',\n",
       " 'be',\n",
       " 'because',\n",
       " 'been',\n",
       " 'before',\n",
       " 'being',\n",
       " 'below',\n",
       " 'between',\n",
       " 'both',\n",
       " 'but',\n",
       " 'by',\n",
       " 'can',\n",
       " 'couldn',\n",
       " \"couldn't\",\n",
       " 'd',\n",
       " 'did',\n",
       " 'didn',\n",
       " \"didn't\",\n",
       " 'do',\n",
       " 'does',\n",
       " 'doesn',\n",
       " \"doesn't\",\n",
       " 'doing',\n",
       " 'don',\n",
       " \"don't\",\n",
       " 'down',\n",
       " 'during',\n",
       " 'each',\n",
       " 'few',\n",
       " 'for',\n",
       " 'from',\n",
       " 'further',\n",
       " 'had',\n",
       " 'hadn',\n",
       " \"hadn't\",\n",
       " 'has',\n",
       " 'hasn',\n",
       " \"hasn't\",\n",
       " 'have',\n",
       " 'haven',\n",
       " \"haven't\",\n",
       " 'having',\n",
       " 'he',\n",
       " \"he'd\",\n",
       " \"he'll\",\n",
       " 'her',\n",
       " 'here',\n",
       " 'hers',\n",
       " 'herself',\n",
       " \"he's\",\n",
       " 'him',\n",
       " 'himself',\n",
       " 'his',\n",
       " 'how',\n",
       " 'i',\n",
       " \"i'd\",\n",
       " 'if',\n",
       " \"i'll\",\n",
       " \"i'm\",\n",
       " 'in',\n",
       " 'into',\n",
       " 'is',\n",
       " 'isn',\n",
       " \"isn't\",\n",
       " 'it',\n",
       " \"it'd\",\n",
       " \"it'll\",\n",
       " \"it's\",\n",
       " 'its',\n",
       " 'itself',\n",
       " \"i've\",\n",
       " 'just',\n",
       " 'll',\n",
       " 'm',\n",
       " 'ma',\n",
       " 'me',\n",
       " 'mightn',\n",
       " \"mightn't\",\n",
       " 'more',\n",
       " 'most',\n",
       " 'mustn',\n",
       " \"mustn't\",\n",
       " 'my',\n",
       " 'myself',\n",
       " 'needn',\n",
       " \"needn't\",\n",
       " 'no',\n",
       " 'nor',\n",
       " 'not',\n",
       " 'now',\n",
       " 'o',\n",
       " 'of',\n",
       " 'off',\n",
       " 'on',\n",
       " 'once',\n",
       " 'only',\n",
       " 'or',\n",
       " 'other',\n",
       " 'our',\n",
       " 'ours',\n",
       " 'ourselves',\n",
       " 'out',\n",
       " 'over',\n",
       " 'own',\n",
       " 're',\n",
       " 's',\n",
       " 'same',\n",
       " 'shan',\n",
       " \"shan't\",\n",
       " 'she',\n",
       " \"she'd\",\n",
       " \"she'll\",\n",
       " \"she's\",\n",
       " 'should',\n",
       " 'shouldn',\n",
       " \"shouldn't\",\n",
       " \"should've\",\n",
       " 'so',\n",
       " 'some',\n",
       " 'such',\n",
       " 't',\n",
       " 'than',\n",
       " 'that',\n",
       " \"that'll\",\n",
       " 'the',\n",
       " 'their',\n",
       " 'theirs',\n",
       " 'them',\n",
       " 'themselves',\n",
       " 'then',\n",
       " 'there',\n",
       " 'these',\n",
       " 'they',\n",
       " \"they'd\",\n",
       " \"they'll\",\n",
       " \"they're\",\n",
       " \"they've\",\n",
       " 'this',\n",
       " 'those',\n",
       " 'through',\n",
       " 'to',\n",
       " 'too',\n",
       " 'under',\n",
       " 'until',\n",
       " 'up',\n",
       " 've',\n",
       " 'very',\n",
       " 'was',\n",
       " 'wasn',\n",
       " \"wasn't\",\n",
       " 'we',\n",
       " \"we'd\",\n",
       " \"we'll\",\n",
       " \"we're\",\n",
       " 'were',\n",
       " 'weren',\n",
       " \"weren't\",\n",
       " \"we've\",\n",
       " 'what',\n",
       " 'when',\n",
       " 'where',\n",
       " 'which',\n",
       " 'while',\n",
       " 'who',\n",
       " 'whom',\n",
       " 'why',\n",
       " 'will',\n",
       " 'with',\n",
       " 'won',\n",
       " \"won't\",\n",
       " 'wouldn',\n",
       " \"wouldn't\",\n",
       " 'y',\n",
       " 'you',\n",
       " \"you'd\",\n",
       " \"you'll\",\n",
       " 'your',\n",
       " \"you're\",\n",
       " 'yours',\n",
       " 'yourself',\n",
       " 'yourselves',\n",
       " \"you've\"]"
      ]
     },
     "execution_count": 184,
     "metadata": {},
     "output_type": "execute_result"
    }
   ],
   "source": [
    "sw_test"
   ]
  },
  {
   "cell_type": "code",
   "execution_count": 185,
   "id": "143db436-5e6c-4fd4-999f-28b4f04b280d",
   "metadata": {},
   "outputs": [],
   "source": [
    "test_set['title']=test_set['title'].apply(lambda x:\" \".join(x for x in x.split() if x not in sw_test))"
   ]
  },
  {
   "cell_type": "code",
   "execution_count": 189,
   "id": "44fdb548-2f1f-41af-a79c-5bf3b941b037",
   "metadata": {},
   "outputs": [],
   "source": [
    "test_set['source']=test_set['source'].apply(lambda x:\" \".join(x for x in x.split() if x not in sw_test))"
   ]
  },
  {
   "cell_type": "code",
   "execution_count": 190,
   "id": "631b2cb7-4690-4872-900a-0b412133fd4b",
   "metadata": {},
   "outputs": [],
   "source": [
    "test_set['author']=test_set['author'].apply(lambda x:\" \".join(x for x in x.split() if x not in sw_test))"
   ]
  },
  {
   "cell_type": "code",
   "execution_count": 191,
   "id": "40f88dca-0985-4ca8-8de0-632049797c20",
   "metadata": {},
   "outputs": [],
   "source": [
    "test_set['text']=test_set['text'].apply(lambda x:\" \".join(x for x in x.split() if x not in sw_test))"
   ]
  },
  {
   "cell_type": "code",
   "execution_count": 193,
   "id": "56166945-5ac5-4082-b344-29acceaaff7e",
   "metadata": {},
   "outputs": [],
   "source": [
    "test_set['category']=test_set['category'].apply(lambda x:\" \".join(x for x in x.split() if x not in sw_test))"
   ]
  },
  {
   "cell_type": "code",
   "execution_count": 194,
   "id": "2084f6df-4a26-4550-a3f6-baf1ab971243",
   "metadata": {},
   "outputs": [
    {
     "data": {
      "text/html": [
       "<div>\n",
       "<style scoped>\n",
       "    .dataframe tbody tr th:only-of-type {\n",
       "        vertical-align: middle;\n",
       "    }\n",
       "\n",
       "    .dataframe tbody tr th {\n",
       "        vertical-align: top;\n",
       "    }\n",
       "\n",
       "    .dataframe thead th {\n",
       "        text-align: right;\n",
       "    }\n",
       "</style>\n",
       "<table border=\"1\" class=\"dataframe\">\n",
       "  <thead>\n",
       "    <tr style=\"text-align: right;\">\n",
       "      <th></th>\n",
       "      <th>title</th>\n",
       "      <th>text</th>\n",
       "      <th>date</th>\n",
       "      <th>source</th>\n",
       "      <th>author</th>\n",
       "      <th>category</th>\n",
       "      <th>label</th>\n",
       "    </tr>\n",
       "  </thead>\n",
       "  <tbody>\n",
       "    <tr>\n",
       "      <th>10650</th>\n",
       "      <td>society image vote realize prevent</td>\n",
       "      <td>better fall appear measure prepare billion inc...</td>\n",
       "      <td>2024-04-23</td>\n",
       "      <td>global times</td>\n",
       "      <td>william bolton</td>\n",
       "      <td>science</td>\n",
       "      <td>real</td>\n",
       "    </tr>\n",
       "    <tr>\n",
       "      <th>2041</th>\n",
       "      <td>red offer dream specific case</td>\n",
       "      <td>east party truth place take tough stuff behind...</td>\n",
       "      <td>2024-04-23</td>\n",
       "      <td>guardian</td>\n",
       "      <td>dennis reyes</td>\n",
       "      <td>technology</td>\n",
       "      <td>real</td>\n",
       "    </tr>\n",
       "    <tr>\n",
       "      <th>8668</th>\n",
       "      <td>item nearly develop green</td>\n",
       "      <td>wind budget impact painting role occur life en...</td>\n",
       "      <td>2023-01-02</td>\n",
       "      <td>reuters</td>\n",
       "      <td>marcus cook</td>\n",
       "      <td>sports</td>\n",
       "      <td>fake</td>\n",
       "    </tr>\n",
       "    <tr>\n",
       "      <th>1114</th>\n",
       "      <td>behavior stop billion pm song</td>\n",
       "      <td>better community begin town case operation sto...</td>\n",
       "      <td>2023-04-29</td>\n",
       "      <td>bbc</td>\n",
       "      <td>lori anderson</td>\n",
       "      <td>business</td>\n",
       "      <td>real</td>\n",
       "    </tr>\n",
       "    <tr>\n",
       "      <th>13902</th>\n",
       "      <td>charge box time spend want woman</td>\n",
       "      <td>career court employee whatever religious secon...</td>\n",
       "      <td>2025-03-30</td>\n",
       "      <td>global times</td>\n",
       "      <td>shawn ramirez</td>\n",
       "      <td>business</td>\n",
       "      <td>real</td>\n",
       "    </tr>\n",
       "  </tbody>\n",
       "</table>\n",
       "</div>"
      ],
      "text/plain": [
       "                                    title  \\\n",
       "10650  society image vote realize prevent   \n",
       "2041        red offer dream specific case   \n",
       "8668            item nearly develop green   \n",
       "1114        behavior stop billion pm song   \n",
       "13902    charge box time spend want woman   \n",
       "\n",
       "                                                    text        date  \\\n",
       "10650  better fall appear measure prepare billion inc...  2024-04-23   \n",
       "2041   east party truth place take tough stuff behind...  2024-04-23   \n",
       "8668   wind budget impact painting role occur life en...  2023-01-02   \n",
       "1114   better community begin town case operation sto...  2023-04-29   \n",
       "13902  career court employee whatever religious secon...  2025-03-30   \n",
       "\n",
       "             source          author    category label  \n",
       "10650  global times  william bolton     science  real  \n",
       "2041       guardian    dennis reyes  technology  real  \n",
       "8668        reuters     marcus cook      sports  fake  \n",
       "1114            bbc   lori anderson    business  real  \n",
       "13902  global times   shawn ramirez    business  real  "
      ]
     },
     "execution_count": 194,
     "metadata": {},
     "output_type": "execute_result"
    }
   ],
   "source": [
    "test_set.head()"
   ]
  },
  {
   "cell_type": "code",
   "execution_count": 195,
   "id": "25f0679d-fd03-4c3b-9155-4216925e6a00",
   "metadata": {},
   "outputs": [],
   "source": [
    "## stemming technique"
   ]
  },
  {
   "cell_type": "code",
   "execution_count": 196,
   "id": "09e279de-f906-4677-bc94-740bee82dfe1",
   "metadata": {},
   "outputs": [],
   "source": [
    "from nltk.stem import PorterStemmer\n",
    "ps=PorterStemmer()"
   ]
  },
  {
   "cell_type": "code",
   "execution_count": 197,
   "id": "4c112e55-5d71-42d3-b7cb-d29f29124c60",
   "metadata": {},
   "outputs": [],
   "source": [
    "test_set['title']=test_set['title'].apply(lambda x:\" \".join(ps.stem(x) for x in x.split()))"
   ]
  },
  {
   "cell_type": "code",
   "execution_count": 199,
   "id": "575f0da6-69dd-4192-bb10-f40e559e07d9",
   "metadata": {},
   "outputs": [],
   "source": [
    "test_set['text']=test_set['text'].apply(lambda x:\" \".join(ps.stem(x) for x in x.split()))"
   ]
  },
  {
   "cell_type": "code",
   "execution_count": 200,
   "id": "cb63315c-6c5d-4936-a79a-53742097eaa3",
   "metadata": {},
   "outputs": [],
   "source": [
    "test_set['source']=test_set['source'].apply(lambda x:\" \".join(ps.stem(x) for x in  x.split()))"
   ]
  },
  {
   "cell_type": "code",
   "execution_count": 201,
   "id": "f2c21801-3684-40ce-b6ec-1a2dff3ed866",
   "metadata": {},
   "outputs": [],
   "source": [
    "test_set['author']=test_set['author'].apply(lambda x:\" \".join(ps.stem(x) for x in x.split()))"
   ]
  },
  {
   "cell_type": "code",
   "execution_count": 202,
   "id": "2f9765ab-d215-4668-8063-c9760166e56a",
   "metadata": {},
   "outputs": [],
   "source": [
    "test_set['category']=test_set['category'].apply(lambda x:\" \".join(ps.stem(x) for x in x.split()))"
   ]
  },
  {
   "cell_type": "code",
   "execution_count": 203,
   "id": "8f81fea0-67ed-4eb0-b6e1-8cea4273cdf6",
   "metadata": {},
   "outputs": [
    {
     "data": {
      "text/html": [
       "<div>\n",
       "<style scoped>\n",
       "    .dataframe tbody tr th:only-of-type {\n",
       "        vertical-align: middle;\n",
       "    }\n",
       "\n",
       "    .dataframe tbody tr th {\n",
       "        vertical-align: top;\n",
       "    }\n",
       "\n",
       "    .dataframe thead th {\n",
       "        text-align: right;\n",
       "    }\n",
       "</style>\n",
       "<table border=\"1\" class=\"dataframe\">\n",
       "  <thead>\n",
       "    <tr style=\"text-align: right;\">\n",
       "      <th></th>\n",
       "      <th>title</th>\n",
       "      <th>text</th>\n",
       "      <th>date</th>\n",
       "      <th>source</th>\n",
       "      <th>author</th>\n",
       "      <th>category</th>\n",
       "      <th>label</th>\n",
       "    </tr>\n",
       "  </thead>\n",
       "  <tbody>\n",
       "    <tr>\n",
       "      <th>10650</th>\n",
       "      <td>societi imag vote realiz prevent</td>\n",
       "      <td>better fall appear measur prepar billion incre...</td>\n",
       "      <td>2024-04-23</td>\n",
       "      <td>global time</td>\n",
       "      <td>william bolton</td>\n",
       "      <td>scienc</td>\n",
       "      <td>real</td>\n",
       "    </tr>\n",
       "    <tr>\n",
       "      <th>2041</th>\n",
       "      <td>red offer dream specif case</td>\n",
       "      <td>east parti truth place take tough stuff behind...</td>\n",
       "      <td>2024-04-23</td>\n",
       "      <td>guardian</td>\n",
       "      <td>denni rey</td>\n",
       "      <td>technolog</td>\n",
       "      <td>real</td>\n",
       "    </tr>\n",
       "    <tr>\n",
       "      <th>8668</th>\n",
       "      <td>item nearli develop green</td>\n",
       "      <td>wind budget impact paint role occur life enjoy...</td>\n",
       "      <td>2023-01-02</td>\n",
       "      <td>reuter</td>\n",
       "      <td>marcu cook</td>\n",
       "      <td>sport</td>\n",
       "      <td>fake</td>\n",
       "    </tr>\n",
       "    <tr>\n",
       "      <th>1114</th>\n",
       "      <td>behavior stop billion pm song</td>\n",
       "      <td>better commun begin town case oper stori produ...</td>\n",
       "      <td>2023-04-29</td>\n",
       "      <td>bbc</td>\n",
       "      <td>lori anderson</td>\n",
       "      <td>busi</td>\n",
       "      <td>real</td>\n",
       "    </tr>\n",
       "    <tr>\n",
       "      <th>13902</th>\n",
       "      <td>charg box time spend want woman</td>\n",
       "      <td>career court employe whatev religi second answ...</td>\n",
       "      <td>2025-03-30</td>\n",
       "      <td>global time</td>\n",
       "      <td>shawn ramirez</td>\n",
       "      <td>busi</td>\n",
       "      <td>real</td>\n",
       "    </tr>\n",
       "  </tbody>\n",
       "</table>\n",
       "</div>"
      ],
      "text/plain": [
       "                                  title  \\\n",
       "10650  societi imag vote realiz prevent   \n",
       "2041        red offer dream specif case   \n",
       "8668          item nearli develop green   \n",
       "1114      behavior stop billion pm song   \n",
       "13902   charg box time spend want woman   \n",
       "\n",
       "                                                    text        date  \\\n",
       "10650  better fall appear measur prepar billion incre...  2024-04-23   \n",
       "2041   east parti truth place take tough stuff behind...  2024-04-23   \n",
       "8668   wind budget impact paint role occur life enjoy...  2023-01-02   \n",
       "1114   better commun begin town case oper stori produ...  2023-04-29   \n",
       "13902  career court employe whatev religi second answ...  2025-03-30   \n",
       "\n",
       "            source          author   category label  \n",
       "10650  global time  william bolton     scienc  real  \n",
       "2041      guardian       denni rey  technolog  real  \n",
       "8668        reuter      marcu cook      sport  fake  \n",
       "1114           bbc   lori anderson       busi  real  \n",
       "13902  global time   shawn ramirez       busi  real  "
      ]
     },
     "execution_count": 203,
     "metadata": {},
     "output_type": "execute_result"
    }
   ],
   "source": [
    "test_set.head()"
   ]
  },
  {
   "cell_type": "code",
   "execution_count": null,
   "id": "e0d8a048-f980-4580-b979-057462305da1",
   "metadata": {},
   "outputs": [],
   "source": []
  }
 ],
 "metadata": {
  "kernelspec": {
   "display_name": "Python 3 (ipykernel)",
   "language": "python",
   "name": "python3"
  },
  "language_info": {
   "codemirror_mode": {
    "name": "ipython",
    "version": 3
   },
   "file_extension": ".py",
   "mimetype": "text/x-python",
   "name": "python",
   "nbconvert_exporter": "python",
   "pygments_lexer": "ipython3",
   "version": "3.12.1"
  }
 },
 "nbformat": 4,
 "nbformat_minor": 5
}
