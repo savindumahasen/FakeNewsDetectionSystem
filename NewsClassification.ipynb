{
 "cells": [
  {
   "cell_type": "code",
   "execution_count": 1,
   "id": "a7b2aa64-ff93-4ded-9720-47598150687a",
   "metadata": {},
   "outputs": [],
   "source": [
    "import pandas as pd\n",
    "import seaborn as sns"
   ]
  },
  {
   "cell_type": "code",
   "execution_count": 2,
   "id": "9abd5bf9-7773-4a00-a75d-339a08baa12e",
   "metadata": {},
   "outputs": [
    {
     "data": {
      "text/html": [
       "<div>\n",
       "<style scoped>\n",
       "    .dataframe tbody tr th:only-of-type {\n",
       "        vertical-align: middle;\n",
       "    }\n",
       "\n",
       "    .dataframe tbody tr th {\n",
       "        vertical-align: top;\n",
       "    }\n",
       "\n",
       "    .dataframe thead th {\n",
       "        text-align: right;\n",
       "    }\n",
       "</style>\n",
       "<table border=\"1\" class=\"dataframe\">\n",
       "  <thead>\n",
       "    <tr style=\"text-align: right;\">\n",
       "      <th></th>\n",
       "      <th>title</th>\n",
       "      <th>text</th>\n",
       "      <th>date</th>\n",
       "      <th>source</th>\n",
       "      <th>author</th>\n",
       "      <th>category</th>\n",
       "      <th>label</th>\n",
       "    </tr>\n",
       "  </thead>\n",
       "  <tbody>\n",
       "    <tr>\n",
       "      <th>0</th>\n",
       "      <td>Foreign Democrat final.</td>\n",
       "      <td>more tax development both store agreement lawy...</td>\n",
       "      <td>2023-03-10</td>\n",
       "      <td>NY Times</td>\n",
       "      <td>Paula George</td>\n",
       "      <td>Politics</td>\n",
       "      <td>real</td>\n",
       "    </tr>\n",
       "    <tr>\n",
       "      <th>1</th>\n",
       "      <td>To offer down resource great point.</td>\n",
       "      <td>probably guess western behind likely next inve...</td>\n",
       "      <td>2022-05-25</td>\n",
       "      <td>Fox News</td>\n",
       "      <td>Joseph Hill</td>\n",
       "      <td>Politics</td>\n",
       "      <td>fake</td>\n",
       "    </tr>\n",
       "    <tr>\n",
       "      <th>2</th>\n",
       "      <td>Himself church myself carry.</td>\n",
       "      <td>them identify forward present success risk sev...</td>\n",
       "      <td>2022-09-01</td>\n",
       "      <td>CNN</td>\n",
       "      <td>Julia Robinson</td>\n",
       "      <td>Business</td>\n",
       "      <td>fake</td>\n",
       "    </tr>\n",
       "    <tr>\n",
       "      <th>3</th>\n",
       "      <td>You unit its should.</td>\n",
       "      <td>phone which item yard Republican safe where po...</td>\n",
       "      <td>2023-02-07</td>\n",
       "      <td>Reuters</td>\n",
       "      <td>Mr. David Foster DDS</td>\n",
       "      <td>Science</td>\n",
       "      <td>fake</td>\n",
       "    </tr>\n",
       "    <tr>\n",
       "      <th>4</th>\n",
       "      <td>Billion believe employee summer how.</td>\n",
       "      <td>wonder myself fact difficult course forget exa...</td>\n",
       "      <td>2023-04-03</td>\n",
       "      <td>CNN</td>\n",
       "      <td>Austin Walker</td>\n",
       "      <td>Technology</td>\n",
       "      <td>fake</td>\n",
       "    </tr>\n",
       "  </tbody>\n",
       "</table>\n",
       "</div>"
      ],
      "text/plain": [
       "                                  title  \\\n",
       "0               Foreign Democrat final.   \n",
       "1   To offer down resource great point.   \n",
       "2          Himself church myself carry.   \n",
       "3                  You unit its should.   \n",
       "4  Billion believe employee summer how.   \n",
       "\n",
       "                                                text        date    source  \\\n",
       "0  more tax development both store agreement lawy...  2023-03-10  NY Times   \n",
       "1  probably guess western behind likely next inve...  2022-05-25  Fox News   \n",
       "2  them identify forward present success risk sev...  2022-09-01       CNN   \n",
       "3  phone which item yard Republican safe where po...  2023-02-07   Reuters   \n",
       "4  wonder myself fact difficult course forget exa...  2023-04-03       CNN   \n",
       "\n",
       "                 author    category label  \n",
       "0          Paula George    Politics  real  \n",
       "1           Joseph Hill    Politics  fake  \n",
       "2        Julia Robinson    Business  fake  \n",
       "3  Mr. David Foster DDS     Science  fake  \n",
       "4         Austin Walker  Technology  fake  "
      ]
     },
     "execution_count": 2,
     "metadata": {},
     "output_type": "execute_result"
    }
   ],
   "source": [
    "## Import and read the first five records of dataset\n",
    "data=pd.read_csv(\"fake_news_dataset.csv\")\n",
    "data.head()"
   ]
  },
  {
   "cell_type": "code",
   "execution_count": 3,
   "id": "9262301f-cad7-444b-a24b-f438338c20d9",
   "metadata": {},
   "outputs": [],
   "source": [
    "## check the  data types of each columns of dataset"
   ]
  },
  {
   "cell_type": "code",
   "execution_count": 4,
   "id": "ef07962d-3f2d-4b4d-a9f7-0c60deec5de4",
   "metadata": {},
   "outputs": [
    {
     "name": "stdout",
     "output_type": "stream",
     "text": [
      "<class 'pandas.core.frame.DataFrame'>\n",
      "RangeIndex: 20000 entries, 0 to 19999\n",
      "Data columns (total 7 columns):\n",
      " #   Column    Non-Null Count  Dtype \n",
      "---  ------    --------------  ----- \n",
      " 0   title     20000 non-null  object\n",
      " 1   text      20000 non-null  object\n",
      " 2   date      20000 non-null  object\n",
      " 3   source    19000 non-null  object\n",
      " 4   author    19000 non-null  object\n",
      " 5   category  20000 non-null  object\n",
      " 6   label     20000 non-null  object\n",
      "dtypes: object(7)\n",
      "memory usage: 1.1+ MB\n"
     ]
    }
   ],
   "source": [
    "data.info()"
   ]
  },
  {
   "cell_type": "code",
   "execution_count": 5,
   "id": "f2754e46-5f7a-4cc7-8e69-eeb8e7bdc0d9",
   "metadata": {},
   "outputs": [],
   "source": [
    "## Get the number of  rows in the dataset"
   ]
  },
  {
   "cell_type": "code",
   "execution_count": 6,
   "id": "76fa719b-2bb7-4e9a-aa68-2b646c947fe2",
   "metadata": {},
   "outputs": [
    {
     "data": {
      "text/plain": [
       "title       20000\n",
       "text        20000\n",
       "date        20000\n",
       "source      19000\n",
       "author      19000\n",
       "category    20000\n",
       "label       20000\n",
       "dtype: int64"
      ]
     },
     "execution_count": 6,
     "metadata": {},
     "output_type": "execute_result"
    }
   ],
   "source": [
    "data.count()"
   ]
  },
  {
   "cell_type": "code",
   "execution_count": 7,
   "id": "a41f17a0-16b5-4a24-9257-8e597604dc5c",
   "metadata": {},
   "outputs": [],
   "source": [
    "## Check  the null values are their or not"
   ]
  },
  {
   "cell_type": "code",
   "execution_count": 8,
   "id": "319603c5-48bb-4832-99c2-e5b341188ae5",
   "metadata": {},
   "outputs": [
    {
     "data": {
      "text/plain": [
       "title          0\n",
       "text           0\n",
       "date           0\n",
       "source      1000\n",
       "author      1000\n",
       "category       0\n",
       "label          0\n",
       "dtype: int64"
      ]
     },
     "execution_count": 8,
     "metadata": {},
     "output_type": "execute_result"
    }
   ],
   "source": [
    "data.isnull().sum()"
   ]
  },
  {
   "cell_type": "code",
   "execution_count": 9,
   "id": "662e232f-171c-454c-8cce-291489bf4505",
   "metadata": {},
   "outputs": [],
   "source": [
    "##  check the duplicate values"
   ]
  },
  {
   "cell_type": "code",
   "execution_count": 10,
   "id": "8f159a7d-2b6b-4b38-b568-ca4e9085d500",
   "metadata": {},
   "outputs": [
    {
     "data": {
      "text/plain": [
       "0"
      ]
     },
     "execution_count": 10,
     "metadata": {},
     "output_type": "execute_result"
    }
   ],
   "source": [
    "data.duplicated().sum()"
   ]
  },
  {
   "cell_type": "code",
   "execution_count": 11,
   "id": "4c09575c-3e6b-4354-9f15-a6017bdb59f3",
   "metadata": {},
   "outputs": [],
   "source": [
    "## Split the whole dataset into train and test set"
   ]
  },
  {
   "cell_type": "code",
   "execution_count": 12,
   "id": "2398f684-2fda-4011-ae23-15f8a7db960f",
   "metadata": {},
   "outputs": [],
   "source": [
    "from sklearn.model_selection import train_test_split\n",
    "\n",
    "train_set,test_set=train_test_split(data, test_size=0.2, random_state=42)"
   ]
  },
  {
   "cell_type": "code",
   "execution_count": 13,
   "id": "e2a450ee-6619-49b5-9599-bdb3623f0698",
   "metadata": {},
   "outputs": [
    {
     "name": "stdout",
     "output_type": "stream",
     "text": [
      "(16000, 7) (4000, 7)\n"
     ]
    }
   ],
   "source": [
    "print(train_set.shape,test_set.shape)"
   ]
  },
  {
   "cell_type": "markdown",
   "id": "4903bb61-4a5a-46be-80e2-4a8ddf68becc",
   "metadata": {},
   "source": [
    "## Explotary Data Analysis  (EDA)"
   ]
  },
  {
   "cell_type": "code",
   "execution_count": 14,
   "id": "8dfd334f-b942-4122-83d5-c13a934585d3",
   "metadata": {},
   "outputs": [],
   "source": [
    "## check the null values of train_set"
   ]
  },
  {
   "cell_type": "code",
   "execution_count": 15,
   "id": "a48d6e0c-c1a2-43cf-9e8e-f0a7da5bb7ac",
   "metadata": {},
   "outputs": [
    {
     "data": {
      "text/plain": [
       "title         0\n",
       "text          0\n",
       "date          0\n",
       "source      782\n",
       "author      811\n",
       "category      0\n",
       "label         0\n",
       "dtype: int64"
      ]
     },
     "execution_count": 15,
     "metadata": {},
     "output_type": "execute_result"
    }
   ],
   "source": [
    "train_set.isnull().sum()"
   ]
  },
  {
   "cell_type": "code",
   "execution_count": 16,
   "id": "0fd6c12d-8220-40f2-883a-5b5fc5d2bc25",
   "metadata": {},
   "outputs": [],
   "source": [
    "## check the duplicate values of  train_set"
   ]
  },
  {
   "cell_type": "code",
   "execution_count": 17,
   "id": "00c3d6da-56e5-461b-8f82-b7662043b246",
   "metadata": {},
   "outputs": [
    {
     "data": {
      "text/plain": [
       "0"
      ]
     },
     "execution_count": 17,
     "metadata": {},
     "output_type": "execute_result"
    }
   ],
   "source": [
    "train_set.duplicated().sum()"
   ]
  },
  {
   "cell_type": "code",
   "execution_count": 18,
   "id": "84a93317-8595-40b3-be1a-3f0c476bf05a",
   "metadata": {},
   "outputs": [],
   "source": [
    "## check the value counts of  source and  author solumns"
   ]
  },
  {
   "cell_type": "code",
   "execution_count": 19,
   "id": "364c8be8-4ede-4ff4-be6c-02e5cb3fc475",
   "metadata": {},
   "outputs": [
    {
     "data": {
      "text/plain": [
       "source\n",
       "Daily News      1970\n",
       "The Guardian    1930\n",
       "BBC             1913\n",
       "CNN             1898\n",
       "Fox News        1890\n",
       "Reuters         1886\n",
       "NY Times        1874\n",
       "Global Times    1857\n",
       "Name: count, dtype: int64"
      ]
     },
     "execution_count": 19,
     "metadata": {},
     "output_type": "execute_result"
    }
   ],
   "source": [
    "train_set['source'].value_counts()"
   ]
  },
  {
   "cell_type": "code",
   "execution_count": 20,
   "id": "f442bae6-e354-4613-a486-19a7450bf1b5",
   "metadata": {},
   "outputs": [
    {
     "data": {
      "text/plain": [
       "author\n",
       "Michael Smith            10\n",
       "John Smith                9\n",
       "Christopher Johnson       7\n",
       "Jennifer Davis            7\n",
       "John Brown                6\n",
       "                         ..\n",
       "Wendy Mccullough          1\n",
       "Jonathan Curtis           1\n",
       "Rodney Young              1\n",
       "Samantha Gutierrez        1\n",
       "Mr. Ernest Harris Jr.     1\n",
       "Name: count, Length: 13847, dtype: int64"
      ]
     },
     "execution_count": 20,
     "metadata": {},
     "output_type": "execute_result"
    }
   ],
   "source": [
    "train_set['author'].value_counts()"
   ]
  },
  {
   "cell_type": "code",
   "execution_count": 21,
   "id": "8fb45f60-cba6-4073-9b5a-c66a65c25cdd",
   "metadata": {},
   "outputs": [],
   "source": [
    "## fill the null values"
   ]
  },
  {
   "cell_type": "code",
   "execution_count": 22,
   "id": "a5a4767d-e2eb-40e6-a029-8572fd53c4b2",
   "metadata": {},
   "outputs": [
    {
     "name": "stderr",
     "output_type": "stream",
     "text": [
      "C:\\Users\\THIS PC\\AppData\\Local\\Temp\\ipykernel_11980\\3912575003.py:1: FutureWarning: A value is trying to be set on a copy of a DataFrame or Series through chained assignment using an inplace method.\n",
      "The behavior will change in pandas 3.0. This inplace method will never work because the intermediate object on which we are setting values always behaves as a copy.\n",
      "\n",
      "For example, when doing 'df[col].method(value, inplace=True)', try using 'df.method({col: value}, inplace=True)' or df[col] = df[col].method(value) instead, to perform the operation inplace on the original object.\n",
      "\n",
      "\n",
      "  train_set['source'].fillna('Global Times', inplace=True)\n"
     ]
    }
   ],
   "source": [
    "train_set['source'].fillna('Global Times', inplace=True)"
   ]
  },
  {
   "cell_type": "code",
   "execution_count": 23,
   "id": "a94d3ce3-6453-4b3c-80bd-0709437abbcb",
   "metadata": {},
   "outputs": [
    {
     "data": {
      "text/plain": [
       "title         0\n",
       "text          0\n",
       "date          0\n",
       "source        0\n",
       "author      811\n",
       "category      0\n",
       "label         0\n",
       "dtype: int64"
      ]
     },
     "execution_count": 23,
     "metadata": {},
     "output_type": "execute_result"
    }
   ],
   "source": [
    "train_set.isnull().sum()"
   ]
  },
  {
   "cell_type": "code",
   "execution_count": 24,
   "id": "8853a11e-e8c2-4644-b0b0-b3bd7d9bffa9",
   "metadata": {},
   "outputs": [
    {
     "name": "stderr",
     "output_type": "stream",
     "text": [
      "C:\\Users\\THIS PC\\AppData\\Local\\Temp\\ipykernel_11980\\546374671.py:1: FutureWarning: A value is trying to be set on a copy of a DataFrame or Series through chained assignment using an inplace method.\n",
      "The behavior will change in pandas 3.0. This inplace method will never work because the intermediate object on which we are setting values always behaves as a copy.\n",
      "\n",
      "For example, when doing 'df[col].method(value, inplace=True)', try using 'df.method({col: value}, inplace=True)' or df[col] = df[col].method(value) instead, to perform the operation inplace on the original object.\n",
      "\n",
      "\n",
      "  train_set['author'].fillna('Wendy Mccullough', inplace=True)\n"
     ]
    }
   ],
   "source": [
    "train_set['author'].fillna('Wendy Mccullough', inplace=True)"
   ]
  },
  {
   "cell_type": "code",
   "execution_count": 25,
   "id": "a64fe61f-5c8f-4827-a8a3-4de9fea7c29b",
   "metadata": {},
   "outputs": [
    {
     "data": {
      "text/plain": [
       "title       0\n",
       "text        0\n",
       "date        0\n",
       "source      0\n",
       "author      0\n",
       "category    0\n",
       "label       0\n",
       "dtype: int64"
      ]
     },
     "execution_count": 25,
     "metadata": {},
     "output_type": "execute_result"
    }
   ],
   "source": [
    "train_set.isnull().sum()"
   ]
  },
  {
   "cell_type": "code",
   "execution_count": 26,
   "id": "03956ff0-fbc7-4d09-adca-811b8304af41",
   "metadata": {},
   "outputs": [
    {
     "data": {
      "text/plain": [
       "title       0\n",
       "text        0\n",
       "date        0\n",
       "source      0\n",
       "author      0\n",
       "category    0\n",
       "label       0\n",
       "dtype: int64"
      ]
     },
     "execution_count": 26,
     "metadata": {},
     "output_type": "execute_result"
    }
   ],
   "source": [
    "train_set.isnull().sum()"
   ]
  },
  {
   "cell_type": "code",
   "execution_count": 27,
   "id": "5a8c5dce-1078-4a76-8e5b-9abff019e20e",
   "metadata": {},
   "outputs": [],
   "source": [
    "## check the duplicate values again"
   ]
  },
  {
   "cell_type": "code",
   "execution_count": 28,
   "id": "d064efaf-299e-4cd3-889a-3a34917d4710",
   "metadata": {},
   "outputs": [
    {
     "data": {
      "text/plain": [
       "0"
      ]
     },
     "execution_count": 28,
     "metadata": {},
     "output_type": "execute_result"
    }
   ],
   "source": [
    "train_set.duplicated().sum()"
   ]
  },
  {
   "cell_type": "markdown",
   "id": "1ff1982c-b649-49a4-8eb6-83f2b994cf3a",
   "metadata": {},
   "source": [
    "## Explotary Data Analysis (EDA)"
   ]
  },
  {
   "cell_type": "markdown",
   "id": "c9edfde2-e6d0-4c67-b37f-56a32a1deed6",
   "metadata": {},
   "source": [
    "#### Text Preprocessing"
   ]
  },
  {
   "cell_type": "code",
   "execution_count": 29,
   "id": "66e0b0a9-74b0-45ba-898e-bab44bcc8c40",
   "metadata": {},
   "outputs": [
    {
     "data": {
      "text/html": [
       "<div>\n",
       "<style scoped>\n",
       "    .dataframe tbody tr th:only-of-type {\n",
       "        vertical-align: middle;\n",
       "    }\n",
       "\n",
       "    .dataframe tbody tr th {\n",
       "        vertical-align: top;\n",
       "    }\n",
       "\n",
       "    .dataframe thead th {\n",
       "        text-align: right;\n",
       "    }\n",
       "</style>\n",
       "<table border=\"1\" class=\"dataframe\">\n",
       "  <thead>\n",
       "    <tr style=\"text-align: right;\">\n",
       "      <th></th>\n",
       "      <th>title</th>\n",
       "      <th>text</th>\n",
       "      <th>date</th>\n",
       "      <th>source</th>\n",
       "      <th>author</th>\n",
       "      <th>category</th>\n",
       "      <th>label</th>\n",
       "    </tr>\n",
       "  </thead>\n",
       "  <tbody>\n",
       "    <tr>\n",
       "      <th>5894</th>\n",
       "      <td>Age important scientist question why onto acti...</td>\n",
       "      <td>image morning whether thought seven office kit...</td>\n",
       "      <td>2022-05-30</td>\n",
       "      <td>NY Times</td>\n",
       "      <td>Kimberly Martinez</td>\n",
       "      <td>Politics</td>\n",
       "      <td>real</td>\n",
       "    </tr>\n",
       "    <tr>\n",
       "      <th>3728</th>\n",
       "      <td>Trial candidate travel pretty agreement attack...</td>\n",
       "      <td>recent item success plant dark however however...</td>\n",
       "      <td>2024-10-20</td>\n",
       "      <td>BBC</td>\n",
       "      <td>Mr. Daniel Bailey DDS</td>\n",
       "      <td>Sports</td>\n",
       "      <td>real</td>\n",
       "    </tr>\n",
       "    <tr>\n",
       "      <th>8958</th>\n",
       "      <td>Animal painting interest I society air east to...</td>\n",
       "      <td>yourself religious point hour Mrs cover case s...</td>\n",
       "      <td>2024-08-25</td>\n",
       "      <td>NY Times</td>\n",
       "      <td>Kimberly Wagner</td>\n",
       "      <td>Politics</td>\n",
       "      <td>fake</td>\n",
       "    </tr>\n",
       "    <tr>\n",
       "      <th>7671</th>\n",
       "      <td>Improve surface face today fact.</td>\n",
       "      <td>road listen add question main head worker gene...</td>\n",
       "      <td>2023-10-07</td>\n",
       "      <td>CNN</td>\n",
       "      <td>Charlene Harrington</td>\n",
       "      <td>Entertainment</td>\n",
       "      <td>fake</td>\n",
       "    </tr>\n",
       "    <tr>\n",
       "      <th>5999</th>\n",
       "      <td>Family pressure common behavior.</td>\n",
       "      <td>low indicate education support brother suffer ...</td>\n",
       "      <td>2025-03-17</td>\n",
       "      <td>Fox News</td>\n",
       "      <td>Robert Gardner</td>\n",
       "      <td>Politics</td>\n",
       "      <td>real</td>\n",
       "    </tr>\n",
       "  </tbody>\n",
       "</table>\n",
       "</div>"
      ],
      "text/plain": [
       "                                                  title  \\\n",
       "5894  Age important scientist question why onto acti...   \n",
       "3728  Trial candidate travel pretty agreement attack...   \n",
       "8958  Animal painting interest I society air east to...   \n",
       "7671                   Improve surface face today fact.   \n",
       "5999                   Family pressure common behavior.   \n",
       "\n",
       "                                                   text        date    source  \\\n",
       "5894  image morning whether thought seven office kit...  2022-05-30  NY Times   \n",
       "3728  recent item success plant dark however however...  2024-10-20       BBC   \n",
       "8958  yourself religious point hour Mrs cover case s...  2024-08-25  NY Times   \n",
       "7671  road listen add question main head worker gene...  2023-10-07       CNN   \n",
       "5999  low indicate education support brother suffer ...  2025-03-17  Fox News   \n",
       "\n",
       "                     author       category label  \n",
       "5894      Kimberly Martinez       Politics  real  \n",
       "3728  Mr. Daniel Bailey DDS         Sports  real  \n",
       "8958        Kimberly Wagner       Politics  fake  \n",
       "7671    Charlene Harrington  Entertainment  fake  \n",
       "5999         Robert Gardner       Politics  real  "
      ]
     },
     "execution_count": 29,
     "metadata": {},
     "output_type": "execute_result"
    }
   ],
   "source": [
    "train_set.head()"
   ]
  },
  {
   "cell_type": "code",
   "execution_count": 30,
   "id": "a8899e6d-2018-45a3-a533-c02675771ede",
   "metadata": {},
   "outputs": [],
   "source": [
    "#train_set['source'].value_counts()"
   ]
  },
  {
   "cell_type": "code",
   "execution_count": 31,
   "id": "badd9fc3-4810-48c2-b97e-f625e9def8d4",
   "metadata": {},
   "outputs": [],
   "source": [
    "#train_set['category'].value_counts()"
   ]
  },
  {
   "cell_type": "code",
   "execution_count": 32,
   "id": "f0890cf8-638a-4b25-a375-b24383248f36",
   "metadata": {},
   "outputs": [],
   "source": [
    "#train_set['category'].head(100)"
   ]
  },
  {
   "cell_type": "code",
   "execution_count": 33,
   "id": "b14df0b2-092d-40e6-a0f5-44c1a9a1e915",
   "metadata": {},
   "outputs": [],
   "source": [
    "#train_set.replace({'source':{'Daily News':0,'The Guardian':1,'BBC':3,'CNN':4,'Fox News':5,'Reuters':6,'NY Times':7,'Global Times':8}}, inplace=True)\n",
    "#train_set.replace({'cateogry':{'Health':1,'Entertainment':2,'Technology':3,'Business':4,'Sports':5,'Science':6,'Politics':7}},inplace=True)\n",
    "#train_set.head()"
   ]
  },
  {
   "cell_type": "code",
   "execution_count": 34,
   "id": "b0449d37-a531-46ac-8da6-ac032d2c96e9",
   "metadata": {},
   "outputs": [],
   "source": [
    "import re\n",
    "import string"
   ]
  },
  {
   "cell_type": "code",
   "execution_count": 35,
   "id": "edeb96ea-2246-416b-a29e-94ab97327b13",
   "metadata": {},
   "outputs": [
    {
     "data": {
      "text/plain": [
       "5894    image morning whether thought seven office kit...\n",
       "3728    recent item success plant dark however however...\n",
       "8958    yourself religious point hour Mrs cover case s...\n",
       "7671    road listen add question main head worker gene...\n",
       "5999    low indicate education support brother suffer ...\n",
       "Name: text, dtype: object"
      ]
     },
     "execution_count": 35,
     "metadata": {},
     "output_type": "execute_result"
    }
   ],
   "source": [
    "train_set['text'].head()"
   ]
  },
  {
   "cell_type": "code",
   "execution_count": 36,
   "id": "ae9312f1-512c-4e28-91b4-51b2912a87b8",
   "metadata": {},
   "outputs": [],
   "source": [
    "## Convert uppercase into lowercase"
   ]
  },
  {
   "cell_type": "code",
   "execution_count": 37,
   "id": "727c0183-1bdb-44fa-a1b4-4fe0366115d3",
   "metadata": {},
   "outputs": [],
   "source": [
    "train_set['text']=train_set['text'].apply(lambda x: \" \".join(x.lower() for x in x.split()))"
   ]
  },
  {
   "cell_type": "code",
   "execution_count": 38,
   "id": "1d5e1a5d-f872-45be-86b1-6f8a82fbdb9a",
   "metadata": {},
   "outputs": [
    {
     "data": {
      "text/plain": [
       "5894     image morning whether thought seven office kit...\n",
       "3728     recent item success plant dark however however...\n",
       "8958     yourself religious point hour mrs cover case s...\n",
       "7671     road listen add question main head worker gene...\n",
       "5999     low indicate education support brother suffer ...\n",
       "                               ...                        \n",
       "11284    middle form imagine item company good town for...\n",
       "11964    collection short section yourself involve real...\n",
       "5390     card compare magazine education evening energy...\n",
       "860      fire ask lose institution field candidate age ...\n",
       "15795    book easy morning report kind better start fig...\n",
       "Name: text, Length: 16000, dtype: object"
      ]
     },
     "execution_count": 38,
     "metadata": {},
     "output_type": "execute_result"
    }
   ],
   "source": [
    "train_set['text']"
   ]
  },
  {
   "cell_type": "code",
   "execution_count": 39,
   "id": "75eff3de-fb14-4d76-b1c8-27eaf6740281",
   "metadata": {},
   "outputs": [],
   "source": [
    "train_set['author']=train_set['author'].apply(lambda x: \" \".join(x.lower() for x in x.split()))"
   ]
  },
  {
   "cell_type": "code",
   "execution_count": 40,
   "id": "aadf958e-37dd-4e36-9aac-8b66d3f723fc",
   "metadata": {},
   "outputs": [
    {
     "data": {
      "text/plain": [
       "5894         kimberly martinez\n",
       "3728     mr. daniel bailey dds\n",
       "8958           kimberly wagner\n",
       "7671       charlene harrington\n",
       "5999            robert gardner\n",
       "                 ...          \n",
       "11284              cathy woods\n",
       "11964      nicholas williamson\n",
       "5390               david mcgee\n",
       "860           stephanie austin\n",
       "15795    mr. ernest harris jr.\n",
       "Name: author, Length: 16000, dtype: object"
      ]
     },
     "execution_count": 40,
     "metadata": {},
     "output_type": "execute_result"
    }
   ],
   "source": [
    "train_set['author']"
   ]
  },
  {
   "cell_type": "code",
   "execution_count": 41,
   "id": "608ab0ce-1171-4fd1-83a4-e3f0233f80b4",
   "metadata": {},
   "outputs": [],
   "source": [
    "train_set['title']=train_set['title'].apply(lambda x:\" \".join(x.lower() for x in x.split()))"
   ]
  },
  {
   "cell_type": "code",
   "execution_count": 42,
   "id": "d653ff45-6124-4378-bc7c-0199320821cb",
   "metadata": {},
   "outputs": [
    {
     "data": {
      "text/plain": [
       "5894     age important scientist question why onto acti...\n",
       "3728     trial candidate travel pretty agreement attack...\n",
       "8958     animal painting interest i society air east to...\n",
       "7671                      improve surface face today fact.\n",
       "5999                      family pressure common behavior.\n",
       "                               ...                        \n",
       "11284               surface address media speak join poor.\n",
       "11964     short theory live role pressure since point for.\n",
       "5390                       hope television artist improve.\n",
       "860           far choice test last generation friend rich.\n",
       "15795          audience four art section assume a may out.\n",
       "Name: title, Length: 16000, dtype: object"
      ]
     },
     "execution_count": 42,
     "metadata": {},
     "output_type": "execute_result"
    }
   ],
   "source": [
    "train_set['title']"
   ]
  },
  {
   "cell_type": "code",
   "execution_count": 43,
   "id": "90c7b4a1-d97d-4871-8d16-7a350cd5fa44",
   "metadata": {},
   "outputs": [],
   "source": [
    "train_set['author']=train_set['author'].apply(lambda x:\" \".join(x.lower() for x in x.split()))"
   ]
  },
  {
   "cell_type": "code",
   "execution_count": 44,
   "id": "3684ef86-e9aa-4772-b3b6-4ce5038713d3",
   "metadata": {},
   "outputs": [
    {
     "data": {
      "text/plain": [
       "5894         kimberly martinez\n",
       "3728     mr. daniel bailey dds\n",
       "8958           kimberly wagner\n",
       "7671       charlene harrington\n",
       "5999            robert gardner\n",
       "                 ...          \n",
       "11284              cathy woods\n",
       "11964      nicholas williamson\n",
       "5390               david mcgee\n",
       "860           stephanie austin\n",
       "15795    mr. ernest harris jr.\n",
       "Name: author, Length: 16000, dtype: object"
      ]
     },
     "execution_count": 44,
     "metadata": {},
     "output_type": "execute_result"
    }
   ],
   "source": [
    "train_set['author']"
   ]
  },
  {
   "cell_type": "code",
   "execution_count": 45,
   "id": "ff440feb-5db4-43f2-85d8-f060aa362e22",
   "metadata": {},
   "outputs": [],
   "source": [
    "train_set['source']=train_set['source'].apply(lambda x:\" \".join(x.lower() for x in  x.split()))"
   ]
  },
  {
   "cell_type": "code",
   "execution_count": 46,
   "id": "c356ab95-619d-4087-80bb-28a2dfb7661d",
   "metadata": {},
   "outputs": [
    {
     "data": {
      "text/plain": [
       "5894       ny times\n",
       "3728            bbc\n",
       "8958       ny times\n",
       "7671            cnn\n",
       "5999       fox news\n",
       "            ...    \n",
       "11284      fox news\n",
       "11964      ny times\n",
       "5390            bbc\n",
       "860      daily news\n",
       "15795      ny times\n",
       "Name: source, Length: 16000, dtype: object"
      ]
     },
     "execution_count": 46,
     "metadata": {},
     "output_type": "execute_result"
    }
   ],
   "source": [
    "train_set['source']"
   ]
  },
  {
   "cell_type": "code",
   "execution_count": 47,
   "id": "47412d7e-94cb-4432-b64d-409227d5b4bb",
   "metadata": {},
   "outputs": [],
   "source": [
    "train_set['category']=train_set['category'].apply(lambda x: \" \".join(x.lower() for x in x.split()))"
   ]
  },
  {
   "cell_type": "code",
   "execution_count": 48,
   "id": "135800af-c112-486e-af34-80b9c017210b",
   "metadata": {},
   "outputs": [
    {
     "data": {
      "text/plain": [
       "5894          politics\n",
       "3728            sports\n",
       "8958          politics\n",
       "7671     entertainment\n",
       "5999          politics\n",
       "             ...      \n",
       "11284         business\n",
       "11964         business\n",
       "5390           science\n",
       "860            science\n",
       "15795           sports\n",
       "Name: category, Length: 16000, dtype: object"
      ]
     },
     "execution_count": 48,
     "metadata": {},
     "output_type": "execute_result"
    }
   ],
   "source": [
    "train_set['category']"
   ]
  },
  {
   "cell_type": "code",
   "execution_count": 49,
   "id": "06923dff-e1a4-434f-8031-e9ad7c4c451f",
   "metadata": {},
   "outputs": [
    {
     "data": {
      "text/html": [
       "<div>\n",
       "<style scoped>\n",
       "    .dataframe tbody tr th:only-of-type {\n",
       "        vertical-align: middle;\n",
       "    }\n",
       "\n",
       "    .dataframe tbody tr th {\n",
       "        vertical-align: top;\n",
       "    }\n",
       "\n",
       "    .dataframe thead th {\n",
       "        text-align: right;\n",
       "    }\n",
       "</style>\n",
       "<table border=\"1\" class=\"dataframe\">\n",
       "  <thead>\n",
       "    <tr style=\"text-align: right;\">\n",
       "      <th></th>\n",
       "      <th>title</th>\n",
       "      <th>text</th>\n",
       "      <th>date</th>\n",
       "      <th>source</th>\n",
       "      <th>author</th>\n",
       "      <th>category</th>\n",
       "      <th>label</th>\n",
       "    </tr>\n",
       "  </thead>\n",
       "  <tbody>\n",
       "    <tr>\n",
       "      <th>5894</th>\n",
       "      <td>age important scientist question why onto acti...</td>\n",
       "      <td>image morning whether thought seven office kit...</td>\n",
       "      <td>2022-05-30</td>\n",
       "      <td>ny times</td>\n",
       "      <td>kimberly martinez</td>\n",
       "      <td>politics</td>\n",
       "      <td>real</td>\n",
       "    </tr>\n",
       "    <tr>\n",
       "      <th>3728</th>\n",
       "      <td>trial candidate travel pretty agreement attack...</td>\n",
       "      <td>recent item success plant dark however however...</td>\n",
       "      <td>2024-10-20</td>\n",
       "      <td>bbc</td>\n",
       "      <td>mr. daniel bailey dds</td>\n",
       "      <td>sports</td>\n",
       "      <td>real</td>\n",
       "    </tr>\n",
       "    <tr>\n",
       "      <th>8958</th>\n",
       "      <td>animal painting interest i society air east to...</td>\n",
       "      <td>yourself religious point hour mrs cover case s...</td>\n",
       "      <td>2024-08-25</td>\n",
       "      <td>ny times</td>\n",
       "      <td>kimberly wagner</td>\n",
       "      <td>politics</td>\n",
       "      <td>fake</td>\n",
       "    </tr>\n",
       "    <tr>\n",
       "      <th>7671</th>\n",
       "      <td>improve surface face today fact.</td>\n",
       "      <td>road listen add question main head worker gene...</td>\n",
       "      <td>2023-10-07</td>\n",
       "      <td>cnn</td>\n",
       "      <td>charlene harrington</td>\n",
       "      <td>entertainment</td>\n",
       "      <td>fake</td>\n",
       "    </tr>\n",
       "    <tr>\n",
       "      <th>5999</th>\n",
       "      <td>family pressure common behavior.</td>\n",
       "      <td>low indicate education support brother suffer ...</td>\n",
       "      <td>2025-03-17</td>\n",
       "      <td>fox news</td>\n",
       "      <td>robert gardner</td>\n",
       "      <td>politics</td>\n",
       "      <td>real</td>\n",
       "    </tr>\n",
       "  </tbody>\n",
       "</table>\n",
       "</div>"
      ],
      "text/plain": [
       "                                                  title  \\\n",
       "5894  age important scientist question why onto acti...   \n",
       "3728  trial candidate travel pretty agreement attack...   \n",
       "8958  animal painting interest i society air east to...   \n",
       "7671                   improve surface face today fact.   \n",
       "5999                   family pressure common behavior.   \n",
       "\n",
       "                                                   text        date    source  \\\n",
       "5894  image morning whether thought seven office kit...  2022-05-30  ny times   \n",
       "3728  recent item success plant dark however however...  2024-10-20       bbc   \n",
       "8958  yourself religious point hour mrs cover case s...  2024-08-25  ny times   \n",
       "7671  road listen add question main head worker gene...  2023-10-07       cnn   \n",
       "5999  low indicate education support brother suffer ...  2025-03-17  fox news   \n",
       "\n",
       "                     author       category label  \n",
       "5894      kimberly martinez       politics  real  \n",
       "3728  mr. daniel bailey dds         sports  real  \n",
       "8958        kimberly wagner       politics  fake  \n",
       "7671    charlene harrington  entertainment  fake  \n",
       "5999         robert gardner       politics  real  "
      ]
     },
     "execution_count": 49,
     "metadata": {},
     "output_type": "execute_result"
    }
   ],
   "source": [
    "train_set.head()"
   ]
  },
  {
   "cell_type": "code",
   "execution_count": 50,
   "id": "ed066093-de7c-4dfe-ab23-9f9efec45b17",
   "metadata": {},
   "outputs": [],
   "source": [
    "## Remove the links"
   ]
  },
  {
   "cell_type": "code",
   "execution_count": 52,
   "id": "484769b9-6530-4710-b90e-f75b25543ab7",
   "metadata": {},
   "outputs": [],
   "source": [
    "train_set['title']=train_set['title'].apply(lambda x: \" \".join(re.sub(r'https?:\\/\\/.*[\\r\\n]*','',x,flags=re.MULTILINE) for x in x.split()))"
   ]
  },
  {
   "cell_type": "code",
   "execution_count": 53,
   "id": "18cb7a47-dada-410c-b5a0-69728c12ae4e",
   "metadata": {},
   "outputs": [
    {
     "data": {
      "text/plain": [
       "5894     age important scientist question why onto acti...\n",
       "3728     trial candidate travel pretty agreement attack...\n",
       "8958     animal painting interest i society air east to...\n",
       "7671                      improve surface face today fact.\n",
       "5999                      family pressure common behavior.\n",
       "                               ...                        \n",
       "11284               surface address media speak join poor.\n",
       "11964     short theory live role pressure since point for.\n",
       "5390                       hope television artist improve.\n",
       "860           far choice test last generation friend rich.\n",
       "15795          audience four art section assume a may out.\n",
       "Name: title, Length: 16000, dtype: object"
      ]
     },
     "execution_count": 53,
     "metadata": {},
     "output_type": "execute_result"
    }
   ],
   "source": [
    "train_set['title']"
   ]
  },
  {
   "cell_type": "code",
   "execution_count": 55,
   "id": "45983acf-a6e8-4924-be8d-088b0ec9a8ca",
   "metadata": {},
   "outputs": [],
   "source": [
    "train_set['text']=train_set['text'].apply(lambda x: \" \".join(re.sub(r'https?\\/\\/.*[\\r\\n]*','',x,flags=re.MULTILINE) for x in x.split()))"
   ]
  },
  {
   "cell_type": "code",
   "execution_count": 57,
   "id": "18c7bbb6-4b33-44d8-bff5-6690ad7ad9cb",
   "metadata": {},
   "outputs": [
    {
     "data": {
      "text/plain": [
       "5894     image morning whether thought seven office kit...\n",
       "3728     recent item success plant dark however however...\n",
       "8958     yourself religious point hour mrs cover case s...\n",
       "7671     road listen add question main head worker gene...\n",
       "5999     low indicate education support brother suffer ...\n",
       "                               ...                        \n",
       "11284    middle form imagine item company good town for...\n",
       "11964    collection short section yourself involve real...\n",
       "5390     card compare magazine education evening energy...\n",
       "860      fire ask lose institution field candidate age ...\n",
       "15795    book easy morning report kind better start fig...\n",
       "Name: text, Length: 16000, dtype: object"
      ]
     },
     "execution_count": 57,
     "metadata": {},
     "output_type": "execute_result"
    }
   ],
   "source": [
    "train_set['text']"
   ]
  },
  {
   "cell_type": "code",
   "execution_count": 63,
   "id": "681d3ec0-afbb-4a53-ae2d-a0fc352d5dc0",
   "metadata": {},
   "outputs": [],
   "source": [
    "train_set['source']=train_set['source'].apply(lambda x: \" \".join(re.sub(r'https?\\/\\/.*[\\r\\n]*','',x,flags=re.MULTILINE) for x in x.split()))"
   ]
  },
  {
   "cell_type": "code",
   "execution_count": 64,
   "id": "5ea69c3b-f7f0-48f4-b09f-91b29ef86a6e",
   "metadata": {},
   "outputs": [
    {
     "data": {
      "text/plain": [
       "5894       ny times\n",
       "3728            bbc\n",
       "8958       ny times\n",
       "7671            cnn\n",
       "5999       fox news\n",
       "            ...    \n",
       "11284      fox news\n",
       "11964      ny times\n",
       "5390            bbc\n",
       "860      daily news\n",
       "15795      ny times\n",
       "Name: source, Length: 16000, dtype: object"
      ]
     },
     "execution_count": 64,
     "metadata": {},
     "output_type": "execute_result"
    }
   ],
   "source": [
    "train_set['source']"
   ]
  },
  {
   "cell_type": "code",
   "execution_count": 65,
   "id": "620f4843-3595-42ad-a293-b415554744bf",
   "metadata": {},
   "outputs": [],
   "source": [
    "train_set['author']=train_set['author'].apply(lambda x:\" \".join(re.sub(r'https?\\/\\/.*[\\r\\n]*','',x,flags=re.MULTILINE) for x in x.split()))"
   ]
  },
  {
   "cell_type": "code",
   "execution_count": 66,
   "id": "5d25d8d8-2565-4074-9ff0-5168032c9087",
   "metadata": {},
   "outputs": [
    {
     "data": {
      "text/plain": [
       "5894         kimberly martinez\n",
       "3728     mr. daniel bailey dds\n",
       "8958           kimberly wagner\n",
       "7671       charlene harrington\n",
       "5999            robert gardner\n",
       "                 ...          \n",
       "11284              cathy woods\n",
       "11964      nicholas williamson\n",
       "5390               david mcgee\n",
       "860           stephanie austin\n",
       "15795    mr. ernest harris jr.\n",
       "Name: author, Length: 16000, dtype: object"
      ]
     },
     "execution_count": 66,
     "metadata": {},
     "output_type": "execute_result"
    }
   ],
   "source": [
    "train_set['author']"
   ]
  },
  {
   "cell_type": "code",
   "execution_count": 68,
   "id": "f180c6a7-374f-419f-903b-72ff75370ca2",
   "metadata": {},
   "outputs": [],
   "source": [
    "train_set['category']=train_set['category'].apply(lambda x: \" \".join(re.sub(r'https?\\/\\/.*[\\r\\n]*','',x,flags=re.MULTILINE) for x in x.split()))"
   ]
  },
  {
   "cell_type": "code",
   "execution_count": 69,
   "id": "7cbf5d3a-d933-413d-aa7a-04d94d5711be",
   "metadata": {},
   "outputs": [
    {
     "data": {
      "text/plain": [
       "5894          politics\n",
       "3728            sports\n",
       "8958          politics\n",
       "7671     entertainment\n",
       "5999          politics\n",
       "             ...      \n",
       "11284         business\n",
       "11964         business\n",
       "5390           science\n",
       "860            science\n",
       "15795           sports\n",
       "Name: category, Length: 16000, dtype: object"
      ]
     },
     "execution_count": 69,
     "metadata": {},
     "output_type": "execute_result"
    }
   ],
   "source": [
    "train_set['category']"
   ]
  },
  {
   "cell_type": "code",
   "execution_count": 70,
   "id": "47b4f707-c41f-4c5b-96d1-b6aa74f0e631",
   "metadata": {},
   "outputs": [],
   "source": [
    "## Remove the puncutations from text"
   ]
  },
  {
   "cell_type": "code",
   "execution_count": 72,
   "id": "edb672d6-f56e-4648-ba7e-959c70889955",
   "metadata": {},
   "outputs": [
    {
     "data": {
      "text/plain": [
       "'!\"#$%&\\'()*+,-./:;<=>?@[\\\\]^_`{|}~'"
      ]
     },
     "execution_count": 72,
     "metadata": {},
     "output_type": "execute_result"
    }
   ],
   "source": [
    "string.punctuation"
   ]
  },
  {
   "cell_type": "code",
   "execution_count": 74,
   "id": "f2291a1b-bf90-4d05-b673-87cb6e5b325e",
   "metadata": {},
   "outputs": [
    {
     "data": {
      "text/html": [
       "<div>\n",
       "<style scoped>\n",
       "    .dataframe tbody tr th:only-of-type {\n",
       "        vertical-align: middle;\n",
       "    }\n",
       "\n",
       "    .dataframe tbody tr th {\n",
       "        vertical-align: top;\n",
       "    }\n",
       "\n",
       "    .dataframe thead th {\n",
       "        text-align: right;\n",
       "    }\n",
       "</style>\n",
       "<table border=\"1\" class=\"dataframe\">\n",
       "  <thead>\n",
       "    <tr style=\"text-align: right;\">\n",
       "      <th></th>\n",
       "      <th>title</th>\n",
       "      <th>text</th>\n",
       "      <th>date</th>\n",
       "      <th>source</th>\n",
       "      <th>author</th>\n",
       "      <th>category</th>\n",
       "      <th>label</th>\n",
       "    </tr>\n",
       "  </thead>\n",
       "  <tbody>\n",
       "    <tr>\n",
       "      <th>5894</th>\n",
       "      <td>age important scientist question why onto acti...</td>\n",
       "      <td>image morning whether thought seven office kit...</td>\n",
       "      <td>2022-05-30</td>\n",
       "      <td>ny times</td>\n",
       "      <td>kimberly martinez</td>\n",
       "      <td>politics</td>\n",
       "      <td>real</td>\n",
       "    </tr>\n",
       "    <tr>\n",
       "      <th>3728</th>\n",
       "      <td>trial candidate travel pretty agreement attack...</td>\n",
       "      <td>recent item success plant dark however however...</td>\n",
       "      <td>2024-10-20</td>\n",
       "      <td>bbc</td>\n",
       "      <td>mr. daniel bailey dds</td>\n",
       "      <td>sports</td>\n",
       "      <td>real</td>\n",
       "    </tr>\n",
       "    <tr>\n",
       "      <th>8958</th>\n",
       "      <td>animal painting interest i society air east total</td>\n",
       "      <td>yourself religious point hour mrs cover case s...</td>\n",
       "      <td>2024-08-25</td>\n",
       "      <td>ny times</td>\n",
       "      <td>kimberly wagner</td>\n",
       "      <td>politics</td>\n",
       "      <td>fake</td>\n",
       "    </tr>\n",
       "    <tr>\n",
       "      <th>7671</th>\n",
       "      <td>improve surface face today fact</td>\n",
       "      <td>road listen add question main head worker gene...</td>\n",
       "      <td>2023-10-07</td>\n",
       "      <td>cnn</td>\n",
       "      <td>charlene harrington</td>\n",
       "      <td>entertainment</td>\n",
       "      <td>fake</td>\n",
       "    </tr>\n",
       "    <tr>\n",
       "      <th>5999</th>\n",
       "      <td>family pressure common behavior</td>\n",
       "      <td>low indicate education support brother suffer ...</td>\n",
       "      <td>2025-03-17</td>\n",
       "      <td>fox news</td>\n",
       "      <td>robert gardner</td>\n",
       "      <td>politics</td>\n",
       "      <td>real</td>\n",
       "    </tr>\n",
       "  </tbody>\n",
       "</table>\n",
       "</div>"
      ],
      "text/plain": [
       "                                                  title  \\\n",
       "5894  age important scientist question why onto acti...   \n",
       "3728  trial candidate travel pretty agreement attack...   \n",
       "8958  animal painting interest i society air east total   \n",
       "7671                    improve surface face today fact   \n",
       "5999                    family pressure common behavior   \n",
       "\n",
       "                                                   text        date    source  \\\n",
       "5894  image morning whether thought seven office kit...  2022-05-30  ny times   \n",
       "3728  recent item success plant dark however however...  2024-10-20       bbc   \n",
       "8958  yourself religious point hour mrs cover case s...  2024-08-25  ny times   \n",
       "7671  road listen add question main head worker gene...  2023-10-07       cnn   \n",
       "5999  low indicate education support brother suffer ...  2025-03-17  fox news   \n",
       "\n",
       "                     author       category label  \n",
       "5894      kimberly martinez       politics  real  \n",
       "3728  mr. daniel bailey dds         sports  real  \n",
       "8958        kimberly wagner       politics  fake  \n",
       "7671    charlene harrington  entertainment  fake  \n",
       "5999         robert gardner       politics  real  "
      ]
     },
     "execution_count": 74,
     "metadata": {},
     "output_type": "execute_result"
    }
   ],
   "source": [
    "train_set.head()"
   ]
  },
  {
   "cell_type": "code",
   "execution_count": 75,
   "id": "8c75c7a4-5283-4f05-b566-c11b1a26024c",
   "metadata": {},
   "outputs": [],
   "source": [
    "def remove_punctuation(text):\n",
    "    for punctuations in string.punctuation:\n",
    "        text=text.replace(punctuations,'')\n",
    "    return text\n",
    "\n",
    "train_set['title']=train_set['title'].apply(remove_punctuation)\n",
    "train_set['text']=train_set['text'].apply(remove_punctuation)\n",
    "train_set['source']=train_set['source'].apply(remove_punctuation)\n",
    "train_set['author']=train_set['author'].apply(remove_punctuation)\n",
    "train_set['category']=train_set['category'].apply(remove_punctuation)"
   ]
  },
  {
   "cell_type": "code",
   "execution_count": 76,
   "id": "9b6f5cb0-8af5-49b5-93dc-11dfbaa73125",
   "metadata": {},
   "outputs": [
    {
     "data": {
      "text/plain": [
       "5894    age important scientist question why onto acti...\n",
       "3728    trial candidate travel pretty agreement attack...\n",
       "8958    animal painting interest i society air east total\n",
       "7671                      improve surface face today fact\n",
       "5999                      family pressure common behavior\n",
       "Name: title, dtype: object"
      ]
     },
     "execution_count": 76,
     "metadata": {},
     "output_type": "execute_result"
    }
   ],
   "source": [
    "train_set['title'].head()"
   ]
  },
  {
   "cell_type": "code",
   "execution_count": 77,
   "id": "dd738f29-f9ba-4331-b07a-9d6b063b8c68",
   "metadata": {},
   "outputs": [
    {
     "data": {
      "text/plain": [
       "5894    image morning whether thought seven office kit...\n",
       "3728    recent item success plant dark however however...\n",
       "8958    yourself religious point hour mrs cover case s...\n",
       "7671    road listen add question main head worker gene...\n",
       "5999    low indicate education support brother suffer ...\n",
       "Name: text, dtype: object"
      ]
     },
     "execution_count": 77,
     "metadata": {},
     "output_type": "execute_result"
    }
   ],
   "source": [
    "train_set['text'].head()"
   ]
  },
  {
   "cell_type": "code",
   "execution_count": 78,
   "id": "4e40b895-43fd-4d00-a376-eef113663233",
   "metadata": {},
   "outputs": [
    {
     "data": {
      "text/plain": [
       "5894    ny times\n",
       "3728         bbc\n",
       "8958    ny times\n",
       "7671         cnn\n",
       "5999    fox news\n",
       "Name: source, dtype: object"
      ]
     },
     "execution_count": 78,
     "metadata": {},
     "output_type": "execute_result"
    }
   ],
   "source": [
    "train_set['source'].head()"
   ]
  },
  {
   "cell_type": "code",
   "execution_count": 79,
   "id": "13429ee4-513b-4da0-8aa0-fb4b7a9cb25f",
   "metadata": {},
   "outputs": [
    {
     "data": {
      "text/plain": [
       "5894       kimberly martinez\n",
       "3728    mr daniel bailey dds\n",
       "8958         kimberly wagner\n",
       "7671     charlene harrington\n",
       "5999          robert gardner\n",
       "Name: author, dtype: object"
      ]
     },
     "execution_count": 79,
     "metadata": {},
     "output_type": "execute_result"
    }
   ],
   "source": [
    "train_set['author'].head()"
   ]
  },
  {
   "cell_type": "code",
   "execution_count": 80,
   "id": "7dc209b3-51a3-43c3-9ad4-d085399469bb",
   "metadata": {},
   "outputs": [
    {
     "data": {
      "text/plain": [
       "5894         politics\n",
       "3728           sports\n",
       "8958         politics\n",
       "7671    entertainment\n",
       "5999         politics\n",
       "Name: category, dtype: object"
      ]
     },
     "execution_count": 80,
     "metadata": {},
     "output_type": "execute_result"
    }
   ],
   "source": [
    "train_set['category'].head()"
   ]
  },
  {
   "cell_type": "code",
   "execution_count": 81,
   "id": "23795a9b-da9b-4686-bcfe-44fb8d224085",
   "metadata": {},
   "outputs": [],
   "source": [
    "## Remove the numbers from  text"
   ]
  },
  {
   "cell_type": "code",
   "execution_count": 84,
   "id": "c84ced6b-fa26-4e2c-9425-6d4875246d82",
   "metadata": {},
   "outputs": [
    {
     "name": "stderr",
     "output_type": "stream",
     "text": [
      "<>:1: SyntaxWarning: invalid escape sequence '\\d'\n",
      "<>:2: SyntaxWarning: invalid escape sequence '\\d'\n",
      "<>:3: SyntaxWarning: invalid escape sequence '\\d'\n",
      "<>:4: SyntaxWarning: invalid escape sequence '\\d'\n",
      "<>:5: SyntaxWarning: invalid escape sequence '\\d'\n",
      "<>:1: SyntaxWarning: invalid escape sequence '\\d'\n",
      "<>:2: SyntaxWarning: invalid escape sequence '\\d'\n",
      "<>:3: SyntaxWarning: invalid escape sequence '\\d'\n",
      "<>:4: SyntaxWarning: invalid escape sequence '\\d'\n",
      "<>:5: SyntaxWarning: invalid escape sequence '\\d'\n",
      "C:\\Users\\THIS PC\\AppData\\Local\\Temp\\ipykernel_11980\\3529597117.py:1: SyntaxWarning: invalid escape sequence '\\d'\n",
      "  train_set['title']=train_set['title'].str.replace('\\d+','',regex=True)\n",
      "C:\\Users\\THIS PC\\AppData\\Local\\Temp\\ipykernel_11980\\3529597117.py:2: SyntaxWarning: invalid escape sequence '\\d'\n",
      "  train_set['text']=train_set['text'].str.replace('\\d+','',regex=True)\n",
      "C:\\Users\\THIS PC\\AppData\\Local\\Temp\\ipykernel_11980\\3529597117.py:3: SyntaxWarning: invalid escape sequence '\\d'\n",
      "  train_set['source']=train_set['source'].str.replace('\\d+','',regex=True)\n",
      "C:\\Users\\THIS PC\\AppData\\Local\\Temp\\ipykernel_11980\\3529597117.py:4: SyntaxWarning: invalid escape sequence '\\d'\n",
      "  train_set['author']=train_set['author'].str.replace('\\d+','',regex=True)\n",
      "C:\\Users\\THIS PC\\AppData\\Local\\Temp\\ipykernel_11980\\3529597117.py:5: SyntaxWarning: invalid escape sequence '\\d'\n",
      "  train_set['category']=train_set['category'].str.replace('\\d+','',regex=True)\n"
     ]
    }
   ],
   "source": [
    "train_set['title']=train_set['title'].str.replace('\\d+','',regex=True)\n",
    "train_set['text']=train_set['text'].str.replace('\\d+','',regex=True)\n",
    "train_set['source']=train_set['source'].str.replace('\\d+','',regex=True)\n",
    "train_set['author']=train_set['author'].str.replace('\\d+','',regex=True)\n",
    "train_set['category']=train_set['category'].str.replace('\\d+','',regex=True)\n"
   ]
  },
  {
   "cell_type": "code",
   "execution_count": 85,
   "id": "3bf621bb-f796-4eec-aadc-cbe83b2eb9dc",
   "metadata": {},
   "outputs": [
    {
     "data": {
      "text/html": [
       "<div>\n",
       "<style scoped>\n",
       "    .dataframe tbody tr th:only-of-type {\n",
       "        vertical-align: middle;\n",
       "    }\n",
       "\n",
       "    .dataframe tbody tr th {\n",
       "        vertical-align: top;\n",
       "    }\n",
       "\n",
       "    .dataframe thead th {\n",
       "        text-align: right;\n",
       "    }\n",
       "</style>\n",
       "<table border=\"1\" class=\"dataframe\">\n",
       "  <thead>\n",
       "    <tr style=\"text-align: right;\">\n",
       "      <th></th>\n",
       "      <th>title</th>\n",
       "      <th>text</th>\n",
       "      <th>date</th>\n",
       "      <th>source</th>\n",
       "      <th>author</th>\n",
       "      <th>category</th>\n",
       "      <th>label</th>\n",
       "    </tr>\n",
       "  </thead>\n",
       "  <tbody>\n",
       "    <tr>\n",
       "      <th>5894</th>\n",
       "      <td>age important scientist question why onto acti...</td>\n",
       "      <td>image morning whether thought seven office kit...</td>\n",
       "      <td>2022-05-30</td>\n",
       "      <td>ny times</td>\n",
       "      <td>kimberly martinez</td>\n",
       "      <td>politics</td>\n",
       "      <td>real</td>\n",
       "    </tr>\n",
       "    <tr>\n",
       "      <th>3728</th>\n",
       "      <td>trial candidate travel pretty agreement attack...</td>\n",
       "      <td>recent item success plant dark however however...</td>\n",
       "      <td>2024-10-20</td>\n",
       "      <td>bbc</td>\n",
       "      <td>mr daniel bailey dds</td>\n",
       "      <td>sports</td>\n",
       "      <td>real</td>\n",
       "    </tr>\n",
       "    <tr>\n",
       "      <th>8958</th>\n",
       "      <td>animal painting interest i society air east total</td>\n",
       "      <td>yourself religious point hour mrs cover case s...</td>\n",
       "      <td>2024-08-25</td>\n",
       "      <td>ny times</td>\n",
       "      <td>kimberly wagner</td>\n",
       "      <td>politics</td>\n",
       "      <td>fake</td>\n",
       "    </tr>\n",
       "    <tr>\n",
       "      <th>7671</th>\n",
       "      <td>improve surface face today fact</td>\n",
       "      <td>road listen add question main head worker gene...</td>\n",
       "      <td>2023-10-07</td>\n",
       "      <td>cnn</td>\n",
       "      <td>charlene harrington</td>\n",
       "      <td>entertainment</td>\n",
       "      <td>fake</td>\n",
       "    </tr>\n",
       "    <tr>\n",
       "      <th>5999</th>\n",
       "      <td>family pressure common behavior</td>\n",
       "      <td>low indicate education support brother suffer ...</td>\n",
       "      <td>2025-03-17</td>\n",
       "      <td>fox news</td>\n",
       "      <td>robert gardner</td>\n",
       "      <td>politics</td>\n",
       "      <td>real</td>\n",
       "    </tr>\n",
       "  </tbody>\n",
       "</table>\n",
       "</div>"
      ],
      "text/plain": [
       "                                                  title  \\\n",
       "5894  age important scientist question why onto acti...   \n",
       "3728  trial candidate travel pretty agreement attack...   \n",
       "8958  animal painting interest i society air east total   \n",
       "7671                    improve surface face today fact   \n",
       "5999                    family pressure common behavior   \n",
       "\n",
       "                                                   text        date    source  \\\n",
       "5894  image morning whether thought seven office kit...  2022-05-30  ny times   \n",
       "3728  recent item success plant dark however however...  2024-10-20       bbc   \n",
       "8958  yourself religious point hour mrs cover case s...  2024-08-25  ny times   \n",
       "7671  road listen add question main head worker gene...  2023-10-07       cnn   \n",
       "5999  low indicate education support brother suffer ...  2025-03-17  fox news   \n",
       "\n",
       "                    author       category label  \n",
       "5894     kimberly martinez       politics  real  \n",
       "3728  mr daniel bailey dds         sports  real  \n",
       "8958       kimberly wagner       politics  fake  \n",
       "7671   charlene harrington  entertainment  fake  \n",
       "5999        robert gardner       politics  real  "
      ]
     },
     "execution_count": 85,
     "metadata": {},
     "output_type": "execute_result"
    }
   ],
   "source": [
    "train_set.head()"
   ]
  },
  {
   "cell_type": "code",
   "execution_count": 86,
   "id": "0dddfcee-deeb-4cb7-9495-f43d1d864deb",
   "metadata": {},
   "outputs": [],
   "source": [
    "## Remove the stop words"
   ]
  },
  {
   "cell_type": "code",
   "execution_count": 87,
   "id": "80aed0be-f572-4f20-9297-5247265d0392",
   "metadata": {},
   "outputs": [],
   "source": [
    "import nltk"
   ]
  },
  {
   "cell_type": "code",
   "execution_count": 96,
   "id": "51fdf5bd-db8e-4573-ba8a-c86a36e179c3",
   "metadata": {},
   "outputs": [
    {
     "name": "stderr",
     "output_type": "stream",
     "text": [
      "[nltk_data] Downloading package stopwords to stopwords/...\n",
      "[nltk_data]   Unzipping corpora\\stopwords.zip.\n"
     ]
    },
    {
     "data": {
      "text/plain": [
       "True"
      ]
     },
     "execution_count": 96,
     "metadata": {},
     "output_type": "execute_result"
    }
   ],
   "source": [
    "nltk.download('stopwords',download_dir='stopwords/')"
   ]
  },
  {
   "cell_type": "code",
   "execution_count": 97,
   "id": "5ce2d54c-3db3-43f7-81bd-5c77ae905e4a",
   "metadata": {},
   "outputs": [],
   "source": [
    "with open('stopwords/corpora/stopwords/english', 'r') as file:\n",
    "    sw=file.read().splitlines()"
   ]
  },
  {
   "cell_type": "code",
   "execution_count": 98,
   "id": "2d1510a7-69a3-41f2-8554-c48f0cf771f0",
   "metadata": {},
   "outputs": [
    {
     "data": {
      "text/plain": [
       "['a',\n",
       " 'about',\n",
       " 'above',\n",
       " 'after',\n",
       " 'again',\n",
       " 'against',\n",
       " 'ain',\n",
       " 'all',\n",
       " 'am',\n",
       " 'an',\n",
       " 'and',\n",
       " 'any',\n",
       " 'are',\n",
       " 'aren',\n",
       " \"aren't\",\n",
       " 'as',\n",
       " 'at',\n",
       " 'be',\n",
       " 'because',\n",
       " 'been',\n",
       " 'before',\n",
       " 'being',\n",
       " 'below',\n",
       " 'between',\n",
       " 'both',\n",
       " 'but',\n",
       " 'by',\n",
       " 'can',\n",
       " 'couldn',\n",
       " \"couldn't\",\n",
       " 'd',\n",
       " 'did',\n",
       " 'didn',\n",
       " \"didn't\",\n",
       " 'do',\n",
       " 'does',\n",
       " 'doesn',\n",
       " \"doesn't\",\n",
       " 'doing',\n",
       " 'don',\n",
       " \"don't\",\n",
       " 'down',\n",
       " 'during',\n",
       " 'each',\n",
       " 'few',\n",
       " 'for',\n",
       " 'from',\n",
       " 'further',\n",
       " 'had',\n",
       " 'hadn',\n",
       " \"hadn't\",\n",
       " 'has',\n",
       " 'hasn',\n",
       " \"hasn't\",\n",
       " 'have',\n",
       " 'haven',\n",
       " \"haven't\",\n",
       " 'having',\n",
       " 'he',\n",
       " \"he'd\",\n",
       " \"he'll\",\n",
       " 'her',\n",
       " 'here',\n",
       " 'hers',\n",
       " 'herself',\n",
       " \"he's\",\n",
       " 'him',\n",
       " 'himself',\n",
       " 'his',\n",
       " 'how',\n",
       " 'i',\n",
       " \"i'd\",\n",
       " 'if',\n",
       " \"i'll\",\n",
       " \"i'm\",\n",
       " 'in',\n",
       " 'into',\n",
       " 'is',\n",
       " 'isn',\n",
       " \"isn't\",\n",
       " 'it',\n",
       " \"it'd\",\n",
       " \"it'll\",\n",
       " \"it's\",\n",
       " 'its',\n",
       " 'itself',\n",
       " \"i've\",\n",
       " 'just',\n",
       " 'll',\n",
       " 'm',\n",
       " 'ma',\n",
       " 'me',\n",
       " 'mightn',\n",
       " \"mightn't\",\n",
       " 'more',\n",
       " 'most',\n",
       " 'mustn',\n",
       " \"mustn't\",\n",
       " 'my',\n",
       " 'myself',\n",
       " 'needn',\n",
       " \"needn't\",\n",
       " 'no',\n",
       " 'nor',\n",
       " 'not',\n",
       " 'now',\n",
       " 'o',\n",
       " 'of',\n",
       " 'off',\n",
       " 'on',\n",
       " 'once',\n",
       " 'only',\n",
       " 'or',\n",
       " 'other',\n",
       " 'our',\n",
       " 'ours',\n",
       " 'ourselves',\n",
       " 'out',\n",
       " 'over',\n",
       " 'own',\n",
       " 're',\n",
       " 's',\n",
       " 'same',\n",
       " 'shan',\n",
       " \"shan't\",\n",
       " 'she',\n",
       " \"she'd\",\n",
       " \"she'll\",\n",
       " \"she's\",\n",
       " 'should',\n",
       " 'shouldn',\n",
       " \"shouldn't\",\n",
       " \"should've\",\n",
       " 'so',\n",
       " 'some',\n",
       " 'such',\n",
       " 't',\n",
       " 'than',\n",
       " 'that',\n",
       " \"that'll\",\n",
       " 'the',\n",
       " 'their',\n",
       " 'theirs',\n",
       " 'them',\n",
       " 'themselves',\n",
       " 'then',\n",
       " 'there',\n",
       " 'these',\n",
       " 'they',\n",
       " \"they'd\",\n",
       " \"they'll\",\n",
       " \"they're\",\n",
       " \"they've\",\n",
       " 'this',\n",
       " 'those',\n",
       " 'through',\n",
       " 'to',\n",
       " 'too',\n",
       " 'under',\n",
       " 'until',\n",
       " 'up',\n",
       " 've',\n",
       " 'very',\n",
       " 'was',\n",
       " 'wasn',\n",
       " \"wasn't\",\n",
       " 'we',\n",
       " \"we'd\",\n",
       " \"we'll\",\n",
       " \"we're\",\n",
       " 'were',\n",
       " 'weren',\n",
       " \"weren't\",\n",
       " \"we've\",\n",
       " 'what',\n",
       " 'when',\n",
       " 'where',\n",
       " 'which',\n",
       " 'while',\n",
       " 'who',\n",
       " 'whom',\n",
       " 'why',\n",
       " 'will',\n",
       " 'with',\n",
       " 'won',\n",
       " \"won't\",\n",
       " 'wouldn',\n",
       " \"wouldn't\",\n",
       " 'y',\n",
       " 'you',\n",
       " \"you'd\",\n",
       " \"you'll\",\n",
       " 'your',\n",
       " \"you're\",\n",
       " 'yours',\n",
       " 'yourself',\n",
       " 'yourselves',\n",
       " \"you've\"]"
      ]
     },
     "execution_count": 98,
     "metadata": {},
     "output_type": "execute_result"
    }
   ],
   "source": [
    "sw"
   ]
  },
  {
   "cell_type": "code",
   "execution_count": 101,
   "id": "709bcdba-9e36-4db2-998b-1418b62c8d87",
   "metadata": {},
   "outputs": [],
   "source": [
    "train_set['title']=train_set['title'].apply(lambda x: \" \".join(x for x in x.split() if x not in sw))\n",
    "train_set['text']=train_set['text'].apply(lambda x:\" \".join(x for x in x.split() if x not in sw))\n",
    "train_set['source']=train_set['source'].apply(lambda x:\" \".join(x for x in x.split() if x not in sw))\n",
    "train_set['author']=train_set['author'].apply(lambda x: \" \".join(x for x in x.split() if x not in sw))\n",
    "train_set['category']=train_set['category'].apply(lambda x:\" \".join(x for x in x.split() if x not in sw))"
   ]
  },
  {
   "cell_type": "code",
   "execution_count": 104,
   "id": "a7bd4e15-1f01-499a-b09f-edc1fb751d1b",
   "metadata": {},
   "outputs": [
    {
     "data": {
      "text/html": [
       "<div>\n",
       "<style scoped>\n",
       "    .dataframe tbody tr th:only-of-type {\n",
       "        vertical-align: middle;\n",
       "    }\n",
       "\n",
       "    .dataframe tbody tr th {\n",
       "        vertical-align: top;\n",
       "    }\n",
       "\n",
       "    .dataframe thead th {\n",
       "        text-align: right;\n",
       "    }\n",
       "</style>\n",
       "<table border=\"1\" class=\"dataframe\">\n",
       "  <thead>\n",
       "    <tr style=\"text-align: right;\">\n",
       "      <th></th>\n",
       "      <th>title</th>\n",
       "      <th>text</th>\n",
       "      <th>date</th>\n",
       "      <th>source</th>\n",
       "      <th>author</th>\n",
       "      <th>category</th>\n",
       "      <th>label</th>\n",
       "    </tr>\n",
       "  </thead>\n",
       "  <tbody>\n",
       "    <tr>\n",
       "      <th>5894</th>\n",
       "      <td>age important scientist question onto activity</td>\n",
       "      <td>image morning whether thought seven office kit...</td>\n",
       "      <td>2022-05-30</td>\n",
       "      <td>ny times</td>\n",
       "      <td>kimberly martinez</td>\n",
       "      <td>politics</td>\n",
       "      <td>real</td>\n",
       "    </tr>\n",
       "    <tr>\n",
       "      <th>3728</th>\n",
       "      <td>trial candidate travel pretty agreement attack...</td>\n",
       "      <td>recent item success plant dark however however...</td>\n",
       "      <td>2024-10-20</td>\n",
       "      <td>bbc</td>\n",
       "      <td>mr daniel bailey dds</td>\n",
       "      <td>sports</td>\n",
       "      <td>real</td>\n",
       "    </tr>\n",
       "    <tr>\n",
       "      <th>8958</th>\n",
       "      <td>animal painting interest society air east total</td>\n",
       "      <td>religious point hour mrs cover case source sea...</td>\n",
       "      <td>2024-08-25</td>\n",
       "      <td>ny times</td>\n",
       "      <td>kimberly wagner</td>\n",
       "      <td>politics</td>\n",
       "      <td>fake</td>\n",
       "    </tr>\n",
       "    <tr>\n",
       "      <th>7671</th>\n",
       "      <td>improve surface face today fact</td>\n",
       "      <td>road listen add question main head worker gene...</td>\n",
       "      <td>2023-10-07</td>\n",
       "      <td>cnn</td>\n",
       "      <td>charlene harrington</td>\n",
       "      <td>entertainment</td>\n",
       "      <td>fake</td>\n",
       "    </tr>\n",
       "    <tr>\n",
       "      <th>5999</th>\n",
       "      <td>family pressure common behavior</td>\n",
       "      <td>low indicate education support brother suffer ...</td>\n",
       "      <td>2025-03-17</td>\n",
       "      <td>fox news</td>\n",
       "      <td>robert gardner</td>\n",
       "      <td>politics</td>\n",
       "      <td>real</td>\n",
       "    </tr>\n",
       "    <tr>\n",
       "      <th>5751</th>\n",
       "      <td>agent degree pass feeling address</td>\n",
       "      <td>almost without trouble resource memory senior ...</td>\n",
       "      <td>2024-03-09</td>\n",
       "      <td>reuters</td>\n",
       "      <td>dawn stewart</td>\n",
       "      <td>entertainment</td>\n",
       "      <td>fake</td>\n",
       "    </tr>\n",
       "    <tr>\n",
       "      <th>1688</th>\n",
       "      <td>spend record participant assume fund real</td>\n",
       "      <td>sense phone change low name use appear senior ...</td>\n",
       "      <td>2023-04-02</td>\n",
       "      <td>guardian</td>\n",
       "      <td>daniel mitchell</td>\n",
       "      <td>entertainment</td>\n",
       "      <td>real</td>\n",
       "    </tr>\n",
       "    <tr>\n",
       "      <th>6836</th>\n",
       "      <td>maybe cause center sit cut argue</td>\n",
       "      <td>professional boy blood fast treat east method ...</td>\n",
       "      <td>2025-04-18</td>\n",
       "      <td>ny times</td>\n",
       "      <td>samuel gates</td>\n",
       "      <td>technology</td>\n",
       "      <td>fake</td>\n",
       "    </tr>\n",
       "    <tr>\n",
       "      <th>6536</th>\n",
       "      <td>maybe result character value</td>\n",
       "      <td>choice lay sometimes article team newspaper ra...</td>\n",
       "      <td>2024-09-03</td>\n",
       "      <td>cnn</td>\n",
       "      <td>frank barajas</td>\n",
       "      <td>sports</td>\n",
       "      <td>fake</td>\n",
       "    </tr>\n",
       "    <tr>\n",
       "      <th>4842</th>\n",
       "      <td>eight though bag claim issue</td>\n",
       "      <td>social sister ball pretty thus management rece...</td>\n",
       "      <td>2023-05-13</td>\n",
       "      <td>ny times</td>\n",
       "      <td>kristen mercado</td>\n",
       "      <td>science</td>\n",
       "      <td>fake</td>\n",
       "    </tr>\n",
       "    <tr>\n",
       "      <th>15844</th>\n",
       "      <td>hot allow economy wall fast case</td>\n",
       "      <td>shake represent listen camera student event fi...</td>\n",
       "      <td>2022-08-29</td>\n",
       "      <td>daily news</td>\n",
       "      <td>dustin hamilton</td>\n",
       "      <td>health</td>\n",
       "      <td>real</td>\n",
       "    </tr>\n",
       "    <tr>\n",
       "      <th>196</th>\n",
       "      <td>second point increase</td>\n",
       "      <td>sport door want check instead mean yet still f...</td>\n",
       "      <td>2024-03-27</td>\n",
       "      <td>cnn</td>\n",
       "      <td>david saunders</td>\n",
       "      <td>business</td>\n",
       "      <td>fake</td>\n",
       "    </tr>\n",
       "    <tr>\n",
       "      <th>518</th>\n",
       "      <td>light baby conference</td>\n",
       "      <td>better guess across position line remain quick...</td>\n",
       "      <td>2025-04-12</td>\n",
       "      <td>reuters</td>\n",
       "      <td>kathleen baker</td>\n",
       "      <td>science</td>\n",
       "      <td>fake</td>\n",
       "    </tr>\n",
       "    <tr>\n",
       "      <th>10581</th>\n",
       "      <td>three best end mean</td>\n",
       "      <td>evidence lot reach dinner attention phone resu...</td>\n",
       "      <td>2023-05-25</td>\n",
       "      <td>cnn</td>\n",
       "      <td>michael washington</td>\n",
       "      <td>science</td>\n",
       "      <td>fake</td>\n",
       "    </tr>\n",
       "    <tr>\n",
       "      <th>13320</th>\n",
       "      <td>notice term major play</td>\n",
       "      <td>better woman end conference month reality know...</td>\n",
       "      <td>2023-01-21</td>\n",
       "      <td>cnn</td>\n",
       "      <td>heather gonzales</td>\n",
       "      <td>business</td>\n",
       "      <td>fake</td>\n",
       "    </tr>\n",
       "    <tr>\n",
       "      <th>10790</th>\n",
       "      <td>response represent hard provide name matter ball</td>\n",
       "      <td>around role institution capital environmental ...</td>\n",
       "      <td>2022-10-15</td>\n",
       "      <td>cnn</td>\n",
       "      <td>melanie odonnell</td>\n",
       "      <td>politics</td>\n",
       "      <td>real</td>\n",
       "    </tr>\n",
       "    <tr>\n",
       "      <th>16939</th>\n",
       "      <td>practice environmental management hold close</td>\n",
       "      <td>section drop pressure generation attorney cons...</td>\n",
       "      <td>2025-03-28</td>\n",
       "      <td>cnn</td>\n",
       "      <td>sarah williams</td>\n",
       "      <td>science</td>\n",
       "      <td>fake</td>\n",
       "    </tr>\n",
       "    <tr>\n",
       "      <th>841</th>\n",
       "      <td>anyone thus black couple rate</td>\n",
       "      <td>friend sound read medical forward discussion p...</td>\n",
       "      <td>2023-08-23</td>\n",
       "      <td>ny times</td>\n",
       "      <td>ian wagner</td>\n",
       "      <td>politics</td>\n",
       "      <td>fake</td>\n",
       "    </tr>\n",
       "    <tr>\n",
       "      <th>9507</th>\n",
       "      <td>fly low half common likely affect</td>\n",
       "      <td>anything market address rise south member send...</td>\n",
       "      <td>2024-11-08</td>\n",
       "      <td>cnn</td>\n",
       "      <td>laura fitzgerald</td>\n",
       "      <td>politics</td>\n",
       "      <td>real</td>\n",
       "    </tr>\n",
       "    <tr>\n",
       "      <th>10482</th>\n",
       "      <td>fill loss view education black account</td>\n",
       "      <td>edge everyone young significant bad management...</td>\n",
       "      <td>2025-03-01</td>\n",
       "      <td>global times</td>\n",
       "      <td>matthew morris</td>\n",
       "      <td>entertainment</td>\n",
       "      <td>real</td>\n",
       "    </tr>\n",
       "  </tbody>\n",
       "</table>\n",
       "</div>"
      ],
      "text/plain": [
       "                                                   title  \\\n",
       "5894      age important scientist question onto activity   \n",
       "3728   trial candidate travel pretty agreement attack...   \n",
       "8958     animal painting interest society air east total   \n",
       "7671                     improve surface face today fact   \n",
       "5999                     family pressure common behavior   \n",
       "5751                   agent degree pass feeling address   \n",
       "1688           spend record participant assume fund real   \n",
       "6836                    maybe cause center sit cut argue   \n",
       "6536                        maybe result character value   \n",
       "4842                        eight though bag claim issue   \n",
       "15844                   hot allow economy wall fast case   \n",
       "196                                second point increase   \n",
       "518                                light baby conference   \n",
       "10581                                three best end mean   \n",
       "13320                             notice term major play   \n",
       "10790   response represent hard provide name matter ball   \n",
       "16939       practice environmental management hold close   \n",
       "841                        anyone thus black couple rate   \n",
       "9507                   fly low half common likely affect   \n",
       "10482             fill loss view education black account   \n",
       "\n",
       "                                                    text        date  \\\n",
       "5894   image morning whether thought seven office kit...  2022-05-30   \n",
       "3728   recent item success plant dark however however...  2024-10-20   \n",
       "8958   religious point hour mrs cover case source sea...  2024-08-25   \n",
       "7671   road listen add question main head worker gene...  2023-10-07   \n",
       "5999   low indicate education support brother suffer ...  2025-03-17   \n",
       "5751   almost without trouble resource memory senior ...  2024-03-09   \n",
       "1688   sense phone change low name use appear senior ...  2023-04-02   \n",
       "6836   professional boy blood fast treat east method ...  2025-04-18   \n",
       "6536   choice lay sometimes article team newspaper ra...  2024-09-03   \n",
       "4842   social sister ball pretty thus management rece...  2023-05-13   \n",
       "15844  shake represent listen camera student event fi...  2022-08-29   \n",
       "196    sport door want check instead mean yet still f...  2024-03-27   \n",
       "518    better guess across position line remain quick...  2025-04-12   \n",
       "10581  evidence lot reach dinner attention phone resu...  2023-05-25   \n",
       "13320  better woman end conference month reality know...  2023-01-21   \n",
       "10790  around role institution capital environmental ...  2022-10-15   \n",
       "16939  section drop pressure generation attorney cons...  2025-03-28   \n",
       "841    friend sound read medical forward discussion p...  2023-08-23   \n",
       "9507   anything market address rise south member send...  2024-11-08   \n",
       "10482  edge everyone young significant bad management...  2025-03-01   \n",
       "\n",
       "             source                author       category label  \n",
       "5894       ny times     kimberly martinez       politics  real  \n",
       "3728            bbc  mr daniel bailey dds         sports  real  \n",
       "8958       ny times       kimberly wagner       politics  fake  \n",
       "7671            cnn   charlene harrington  entertainment  fake  \n",
       "5999       fox news        robert gardner       politics  real  \n",
       "5751        reuters          dawn stewart  entertainment  fake  \n",
       "1688       guardian       daniel mitchell  entertainment  real  \n",
       "6836       ny times          samuel gates     technology  fake  \n",
       "6536            cnn         frank barajas         sports  fake  \n",
       "4842       ny times       kristen mercado        science  fake  \n",
       "15844    daily news       dustin hamilton         health  real  \n",
       "196             cnn        david saunders       business  fake  \n",
       "518         reuters        kathleen baker        science  fake  \n",
       "10581           cnn    michael washington        science  fake  \n",
       "13320           cnn      heather gonzales       business  fake  \n",
       "10790           cnn      melanie odonnell       politics  real  \n",
       "16939           cnn        sarah williams        science  fake  \n",
       "841        ny times            ian wagner       politics  fake  \n",
       "9507            cnn      laura fitzgerald       politics  real  \n",
       "10482  global times        matthew morris  entertainment  real  "
      ]
     },
     "execution_count": 104,
     "metadata": {},
     "output_type": "execute_result"
    }
   ],
   "source": [
    "train_set.head(20)"
   ]
  },
  {
   "cell_type": "code",
   "execution_count": 105,
   "id": "3a0540ad-6f89-44dc-a788-66a6b3af54f7",
   "metadata": {},
   "outputs": [],
   "source": [
    "## Stemming technique"
   ]
  },
  {
   "cell_type": "code",
   "execution_count": 106,
   "id": "aad7afeb-9525-4ea7-890c-bb8a24e9d406",
   "metadata": {},
   "outputs": [],
   "source": [
    "from nltk.stem import PorterStemmer\n",
    "\n",
    "ps=PorterStemmer()"
   ]
  },
  {
   "cell_type": "code",
   "execution_count": 109,
   "id": "8944972b-1d39-4442-8dc3-6436782ba10e",
   "metadata": {},
   "outputs": [],
   "source": [
    "train_set['title']=train_set['title'].apply(lambda x:\" \".join(ps.stem(x) for x in x.split()))\n",
    "train_set['text']=train_set['text'].apply(lambda x:\" \".join(ps.stem(x) for x in x.split()))\n",
    "train_set['source']=train_set['source'].apply(lambda x:\" \".join(ps.stem(x) for x in x.split()))\n",
    "train_set['author']=train_set['author'].apply(lambda x:\" \".join(ps.stem(x) for x in x.split()))\n",
    "train_set['category']=train_set['author'].apply(lambda x:\" \".join(ps.stem(x) for x in  x.split()))                                           "
   ]
  },
  {
   "cell_type": "code",
   "execution_count": 112,
   "id": "e9e4de45-ec69-4fd1-bc0a-f6a9b22570d4",
   "metadata": {},
   "outputs": [
    {
     "data": {
      "text/html": [
       "<div>\n",
       "<style scoped>\n",
       "    .dataframe tbody tr th:only-of-type {\n",
       "        vertical-align: middle;\n",
       "    }\n",
       "\n",
       "    .dataframe tbody tr th {\n",
       "        vertical-align: top;\n",
       "    }\n",
       "\n",
       "    .dataframe thead th {\n",
       "        text-align: right;\n",
       "    }\n",
       "</style>\n",
       "<table border=\"1\" class=\"dataframe\">\n",
       "  <thead>\n",
       "    <tr style=\"text-align: right;\">\n",
       "      <th></th>\n",
       "      <th>title</th>\n",
       "      <th>text</th>\n",
       "      <th>date</th>\n",
       "      <th>source</th>\n",
       "      <th>author</th>\n",
       "      <th>category</th>\n",
       "      <th>label</th>\n",
       "    </tr>\n",
       "  </thead>\n",
       "  <tbody>\n",
       "    <tr>\n",
       "      <th>5894</th>\n",
       "      <td>age import scientist question onto activ</td>\n",
       "      <td>imag morn whether thought seven offic kitchen ...</td>\n",
       "      <td>2022-05-30</td>\n",
       "      <td>ny time</td>\n",
       "      <td>kimberli martinez</td>\n",
       "      <td>kimberli martinez</td>\n",
       "      <td>real</td>\n",
       "    </tr>\n",
       "    <tr>\n",
       "      <th>3728</th>\n",
       "      <td>trial candid travel pretti agreement attack me...</td>\n",
       "      <td>recent item success plant dark howev howev pai...</td>\n",
       "      <td>2024-10-20</td>\n",
       "      <td>bbc</td>\n",
       "      <td>mr daniel bailey dd</td>\n",
       "      <td>mr daniel bailey dd</td>\n",
       "      <td>real</td>\n",
       "    </tr>\n",
       "    <tr>\n",
       "      <th>8958</th>\n",
       "      <td>anim paint interest societi air east total</td>\n",
       "      <td>religi point hour mr cover case sourc season p...</td>\n",
       "      <td>2024-08-25</td>\n",
       "      <td>ny time</td>\n",
       "      <td>kimberli wagner</td>\n",
       "      <td>kimberli wagner</td>\n",
       "      <td>fake</td>\n",
       "    </tr>\n",
       "    <tr>\n",
       "      <th>7671</th>\n",
       "      <td>improv surfac face today fact</td>\n",
       "      <td>road listen add question main head worker gene...</td>\n",
       "      <td>2023-10-07</td>\n",
       "      <td>cnn</td>\n",
       "      <td>charlen harrington</td>\n",
       "      <td>charlen harrington</td>\n",
       "      <td>fake</td>\n",
       "    </tr>\n",
       "    <tr>\n",
       "      <th>5999</th>\n",
       "      <td>famili pressur common behavior</td>\n",
       "      <td>low indic educ support brother suffer owner sp...</td>\n",
       "      <td>2025-03-17</td>\n",
       "      <td>fox news</td>\n",
       "      <td>robert gardner</td>\n",
       "      <td>robert gardner</td>\n",
       "      <td>real</td>\n",
       "    </tr>\n",
       "    <tr>\n",
       "      <th>5751</th>\n",
       "      <td>agent degr pass feel address</td>\n",
       "      <td>almost without troubl resourc memori senior re...</td>\n",
       "      <td>2024-03-09</td>\n",
       "      <td>reuter</td>\n",
       "      <td>dawn stewart</td>\n",
       "      <td>dawn stewart</td>\n",
       "      <td>fake</td>\n",
       "    </tr>\n",
       "    <tr>\n",
       "      <th>1688</th>\n",
       "      <td>spend record particip assum fund real</td>\n",
       "      <td>sens phone chang low name use appear senior re...</td>\n",
       "      <td>2023-04-02</td>\n",
       "      <td>guardian</td>\n",
       "      <td>daniel mitchel</td>\n",
       "      <td>daniel mitchel</td>\n",
       "      <td>real</td>\n",
       "    </tr>\n",
       "    <tr>\n",
       "      <th>6836</th>\n",
       "      <td>mayb cau center sit cut argu</td>\n",
       "      <td>profession boy blood fast treat east method si...</td>\n",
       "      <td>2025-04-18</td>\n",
       "      <td>ny time</td>\n",
       "      <td>samuel gate</td>\n",
       "      <td>samuel gate</td>\n",
       "      <td>fake</td>\n",
       "    </tr>\n",
       "    <tr>\n",
       "      <th>6536</th>\n",
       "      <td>mayb result charact valu</td>\n",
       "      <td>choic lay sometim articl team newspap rate aro...</td>\n",
       "      <td>2024-09-03</td>\n",
       "      <td>cnn</td>\n",
       "      <td>frank baraja</td>\n",
       "      <td>frank baraja</td>\n",
       "      <td>fake</td>\n",
       "    </tr>\n",
       "    <tr>\n",
       "      <th>4842</th>\n",
       "      <td>eight though bag claim issu</td>\n",
       "      <td>social sister ball pretti thu manag recent sub...</td>\n",
       "      <td>2023-05-13</td>\n",
       "      <td>ny time</td>\n",
       "      <td>kristen mercado</td>\n",
       "      <td>kristen mercado</td>\n",
       "      <td>fake</td>\n",
       "    </tr>\n",
       "    <tr>\n",
       "      <th>15844</th>\n",
       "      <td>hot allow economi wall fast case</td>\n",
       "      <td>shake repres listen camera student event field...</td>\n",
       "      <td>2022-08-29</td>\n",
       "      <td>daili news</td>\n",
       "      <td>dustin hamilton</td>\n",
       "      <td>dustin hamilton</td>\n",
       "      <td>real</td>\n",
       "    </tr>\n",
       "    <tr>\n",
       "      <th>196</th>\n",
       "      <td>second point increa</td>\n",
       "      <td>sport door want check instead mean yet still f...</td>\n",
       "      <td>2024-03-27</td>\n",
       "      <td>cnn</td>\n",
       "      <td>david saunder</td>\n",
       "      <td>david saunder</td>\n",
       "      <td>fake</td>\n",
       "    </tr>\n",
       "    <tr>\n",
       "      <th>518</th>\n",
       "      <td>light babi confer</td>\n",
       "      <td>better guess across posit line remain quickli ...</td>\n",
       "      <td>2025-04-12</td>\n",
       "      <td>reuter</td>\n",
       "      <td>kathleen baker</td>\n",
       "      <td>kathleen baker</td>\n",
       "      <td>fake</td>\n",
       "    </tr>\n",
       "    <tr>\n",
       "      <th>10581</th>\n",
       "      <td>three best end mean</td>\n",
       "      <td>evid lot reach dinner attent phone result meet...</td>\n",
       "      <td>2023-05-25</td>\n",
       "      <td>cnn</td>\n",
       "      <td>michael washington</td>\n",
       "      <td>michael washington</td>\n",
       "      <td>fake</td>\n",
       "    </tr>\n",
       "    <tr>\n",
       "      <th>13320</th>\n",
       "      <td>notic term major play</td>\n",
       "      <td>better woman end confer month realiti know wor...</td>\n",
       "      <td>2023-01-21</td>\n",
       "      <td>cnn</td>\n",
       "      <td>heather gonzal</td>\n",
       "      <td>heather gonzal</td>\n",
       "      <td>fake</td>\n",
       "    </tr>\n",
       "    <tr>\n",
       "      <th>10790</th>\n",
       "      <td>respon repr hard provid name matter ball</td>\n",
       "      <td>around role institut capit environment discuss...</td>\n",
       "      <td>2022-10-15</td>\n",
       "      <td>cnn</td>\n",
       "      <td>melani odonnel</td>\n",
       "      <td>melani odonnel</td>\n",
       "      <td>real</td>\n",
       "    </tr>\n",
       "    <tr>\n",
       "      <th>16939</th>\n",
       "      <td>practic environ manag hold close</td>\n",
       "      <td>section drop pressur gener attorney consum saf...</td>\n",
       "      <td>2025-03-28</td>\n",
       "      <td>cnn</td>\n",
       "      <td>sarah william</td>\n",
       "      <td>sarah william</td>\n",
       "      <td>fake</td>\n",
       "    </tr>\n",
       "    <tr>\n",
       "      <th>841</th>\n",
       "      <td>anyon thu black coupl rate</td>\n",
       "      <td>friend sound read medic forward discuss polici...</td>\n",
       "      <td>2023-08-23</td>\n",
       "      <td>ny time</td>\n",
       "      <td>ian wagner</td>\n",
       "      <td>ian wagner</td>\n",
       "      <td>fake</td>\n",
       "    </tr>\n",
       "    <tr>\n",
       "      <th>9507</th>\n",
       "      <td>fli low half common like affect</td>\n",
       "      <td>anyth market address rise south member send ma...</td>\n",
       "      <td>2024-11-08</td>\n",
       "      <td>cnn</td>\n",
       "      <td>laura fitzgerald</td>\n",
       "      <td>laura fitzgerald</td>\n",
       "      <td>real</td>\n",
       "    </tr>\n",
       "    <tr>\n",
       "      <th>10482</th>\n",
       "      <td>fill loss view educ black account</td>\n",
       "      <td>edg everyon young signific bad manag owner pre...</td>\n",
       "      <td>2025-03-01</td>\n",
       "      <td>global time</td>\n",
       "      <td>matthew morri</td>\n",
       "      <td>matthew morri</td>\n",
       "      <td>real</td>\n",
       "    </tr>\n",
       "  </tbody>\n",
       "</table>\n",
       "</div>"
      ],
      "text/plain": [
       "                                                   title  \\\n",
       "5894            age import scientist question onto activ   \n",
       "3728   trial candid travel pretti agreement attack me...   \n",
       "8958          anim paint interest societi air east total   \n",
       "7671                       improv surfac face today fact   \n",
       "5999                      famili pressur common behavior   \n",
       "5751                        agent degr pass feel address   \n",
       "1688               spend record particip assum fund real   \n",
       "6836                        mayb cau center sit cut argu   \n",
       "6536                            mayb result charact valu   \n",
       "4842                         eight though bag claim issu   \n",
       "15844                   hot allow economi wall fast case   \n",
       "196                                  second point increa   \n",
       "518                                    light babi confer   \n",
       "10581                                three best end mean   \n",
       "13320                              notic term major play   \n",
       "10790           respon repr hard provid name matter ball   \n",
       "16939                   practic environ manag hold close   \n",
       "841                           anyon thu black coupl rate   \n",
       "9507                     fli low half common like affect   \n",
       "10482                  fill loss view educ black account   \n",
       "\n",
       "                                                    text        date  \\\n",
       "5894   imag morn whether thought seven offic kitchen ...  2022-05-30   \n",
       "3728   recent item success plant dark howev howev pai...  2024-10-20   \n",
       "8958   religi point hour mr cover case sourc season p...  2024-08-25   \n",
       "7671   road listen add question main head worker gene...  2023-10-07   \n",
       "5999   low indic educ support brother suffer owner sp...  2025-03-17   \n",
       "5751   almost without troubl resourc memori senior re...  2024-03-09   \n",
       "1688   sens phone chang low name use appear senior re...  2023-04-02   \n",
       "6836   profession boy blood fast treat east method si...  2025-04-18   \n",
       "6536   choic lay sometim articl team newspap rate aro...  2024-09-03   \n",
       "4842   social sister ball pretti thu manag recent sub...  2023-05-13   \n",
       "15844  shake repres listen camera student event field...  2022-08-29   \n",
       "196    sport door want check instead mean yet still f...  2024-03-27   \n",
       "518    better guess across posit line remain quickli ...  2025-04-12   \n",
       "10581  evid lot reach dinner attent phone result meet...  2023-05-25   \n",
       "13320  better woman end confer month realiti know wor...  2023-01-21   \n",
       "10790  around role institut capit environment discuss...  2022-10-15   \n",
       "16939  section drop pressur gener attorney consum saf...  2025-03-28   \n",
       "841    friend sound read medic forward discuss polici...  2023-08-23   \n",
       "9507   anyth market address rise south member send ma...  2024-11-08   \n",
       "10482  edg everyon young signific bad manag owner pre...  2025-03-01   \n",
       "\n",
       "            source               author             category label  \n",
       "5894       ny time    kimberli martinez    kimberli martinez  real  \n",
       "3728           bbc  mr daniel bailey dd  mr daniel bailey dd  real  \n",
       "8958       ny time      kimberli wagner      kimberli wagner  fake  \n",
       "7671           cnn   charlen harrington   charlen harrington  fake  \n",
       "5999      fox news       robert gardner       robert gardner  real  \n",
       "5751        reuter         dawn stewart         dawn stewart  fake  \n",
       "1688      guardian       daniel mitchel       daniel mitchel  real  \n",
       "6836       ny time          samuel gate          samuel gate  fake  \n",
       "6536           cnn         frank baraja         frank baraja  fake  \n",
       "4842       ny time      kristen mercado      kristen mercado  fake  \n",
       "15844   daili news      dustin hamilton      dustin hamilton  real  \n",
       "196            cnn        david saunder        david saunder  fake  \n",
       "518         reuter       kathleen baker       kathleen baker  fake  \n",
       "10581          cnn   michael washington   michael washington  fake  \n",
       "13320          cnn       heather gonzal       heather gonzal  fake  \n",
       "10790          cnn       melani odonnel       melani odonnel  real  \n",
       "16939          cnn        sarah william        sarah william  fake  \n",
       "841        ny time           ian wagner           ian wagner  fake  \n",
       "9507           cnn     laura fitzgerald     laura fitzgerald  real  \n",
       "10482  global time        matthew morri        matthew morri  real  "
      ]
     },
     "execution_count": 112,
     "metadata": {},
     "output_type": "execute_result"
    }
   ],
   "source": [
    "train_set.head(20)"
   ]
  },
  {
   "cell_type": "code",
   "execution_count": null,
   "id": "99c5110d-e8db-4874-ab59-2d1f957f98f1",
   "metadata": {},
   "outputs": [],
   "source": []
  }
 ],
 "metadata": {
  "kernelspec": {
   "display_name": "Python 3 (ipykernel)",
   "language": "python",
   "name": "python3"
  },
  "language_info": {
   "codemirror_mode": {
    "name": "ipython",
    "version": 3
   },
   "file_extension": ".py",
   "mimetype": "text/x-python",
   "name": "python",
   "nbconvert_exporter": "python",
   "pygments_lexer": "ipython3",
   "version": "3.12.1"
  }
 },
 "nbformat": 4,
 "nbformat_minor": 5
}
